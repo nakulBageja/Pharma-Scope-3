{
 "cells": [
  {
   "cell_type": "markdown",
   "id": "055de770-a459-457a-b07e-58c4989a0eca",
   "metadata": {},
   "source": [
    "# Finding scope 3 emissions of a Pharma company.\n",
    "- Scope 3 category is downstream transportation and distribution\n",
    "- Data taken from data.world\n",
    "- Distance-based methology will be used for calculations\n",
    "    - According to GHG \"If sub-contractor fuel data cannot be easily obtained in order to use the fuel-based method, then the distance-based method should be used.\""
   ]
  },
  {
   "cell_type": "markdown",
   "id": "2f59b11d-4b2a-460d-be02-4061d7dae8f1",
   "metadata": {},
   "source": [
    "# Data points required for calculations of scope 3\n",
    "1. Total distance in KM \n",
    "    - Coordinates of places\n",
    "2. Size of packages\n",
    "3. Mode of Transport\n",
    "4. Emission Factors\n",
    "5. Calculation formulaes\n",
    "    1. Emissions from road transport: = ∑ (mass of goods purchased (tonnes) × distance travelled in transport leg × emission factor of transport mode or vehicle type (kg CO2e/tonne-(km or mile))\n",
    "    2. emissions from air transport: = ∑ (quantity of goods purchased (tonnes) x distance travelled in transport leg x emission factor of transport mode or vehicle type (kg CO2e/tonne-(km or mile)))\n",
    "    3. emissions from sea transport: = ∑ (quantity of goods purchased (tonnes) x distance travelled in transport leg x emission factor of transport mode or vehicle type (kg CO2e/tonne-(km or mile)))"
   ]
  },
  {
   "cell_type": "markdown",
   "id": "40b463c6-8a67-496c-bc23-a48e2c822f07",
   "metadata": {},
   "source": [
    "## Data columns\n",
    "1. Country - Destination location\n",
    "2. Mode - Mode of transport (Air, Ocean, Road)\n",
    "3. Weight - Kilogram of weight\n",
    "4. Delivery Date - Date of delivery\n",
    "5. Manufacturing Site - Source location"
   ]
  },
  {
   "cell_type": "code",
   "execution_count": 1,
   "id": "a65c1b32-7ac8-4c23-a03b-27423a48e6d0",
   "metadata": {},
   "outputs": [],
   "source": [
    "# Import libraries\n",
    "import pandas as pd\n",
    "import numpy as np\n",
    "import geopandas as gpd\n",
    "\n",
    "# For point datatype of locations\n",
    "from shapely.geometry import Point\n",
    "# For geolocation\n",
    "from geopy.geocoders import ArcGIS\n",
    "# Importing the great_circle module for calculation of distance for air transport\n",
    "from geopy.distance import great_circle\n",
    "# For calculation of distance for road transport\n",
    "import openrouteservice\n",
    "# For calculation of distance for ocean transport\n",
    "import searoute as sr\n",
    "\n",
    "# For calculation of source location airport/port\n",
    "from math import radians, sin, cos, sqrt, atan2, isnan\n",
    "\n",
    "# Calculating the time\n",
    "import time\n",
    "\n",
    "# For converting country name to iso_2 codes\n",
    "import country_converter as coco"
   ]
  },
  {
   "cell_type": "code",
   "execution_count": 16,
   "id": "6dc979c1-785f-478e-b349-26bb392c6cb6",
   "metadata": {},
   "outputs": [
    {
     "name": "stdout",
     "output_type": "stream",
     "text": [
      "1.5.3\n"
     ]
    }
   ],
   "source": [
    "print(pd.__version__)"
   ]
  },
  {
   "cell_type": "code",
   "execution_count": 2,
   "id": "f4b59532-4b31-4090-98f7-8ce7cfcdbe1a",
   "metadata": {},
   "outputs": [],
   "source": [
    "# Collecting data\n",
    "raw_df = pd.read_csv(\"./Data/SCMS_Delivery_History_Dataset_20150929.csv\")"
   ]
  },
  {
   "cell_type": "code",
   "execution_count": 3,
   "id": "92f04218-1e37-4010-ae56-849e5cca3c0c",
   "metadata": {},
   "outputs": [
    {
     "data": {
      "text/html": [
       "<div>\n",
       "<style scoped>\n",
       "    .dataframe tbody tr th:only-of-type {\n",
       "        vertical-align: middle;\n",
       "    }\n",
       "\n",
       "    .dataframe tbody tr th {\n",
       "        vertical-align: top;\n",
       "    }\n",
       "\n",
       "    .dataframe thead th {\n",
       "        text-align: right;\n",
       "    }\n",
       "</style>\n",
       "<table border=\"1\" class=\"dataframe\">\n",
       "  <thead>\n",
       "    <tr style=\"text-align: right;\">\n",
       "      <th></th>\n",
       "      <th>ID</th>\n",
       "      <th>Project Code</th>\n",
       "      <th>PQ #</th>\n",
       "      <th>PO / SO #</th>\n",
       "      <th>ASN/DN #</th>\n",
       "      <th>Country</th>\n",
       "      <th>Managed By</th>\n",
       "      <th>Fulfill Via</th>\n",
       "      <th>Vendor INCO Term</th>\n",
       "      <th>Shipment Mode</th>\n",
       "      <th>...</th>\n",
       "      <th>Unit of Measure (Per Pack)</th>\n",
       "      <th>Line Item Quantity</th>\n",
       "      <th>Line Item Value</th>\n",
       "      <th>Pack Price</th>\n",
       "      <th>Unit Price</th>\n",
       "      <th>Manufacturing Site</th>\n",
       "      <th>First Line Designation</th>\n",
       "      <th>Weight (Kilograms)</th>\n",
       "      <th>Freight Cost (USD)</th>\n",
       "      <th>Line Item Insurance (USD)</th>\n",
       "    </tr>\n",
       "  </thead>\n",
       "  <tbody>\n",
       "    <tr>\n",
       "      <th>0</th>\n",
       "      <td>1</td>\n",
       "      <td>100-CI-T01</td>\n",
       "      <td>Pre-PQ Process</td>\n",
       "      <td>SCMS-4</td>\n",
       "      <td>ASN-8</td>\n",
       "      <td>Côte d'Ivoire</td>\n",
       "      <td>PMO - US</td>\n",
       "      <td>Direct Drop</td>\n",
       "      <td>EXW</td>\n",
       "      <td>Air</td>\n",
       "      <td>...</td>\n",
       "      <td>30</td>\n",
       "      <td>19</td>\n",
       "      <td>551.0</td>\n",
       "      <td>29.00</td>\n",
       "      <td>0.97</td>\n",
       "      <td>Ranbaxy Fine Chemicals LTD</td>\n",
       "      <td>Yes</td>\n",
       "      <td>13</td>\n",
       "      <td>780.34</td>\n",
       "      <td>NaN</td>\n",
       "    </tr>\n",
       "    <tr>\n",
       "      <th>1</th>\n",
       "      <td>3</td>\n",
       "      <td>108-VN-T01</td>\n",
       "      <td>Pre-PQ Process</td>\n",
       "      <td>SCMS-13</td>\n",
       "      <td>ASN-85</td>\n",
       "      <td>Vietnam</td>\n",
       "      <td>PMO - US</td>\n",
       "      <td>Direct Drop</td>\n",
       "      <td>EXW</td>\n",
       "      <td>Air</td>\n",
       "      <td>...</td>\n",
       "      <td>240</td>\n",
       "      <td>1000</td>\n",
       "      <td>6200.0</td>\n",
       "      <td>6.20</td>\n",
       "      <td>0.03</td>\n",
       "      <td>Aurobindo Unit III, India</td>\n",
       "      <td>Yes</td>\n",
       "      <td>358</td>\n",
       "      <td>4521.5</td>\n",
       "      <td>NaN</td>\n",
       "    </tr>\n",
       "    <tr>\n",
       "      <th>2</th>\n",
       "      <td>4</td>\n",
       "      <td>100-CI-T01</td>\n",
       "      <td>Pre-PQ Process</td>\n",
       "      <td>SCMS-20</td>\n",
       "      <td>ASN-14</td>\n",
       "      <td>Côte d'Ivoire</td>\n",
       "      <td>PMO - US</td>\n",
       "      <td>Direct Drop</td>\n",
       "      <td>FCA</td>\n",
       "      <td>Air</td>\n",
       "      <td>...</td>\n",
       "      <td>100</td>\n",
       "      <td>500</td>\n",
       "      <td>40000.0</td>\n",
       "      <td>80.00</td>\n",
       "      <td>0.80</td>\n",
       "      <td>ABBVIE GmbH &amp; Co.KG Wiesbaden</td>\n",
       "      <td>Yes</td>\n",
       "      <td>171</td>\n",
       "      <td>1653.78</td>\n",
       "      <td>NaN</td>\n",
       "    </tr>\n",
       "    <tr>\n",
       "      <th>3</th>\n",
       "      <td>15</td>\n",
       "      <td>108-VN-T01</td>\n",
       "      <td>Pre-PQ Process</td>\n",
       "      <td>SCMS-78</td>\n",
       "      <td>ASN-50</td>\n",
       "      <td>Vietnam</td>\n",
       "      <td>PMO - US</td>\n",
       "      <td>Direct Drop</td>\n",
       "      <td>EXW</td>\n",
       "      <td>Air</td>\n",
       "      <td>...</td>\n",
       "      <td>60</td>\n",
       "      <td>31920</td>\n",
       "      <td>127360.8</td>\n",
       "      <td>3.99</td>\n",
       "      <td>0.07</td>\n",
       "      <td>Ranbaxy, Paonta Shahib, India</td>\n",
       "      <td>Yes</td>\n",
       "      <td>1855</td>\n",
       "      <td>16007.06</td>\n",
       "      <td>NaN</td>\n",
       "    </tr>\n",
       "    <tr>\n",
       "      <th>4</th>\n",
       "      <td>16</td>\n",
       "      <td>108-VN-T01</td>\n",
       "      <td>Pre-PQ Process</td>\n",
       "      <td>SCMS-81</td>\n",
       "      <td>ASN-55</td>\n",
       "      <td>Vietnam</td>\n",
       "      <td>PMO - US</td>\n",
       "      <td>Direct Drop</td>\n",
       "      <td>EXW</td>\n",
       "      <td>Air</td>\n",
       "      <td>...</td>\n",
       "      <td>60</td>\n",
       "      <td>38000</td>\n",
       "      <td>121600.0</td>\n",
       "      <td>3.20</td>\n",
       "      <td>0.05</td>\n",
       "      <td>Aurobindo Unit III, India</td>\n",
       "      <td>Yes</td>\n",
       "      <td>7590</td>\n",
       "      <td>45450.08</td>\n",
       "      <td>NaN</td>\n",
       "    </tr>\n",
       "  </tbody>\n",
       "</table>\n",
       "<p>5 rows × 33 columns</p>\n",
       "</div>"
      ],
      "text/plain": [
       "   ID Project Code            PQ # PO / SO # ASN/DN #        Country  \\\n",
       "0   1   100-CI-T01  Pre-PQ Process    SCMS-4    ASN-8  Côte d'Ivoire   \n",
       "1   3   108-VN-T01  Pre-PQ Process   SCMS-13   ASN-85        Vietnam   \n",
       "2   4   100-CI-T01  Pre-PQ Process   SCMS-20   ASN-14  Côte d'Ivoire   \n",
       "3  15   108-VN-T01  Pre-PQ Process   SCMS-78   ASN-50        Vietnam   \n",
       "4  16   108-VN-T01  Pre-PQ Process   SCMS-81   ASN-55        Vietnam   \n",
       "\n",
       "  Managed By  Fulfill Via Vendor INCO Term Shipment Mode  ...  \\\n",
       "0   PMO - US  Direct Drop              EXW           Air  ...   \n",
       "1   PMO - US  Direct Drop              EXW           Air  ...   \n",
       "2   PMO - US  Direct Drop              FCA           Air  ...   \n",
       "3   PMO - US  Direct Drop              EXW           Air  ...   \n",
       "4   PMO - US  Direct Drop              EXW           Air  ...   \n",
       "\n",
       "  Unit of Measure (Per Pack) Line Item Quantity Line Item Value Pack Price  \\\n",
       "0                         30                 19           551.0      29.00   \n",
       "1                        240               1000          6200.0       6.20   \n",
       "2                        100                500         40000.0      80.00   \n",
       "3                         60              31920        127360.8       3.99   \n",
       "4                         60              38000        121600.0       3.20   \n",
       "\n",
       "  Unit Price             Manufacturing Site First Line Designation  \\\n",
       "0       0.97     Ranbaxy Fine Chemicals LTD                    Yes   \n",
       "1       0.03      Aurobindo Unit III, India                    Yes   \n",
       "2       0.80  ABBVIE GmbH & Co.KG Wiesbaden                    Yes   \n",
       "3       0.07  Ranbaxy, Paonta Shahib, India                    Yes   \n",
       "4       0.05      Aurobindo Unit III, India                    Yes   \n",
       "\n",
       "  Weight (Kilograms) Freight Cost (USD) Line Item Insurance (USD)  \n",
       "0                 13             780.34                       NaN  \n",
       "1                358             4521.5                       NaN  \n",
       "2                171            1653.78                       NaN  \n",
       "3               1855           16007.06                       NaN  \n",
       "4               7590           45450.08                       NaN  \n",
       "\n",
       "[5 rows x 33 columns]"
      ]
     },
     "execution_count": 3,
     "metadata": {},
     "output_type": "execute_result"
    }
   ],
   "source": [
    "raw_df.head(5)"
   ]
  },
  {
   "cell_type": "code",
   "execution_count": 15,
   "id": "7ea453b1-706e-46a1-bb0b-6aa051a81462",
   "metadata": {},
   "outputs": [
    {
     "data": {
      "text/plain": [
       "array(['2-Jun-06', '14-Nov-06', '27-Aug-06', ..., '29-Mar-13', '7-Dec-13',\n",
       "       '8-May-15'], dtype=object)"
      ]
     },
     "execution_count": 15,
     "metadata": {},
     "output_type": "execute_result"
    }
   ],
   "source": [
    "raw_df['Delivery Recorded Date'].unique()"
   ]
  },
  {
   "cell_type": "code",
   "execution_count": 5,
   "id": "2a81abc2-ed76-47d2-b5ee-23406a84a713",
   "metadata": {},
   "outputs": [],
   "source": [
    "# Filtering out required columns from the main data.\n",
    "\n",
    "filtered_df = raw_df[['ID','Country','Shipment Mode','Manufacturing Site','Weight (Kilograms)','Delivery Recorded Date','Item Description']].copy()\n",
    "filtered_df.rename(columns={\"Shipment Mode\":\"Mode\",\"Weight (Kilograms)\":\"Weight\",\"Delivery Recorded Date\":\"Delivery_Date\",'Manufacturing Site':'Manufacturing_site','Country':'Destination_Country'},inplace=True)"
   ]
  },
  {
   "cell_type": "code",
   "execution_count": 6,
   "id": "df47b598-0979-4125-bfcd-b84ba460cd4f",
   "metadata": {},
   "outputs": [
    {
     "data": {
      "text/html": [
       "<div>\n",
       "<style scoped>\n",
       "    .dataframe tbody tr th:only-of-type {\n",
       "        vertical-align: middle;\n",
       "    }\n",
       "\n",
       "    .dataframe tbody tr th {\n",
       "        vertical-align: top;\n",
       "    }\n",
       "\n",
       "    .dataframe thead th {\n",
       "        text-align: right;\n",
       "    }\n",
       "</style>\n",
       "<table border=\"1\" class=\"dataframe\">\n",
       "  <thead>\n",
       "    <tr style=\"text-align: right;\">\n",
       "      <th></th>\n",
       "      <th>ID</th>\n",
       "      <th>Destination_Country</th>\n",
       "      <th>Mode</th>\n",
       "      <th>Manufacturing_site</th>\n",
       "      <th>Weight</th>\n",
       "      <th>Delivery_Date</th>\n",
       "      <th>Item Description</th>\n",
       "    </tr>\n",
       "  </thead>\n",
       "  <tbody>\n",
       "    <tr>\n",
       "      <th>0</th>\n",
       "      <td>1</td>\n",
       "      <td>Côte d'Ivoire</td>\n",
       "      <td>Air</td>\n",
       "      <td>Ranbaxy Fine Chemicals LTD</td>\n",
       "      <td>13</td>\n",
       "      <td>2-Jun-06</td>\n",
       "      <td>HIV, Reveal G3 Rapid HIV-1 Antibody Test, 30 T...</td>\n",
       "    </tr>\n",
       "    <tr>\n",
       "      <th>1</th>\n",
       "      <td>3</td>\n",
       "      <td>Vietnam</td>\n",
       "      <td>Air</td>\n",
       "      <td>Aurobindo Unit III, India</td>\n",
       "      <td>358</td>\n",
       "      <td>14-Nov-06</td>\n",
       "      <td>Nevirapine 10mg/ml, oral suspension, Bottle, 2...</td>\n",
       "    </tr>\n",
       "    <tr>\n",
       "      <th>2</th>\n",
       "      <td>4</td>\n",
       "      <td>Côte d'Ivoire</td>\n",
       "      <td>Air</td>\n",
       "      <td>ABBVIE GmbH &amp; Co.KG Wiesbaden</td>\n",
       "      <td>171</td>\n",
       "      <td>27-Aug-06</td>\n",
       "      <td>HIV 1/2, Determine Complete HIV Kit, 100 Tests</td>\n",
       "    </tr>\n",
       "    <tr>\n",
       "      <th>3</th>\n",
       "      <td>15</td>\n",
       "      <td>Vietnam</td>\n",
       "      <td>Air</td>\n",
       "      <td>Ranbaxy, Paonta Shahib, India</td>\n",
       "      <td>1855</td>\n",
       "      <td>1-Sep-06</td>\n",
       "      <td>Lamivudine 150mg, tablets, 60 Tabs</td>\n",
       "    </tr>\n",
       "    <tr>\n",
       "      <th>4</th>\n",
       "      <td>16</td>\n",
       "      <td>Vietnam</td>\n",
       "      <td>Air</td>\n",
       "      <td>Aurobindo Unit III, India</td>\n",
       "      <td>7590</td>\n",
       "      <td>11-Aug-06</td>\n",
       "      <td>Stavudine 30mg, capsules, 60 Caps</td>\n",
       "    </tr>\n",
       "    <tr>\n",
       "      <th>...</th>\n",
       "      <td>...</td>\n",
       "      <td>...</td>\n",
       "      <td>...</td>\n",
       "      <td>...</td>\n",
       "      <td>...</td>\n",
       "      <td>...</td>\n",
       "      <td>...</td>\n",
       "    </tr>\n",
       "    <tr>\n",
       "      <th>10319</th>\n",
       "      <td>86818</td>\n",
       "      <td>Zimbabwe</td>\n",
       "      <td>Truck</td>\n",
       "      <td>Mylan,  H-12 &amp; H-13, India</td>\n",
       "      <td>See DN-4307 (ID#:83920)</td>\n",
       "      <td>20-Jul-15</td>\n",
       "      <td>Lamivudine/Nevirapine/Zidovudine 30/50/60mg, d...</td>\n",
       "    </tr>\n",
       "    <tr>\n",
       "      <th>10320</th>\n",
       "      <td>86819</td>\n",
       "      <td>Côte d'Ivoire</td>\n",
       "      <td>Truck</td>\n",
       "      <td>Hetero Unit III Hyderabad IN</td>\n",
       "      <td>See DN-4313 (ID#:83921)</td>\n",
       "      <td>7-Aug-15</td>\n",
       "      <td>Lamivudine/Zidovudine 150/300mg, tablets, 60 Tabs</td>\n",
       "    </tr>\n",
       "    <tr>\n",
       "      <th>10321</th>\n",
       "      <td>86821</td>\n",
       "      <td>Zambia</td>\n",
       "      <td>Truck</td>\n",
       "      <td>Cipla Ltd A-42 MIDC Mahar. IN</td>\n",
       "      <td>Weight Captured Separately</td>\n",
       "      <td>3-Sep-15</td>\n",
       "      <td>Efavirenz/Lamivudine/Tenofovir Disoproxil Fuma...</td>\n",
       "    </tr>\n",
       "    <tr>\n",
       "      <th>10322</th>\n",
       "      <td>86822</td>\n",
       "      <td>Zimbabwe</td>\n",
       "      <td>Truck</td>\n",
       "      <td>Mylan (formerly Matrix) Nashik</td>\n",
       "      <td>1392</td>\n",
       "      <td>11-Aug-15</td>\n",
       "      <td>Lamivudine/Zidovudine 150/300mg, tablets, 60 Tabs</td>\n",
       "    </tr>\n",
       "    <tr>\n",
       "      <th>10323</th>\n",
       "      <td>86823</td>\n",
       "      <td>Zimbabwe</td>\n",
       "      <td>Truck</td>\n",
       "      <td>Cipla, Goa, India</td>\n",
       "      <td>Weight Captured Separately</td>\n",
       "      <td>11-Aug-15</td>\n",
       "      <td>Lamivudine/Zidovudine 30/60mg, dispersible tab...</td>\n",
       "    </tr>\n",
       "  </tbody>\n",
       "</table>\n",
       "<p>10324 rows × 7 columns</p>\n",
       "</div>"
      ],
      "text/plain": [
       "          ID Destination_Country   Mode              Manufacturing_site  \\\n",
       "0          1       Côte d'Ivoire    Air      Ranbaxy Fine Chemicals LTD   \n",
       "1          3             Vietnam    Air       Aurobindo Unit III, India   \n",
       "2          4       Côte d'Ivoire    Air   ABBVIE GmbH & Co.KG Wiesbaden   \n",
       "3         15             Vietnam    Air   Ranbaxy, Paonta Shahib, India   \n",
       "4         16             Vietnam    Air       Aurobindo Unit III, India   \n",
       "...      ...                 ...    ...                             ...   \n",
       "10319  86818            Zimbabwe  Truck      Mylan,  H-12 & H-13, India   \n",
       "10320  86819       Côte d'Ivoire  Truck    Hetero Unit III Hyderabad IN   \n",
       "10321  86821              Zambia  Truck   Cipla Ltd A-42 MIDC Mahar. IN   \n",
       "10322  86822            Zimbabwe  Truck  Mylan (formerly Matrix) Nashik   \n",
       "10323  86823            Zimbabwe  Truck               Cipla, Goa, India   \n",
       "\n",
       "                           Weight Delivery_Date  \\\n",
       "0                              13      2-Jun-06   \n",
       "1                             358     14-Nov-06   \n",
       "2                             171     27-Aug-06   \n",
       "3                            1855      1-Sep-06   \n",
       "4                            7590     11-Aug-06   \n",
       "...                           ...           ...   \n",
       "10319     See DN-4307 (ID#:83920)     20-Jul-15   \n",
       "10320     See DN-4313 (ID#:83921)      7-Aug-15   \n",
       "10321  Weight Captured Separately      3-Sep-15   \n",
       "10322                        1392     11-Aug-15   \n",
       "10323  Weight Captured Separately     11-Aug-15   \n",
       "\n",
       "                                        Item Description  \n",
       "0      HIV, Reveal G3 Rapid HIV-1 Antibody Test, 30 T...  \n",
       "1      Nevirapine 10mg/ml, oral suspension, Bottle, 2...  \n",
       "2         HIV 1/2, Determine Complete HIV Kit, 100 Tests  \n",
       "3                     Lamivudine 150mg, tablets, 60 Tabs  \n",
       "4                      Stavudine 30mg, capsules, 60 Caps  \n",
       "...                                                  ...  \n",
       "10319  Lamivudine/Nevirapine/Zidovudine 30/50/60mg, d...  \n",
       "10320  Lamivudine/Zidovudine 150/300mg, tablets, 60 Tabs  \n",
       "10321  Efavirenz/Lamivudine/Tenofovir Disoproxil Fuma...  \n",
       "10322  Lamivudine/Zidovudine 150/300mg, tablets, 60 Tabs  \n",
       "10323  Lamivudine/Zidovudine 30/60mg, dispersible tab...  \n",
       "\n",
       "[10324 rows x 7 columns]"
      ]
     },
     "execution_count": 6,
     "metadata": {},
     "output_type": "execute_result"
    }
   ],
   "source": [
    "filtered_df"
   ]
  },
  {
   "cell_type": "code",
   "execution_count": 11,
   "id": "335729fd-c141-4bed-b701-1c08e2b47eae",
   "metadata": {
    "tags": []
   },
   "outputs": [
    {
     "name": "stderr",
     "output_type": "stream",
     "text": [
      "<ipython-input-11-a6d6f0ef5b4a>:2: DeprecationWarning: In a future version, `df.iloc[:, i] = newvals` will attempt to set the values inplace instead of always setting a new array. To retain the old behavior, use either `df[df.columns[i]] = newvals` or, if columns are non-unique, `df.isetitem(i, newvals)`\n",
      "  filtered_df.loc[:,'Delivery_Date'] = pd.to_datetime(filtered_df['Delivery_Date'],format=\"%Y-%M-%D\")\n"
     ]
    }
   ],
   "source": [
    "# Converting Delivery Date to datetime datatype\n",
    "filtered_df.loc[:,'Delivery_Date'] = pd.to_datetime(filtered_df['Delivery_Date'],format=\"%YYY-%M-%D\")"
   ]
  },
  {
   "cell_type": "code",
   "execution_count": 12,
   "id": "b4d430a2-bb73-49f4-bb5e-f3dc1fc57350",
   "metadata": {},
   "outputs": [
    {
     "data": {
      "text/plain": [
       "0       2006-06-02\n",
       "1       2006-11-14\n",
       "2       2006-08-27\n",
       "3       2006-09-01\n",
       "4       2006-08-11\n",
       "           ...    \n",
       "10319   2015-07-20\n",
       "10320   2015-08-07\n",
       "10321   2015-09-03\n",
       "10322   2015-08-11\n",
       "10323   2015-08-11\n",
       "Name: Delivery_Date, Length: 10324, dtype: datetime64[ns]"
      ]
     },
     "execution_count": 12,
     "metadata": {},
     "output_type": "execute_result"
    }
   ],
   "source": [
    "filtered_df['Delivery_Date']"
   ]
  },
  {
   "cell_type": "markdown",
   "id": "13cdbab8-27fc-409e-8007-749c6b55ee4c",
   "metadata": {},
   "source": [
    "# Exploratory Data Analysis"
   ]
  },
  {
   "cell_type": "code",
   "execution_count": 6,
   "id": "0efa259b-cfc8-4075-a83f-d37d9ecbd1da",
   "metadata": {
    "tags": []
   },
   "outputs": [
    {
     "data": {
      "text/plain": [
       "Delivery_Date\n",
       "2006      65\n",
       "2007     670\n",
       "2008    1109\n",
       "2009    1192\n",
       "2010    1176\n",
       "2011    1049\n",
       "2012    1250\n",
       "2013    1205\n",
       "2014    1599\n",
       "2015    1009\n",
       "Name: Delivery_Date, dtype: int64"
      ]
     },
     "execution_count": 6,
     "metadata": {},
     "output_type": "execute_result"
    }
   ],
   "source": [
    "# Checking total number of data points for each year\n",
    "filtered_df['Delivery_Date'].groupby(by=filtered_df['Delivery_Date'].dt.year).size()"
   ]
  },
  {
   "cell_type": "code",
   "execution_count": 7,
   "id": "296c29e1-1fd6-48e7-b90b-098242e388ae",
   "metadata": {
    "tags": []
   },
   "outputs": [
    {
     "data": {
      "text/plain": [
       "ID                       0\n",
       "Destination_Country      0\n",
       "Mode                   360\n",
       "Manufacturing_site       0\n",
       "Weight                   0\n",
       "Delivery_Date            0\n",
       "Item Description         0\n",
       "dtype: int64"
      ]
     },
     "execution_count": 7,
     "metadata": {},
     "output_type": "execute_result"
    }
   ],
   "source": [
    "# Check for null values\n",
    "filtered_df.isna().sum()"
   ]
  },
  {
   "cell_type": "markdown",
   "id": "643d2fdb-954e-4c2a-a36d-f1c796823a18",
   "metadata": {},
   "source": [
    "Null values found in the mode of transport. "
   ]
  },
  {
   "cell_type": "code",
   "execution_count": 8,
   "id": "403ddfa9-ff8f-4f57-bac9-34867916bce4",
   "metadata": {},
   "outputs": [
    {
     "data": {
      "text/plain": [
       "Delivery_Date\n",
       "2006      2\n",
       "2007    264\n",
       "2008     94\n",
       "dtype: int64"
      ]
     },
     "execution_count": 8,
     "metadata": {},
     "output_type": "execute_result"
    }
   ],
   "source": [
    "# Checking Mode column's null values\n",
    "\n",
    "# filtered_df[filtered_df['Mode'].isna()]\n",
    "\n",
    "# Counting the number of null values per year\n",
    "filtered_df[filtered_df['Mode'].isna()].groupby(by=filtered_df['Delivery_Date'].dt.year).size()"
   ]
  },
  {
   "cell_type": "markdown",
   "id": "9d51a8b1-8340-4797-a0df-20bc81c858b4",
   "metadata": {},
   "source": [
    "Since mode of transport is not available for these years (2006,2007,2008) I will not consider these years for our base year.\n",
    "Even though year 2006 has only 2 NaN rows for Mode, the number of data points are only 65. Thus not enough to consider as base year as compared to other years."
   ]
  },
  {
   "cell_type": "code",
   "execution_count": 9,
   "id": "7c7d5064-a178-4146-9139-d4beb59db43a",
   "metadata": {
    "tags": []
   },
   "outputs": [
    {
     "data": {
      "text/html": [
       "<div>\n",
       "<style scoped>\n",
       "    .dataframe tbody tr th:only-of-type {\n",
       "        vertical-align: middle;\n",
       "    }\n",
       "\n",
       "    .dataframe tbody tr th {\n",
       "        vertical-align: top;\n",
       "    }\n",
       "\n",
       "    .dataframe thead th {\n",
       "        text-align: right;\n",
       "    }\n",
       "</style>\n",
       "<table border=\"1\" class=\"dataframe\">\n",
       "  <thead>\n",
       "    <tr style=\"text-align: right;\">\n",
       "      <th></th>\n",
       "      <th>ID</th>\n",
       "      <th>Destination_Country</th>\n",
       "      <th>Mode</th>\n",
       "      <th>Manufacturing_site</th>\n",
       "      <th>Weight</th>\n",
       "      <th>Delivery_Date</th>\n",
       "      <th>Item Description</th>\n",
       "    </tr>\n",
       "  </thead>\n",
       "  <tbody>\n",
       "    <tr>\n",
       "      <th>8</th>\n",
       "      <td>46</td>\n",
       "      <td>Nigeria</td>\n",
       "      <td>Air</td>\n",
       "      <td>Aurobindo Unit III, India</td>\n",
       "      <td>See ASN-93 (ID#:1281)</td>\n",
       "      <td>2006-12-07</td>\n",
       "      <td>Stavudine 30mg, capsules, 60 Caps</td>\n",
       "    </tr>\n",
       "    <tr>\n",
       "      <th>12</th>\n",
       "      <td>62</td>\n",
       "      <td>Nigeria</td>\n",
       "      <td>Air</td>\n",
       "      <td>EY Laboratories, USA</td>\n",
       "      <td>Weight Captured Separately</td>\n",
       "      <td>2007-01-10</td>\n",
       "      <td>HIV 1/2, InstantChek HIV 1+2 Kit, 100 Tests</td>\n",
       "    </tr>\n",
       "    <tr>\n",
       "      <th>15</th>\n",
       "      <td>68</td>\n",
       "      <td>Zimbabwe</td>\n",
       "      <td>Air</td>\n",
       "      <td>BMS Meymac, France</td>\n",
       "      <td>Weight Captured Separately</td>\n",
       "      <td>2007-03-19</td>\n",
       "      <td>#102198**Didanosine 200mg [Videx], tablets, 60...</td>\n",
       "    </tr>\n",
       "    <tr>\n",
       "      <th>16</th>\n",
       "      <td>69</td>\n",
       "      <td>Nigeria</td>\n",
       "      <td>NaN</td>\n",
       "      <td>ABBVIE GmbH &amp; Co.KG Wiesbaden</td>\n",
       "      <td>Weight Captured Separately</td>\n",
       "      <td>2007-05-07</td>\n",
       "      <td>HIV 1/2, Determine Complete HIV Kit, 100 Tests</td>\n",
       "    </tr>\n",
       "    <tr>\n",
       "      <th>31</th>\n",
       "      <td>262</td>\n",
       "      <td>South Africa</td>\n",
       "      <td>NaN</td>\n",
       "      <td>GSK Mississauga (Canada)</td>\n",
       "      <td>Weight Captured Separately</td>\n",
       "      <td>2008-01-29</td>\n",
       "      <td>Zidovudine 10mg/ml [Retrovir], oral solution, ...</td>\n",
       "    </tr>\n",
       "    <tr>\n",
       "      <th>...</th>\n",
       "      <td>...</td>\n",
       "      <td>...</td>\n",
       "      <td>...</td>\n",
       "      <td>...</td>\n",
       "      <td>...</td>\n",
       "      <td>...</td>\n",
       "      <td>...</td>\n",
       "    </tr>\n",
       "    <tr>\n",
       "      <th>10318</th>\n",
       "      <td>86817</td>\n",
       "      <td>Zimbabwe</td>\n",
       "      <td>Truck</td>\n",
       "      <td>Cipla, Goa, India</td>\n",
       "      <td>See DN-4307 (ID#:83920)</td>\n",
       "      <td>2015-07-20</td>\n",
       "      <td>Lamivudine/Nevirapine/Zidovudine 30/50/60mg, d...</td>\n",
       "    </tr>\n",
       "    <tr>\n",
       "      <th>10319</th>\n",
       "      <td>86818</td>\n",
       "      <td>Zimbabwe</td>\n",
       "      <td>Truck</td>\n",
       "      <td>Mylan,  H-12 &amp; H-13, India</td>\n",
       "      <td>See DN-4307 (ID#:83920)</td>\n",
       "      <td>2015-07-20</td>\n",
       "      <td>Lamivudine/Nevirapine/Zidovudine 30/50/60mg, d...</td>\n",
       "    </tr>\n",
       "    <tr>\n",
       "      <th>10320</th>\n",
       "      <td>86819</td>\n",
       "      <td>Côte d'Ivoire</td>\n",
       "      <td>Truck</td>\n",
       "      <td>Hetero Unit III Hyderabad IN</td>\n",
       "      <td>See DN-4313 (ID#:83921)</td>\n",
       "      <td>2015-08-07</td>\n",
       "      <td>Lamivudine/Zidovudine 150/300mg, tablets, 60 Tabs</td>\n",
       "    </tr>\n",
       "    <tr>\n",
       "      <th>10321</th>\n",
       "      <td>86821</td>\n",
       "      <td>Zambia</td>\n",
       "      <td>Truck</td>\n",
       "      <td>Cipla Ltd A-42 MIDC Mahar. IN</td>\n",
       "      <td>Weight Captured Separately</td>\n",
       "      <td>2015-09-03</td>\n",
       "      <td>Efavirenz/Lamivudine/Tenofovir Disoproxil Fuma...</td>\n",
       "    </tr>\n",
       "    <tr>\n",
       "      <th>10323</th>\n",
       "      <td>86823</td>\n",
       "      <td>Zimbabwe</td>\n",
       "      <td>Truck</td>\n",
       "      <td>Cipla, Goa, India</td>\n",
       "      <td>Weight Captured Separately</td>\n",
       "      <td>2015-08-11</td>\n",
       "      <td>Lamivudine/Zidovudine 30/60mg, dispersible tab...</td>\n",
       "    </tr>\n",
       "  </tbody>\n",
       "</table>\n",
       "<p>3952 rows × 7 columns</p>\n",
       "</div>"
      ],
      "text/plain": [
       "          ID Destination_Country   Mode             Manufacturing_site  \\\n",
       "8         46             Nigeria    Air      Aurobindo Unit III, India   \n",
       "12        62             Nigeria    Air           EY Laboratories, USA   \n",
       "15        68            Zimbabwe    Air             BMS Meymac, France   \n",
       "16        69             Nigeria    NaN  ABBVIE GmbH & Co.KG Wiesbaden   \n",
       "31       262        South Africa    NaN       GSK Mississauga (Canada)   \n",
       "...      ...                 ...    ...                            ...   \n",
       "10318  86817            Zimbabwe  Truck              Cipla, Goa, India   \n",
       "10319  86818            Zimbabwe  Truck     Mylan,  H-12 & H-13, India   \n",
       "10320  86819       Côte d'Ivoire  Truck   Hetero Unit III Hyderabad IN   \n",
       "10321  86821              Zambia  Truck  Cipla Ltd A-42 MIDC Mahar. IN   \n",
       "10323  86823            Zimbabwe  Truck              Cipla, Goa, India   \n",
       "\n",
       "                           Weight Delivery_Date  \\\n",
       "8           See ASN-93 (ID#:1281)    2006-12-07   \n",
       "12     Weight Captured Separately    2007-01-10   \n",
       "15     Weight Captured Separately    2007-03-19   \n",
       "16     Weight Captured Separately    2007-05-07   \n",
       "31     Weight Captured Separately    2008-01-29   \n",
       "...                           ...           ...   \n",
       "10318     See DN-4307 (ID#:83920)    2015-07-20   \n",
       "10319     See DN-4307 (ID#:83920)    2015-07-20   \n",
       "10320     See DN-4313 (ID#:83921)    2015-08-07   \n",
       "10321  Weight Captured Separately    2015-09-03   \n",
       "10323  Weight Captured Separately    2015-08-11   \n",
       "\n",
       "                                        Item Description  \n",
       "8                      Stavudine 30mg, capsules, 60 Caps  \n",
       "12           HIV 1/2, InstantChek HIV 1+2 Kit, 100 Tests  \n",
       "15     #102198**Didanosine 200mg [Videx], tablets, 60...  \n",
       "16        HIV 1/2, Determine Complete HIV Kit, 100 Tests  \n",
       "31     Zidovudine 10mg/ml [Retrovir], oral solution, ...  \n",
       "...                                                  ...  \n",
       "10318  Lamivudine/Nevirapine/Zidovudine 30/50/60mg, d...  \n",
       "10319  Lamivudine/Nevirapine/Zidovudine 30/50/60mg, d...  \n",
       "10320  Lamivudine/Zidovudine 150/300mg, tablets, 60 Tabs  \n",
       "10321  Efavirenz/Lamivudine/Tenofovir Disoproxil Fuma...  \n",
       "10323  Lamivudine/Zidovudine 30/60mg, dispersible tab...  \n",
       "\n",
       "[3952 rows x 7 columns]"
      ]
     },
     "execution_count": 9,
     "metadata": {},
     "output_type": "execute_result"
    }
   ],
   "source": [
    "# Checking Weight column values\n",
    "filtered_df[filtered_df['Weight'].str.isnumeric() == False]"
   ]
  },
  {
   "cell_type": "markdown",
   "id": "a91580e3-54e8-46f8-b0ff-aa69bcbad77d",
   "metadata": {},
   "source": [
    "As you can see above the weight column has non-numeric values 'Weight Captured Separately', thus the values for these rows are not available. While values like 'See ASN-93 (ID#:1281)' can be found by mapping to that particular ID and getting the weight"
   ]
  },
  {
   "cell_type": "code",
   "execution_count": 10,
   "id": "1c4c2eb7-31cb-4093-af50-8be479f9aaec",
   "metadata": {},
   "outputs": [
    {
     "data": {
      "text/plain": [
       "Delivery_Date\n",
       "2006      6\n",
       "2007     28\n",
       "2008    233\n",
       "2009    262\n",
       "2010     67\n",
       "2011     56\n",
       "2012     33\n",
       "2013     80\n",
       "2014    386\n",
       "2015    356\n",
       "dtype: int64"
      ]
     },
     "execution_count": 10,
     "metadata": {},
     "output_type": "execute_result"
    }
   ],
   "source": [
    "# Counting the number of 'Weight Captured Separately' values in weight columns per year.\n",
    "\n",
    "filtered_df[(filtered_df['Weight'].str.isnumeric() == False) & (filtered_df['Weight'] == 'Weight Captured Separately')].groupby(by=filtered_df['Delivery_Date'].dt.year).size()"
   ]
  },
  {
   "cell_type": "markdown",
   "id": "28ad597c-b947-4a96-8e00-dfaceee53c68",
   "metadata": {},
   "source": [
    "Seeing that 2012 has least number of 'Weight Captured Separately' values and it has good number of data points i.e. 1250. We can consider it as our base year."
   ]
  },
  {
   "cell_type": "markdown",
   "id": "8e429f68-9191-429a-ac85-66d5093dee6a",
   "metadata": {},
   "source": [
    "# Data Cleaning"
   ]
  },
  {
   "cell_type": "markdown",
   "id": "0a584d30-1704-4529-9016-393b4bb7f73a",
   "metadata": {},
   "source": [
    "## Fixing Weight column"
   ]
  },
  {
   "cell_type": "code",
   "execution_count": 8,
   "id": "a9e076bf-8ad0-4f5e-b803-03222fcdd984",
   "metadata": {},
   "outputs": [],
   "source": [
    "# Filtering out 'Weight Captured Separately' rows from Final dataset\n",
    "final_df = filtered_df[(filtered_df['Delivery_Date'].dt.year == 2012) & (filtered_df['Weight'] != 'Weight Captured Separately')].copy()\n",
    "final_df.reset_index(inplace = True, drop = True)"
   ]
  },
  {
   "cell_type": "code",
   "execution_count": 12,
   "id": "4c9d3d99-fa50-4408-b4fa-45e709e99eec",
   "metadata": {},
   "outputs": [],
   "source": [
    "# Function to resolve \"See DN-2947 (ID#:83642)\" given in weight column and adding the weight\n",
    "\n",
    "def mapWeights(weight):\n",
    "    try:\n",
    "        if weight.isnumeric() == False:\n",
    "            ID = weight[-6:-1]\n",
    "            weight_returned = filtered_df[filtered_df['ID'] == int(ID)]['Weight'].iloc[0]\n",
    "            if weight_returned == 'Weight Captured Separately':\n",
    "                return None\n",
    "#             print(f'{ID} -- {weight_returned}')\n",
    "            return float(weight_returned)\n",
    "        return float(weight)\n",
    "    except Exception as e:\n",
    "        print(f'Error == {e} \\n {weight[-6:-1]} --- {filtered_df[filtered_df[\"ID\"] == int(weight[-6:-1])][\"Weight\"].iloc[0]}')"
   ]
  },
  {
   "cell_type": "code",
   "execution_count": 13,
   "id": "5c06a56a-be34-4622-b6b2-f43e1e309337",
   "metadata": {},
   "outputs": [],
   "source": [
    "weights = final_df['Weight'].apply(mapWeights)"
   ]
  },
  {
   "cell_type": "code",
   "execution_count": 14,
   "id": "20a5124d-78a6-482c-a70c-d917c3bfee5f",
   "metadata": {
    "tags": []
   },
   "outputs": [
    {
     "name": "stderr",
     "output_type": "stream",
     "text": [
      "<ipython-input-14-eeaaac4ada69>:2: DeprecationWarning: In a future version, `df.iloc[:, i] = newvals` will attempt to set the values inplace instead of always setting a new array. To retain the old behavior, use either `df[df.columns[i]] = newvals` or, if columns are non-unique, `df.isetitem(i, newvals)`\n",
      "  final_df.loc[:,'Weight'] = weights\n"
     ]
    }
   ],
   "source": [
    "# Adding weights list to the df\n",
    "final_df.loc[:,'Weight'] = weights"
   ]
  },
  {
   "cell_type": "code",
   "execution_count": 15,
   "id": "3b53a368-66fc-4f9d-bd7e-8812b2dfb3fd",
   "metadata": {},
   "outputs": [],
   "source": [
    "# Removing None value rows for weight\n",
    "\n",
    "final_df = final_df[final_df['Weight'].isna() == False]"
   ]
  },
  {
   "cell_type": "code",
   "execution_count": 16,
   "id": "b7282222-74e7-4471-b6ba-37836675695b",
   "metadata": {},
   "outputs": [],
   "source": [
    "# Converting Weights from KG to Tonnes\n",
    "# 1 kilogram = 0.001 tonne\n",
    "\n",
    "final_df['Weight'] = final_df['Weight'] * 0.001"
   ]
  },
  {
   "cell_type": "markdown",
   "id": "3717efb0-2a5a-4eb3-9d4a-a9409275eea4",
   "metadata": {},
   "source": [
    "## Fixing Mode column"
   ]
  },
  {
   "cell_type": "code",
   "execution_count": 17,
   "id": "b747f7c1-4333-4b4c-adc8-e638c44ad674",
   "metadata": {},
   "outputs": [
    {
     "data": {
      "text/plain": [
       "array(['Air', 'Ocean', 'Truck', 'Air Charter'], dtype=object)"
      ]
     },
     "execution_count": 17,
     "metadata": {},
     "output_type": "execute_result"
    }
   ],
   "source": [
    "final_df['Mode'].unique()"
   ]
  },
  {
   "cell_type": "markdown",
   "id": "35f6be7c-25c2-4630-8400-7f87dbc6eac4",
   "metadata": {},
   "source": [
    "As you can see we have air charter as the 4th Mode of transport. We can combine that with Air transport and convert truck to Road"
   ]
  },
  {
   "cell_type": "code",
   "execution_count": 18,
   "id": "4911496b-3b08-4563-bb02-7db9bdeebef6",
   "metadata": {},
   "outputs": [],
   "source": [
    "final_df.loc[final_df['Mode'] == 'Air Charter','Mode'] = 'Air'\n",
    "final_df.loc[final_df['Mode'] == 'Truck','Mode'] = 'Road'"
   ]
  },
  {
   "cell_type": "markdown",
   "id": "688a2808-46b2-489b-83ff-474b69d3fc5a",
   "metadata": {},
   "source": [
    "## Getting Location coordinates of Source Location and Destination Location"
   ]
  },
  {
   "cell_type": "markdown",
   "id": "38316b77-db0f-423a-9794-a42fcd72bded",
   "metadata": {},
   "source": [
    "## To-Do\n",
    "1. Source \n",
    "- If the mode of transport is \n",
    "        1. Air and Ocean, then we get the Airport/Port coordinates of the nearest Airport/Port to the manufacturing site.\n",
    "        2. Road, then we get the coordinates of the manufacturing site.\n",
    "2. Destination\n",
    "- If the mode of transport is \n",
    "        1. Air and Road, then we get the nearest Airport coordinates to the Capital City of the Country given.\n",
    "        2. Ocean, then we get the coordinates of the port nearest to the capital city of the country given."
   ]
  },
  {
   "cell_type": "code",
   "execution_count": 19,
   "id": "f20792be-9895-424e-ae4d-a06fabbfcb03",
   "metadata": {},
   "outputs": [],
   "source": [
    "# Read airports data\n",
    "raw_airport_df = pd.read_csv('Data/airports.csv')\n",
    "# Read ports data\n",
    "raw_ports_df = gpd.read_file('Data/attributed_ports.geojson')"
   ]
  },
  {
   "cell_type": "code",
   "execution_count": 20,
   "id": "d23a97f4-250a-4882-938e-47650e092b14",
   "metadata": {},
   "outputs": [],
   "source": [
    "# Data cleaning for airports and ports data\n",
    "df = raw_airport_df[['type','latitude_deg','longitude_deg','name','iso_country','municipality']]\n",
    "final_airport_df = df[df['type'].str.lower().str.contains('airport')].copy()\n",
    "final_airport_df['continent'] = coco.convert(final_airport_df['iso_country'],src='ISO2',to = 'continent', not_found=None)\n",
    "\n",
    "final_ports_df = raw_ports_df[['Country','Name','geometry']].copy()\n",
    "final_ports_df['latitude_deg'] = final_ports_df.geometry.apply(lambda p: p.y)\n",
    "final_ports_df['longitude_deg'] = final_ports_df.geometry.apply(lambda p: p.x)\n",
    "final_ports_df.drop(['geometry'], axis=1,inplace=True)\n",
    "final_ports_df['iso_country'] = coco.convert(final_ports_df['Country'],to='ISO2', not_found=None)\n",
    "final_ports_df['continent'] = coco.convert(final_ports_df['iso_country'],src='ISO2',to = 'continent', not_found=None)"
   ]
  },
  {
   "cell_type": "code",
   "execution_count": 21,
   "id": "98ea7877-802e-49bc-b9c7-1bdcf11fdcdc",
   "metadata": {},
   "outputs": [
    {
     "data": {
      "text/html": [
       "<div>\n",
       "<style scoped>\n",
       "    .dataframe tbody tr th:only-of-type {\n",
       "        vertical-align: middle;\n",
       "    }\n",
       "\n",
       "    .dataframe tbody tr th {\n",
       "        vertical-align: top;\n",
       "    }\n",
       "\n",
       "    .dataframe thead th {\n",
       "        text-align: right;\n",
       "    }\n",
       "</style>\n",
       "<table border=\"1\" class=\"dataframe\">\n",
       "  <thead>\n",
       "    <tr style=\"text-align: right;\">\n",
       "      <th></th>\n",
       "      <th>Country</th>\n",
       "      <th>Name</th>\n",
       "      <th>latitude_deg</th>\n",
       "      <th>longitude_deg</th>\n",
       "      <th>iso_country</th>\n",
       "      <th>continent</th>\n",
       "    </tr>\n",
       "  </thead>\n",
       "  <tbody>\n",
       "    <tr>\n",
       "      <th>0</th>\n",
       "      <td>United Arab Emirates</td>\n",
       "      <td>Abu Dhabi</td>\n",
       "      <td>24.466667</td>\n",
       "      <td>54.366667</td>\n",
       "      <td>AE</td>\n",
       "      <td>Asia</td>\n",
       "    </tr>\n",
       "    <tr>\n",
       "      <th>1</th>\n",
       "      <td>United Arab Emirates</td>\n",
       "      <td>Ar Ruways</td>\n",
       "      <td>24.116667</td>\n",
       "      <td>52.733333</td>\n",
       "      <td>AE</td>\n",
       "      <td>Asia</td>\n",
       "    </tr>\n",
       "  </tbody>\n",
       "</table>\n",
       "</div>"
      ],
      "text/plain": [
       "                Country       Name  latitude_deg  longitude_deg iso_country  \\\n",
       "0  United Arab Emirates  Abu Dhabi     24.466667      54.366667          AE   \n",
       "1  United Arab Emirates  Ar Ruways     24.116667      52.733333          AE   \n",
       "\n",
       "  continent  \n",
       "0      Asia  \n",
       "1      Asia  "
      ]
     },
     "execution_count": 21,
     "metadata": {},
     "output_type": "execute_result"
    }
   ],
   "source": [
    "final_ports_df.head(2)"
   ]
  },
  {
   "cell_type": "code",
   "execution_count": 22,
   "id": "1d697a4a-daeb-4bf3-9dc3-b8f0a122b301",
   "metadata": {},
   "outputs": [
    {
     "data": {
      "text/html": [
       "<div>\n",
       "<style scoped>\n",
       "    .dataframe tbody tr th:only-of-type {\n",
       "        vertical-align: middle;\n",
       "    }\n",
       "\n",
       "    .dataframe tbody tr th {\n",
       "        vertical-align: top;\n",
       "    }\n",
       "\n",
       "    .dataframe thead th {\n",
       "        text-align: right;\n",
       "    }\n",
       "</style>\n",
       "<table border=\"1\" class=\"dataframe\">\n",
       "  <thead>\n",
       "    <tr style=\"text-align: right;\">\n",
       "      <th></th>\n",
       "      <th>type</th>\n",
       "      <th>latitude_deg</th>\n",
       "      <th>longitude_deg</th>\n",
       "      <th>name</th>\n",
       "      <th>iso_country</th>\n",
       "      <th>municipality</th>\n",
       "      <th>continent</th>\n",
       "    </tr>\n",
       "  </thead>\n",
       "  <tbody>\n",
       "    <tr>\n",
       "      <th>1</th>\n",
       "      <td>small_airport</td>\n",
       "      <td>38.704022</td>\n",
       "      <td>-101.473911</td>\n",
       "      <td>Aero B Ranch Airport</td>\n",
       "      <td>US</td>\n",
       "      <td>Leoti</td>\n",
       "      <td>America</td>\n",
       "    </tr>\n",
       "    <tr>\n",
       "      <th>2</th>\n",
       "      <td>small_airport</td>\n",
       "      <td>59.947733</td>\n",
       "      <td>-151.692524</td>\n",
       "      <td>Lowell Field</td>\n",
       "      <td>US</td>\n",
       "      <td>Anchor Point</td>\n",
       "      <td>America</td>\n",
       "    </tr>\n",
       "  </tbody>\n",
       "</table>\n",
       "</div>"
      ],
      "text/plain": [
       "            type  latitude_deg  longitude_deg                  name  \\\n",
       "1  small_airport     38.704022    -101.473911  Aero B Ranch Airport   \n",
       "2  small_airport     59.947733    -151.692524          Lowell Field   \n",
       "\n",
       "  iso_country  municipality continent  \n",
       "1          US         Leoti   America  \n",
       "2          US  Anchor Point   America  "
      ]
     },
     "execution_count": 22,
     "metadata": {},
     "output_type": "execute_result"
    }
   ],
   "source": [
    "final_airport_df.head(2)"
   ]
  },
  {
   "cell_type": "markdown",
   "id": "ae0ffd5f-35f4-4f45-a96f-8ce11b2a5c09",
   "metadata": {},
   "source": [
    "### Finding source location coordinates"
   ]
  },
  {
   "cell_type": "markdown",
   "id": "9a847b5c-fa67-4bb5-808e-9aa0469476c7",
   "metadata": {},
   "source": [
    "Getting all manufacturing_site and mode of transport from the main df"
   ]
  },
  {
   "cell_type": "code",
   "execution_count": 23,
   "id": "ec63a8ab-112d-44a9-ac69-fc46d8083aa4",
   "metadata": {},
   "outputs": [],
   "source": [
    "source_df = final_df[['Manufacturing_site','Mode']].copy()"
   ]
  },
  {
   "cell_type": "code",
   "execution_count": 24,
   "id": "07dbf8e7-b75b-45c7-900f-975243a6c471",
   "metadata": {},
   "outputs": [
    {
     "data": {
      "text/plain": [
       "1202"
      ]
     },
     "execution_count": 24,
     "metadata": {},
     "output_type": "execute_result"
    }
   ],
   "source": [
    "len(source_df)"
   ]
  },
  {
   "cell_type": "markdown",
   "id": "b96ccd12-5b72-4f81-b6b3-88f1021024da",
   "metadata": {},
   "source": [
    "Dropping duplicates"
   ]
  },
  {
   "cell_type": "code",
   "execution_count": 25,
   "id": "1bda2114-0e1e-4a7c-8ca9-dea44a073831",
   "metadata": {},
   "outputs": [],
   "source": [
    "source_df.drop_duplicates(inplace=True)"
   ]
  },
  {
   "cell_type": "code",
   "execution_count": 26,
   "id": "c993683d-3e9d-4d10-8d13-03aeeceb888a",
   "metadata": {},
   "outputs": [],
   "source": [
    "# Initialising geolocation object\n",
    "nom = ArcGIS()\n",
    "cc = coco.CountryConverter()\n",
    "# Creating geopandas DF to append Source location\n",
    "data = {'Manufacturing_site':[],'source':[],'departure':[],'source_mode':[],'departure_mode':[],'src_num_transport':[],'src_country':[]}\n",
    "source_locations =  gpd.GeoDataFrame(data)"
   ]
  },
  {
   "cell_type": "code",
   "execution_count": 27,
   "id": "fbebd2b7-9acd-4bac-a4df-1d47415451a8",
   "metadata": {
    "tags": []
   },
   "outputs": [],
   "source": [
    "# Functions to get the distance in KM\n",
    "def distance(lat1, lon1, lat2, lon2):\n",
    "    # Calculate the distance between two coordinates using the haversine formula\n",
    "    \"\"\"\n",
    "    Calculate the great circle distance between two points\n",
    "    on the earth (specified in decimal degrees)\n",
    "\n",
    "    All args must be of equal length.    \n",
    "\n",
    "    \"\"\"\n",
    "    lon1, lat1, lon2, lat2 = map(np.radians, [lon1, lat1, lon2, lat2])\n",
    "\n",
    "    dlon = lon2 - lon1\n",
    "    dlat = lat2 - lat1\n",
    "\n",
    "    a = np.sin(dlat/2.0)**2 + np.cos(lat1) * np.cos(lat2) * np.sin(dlon/2.0)**2\n",
    "\n",
    "    c = 2 * np.arcsin(np.sqrt(a))\n",
    "    km = 6367 * c\n",
    "    return km"
   ]
  },
  {
   "cell_type": "code",
   "execution_count": 28,
   "id": "427a435c-0ecf-4375-bb54-ebcc2a291060",
   "metadata": {},
   "outputs": [
    {
     "data": {
      "text/plain": [
       "44441"
      ]
     },
     "execution_count": 28,
     "metadata": {},
     "output_type": "execute_result"
    }
   ],
   "source": [
    "len(final_airport_df)"
   ]
  },
  {
   "cell_type": "code",
   "execution_count": 29,
   "id": "c8c182c4-a5ef-472a-8885-fc63cbc1c2a7",
   "metadata": {},
   "outputs": [],
   "source": [
    "\"\"\"\n",
    "Function to find the minimum distance.\n",
    "\"\"\"\n",
    "def minDistance(transport_df,location,iso2_country,continent):\n",
    "    min_distance = float('inf')\n",
    "    min_latitude = float('inf')\n",
    "    min_longitude = float('inf')\n",
    "    \n",
    "    \"\"\"\n",
    "    Getting all airports/ports lying inside the country. If no airports/ports are found inside the country then, \n",
    "    we check for all the airport/ports in the continent.\n",
    "    \"\"\"\n",
    "    transport_df_country = transport_df[transport_df['iso_country'] == iso2_country]\n",
    "    if len(transport_df_country) == 0:\n",
    "        transport_df_country = transport_df[transport_df['continent'] == continent]\n",
    "        print('Looking at continent now', len(transport_df_country))\n",
    "\n",
    "    for index,row in transport_df_country.iterrows():\n",
    "        dist = distance(location.latitude, location.longitude, row['latitude_deg'],row['longitude_deg'])\n",
    "        if dist <= min_distance:\n",
    "            min_distance = dist\n",
    "            min_latitude = row['latitude_deg']\n",
    "            min_longitude = row['longitude_deg']\n",
    "\n",
    "    return min_latitude,min_longitude"
   ]
  },
  {
   "cell_type": "code",
   "execution_count": 30,
   "id": "cb4d3db2-409f-4366-8f11-9cf2d0e47aa2",
   "metadata": {
    "tags": []
   },
   "outputs": [],
   "source": [
    "# Function to get the coordinates of the location\n",
    "# Now that we have location of the manufacturing site coordinates. We need to get the Airport/Port location from which the item was transported\n",
    "def getSourceLocation(data):\n",
    "    place = data['Manufacturing_site']\n",
    "    departure_mode = data['Mode']\n",
    "    try:\n",
    "        number_of_transport = 1\n",
    "        location = nom.geocode(place)\n",
    "        min_latitude = location.latitude\n",
    "        min_longitude = location.longitude\n",
    "        country = nom.reverse(str(location.latitude) + ',' + str(location.longitude)).address.split(',')[-1].replace(\" \", \"\")\n",
    "        source_mode = 'Road'\n",
    "        \n",
    "        # Getting iso_2 code for the country\n",
    "        iso2_country = cc.convert(country, to='ISO2',not_found=None)\n",
    "        continent = cc.convert(iso2_country,src='ISO2',to = 'continent', not_found=None)\n",
    "        \n",
    "        # Now that we have location of the manufacturing site. We need to get the Airport/Port location from which the item was transported\n",
    "        if departure_mode == 'Air':\n",
    "            number_of_transport = number_of_transport + 1\n",
    "            min_latitude,min_longitude= minDistance(final_airport_df,location,iso2_country,continent)\n",
    "        elif departure_mode == 'Ocean':\n",
    "            number_of_transport = number_of_transport + 1\n",
    "            min_latitude,min_longitude = minDistance(final_ports_df,location,iso2_country,continent)\n",
    "            \n",
    "        source_locations.loc[len(source_locations.index)] = [place,Point(location.latitude,location.longitude),Point(min_latitude,min_longitude),source_mode,departure_mode,number_of_transport,country]\n",
    "        \n",
    "    except Exception as e:\n",
    "        print(e, place)\n",
    "        source_locations.loc[len(source_locations.index)] = [place,None,None,None,departure_mode,number_of_transport,None]"
   ]
  },
  {
   "cell_type": "code",
   "execution_count": 31,
   "id": "abb3cb84-0890-4c73-a319-1e341cd27dc1",
   "metadata": {},
   "outputs": [
    {
     "data": {
      "text/html": [
       "<div>\n",
       "<style scoped>\n",
       "    .dataframe tbody tr th:only-of-type {\n",
       "        vertical-align: middle;\n",
       "    }\n",
       "\n",
       "    .dataframe tbody tr th {\n",
       "        vertical-align: top;\n",
       "    }\n",
       "\n",
       "    .dataframe thead th {\n",
       "        text-align: right;\n",
       "    }\n",
       "</style>\n",
       "<table border=\"1\" class=\"dataframe\">\n",
       "  <thead>\n",
       "    <tr style=\"text-align: right;\">\n",
       "      <th></th>\n",
       "      <th>Manufacturing_site</th>\n",
       "      <th>source</th>\n",
       "      <th>departure</th>\n",
       "      <th>source_mode</th>\n",
       "      <th>departure_mode</th>\n",
       "      <th>src_num_transport</th>\n",
       "      <th>src_country</th>\n",
       "    </tr>\n",
       "  </thead>\n",
       "  <tbody>\n",
       "  </tbody>\n",
       "</table>\n",
       "</div>"
      ],
      "text/plain": [
       "Empty DataFrame\n",
       "Columns: [Manufacturing_site, source, departure, source_mode, departure_mode, src_num_transport, src_country]\n",
       "Index: []"
      ]
     },
     "execution_count": 31,
     "metadata": {},
     "output_type": "execute_result"
    }
   ],
   "source": [
    "source_locations.head(1)"
   ]
  },
  {
   "cell_type": "code",
   "execution_count": null,
   "id": "365188a6-18dc-43dd-978e-4cc3fba1a90e",
   "metadata": {},
   "outputs": [],
   "source": [
    "# Adding source_latitude and source_longitude columns\n",
    "# store starting time\n",
    "begin = time.time()\n",
    "source_df.apply(getSourceLocation,axis=1)\n",
    "end = time.time()\n",
    "# total time taken\n",
    "print(f\"Total runtime of the program is {end - begin}\")"
   ]
  },
  {
   "cell_type": "markdown",
   "id": "182b079b-b0c3-49f2-bc8f-f47d30c515ca",
   "metadata": {},
   "source": [
    "The code took around 74 seconds to complete the computations"
   ]
  },
  {
   "cell_type": "markdown",
   "id": "e8eea54d-48cc-4335-81f4-0eac50536bbf",
   "metadata": {},
   "source": [
    "Merging the source_location_df to the final_df"
   ]
  },
  {
   "cell_type": "code",
   "execution_count": 33,
   "id": "439f40a2-233b-4756-b619-0bd2a28f4cd6",
   "metadata": {},
   "outputs": [],
   "source": [
    "final_df = final_df.merge(source_locations, how='outer', left_on=['Manufacturing_site','Mode'],right_on=['Manufacturing_site','departure_mode'])"
   ]
  },
  {
   "cell_type": "markdown",
   "id": "c33e5ba5-ef30-4044-a97f-d98c9aad633d",
   "metadata": {},
   "source": [
    "Checking for any NONE or INF values in source and departure columns"
   ]
  },
  {
   "cell_type": "code",
   "execution_count": 34,
   "id": "5dd547cb-b75a-466a-94a7-78ce0180b014",
   "metadata": {},
   "outputs": [],
   "source": [
    "indexes = final_df.loc[(final_df['source'].apply(lambda p: p == None or p.x == float('inf') or p.y == float('inf'))) | (final_df['departure'].apply(lambda p: p == None or p.x == float('inf') or p.y == float('inf')))].index"
   ]
  },
  {
   "cell_type": "markdown",
   "id": "98c4061b-5972-427d-be79-6abce034e813",
   "metadata": {},
   "source": [
    "Since coordinates of these manufacturing sites were not found, I will drop these."
   ]
  },
  {
   "cell_type": "code",
   "execution_count": 35,
   "id": "40c28fbf-459d-4578-8fd9-3724597c8158",
   "metadata": {},
   "outputs": [],
   "source": [
    "final_df.drop(index=indexes,axis=1,inplace=True)"
   ]
  },
  {
   "cell_type": "markdown",
   "id": "d1a42c56-262e-44d7-b329-91d230ba5c8f",
   "metadata": {},
   "source": [
    "### Getting Destination location coordinates"
   ]
  },
  {
   "cell_type": "markdown",
   "id": "46e1766a-5d0a-41a0-befe-72fdca8be641",
   "metadata": {},
   "source": [
    "## TO-DO:\n",
    "Destination\n",
    "- If the mode of transport is \n",
    "        1. Air and Road, \n",
    "            1. We first search for the Airport coordinates of the Capital City of the Country given.\n",
    "            2. If no airport is found in the capital then we get the coordinates of the capital and find the nearest airport.\n",
    "        2. Ocean, then we get the coordinates of the main port of the country."
   ]
  },
  {
   "cell_type": "code",
   "execution_count": 36,
   "id": "840a8f4f-f0d6-453e-9958-3610a383037a",
   "metadata": {},
   "outputs": [],
   "source": [
    "# Getting ISO_2 codes for each country\n",
    "final_df['destination_iso_country'] = coco.convert(final_df['Destination_Country'],to='ISO2', not_found=None)"
   ]
  },
  {
   "cell_type": "markdown",
   "id": "848c6986-a75c-45fc-9866-14317d5aa8b2",
   "metadata": {},
   "source": [
    "Uploading country capital list and cleaning the data"
   ]
  },
  {
   "cell_type": "code",
   "execution_count": 37,
   "id": "8351a5ab-485e-4b8f-9aa1-ff47e1177a08",
   "metadata": {
    "tags": []
   },
   "outputs": [
    {
     "name": "stderr",
     "output_type": "stream",
     "text": [
      "Abkhazia not found in regex\n",
      "Akrotiri and Dhekelia not found in regex\n",
      "Ascension Island not found in regex\n",
      "Easter Island not found in regex\n",
      "Nagorno-Karabakh Republic not found in regex\n",
      "Scotland not found in regex\n",
      "South Ossetia not found in regex\n",
      "Transnistria not found in regex\n",
      "Tristan da Cunha not found in regex\n",
      "Wales not found in regex\n"
     ]
    }
   ],
   "source": [
    "country_capital = pd.read_csv('Data/country-capital-list.csv')\n",
    "country_capital.drop(columns=['type'],axis=1,inplace=True)\n",
    "country_capital['iso_country'] = coco.convert(country_capital['country'],to='ISO2', not_found=None)"
   ]
  },
  {
   "cell_type": "markdown",
   "id": "bd53c5fc-3945-44bf-a1ec-d3c1367bd85a",
   "metadata": {},
   "source": [
    "Merging the main_df and country capital df to get the required capital cities."
   ]
  },
  {
   "cell_type": "code",
   "execution_count": 38,
   "id": "6fe1ec4a-32ef-4d27-8538-29c47705cde5",
   "metadata": {},
   "outputs": [],
   "source": [
    "destination_locations = country_capital.merge(final_df[['Mode','destination_iso_country']],right_on='destination_iso_country',left_on='iso_country').drop(columns=['destination_iso_country'])"
   ]
  },
  {
   "cell_type": "markdown",
   "id": "399f2ba0-6cba-46e5-9f3a-d9352bd1d83d",
   "metadata": {},
   "source": [
    "Dropping duplicate rows"
   ]
  },
  {
   "cell_type": "code",
   "execution_count": 39,
   "id": "1a327bdc-0381-41ac-b425-09e59b08d7b1",
   "metadata": {},
   "outputs": [],
   "source": [
    "destination_locations.drop_duplicates(inplace=True)"
   ]
  },
  {
   "cell_type": "markdown",
   "id": "3771e5e0-f53e-4c21-8250-d6a52fcd2bcb",
   "metadata": {},
   "source": [
    "Adding continents name to destination_locations df "
   ]
  },
  {
   "cell_type": "code",
   "execution_count": 40,
   "id": "c9169e8d-5aca-4943-83c7-d78015d57f95",
   "metadata": {},
   "outputs": [],
   "source": [
    "destination_locations['continent'] = coco.convert(destination_locations['country'],to = 'continent', not_found=None)"
   ]
  },
  {
   "cell_type": "code",
   "execution_count": 41,
   "id": "6dd7611a-e69a-4176-a0f8-2c1f8d7e1396",
   "metadata": {},
   "outputs": [],
   "source": [
    "# DF to append Destination location\n",
    "data = {'iso_country':[],'arrival':[],'destination':[],'arrival_mode':[],'destination_mode':[],'des_num_transport':[]}\n",
    "destination_result = gpd.GeoDataFrame(data)"
   ]
  },
  {
   "cell_type": "code",
   "execution_count": 42,
   "id": "d785d4d4-ac12-4257-adac-3ed0b653e451",
   "metadata": {},
   "outputs": [],
   "source": [
    "'''\n",
    "Function to look up the airport and port df to find coordinates of destination location\n",
    "'''\n",
    "def getDestinationCoordinates(df):\n",
    "    iso_country = df['iso_country']\n",
    "    arrival_mode = df['Mode']\n",
    "    destination_mode = 'Road'\n",
    "    try:   \n",
    "        capital = df['capital']\n",
    "        continent = df['continent']\n",
    "        location = nom.geocode(capital)\n",
    "        min_latitude = location.latitude\n",
    "        min_longitude = location.longitude\n",
    "        number_of_transport = 1\n",
    "        \n",
    "        if arrival_mode == 'Air':\n",
    "            # Check if airport is available for this capital\n",
    "            number_of_transport = number_of_transport + 1\n",
    "            min_latitude,min_longitude = minDistance(final_airport_df,location,iso_country,continent)    \n",
    "        elif arrival_mode == 'Ocean':\n",
    "            number_of_transport = number_of_transport + 1\n",
    "            min_latitude,min_longitude = minDistance(final_ports_df,location,iso_country,continent)\n",
    "        \n",
    "        destination_result.loc[len(destination_result.index)] = [iso_country,Point(min_latitude,min_longitude),Point(location.latitude,location.longitude),arrival_mode,destination_mode,number_of_transport]\n",
    "        \n",
    "    except Exception as e:\n",
    "        print(e, '==', iso_country, arrival_mode)\n",
    "        destination_result.loc[len(destination_result.index)] = [iso_country,Point(min_latitude,min_longitude),Point(location.latitude,location.longitude),arrival_mode,destination_mode,number_of_transport]"
   ]
  },
  {
   "cell_type": "code",
   "execution_count": null,
   "id": "752a2594-6055-43f5-a0a2-aa42893f17ae",
   "metadata": {},
   "outputs": [],
   "source": [
    "# store starting time\n",
    "begin = time.time()\n",
    "destination_locations.apply(getDestinationCoordinates,axis=1)\n",
    "end = time.time()\n",
    "# total time taken\n",
    "print(f\"Total runtime of the program is {end - begin}\")"
   ]
  },
  {
   "cell_type": "markdown",
   "id": "b04e1cb2-59ef-4d85-b20d-62f769ce3d36",
   "metadata": {},
   "source": [
    "Check if any inf or none values in arrival and destination columns"
   ]
  },
  {
   "cell_type": "code",
   "execution_count": 44,
   "id": "78b174ee-11f1-447f-90d5-8ca9ce0fe55a",
   "metadata": {},
   "outputs": [
    {
     "data": {
      "text/html": [
       "<div>\n",
       "<style scoped>\n",
       "    .dataframe tbody tr th:only-of-type {\n",
       "        vertical-align: middle;\n",
       "    }\n",
       "\n",
       "    .dataframe tbody tr th {\n",
       "        vertical-align: top;\n",
       "    }\n",
       "\n",
       "    .dataframe thead th {\n",
       "        text-align: right;\n",
       "    }\n",
       "</style>\n",
       "<table border=\"1\" class=\"dataframe\">\n",
       "  <thead>\n",
       "    <tr style=\"text-align: right;\">\n",
       "      <th></th>\n",
       "      <th>iso_country</th>\n",
       "      <th>arrival</th>\n",
       "      <th>destination</th>\n",
       "      <th>arrival_mode</th>\n",
       "      <th>destination_mode</th>\n",
       "      <th>des_num_transport</th>\n",
       "    </tr>\n",
       "  </thead>\n",
       "  <tbody>\n",
       "  </tbody>\n",
       "</table>\n",
       "</div>"
      ],
      "text/plain": [
       "Empty DataFrame\n",
       "Columns: [iso_country, arrival, destination, arrival_mode, destination_mode, des_num_transport]\n",
       "Index: []"
      ]
     },
     "execution_count": 44,
     "metadata": {},
     "output_type": "execute_result"
    }
   ],
   "source": [
    "destination_result.loc[(destination_result['arrival'].apply(lambda p: p == None or p.x == float('inf') or p.y == float('inf'))) | (destination_result['destination'].apply(lambda p: p == None or p.x == float('inf') or p.y == float('inf')))]"
   ]
  },
  {
   "cell_type": "markdown",
   "id": "ff1913cc-009e-4e72-a66f-2c1218a7afde",
   "metadata": {},
   "source": [
    "Since no inf or None values, we can merge the destination result with the final_df"
   ]
  },
  {
   "cell_type": "code",
   "execution_count": 45,
   "id": "71baa09d-7194-4872-a86e-01b99c36582b",
   "metadata": {
    "tags": []
   },
   "outputs": [],
   "source": [
    "final_df = final_df.merge(destination_result,left_on=['destination_iso_country','Mode'],right_on=['iso_country','arrival_mode'])"
   ]
  },
  {
   "cell_type": "markdown",
   "id": "91d1e9e5-19f6-4a28-ae7b-23040077385e",
   "metadata": {},
   "source": [
    "Finding out the total number of transports used."
   ]
  },
  {
   "cell_type": "code",
   "execution_count": 46,
   "id": "7e34db73-d00e-41f2-a24d-32b3da583ff0",
   "metadata": {},
   "outputs": [],
   "source": [
    "final_df['total_num_of_transports'] = final_df['src_num_transport'] + final_df['des_num_transport'] - 1"
   ]
  },
  {
   "cell_type": "code",
   "execution_count": 47,
   "id": "21001d56-fdf6-4f55-80ff-d7981d4f9617",
   "metadata": {},
   "outputs": [],
   "source": [
    "final_df.drop(columns=['arrival_mode','departure_mode','iso_country','src_num_transport','des_num_transport'],inplace=True)"
   ]
  },
  {
   "cell_type": "code",
   "execution_count": 48,
   "id": "278b50dc-4550-49c0-b8a4-7d20848e7c70",
   "metadata": {},
   "outputs": [],
   "source": [
    "# Rearranging the columns in the DF\n",
    "final_df = final_df[['ID','Item Description','Weight','Delivery_Date','Destination_Country','destination_iso_country','Manufacturing_site','Mode','source', 'departure',\n",
    "       'source_mode', 'arrival', 'destination',\n",
    "       'destination_mode', 'total_num_of_transports']]"
   ]
  },
  {
   "cell_type": "code",
   "execution_count": 49,
   "id": "37c2497e-1033-45f2-8290-2f5e94cf2ede",
   "metadata": {},
   "outputs": [
    {
     "data": {
      "text/html": [
       "<div>\n",
       "<style scoped>\n",
       "    .dataframe tbody tr th:only-of-type {\n",
       "        vertical-align: middle;\n",
       "    }\n",
       "\n",
       "    .dataframe tbody tr th {\n",
       "        vertical-align: top;\n",
       "    }\n",
       "\n",
       "    .dataframe thead th {\n",
       "        text-align: right;\n",
       "    }\n",
       "</style>\n",
       "<table border=\"1\" class=\"dataframe\">\n",
       "  <thead>\n",
       "    <tr style=\"text-align: right;\">\n",
       "      <th></th>\n",
       "      <th>ID</th>\n",
       "      <th>Item Description</th>\n",
       "      <th>Weight</th>\n",
       "      <th>Delivery_Date</th>\n",
       "      <th>Destination_Country</th>\n",
       "      <th>destination_iso_country</th>\n",
       "      <th>Manufacturing_site</th>\n",
       "      <th>Mode</th>\n",
       "      <th>source</th>\n",
       "      <th>departure</th>\n",
       "      <th>source_mode</th>\n",
       "      <th>arrival</th>\n",
       "      <th>destination</th>\n",
       "      <th>destination_mode</th>\n",
       "      <th>total_num_of_transports</th>\n",
       "    </tr>\n",
       "  </thead>\n",
       "  <tbody>\n",
       "    <tr>\n",
       "      <th>0</th>\n",
       "      <td>12973</td>\n",
       "      <td>Lamivudine/Nevirapine/Stavudine 30/50/6mg, dis...</td>\n",
       "      <td>0.021</td>\n",
       "      <td>2012-06-12</td>\n",
       "      <td>Haiti</td>\n",
       "      <td>HT</td>\n",
       "      <td>Cipla, Goa, India</td>\n",
       "      <td>Air</td>\n",
       "      <td>POINT (15.359210000000076 73.93967000000004)</td>\n",
       "      <td>POINT (15.3808 73.831398)</td>\n",
       "      <td>Road</td>\n",
       "      <td>POINT (18.58 -72.292503)</td>\n",
       "      <td>POINT (18.543490000000077 -72.33880999999997)</td>\n",
       "      <td>Road</td>\n",
       "      <td>3</td>\n",
       "    </tr>\n",
       "  </tbody>\n",
       "</table>\n",
       "</div>"
      ],
      "text/plain": [
       "      ID                                   Item Description  Weight  \\\n",
       "0  12973  Lamivudine/Nevirapine/Stavudine 30/50/6mg, dis...   0.021   \n",
       "\n",
       "  Delivery_Date Destination_Country destination_iso_country  \\\n",
       "0    2012-06-12               Haiti                      HT   \n",
       "\n",
       "  Manufacturing_site Mode                                        source  \\\n",
       "0  Cipla, Goa, India  Air  POINT (15.359210000000076 73.93967000000004)   \n",
       "\n",
       "                   departure source_mode                   arrival  \\\n",
       "0  POINT (15.3808 73.831398)        Road  POINT (18.58 -72.292503)   \n",
       "\n",
       "                                     destination destination_mode  \\\n",
       "0  POINT (18.543490000000077 -72.33880999999997)             Road   \n",
       "\n",
       "   total_num_of_transports  \n",
       "0                        3  "
      ]
     },
     "execution_count": 49,
     "metadata": {},
     "output_type": "execute_result"
    }
   ],
   "source": [
    "final_df.head(1)"
   ]
  },
  {
   "cell_type": "markdown",
   "id": "2ba86d9d-8677-448a-bbc4-48427ca5df32",
   "metadata": {},
   "source": [
    "## Finding the total distance between source to departure, departure to arrival and arrival to destination."
   ]
  },
  {
   "cell_type": "code",
   "execution_count": 56,
   "id": "cfe84d05-5128-41ee-9e88-c6852a616625",
   "metadata": {
    "tags": []
   },
   "outputs": [],
   "source": [
    "\"\"\"\n",
    "Function to find the distance between coordinates for each transportation mode 'Road', 'Ocean', 'Air'\n",
    "\"\"\"\n",
    "def calculateDistance(data):\n",
    "    source_loc = data['source']\n",
    "    departure_loc = data['departure']\n",
    "    arrival_loc = data['arrival']\n",
    "    destination_loc = data['destination']\n",
    "    source_mode = data['source_mode']\n",
    "    destination_mode = data['destination_mode']\n",
    "    main_mode = data['Mode']\n",
    "    num_of_transports = data['total_num_of_transports']\n",
    "    try:\n",
    "        # Finding road distance\n",
    "        ## This service is free.\n",
    "        API_KEY = '5b3ce3597851110001cf6248de01212ad45649ddbb4031ce99837efa'\n",
    "        client = openrouteservice.Client(key=API_KEY)\n",
    "#         print(num_of_transports)\n",
    "        \n",
    "        if num_of_transports == 1:\n",
    "            data['dist_source_to_departure'] = 0\n",
    "            data['dist_arrival_to_destination'] = 0\n",
    "            try:\n",
    "#                 print(num_of_transports)\n",
    "                # Complete road travel\n",
    "                coords = ((source_loc.y,source_loc.x), (destination_loc.y,destination_loc.x))\n",
    "                res = client.directions(coords)\n",
    "                distance = res['routes'][0]['summary']['distance']/1000\n",
    "                data['dist_departure_to_arrival'] = distance/1.60934\n",
    "#                 print('Transportation from source to destination in km', distance)\n",
    "            except Exception as e:\n",
    "                print(e, data['source'])\n",
    "                data['dist_departure_to_arrival'] = None\n",
    "                \n",
    "        else:\n",
    "            # Transportation from source to departure\n",
    "            if source_mode == 'Road':\n",
    "                try:\n",
    "                    coords = ((source_loc.y,source_loc.x),(departure_loc.y,departure_loc.x))\n",
    "                    res = client.directions(coords)\n",
    "                    distance = res['routes'][0]['summary']['distance']/1000\n",
    "#                     print('Transportation from source to departure distance in km', distance)\n",
    "                    data['dist_source_to_departure'] = distance/1.60934\n",
    "                except Exception as e:\n",
    "#                     print(e, data['source'])\n",
    "                    data['dist_source_to_departure'] = None\n",
    "                \n",
    "            # Transportation from departure to arrival\n",
    "            if main_mode == 'Air':\n",
    "                coords = ((departure_loc.y,departure_loc.x), (arrival_loc.y,arrival_loc.x))\n",
    "                distance = great_circle((departure_loc.x,departure_loc.y), (arrival_loc.x,arrival_loc.y)).km\n",
    "#                 print(\"Aerial Distance\", distance)\n",
    "                data['dist_departure_to_arrival'] = distance/1.60934\n",
    "            else:\n",
    "                origin = [departure_loc.y,departure_loc.x]\n",
    "                destination = [arrival_loc.y,arrival_loc.x]\n",
    "                route = sr.searoute(origin, destination)\n",
    "                distance = route.properties['length']/1.60934\n",
    "#                 print(\"Ocean Distance {:.1f} {}\".format(route.properties['length'], route.properties['units']))\n",
    "                data['dist_departure_to_arrival'] = distance\n",
    "                \n",
    "            # Transportation from arrival to destination\n",
    "            if source_mode == 'Road':\n",
    "                try:\n",
    "                    coords = ((arrival_loc.y,arrival_loc.x), (destination_loc.y,destination_loc.x))\n",
    "                    res = client.directions(coords)\n",
    "                    distance = res['routes'][0]['summary']['distance']/1000\n",
    "#                     print('Transportation from source to departure distance in km', distance)\n",
    "                    data['dist_arrival_to_destination'] = distance/1.60934\n",
    "                except Exception as e:\n",
    "#                     print(e, data['source'])\n",
    "                    data['dist_arrival_to_destination'] = None\n",
    "        return data\n",
    "    except Exception as e:\n",
    "#         print(e, data['source'])\n",
    "        data['dist_source_to_departure'] = None\n",
    "        data['dist_arrival_to_destination'] = None\n",
    "        data['dist_departure_to_arrival'] = None\n",
    "        return data"
   ]
  },
  {
   "cell_type": "code",
   "execution_count": 51,
   "id": "5b6cfaea-a38d-4ec9-8bb8-33f14a0bd4cd",
   "metadata": {},
   "outputs": [],
   "source": [
    "# Getting all the required values and removing duplicated for computations\n",
    "distance_df = final_df[['Destination_Country','Manufacturing_site','Mode', 'source', 'departure', 'source_mode', 'arrival', 'destination',\n",
    "       'destination_mode', 'total_num_of_transports']]"
   ]
  },
  {
   "cell_type": "markdown",
   "id": "4ee83a82-7235-472e-a2a8-779445770caa",
   "metadata": {},
   "source": [
    "Since Point datatype is unhashable, I can't perform drop_duplicates function.\n",
    "Workaround is to convert all the data in str, perform drop duplicates and get the index of the unique values. Then get the rows on those indexes from main df"
   ]
  },
  {
   "cell_type": "code",
   "execution_count": 52,
   "id": "0842f3ea-d35d-4003-8b86-722f2e235249",
   "metadata": {},
   "outputs": [],
   "source": [
    "indexes = distance_df.loc[distance_df.astype(str).drop_duplicates().index].index"
   ]
  },
  {
   "cell_type": "code",
   "execution_count": 53,
   "id": "e5ed4e5e-28cc-48db-934e-e7f28f8a4330",
   "metadata": {},
   "outputs": [],
   "source": [
    "distance_df = distance_df.iloc[indexes]"
   ]
  },
  {
   "cell_type": "code",
   "execution_count": null,
   "id": "1c1b3223-9c48-406f-a4b6-5681d648b4b1",
   "metadata": {},
   "outputs": [],
   "source": [
    "# store starting time\n",
    "begin = time.time()\n",
    "results = distance_df.apply(calculateDistance,axis=1)\n",
    "end = time.time()\n",
    "# total time taken\n",
    "print(f\"Total runtime of the program is {end - begin}\")"
   ]
  },
  {
   "cell_type": "markdown",
   "id": "34d32117-dd6b-44e9-bcb9-77bcb2994adb",
   "metadata": {},
   "source": [
    "### Understanding the results from calculation of distance"
   ]
  },
  {
   "cell_type": "code",
   "execution_count": null,
   "id": "f2efcd8c-bb5e-400b-b279-547b48fba9df",
   "metadata": {},
   "outputs": [],
   "source": [
    "results.isna().sum()"
   ]
  },
  {
   "cell_type": "code",
   "execution_count": null,
   "id": "4024d57a-cb07-48e5-9d24-afc70199c457",
   "metadata": {
    "tags": []
   },
   "outputs": [],
   "source": [
    "results[(results['dist_arrival_to_destination'].isna()) & (results['dist_source_to_departure'].isna())][['destination_mode','source_mode']]"
   ]
  },
  {
   "cell_type": "markdown",
   "id": "31c93431-3844-4177-9ad6-23be74a14d28",
   "metadata": {},
   "source": [
    "There are many None values in 'dist_source_to_departure' and 'dist_arrival_to_destination', the mode of transport for these travel is 'Road', this is due to the limitation of openservice API. As some road routes are not recognizable by the API. We can optimize this by using Google Distance Matrix API.\n",
    "\n",
    "Let's examine why we have None values in 'dist_departure_to_arrival' column"
   ]
  },
  {
   "cell_type": "code",
   "execution_count": null,
   "id": "49fb9c45-459b-4754-9562-3d59f8a6a665",
   "metadata": {},
   "outputs": [],
   "source": [
    "results[results['dist_departure_to_arrival'].isna()]['Mode'].unique()"
   ]
  },
  {
   "cell_type": "markdown",
   "id": "c7d12607-1706-4be0-b6eb-c376ec7f0571",
   "metadata": {},
   "source": [
    "The mode of transport for the None values in dist_departure_to_arrival is 'Road'. There is a limitation of the openservice API, 'The approximated route distance must not be greater than 6000000.0 meters'. Thus the distance can't be calculated"
   ]
  },
  {
   "cell_type": "markdown",
   "id": "74fb50ba-c6c0-4ab8-940a-2d9b943d726b",
   "metadata": {},
   "source": [
    "Merging result of distance calculation with the final_df"
   ]
  },
  {
   "cell_type": "code",
   "execution_count": null,
   "id": "47b04158-be86-4a55-a741-821cc0e448b1",
   "metadata": {},
   "outputs": [],
   "source": [
    "# Creating an array of columns to use for merging to avoid duplicate columns\n",
    "cols_to_use = ['Destination_Country', 'Manufacturing_site', 'Mode',\n",
    "       'dist_arrival_to_destination', 'dist_departure_to_arrival',\n",
    "       'dist_source_to_departure',]"
   ]
  },
  {
   "cell_type": "code",
   "execution_count": null,
   "id": "434ef1a9-6e51-4bef-9449-abc4097ab0f5",
   "metadata": {},
   "outputs": [],
   "source": [
    "final_df = final_df.merge(results[cols_to_use],on=['Destination_Country','Manufacturing_site','Mode'])"
   ]
  },
  {
   "cell_type": "code",
   "execution_count": null,
   "id": "fa786470-ef10-483c-9e33-be2b566ee490",
   "metadata": {},
   "outputs": [],
   "source": [
    "# Emission Factors\n",
    "\n",
    "aircraft_EF = 1.165\n",
    "waterborne_EF = 0.041\n",
    "truck_EF = 0.211"
   ]
  },
  {
   "cell_type": "code",
   "execution_count": null,
   "id": "431a5ba2-0243-4b3b-9a45-cdd259c9da21",
   "metadata": {},
   "outputs": [],
   "source": [
    "\"\"\"\n",
    "Function to calculated emissions for each distributions\n",
    "\"\"\"\n",
    "\n",
    "def calculateEmissions(data):\n",
    "    weight = data['Weight']\n",
    "    source_mode = data['source_mode']\n",
    "    destination_mode = data['destination_mode']\n",
    "    main_mode = data['Mode']\n",
    "    distance_leg1 = data['dist_source_to_departure']\n",
    "    distance_leg2 = data['dist_departure_to_arrival']\n",
    "    distance_leg3 = data['dist_arrival_to_destination']\n",
    "    total_emissions = 0\n",
    "    \n",
    "    if isnan(distance_leg1):\n",
    "        data['emissions_source_to_departure'] = None\n",
    "    else:\n",
    "        if source_mode == 'Road':\n",
    "            data['emissions_source_to_departure'] = weight * distance_leg1 * truck_EF\n",
    "        total_emissions = total_emissions + data['emissions_source_to_departure']\n",
    "    \n",
    "    if isnan(distance_leg2):\n",
    "        data['emissions_departure_to_arrival'] = None\n",
    "    else:\n",
    "        if source_mode == 'Air':\n",
    "            data['emissions_departure_to_arrival'] = weight * distance_leg2 * aircraft_EF\n",
    "        else:\n",
    "            data['emissions_departure_to_arrival'] = weight * distance_leg2 * waterborne_EF\n",
    "        total_emissions = total_emissions + data['emissions_departure_to_arrival']\n",
    "    \n",
    "    if isnan(distance_leg3):\n",
    "        data['emissions_arrival_to_destination'] = None\n",
    "    else:\n",
    "        if source_mode == 'Road':\n",
    "            data['emissions_arrival_to_destination'] = weight * distance_leg3 * truck_EF\n",
    "            total_emissions = total_emissions + data['emissions_arrival_to_destination']\n",
    "    \n",
    "    if total_emissions == 0:\n",
    "        total_emission = None\n",
    "    data['total_emissions'] = total_emissions\n",
    "    \n",
    "    \n",
    "    \n",
    "    return data"
   ]
  },
  {
   "cell_type": "code",
   "execution_count": null,
   "id": "4f18b2a6-a894-4f0a-a86a-11217e669c04",
   "metadata": {},
   "outputs": [],
   "source": [
    "final_df = final_df.apply(calculateEmissions,axis=1)"
   ]
  },
  {
   "cell_type": "markdown",
   "id": "1d6fbf1e-e4e3-4937-9656-df4f9c8bea43",
   "metadata": {},
   "source": [
    "## Description of each field in the final_df\n",
    "\n",
    "0. ID - Unique ID for each transport\n",
    "1. Destination_Country - The country where the final goods are transported for use.\n",
    "2. Mode - This is the mode of transport from the country of manufacturing_site to the destination_country location\n",
    "3. Manufacturing_site - Name of the manufacturer where the items are made.\n",
    "4. Weight - The total weight of the item being transported in KG\n",
    "5. Delivery_Date - The date on which the delivery was completed\n",
    "6. Item Description - Description of the item being transported\n",
    "7. source - The coordinates of the manufacturing place (Latitude, Longitude)\n",
    "8. departure - The coordinates of the Airport/Port nearest to the manufacturing site from which the items are transported to the destination_country (Latitude, Longitude)\n",
    "9. source_mode - The mode of transport used to transfer the items from manufacturing site to the Airport/Port location\n",
    "10. destination_iso_country - ISO2 name for the destination country.\n",
    "11. arrival - The coordinates of the Airport/Port nearest to the destination.(Latitude, Longitude)\n",
    "12. destination - The coordinates of the destination place. (Latitude, Longitude)\n",
    "13. destination_mode - The mode of transport used to transfer the items from arrival location to destination.\n",
    "14. total_num_of_transports - Total number of transports used to reach the destination from source.\n",
    "15. dist_arrival_to_destination - Total distance from arrival to destination location.\n",
    "16. dist_departure_to_arrival - Total distance from departure to arrival location.\n",
    "17. dist_source_to_departure - Total distance from source to departure location.\n",
    "18. emissions_source_to_departure - Total emissions from source to departure location.\n",
    "19. emissions_departure_to_arrival - Total emissions from departure to arrival location.\n",
    "20. emissions_arrival_to_destination - Total emissions from arrival to destination location.\n",
    "21. total_emissions - Summation of the total emissions from source to destination location."
   ]
  },
  {
   "cell_type": "code",
   "execution_count": null,
   "id": "20b6f057-d998-412d-ac45-804372b19bd0",
   "metadata": {},
   "outputs": [],
   "source": [
    "final_df.to_csv('./Output/pharma_scope3_category9_emissions.csv')  "
   ]
  },
  {
   "cell_type": "code",
   "execution_count": null,
   "id": "257b85b3-bd82-46c4-856a-69145fac5ff5",
   "metadata": {},
   "outputs": [],
   "source": [
    "final_df.head(5)"
   ]
  }
 ],
 "metadata": {
  "kernelspec": {
   "display_name": "Python 3",
   "language": "python",
   "name": "python3"
  },
  "language_info": {
   "codemirror_mode": {
    "name": "ipython",
    "version": 3
   },
   "file_extension": ".py",
   "mimetype": "text/x-python",
   "name": "python",
   "nbconvert_exporter": "python",
   "pygments_lexer": "ipython3",
   "version": "3.8.8"
  }
 },
 "nbformat": 4,
 "nbformat_minor": 5
}
