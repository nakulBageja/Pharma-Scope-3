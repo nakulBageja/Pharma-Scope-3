{
 "cells": [
  {
   "cell_type": "markdown",
   "id": "055de770-a459-457a-b07e-58c4989a0eca",
   "metadata": {},
   "source": [
    "# Finding scope 3 emissions of a Pharma company.\n",
    "- Scope 3 category is downstream transportation and distribution\n",
    "- Data taken from data.world\n",
    "- Distance-based methology will be used for calculations\n",
    "    - According to GHG \"If sub-contractor fuel data cannot be easily obtained in order to use the fuel-based method, then the distance-based method should be used.\""
   ]
  },
  {
   "cell_type": "markdown",
   "id": "2f59b11d-4b2a-460d-be02-4061d7dae8f1",
   "metadata": {},
   "source": [
    "# Data points required for calculations of scope 3\n",
    "1. Total distance in KM \n",
    "    - Coordinates of places\n",
    "2. Size of packages\n",
    "3. Mode of Transport\n",
    "4. Emission Factors\n",
    "5. Calculation formulaes\n",
    "    1. Emissions from road transport: = ∑ (mass of goods purchased (tonnes) × distance travelled in transport leg × emission factor of transport mode or vehicle type (kg CO2e/tonne-km)\n",
    "    2. emissions from air transport: = ∑ (quantity of goods purchased (tonnes) x distance travelled in transport leg x emission factor of transport mode or vehicle type (kg CO2e/tonne-km))\n",
    "    3. emissions from sea transport: = ∑ (quantity of goods purchased (tonnes) x distance travelled in transport leg x emission factor of transport mode or vehicle type (kg CO2e/tonne-km))"
   ]
  },
  {
   "cell_type": "markdown",
   "id": "7f885904-68b9-49be-9d37-3191d21b2b09",
   "metadata": {},
   "source": [
    "### Steps I took\n",
    "1. Searching for dataset\n",
    "2. Understanding the dataset and making calculative assumptions\n",
    "    - Assumptions made should have proper justification.\n",
    "3. Listing down the data points required for calculations\n",
    "4. Listing down the calculation formulaes\n",
    "5. Filtering out the data columns required from main data\n",
    "6. Exploratory Data Analysis\n",
    "7. Choosing a single year for calculations\n"
   ]
  },
  {
   "cell_type": "markdown",
   "id": "40b463c6-8a67-496c-bc23-a48e2c822f07",
   "metadata": {},
   "source": [
    "## Data columns\n",
    "1. Country - Destination location\n",
    "2. Mode - Mode of transport (Air, Ocean, Road)\n",
    "3. Weight - Kilogram of weight\n",
    "4. Delivery Date - Date of delivery\n",
    "5. Manufacturing Site - Source location"
   ]
  },
  {
   "cell_type": "code",
   "execution_count": 1,
   "id": "a65c1b32-7ac8-4c23-a03b-27423a48e6d0",
   "metadata": {},
   "outputs": [],
   "source": [
    "# Import libraries\n",
    "import pandas as pd\n",
    "import numpy as np"
   ]
  },
  {
   "cell_type": "code",
   "execution_count": 2,
   "id": "f4b59532-4b31-4090-98f7-8ce7cfcdbe1a",
   "metadata": {},
   "outputs": [],
   "source": [
    "# Collecting data\n",
    "raw_df = pd.read_csv(\"./Data/SCMS_Delivery_History_Dataset_20150929.csv\")"
   ]
  },
  {
   "cell_type": "code",
   "execution_count": 90,
   "id": "2a81abc2-ed76-47d2-b5ee-23406a84a713",
   "metadata": {},
   "outputs": [],
   "source": [
    "# Filtering out required columns from the main data.\n",
    "\n",
    "filtered_df = raw_df[['ID','Country','Shipment Mode','Manufacturing Site','Weight (Kilograms)','Delivery Recorded Date','Item Description']].copy()\n",
    "filtered_df.rename(columns={\"Shipment Mode\":\"Mode\",\"Weight (Kilograms)\":\"Weight\",\"Delivery Recorded Date\":\"Delivery_Date\",'Manufacturing Site':'Manufacturing_site'},inplace=True)"
   ]
  },
  {
   "cell_type": "code",
   "execution_count": 91,
   "id": "335729fd-c141-4bed-b701-1c08e2b47eae",
   "metadata": {},
   "outputs": [],
   "source": [
    "# Converting Delivery Date to datetime datatype\n",
    "filtered_df.loc[:,'Delivery_Date'] = pd.to_datetime(filtered_df['Delivery_Date'])"
   ]
  },
  {
   "cell_type": "markdown",
   "id": "13cdbab8-27fc-409e-8007-749c6b55ee4c",
   "metadata": {},
   "source": [
    "# Exploratory Data Analysis"
   ]
  },
  {
   "cell_type": "code",
   "execution_count": 92,
   "id": "0efa259b-cfc8-4075-a83f-d37d9ecbd1da",
   "metadata": {},
   "outputs": [
    {
     "data": {
      "text/plain": [
       "Delivery_Date\n",
       "2006      65\n",
       "2007     670\n",
       "2008    1109\n",
       "2009    1192\n",
       "2010    1176\n",
       "2011    1049\n",
       "2012    1250\n",
       "2013    1205\n",
       "2014    1599\n",
       "2015    1009\n",
       "Name: Delivery_Date, dtype: int64"
      ]
     },
     "execution_count": 92,
     "metadata": {},
     "output_type": "execute_result"
    }
   ],
   "source": [
    "# Checking total number of data points for each year\n",
    "filtered_df['Delivery_Date'].groupby(by=filtered_df['Delivery_Date'].dt.year).size()"
   ]
  },
  {
   "cell_type": "code",
   "execution_count": 93,
   "id": "296c29e1-1fd6-48e7-b90b-098242e388ae",
   "metadata": {},
   "outputs": [
    {
     "data": {
      "text/plain": [
       "ID                      0\n",
       "Country                 0\n",
       "Mode                  360\n",
       "Manufacturing_site      0\n",
       "Weight                  0\n",
       "Delivery_Date           0\n",
       "Item Description        0\n",
       "dtype: int64"
      ]
     },
     "execution_count": 93,
     "metadata": {},
     "output_type": "execute_result"
    }
   ],
   "source": [
    "# Check for null values\n",
    "filtered_df.isna().sum()"
   ]
  },
  {
   "cell_type": "markdown",
   "id": "643d2fdb-954e-4c2a-a36d-f1c796823a18",
   "metadata": {},
   "source": [
    "Null values found in the mode of transport. "
   ]
  },
  {
   "cell_type": "code",
   "execution_count": 94,
   "id": "403ddfa9-ff8f-4f57-bac9-34867916bce4",
   "metadata": {},
   "outputs": [
    {
     "data": {
      "text/plain": [
       "Delivery_Date\n",
       "2006      2\n",
       "2007    264\n",
       "2008     94\n",
       "dtype: int64"
      ]
     },
     "execution_count": 94,
     "metadata": {},
     "output_type": "execute_result"
    }
   ],
   "source": [
    "# Checking Mode column's null values\n",
    "\n",
    "# filtered_df[filtered_df['Mode'].isna()]\n",
    "\n",
    "# Counting the number of null values per year\n",
    "filtered_df[filtered_df['Mode'].isna()].groupby(by=filtered_df['Delivery_Date'].dt.year).size()"
   ]
  },
  {
   "cell_type": "markdown",
   "id": "9d51a8b1-8340-4797-a0df-20bc81c858b4",
   "metadata": {},
   "source": [
    "Since mode of transport is not available for these years (2006,2007,2008) I will not consider these years for our base year.\n",
    "Even though year 2006 has only 2 NaN rows for Mode, the number of data points are only 65. Thus not enough to consider as base year as compared to other years."
   ]
  },
  {
   "cell_type": "code",
   "execution_count": 95,
   "id": "7c7d5064-a178-4146-9139-d4beb59db43a",
   "metadata": {
    "tags": []
   },
   "outputs": [
    {
     "data": {
      "text/html": [
       "<div>\n",
       "<style scoped>\n",
       "    .dataframe tbody tr th:only-of-type {\n",
       "        vertical-align: middle;\n",
       "    }\n",
       "\n",
       "    .dataframe tbody tr th {\n",
       "        vertical-align: top;\n",
       "    }\n",
       "\n",
       "    .dataframe thead th {\n",
       "        text-align: right;\n",
       "    }\n",
       "</style>\n",
       "<table border=\"1\" class=\"dataframe\">\n",
       "  <thead>\n",
       "    <tr style=\"text-align: right;\">\n",
       "      <th></th>\n",
       "      <th>ID</th>\n",
       "      <th>Country</th>\n",
       "      <th>Mode</th>\n",
       "      <th>Manufacturing_site</th>\n",
       "      <th>Weight</th>\n",
       "      <th>Delivery_Date</th>\n",
       "      <th>Item Description</th>\n",
       "    </tr>\n",
       "  </thead>\n",
       "  <tbody>\n",
       "    <tr>\n",
       "      <th>8</th>\n",
       "      <td>46</td>\n",
       "      <td>Nigeria</td>\n",
       "      <td>Air</td>\n",
       "      <td>Aurobindo Unit III, India</td>\n",
       "      <td>See ASN-93 (ID#:1281)</td>\n",
       "      <td>2006-12-07</td>\n",
       "      <td>Stavudine 30mg, capsules, 60 Caps</td>\n",
       "    </tr>\n",
       "    <tr>\n",
       "      <th>12</th>\n",
       "      <td>62</td>\n",
       "      <td>Nigeria</td>\n",
       "      <td>Air</td>\n",
       "      <td>EY Laboratories, USA</td>\n",
       "      <td>Weight Captured Separately</td>\n",
       "      <td>2007-01-10</td>\n",
       "      <td>HIV 1/2, InstantChek HIV 1+2 Kit, 100 Tests</td>\n",
       "    </tr>\n",
       "    <tr>\n",
       "      <th>15</th>\n",
       "      <td>68</td>\n",
       "      <td>Zimbabwe</td>\n",
       "      <td>Air</td>\n",
       "      <td>BMS Meymac, France</td>\n",
       "      <td>Weight Captured Separately</td>\n",
       "      <td>2007-03-19</td>\n",
       "      <td>#102198**Didanosine 200mg [Videx], tablets, 60...</td>\n",
       "    </tr>\n",
       "    <tr>\n",
       "      <th>16</th>\n",
       "      <td>69</td>\n",
       "      <td>Nigeria</td>\n",
       "      <td>NaN</td>\n",
       "      <td>ABBVIE GmbH &amp; Co.KG Wiesbaden</td>\n",
       "      <td>Weight Captured Separately</td>\n",
       "      <td>2007-05-07</td>\n",
       "      <td>HIV 1/2, Determine Complete HIV Kit, 100 Tests</td>\n",
       "    </tr>\n",
       "    <tr>\n",
       "      <th>31</th>\n",
       "      <td>262</td>\n",
       "      <td>South Africa</td>\n",
       "      <td>NaN</td>\n",
       "      <td>GSK Mississauga (Canada)</td>\n",
       "      <td>Weight Captured Separately</td>\n",
       "      <td>2008-01-29</td>\n",
       "      <td>Zidovudine 10mg/ml [Retrovir], oral solution, ...</td>\n",
       "    </tr>\n",
       "    <tr>\n",
       "      <th>...</th>\n",
       "      <td>...</td>\n",
       "      <td>...</td>\n",
       "      <td>...</td>\n",
       "      <td>...</td>\n",
       "      <td>...</td>\n",
       "      <td>...</td>\n",
       "      <td>...</td>\n",
       "    </tr>\n",
       "    <tr>\n",
       "      <th>10318</th>\n",
       "      <td>86817</td>\n",
       "      <td>Zimbabwe</td>\n",
       "      <td>Truck</td>\n",
       "      <td>Cipla, Goa, India</td>\n",
       "      <td>See DN-4307 (ID#:83920)</td>\n",
       "      <td>2015-07-20</td>\n",
       "      <td>Lamivudine/Nevirapine/Zidovudine 30/50/60mg, d...</td>\n",
       "    </tr>\n",
       "    <tr>\n",
       "      <th>10319</th>\n",
       "      <td>86818</td>\n",
       "      <td>Zimbabwe</td>\n",
       "      <td>Truck</td>\n",
       "      <td>Mylan,  H-12 &amp; H-13, India</td>\n",
       "      <td>See DN-4307 (ID#:83920)</td>\n",
       "      <td>2015-07-20</td>\n",
       "      <td>Lamivudine/Nevirapine/Zidovudine 30/50/60mg, d...</td>\n",
       "    </tr>\n",
       "    <tr>\n",
       "      <th>10320</th>\n",
       "      <td>86819</td>\n",
       "      <td>C�te d'Ivoire</td>\n",
       "      <td>Truck</td>\n",
       "      <td>Hetero Unit III Hyderabad IN</td>\n",
       "      <td>See DN-4313 (ID#:83921)</td>\n",
       "      <td>2015-08-07</td>\n",
       "      <td>Lamivudine/Zidovudine 150/300mg, tablets, 60 Tabs</td>\n",
       "    </tr>\n",
       "    <tr>\n",
       "      <th>10321</th>\n",
       "      <td>86821</td>\n",
       "      <td>Zambia</td>\n",
       "      <td>Truck</td>\n",
       "      <td>Cipla Ltd A-42 MIDC Mahar. IN</td>\n",
       "      <td>Weight Captured Separately</td>\n",
       "      <td>2015-09-03</td>\n",
       "      <td>Efavirenz/Lamivudine/Tenofovir Disoproxil Fuma...</td>\n",
       "    </tr>\n",
       "    <tr>\n",
       "      <th>10323</th>\n",
       "      <td>86823</td>\n",
       "      <td>Zimbabwe</td>\n",
       "      <td>Truck</td>\n",
       "      <td>Cipla, Goa, India</td>\n",
       "      <td>Weight Captured Separately</td>\n",
       "      <td>2015-08-11</td>\n",
       "      <td>Lamivudine/Zidovudine 30/60mg, dispersible tab...</td>\n",
       "    </tr>\n",
       "  </tbody>\n",
       "</table>\n",
       "<p>3952 rows × 7 columns</p>\n",
       "</div>"
      ],
      "text/plain": [
       "          ID        Country   Mode             Manufacturing_site  \\\n",
       "8         46        Nigeria    Air      Aurobindo Unit III, India   \n",
       "12        62        Nigeria    Air           EY Laboratories, USA   \n",
       "15        68       Zimbabwe    Air             BMS Meymac, France   \n",
       "16        69        Nigeria    NaN  ABBVIE GmbH & Co.KG Wiesbaden   \n",
       "31       262   South Africa    NaN       GSK Mississauga (Canada)   \n",
       "...      ...            ...    ...                            ...   \n",
       "10318  86817       Zimbabwe  Truck              Cipla, Goa, India   \n",
       "10319  86818       Zimbabwe  Truck     Mylan,  H-12 & H-13, India   \n",
       "10320  86819  C�te d'Ivoire  Truck   Hetero Unit III Hyderabad IN   \n",
       "10321  86821         Zambia  Truck  Cipla Ltd A-42 MIDC Mahar. IN   \n",
       "10323  86823       Zimbabwe  Truck              Cipla, Goa, India   \n",
       "\n",
       "                           Weight Delivery_Date  \\\n",
       "8           See ASN-93 (ID#:1281)    2006-12-07   \n",
       "12     Weight Captured Separately    2007-01-10   \n",
       "15     Weight Captured Separately    2007-03-19   \n",
       "16     Weight Captured Separately    2007-05-07   \n",
       "31     Weight Captured Separately    2008-01-29   \n",
       "...                           ...           ...   \n",
       "10318     See DN-4307 (ID#:83920)    2015-07-20   \n",
       "10319     See DN-4307 (ID#:83920)    2015-07-20   \n",
       "10320     See DN-4313 (ID#:83921)    2015-08-07   \n",
       "10321  Weight Captured Separately    2015-09-03   \n",
       "10323  Weight Captured Separately    2015-08-11   \n",
       "\n",
       "                                        Item Description  \n",
       "8                      Stavudine 30mg, capsules, 60 Caps  \n",
       "12           HIV 1/2, InstantChek HIV 1+2 Kit, 100 Tests  \n",
       "15     #102198**Didanosine 200mg [Videx], tablets, 60...  \n",
       "16        HIV 1/2, Determine Complete HIV Kit, 100 Tests  \n",
       "31     Zidovudine 10mg/ml [Retrovir], oral solution, ...  \n",
       "...                                                  ...  \n",
       "10318  Lamivudine/Nevirapine/Zidovudine 30/50/60mg, d...  \n",
       "10319  Lamivudine/Nevirapine/Zidovudine 30/50/60mg, d...  \n",
       "10320  Lamivudine/Zidovudine 150/300mg, tablets, 60 Tabs  \n",
       "10321  Efavirenz/Lamivudine/Tenofovir Disoproxil Fuma...  \n",
       "10323  Lamivudine/Zidovudine 30/60mg, dispersible tab...  \n",
       "\n",
       "[3952 rows x 7 columns]"
      ]
     },
     "execution_count": 95,
     "metadata": {},
     "output_type": "execute_result"
    }
   ],
   "source": [
    "# Checking Weight column values\n",
    "filtered_df[filtered_df['Weight'].str.isnumeric() == False]"
   ]
  },
  {
   "cell_type": "markdown",
   "id": "a91580e3-54e8-46f8-b0ff-aa69bcbad77d",
   "metadata": {},
   "source": [
    "As you can see above the weight column has non-numeric values 'Weight Captured Separately', thus the values for these rows are not available. While values like 'See ASN-93 (ID#:1281)' can be found by mapping to that particular ID and getting the weight"
   ]
  },
  {
   "cell_type": "code",
   "execution_count": 96,
   "id": "1c4c2eb7-31cb-4093-af50-8be479f9aaec",
   "metadata": {},
   "outputs": [
    {
     "data": {
      "text/plain": [
       "Delivery_Date\n",
       "2006      6\n",
       "2007     28\n",
       "2008    233\n",
       "2009    262\n",
       "2010     67\n",
       "2011     56\n",
       "2012     33\n",
       "2013     80\n",
       "2014    386\n",
       "2015    356\n",
       "dtype: int64"
      ]
     },
     "execution_count": 96,
     "metadata": {},
     "output_type": "execute_result"
    }
   ],
   "source": [
    "# Counting the number of 'Weight Captured Separately' values in weight columns per year.\n",
    "\n",
    "filtered_df[(filtered_df['Weight'].str.isnumeric() == False) & (filtered_df['Weight'] == 'Weight Captured Separately')].groupby(by=filtered_df['Delivery_Date'].dt.year).size()"
   ]
  },
  {
   "cell_type": "markdown",
   "id": "28ad597c-b947-4a96-8e00-dfaceee53c68",
   "metadata": {},
   "source": [
    "Seeing that 2012 has least number of 'Weight Captured Separately' values and it has good number of data points i.e. 1250. We can consider it as our base year."
   ]
  },
  {
   "cell_type": "markdown",
   "id": "8e429f68-9191-429a-ac85-66d5093dee6a",
   "metadata": {},
   "source": [
    "# Data Cleaning"
   ]
  },
  {
   "cell_type": "markdown",
   "id": "0a584d30-1704-4529-9016-393b4bb7f73a",
   "metadata": {},
   "source": [
    "## Fixing Weight column"
   ]
  },
  {
   "cell_type": "code",
   "execution_count": 97,
   "id": "a9e076bf-8ad0-4f5e-b803-03222fcdd984",
   "metadata": {},
   "outputs": [],
   "source": [
    "# Filtering out 'Weight Captured Separately' rows from Final dataset\n",
    "final_df = filtered_df[(filtered_df['Delivery_Date'].dt.year == 2012) & (filtered_df['Weight'] != 'Weight Captured Separately')].copy()\n",
    "final_df.reset_index(inplace = True, drop = True)"
   ]
  },
  {
   "cell_type": "code",
   "execution_count": 98,
   "id": "4c9d3d99-fa50-4408-b4fa-45e709e99eec",
   "metadata": {},
   "outputs": [],
   "source": [
    "# Function to resolve \"See DN-2947 (ID#:83642)\" given in weight column and adding the weight\n",
    "\n",
    "def mapWeights(weight):\n",
    "    try:\n",
    "        if weight.isnumeric() == False:\n",
    "            ID = weight[-6:-1]\n",
    "            weight_returned = filtered_df[filtered_df['ID'] == int(ID)]['Weight'].iloc[0]\n",
    "            if weight_returned == 'Weight Captured Separately':\n",
    "                return None\n",
    "#             print(f'{ID} -- {weight_returned}')\n",
    "            return float(weight_returned)\n",
    "        return float(weight)\n",
    "    except Exception as e:\n",
    "        print(f'Error == {e} \\n {weight[-6:-1]} --- {filtered_df[filtered_df[\"ID\"] == int(weight[-6:-1])][\"Weight\"].iloc[0]}')"
   ]
  },
  {
   "cell_type": "code",
   "execution_count": 99,
   "id": "5c06a56a-be34-4622-b6b2-f43e1e309337",
   "metadata": {},
   "outputs": [],
   "source": [
    "weights = final_df['Weight'].apply(mapWeights)"
   ]
  },
  {
   "cell_type": "code",
   "execution_count": 100,
   "id": "20a5124d-78a6-482c-a70c-d917c3bfee5f",
   "metadata": {},
   "outputs": [],
   "source": [
    "final_df.loc[:,'Weight'] = weights"
   ]
  },
  {
   "cell_type": "code",
   "execution_count": 101,
   "id": "b7282222-74e7-4471-b6ba-37836675695b",
   "metadata": {},
   "outputs": [],
   "source": [
    "# Converting Weights from KG to Tonnes\n",
    "# 1 kilogram = 0.001 tonne\n",
    "\n",
    "final_df['Weight'] = final_df['Weight'] * 0.001"
   ]
  },
  {
   "cell_type": "code",
   "execution_count": 102,
   "id": "2e44807e-1f36-4518-bd33-2976c2dd138d",
   "metadata": {},
   "outputs": [
    {
     "data": {
      "text/html": [
       "<div>\n",
       "<style scoped>\n",
       "    .dataframe tbody tr th:only-of-type {\n",
       "        vertical-align: middle;\n",
       "    }\n",
       "\n",
       "    .dataframe tbody tr th {\n",
       "        vertical-align: top;\n",
       "    }\n",
       "\n",
       "    .dataframe thead th {\n",
       "        text-align: right;\n",
       "    }\n",
       "</style>\n",
       "<table border=\"1\" class=\"dataframe\">\n",
       "  <thead>\n",
       "    <tr style=\"text-align: right;\">\n",
       "      <th></th>\n",
       "      <th>ID</th>\n",
       "      <th>Country</th>\n",
       "      <th>Mode</th>\n",
       "      <th>Manufacturing_site</th>\n",
       "      <th>Weight</th>\n",
       "      <th>Delivery_Date</th>\n",
       "      <th>Item Description</th>\n",
       "    </tr>\n",
       "  </thead>\n",
       "  <tbody>\n",
       "    <tr>\n",
       "      <th>0</th>\n",
       "      <td>12973</td>\n",
       "      <td>Haiti</td>\n",
       "      <td>Air</td>\n",
       "      <td>Cipla, Goa, India</td>\n",
       "      <td>0.021</td>\n",
       "      <td>2012-06-12</td>\n",
       "      <td>Lamivudine/Nevirapine/Stavudine 30/50/6mg, dis...</td>\n",
       "    </tr>\n",
       "    <tr>\n",
       "      <th>1</th>\n",
       "      <td>13016</td>\n",
       "      <td>Burundi</td>\n",
       "      <td>Air</td>\n",
       "      <td>Chembio Diagnostics Sys. Inc.</td>\n",
       "      <td>0.034</td>\n",
       "      <td>2012-06-01</td>\n",
       "      <td>HIV 1/2, Stat-Pak Dipstick Assay Kit, 30 Tests</td>\n",
       "    </tr>\n",
       "    <tr>\n",
       "      <th>2</th>\n",
       "      <td>13020</td>\n",
       "      <td>Haiti</td>\n",
       "      <td>Air</td>\n",
       "      <td>Premier Medical Corporation</td>\n",
       "      <td>0.001</td>\n",
       "      <td>2012-01-30</td>\n",
       "      <td>Malaria Antigen P.f Kit, 30 x 1 Test</td>\n",
       "    </tr>\n",
       "    <tr>\n",
       "      <th>3</th>\n",
       "      <td>13311</td>\n",
       "      <td>C�te d'Ivoire</td>\n",
       "      <td>Air</td>\n",
       "      <td>Alere Medical Co., Ltd.</td>\n",
       "      <td>0.957</td>\n",
       "      <td>2012-03-29</td>\n",
       "      <td>HIV 1/2, Determine Complete HIV Kit, 100 Tests</td>\n",
       "    </tr>\n",
       "    <tr>\n",
       "      <th>4</th>\n",
       "      <td>13608</td>\n",
       "      <td>Uganda</td>\n",
       "      <td>Air</td>\n",
       "      <td>Janssen-Cilag, Latina, IT</td>\n",
       "      <td>0.043</td>\n",
       "      <td>2012-05-21</td>\n",
       "      <td>Etravirine 100mg [Intelence], tablets, 120 Tabs</td>\n",
       "    </tr>\n",
       "    <tr>\n",
       "      <th>...</th>\n",
       "      <td>...</td>\n",
       "      <td>...</td>\n",
       "      <td>...</td>\n",
       "      <td>...</td>\n",
       "      <td>...</td>\n",
       "      <td>...</td>\n",
       "      <td>...</td>\n",
       "    </tr>\n",
       "    <tr>\n",
       "      <th>1212</th>\n",
       "      <td>86529</td>\n",
       "      <td>Uganda</td>\n",
       "      <td>Truck</td>\n",
       "      <td>Hetero Unit III Hyderabad IN</td>\n",
       "      <td>0.001</td>\n",
       "      <td>2012-11-20</td>\n",
       "      <td>Zidovudine 300mg, tablets, 60 Tabs</td>\n",
       "    </tr>\n",
       "    <tr>\n",
       "      <th>1213</th>\n",
       "      <td>86530</td>\n",
       "      <td>Uganda</td>\n",
       "      <td>Air</td>\n",
       "      <td>Aurobindo Unit III, India</td>\n",
       "      <td>2.034</td>\n",
       "      <td>2012-11-28</td>\n",
       "      <td>Lopinavir/Ritonavir 200/50mg, tablets, 120 Tabs</td>\n",
       "    </tr>\n",
       "    <tr>\n",
       "      <th>1214</th>\n",
       "      <td>86532</td>\n",
       "      <td>Nigeria</td>\n",
       "      <td>Air</td>\n",
       "      <td>Mylan (formerly Matrix) Nashik</td>\n",
       "      <td>50.634</td>\n",
       "      <td>2012-12-04</td>\n",
       "      <td>Lamivudine/Nevirapine/Zidovudine 150/200/300mg...</td>\n",
       "    </tr>\n",
       "    <tr>\n",
       "      <th>1215</th>\n",
       "      <td>86533</td>\n",
       "      <td>C�te d'Ivoire</td>\n",
       "      <td>Truck</td>\n",
       "      <td>Mylan (formerly Matrix) Nashik</td>\n",
       "      <td>4.409</td>\n",
       "      <td>2012-12-06</td>\n",
       "      <td>Efavirenz/Lamivudine/Tenofovir Disoproxil Fuma...</td>\n",
       "    </tr>\n",
       "    <tr>\n",
       "      <th>1216</th>\n",
       "      <td>86540</td>\n",
       "      <td>Zimbabwe</td>\n",
       "      <td>Truck</td>\n",
       "      <td>Mylan (formerly Matrix) Nashik</td>\n",
       "      <td>5.754</td>\n",
       "      <td>2012-12-13</td>\n",
       "      <td>Efavirenz 600mg, tablets, 30 Tabs</td>\n",
       "    </tr>\n",
       "  </tbody>\n",
       "</table>\n",
       "<p>1217 rows × 7 columns</p>\n",
       "</div>"
      ],
      "text/plain": [
       "         ID        Country   Mode              Manufacturing_site  Weight  \\\n",
       "0     12973          Haiti    Air               Cipla, Goa, India   0.021   \n",
       "1     13016        Burundi    Air   Chembio Diagnostics Sys. Inc.   0.034   \n",
       "2     13020          Haiti    Air     Premier Medical Corporation   0.001   \n",
       "3     13311  C�te d'Ivoire    Air         Alere Medical Co., Ltd.   0.957   \n",
       "4     13608         Uganda    Air       Janssen-Cilag, Latina, IT   0.043   \n",
       "...     ...            ...    ...                             ...     ...   \n",
       "1212  86529         Uganda  Truck    Hetero Unit III Hyderabad IN   0.001   \n",
       "1213  86530         Uganda    Air       Aurobindo Unit III, India   2.034   \n",
       "1214  86532        Nigeria    Air  Mylan (formerly Matrix) Nashik  50.634   \n",
       "1215  86533  C�te d'Ivoire  Truck  Mylan (formerly Matrix) Nashik   4.409   \n",
       "1216  86540       Zimbabwe  Truck  Mylan (formerly Matrix) Nashik   5.754   \n",
       "\n",
       "     Delivery_Date                                   Item Description  \n",
       "0       2012-06-12  Lamivudine/Nevirapine/Stavudine 30/50/6mg, dis...  \n",
       "1       2012-06-01     HIV 1/2, Stat-Pak Dipstick Assay Kit, 30 Tests  \n",
       "2       2012-01-30               Malaria Antigen P.f Kit, 30 x 1 Test  \n",
       "3       2012-03-29     HIV 1/2, Determine Complete HIV Kit, 100 Tests  \n",
       "4       2012-05-21    Etravirine 100mg [Intelence], tablets, 120 Tabs  \n",
       "...            ...                                                ...  \n",
       "1212    2012-11-20                 Zidovudine 300mg, tablets, 60 Tabs  \n",
       "1213    2012-11-28    Lopinavir/Ritonavir 200/50mg, tablets, 120 Tabs  \n",
       "1214    2012-12-04  Lamivudine/Nevirapine/Zidovudine 150/200/300mg...  \n",
       "1215    2012-12-06  Efavirenz/Lamivudine/Tenofovir Disoproxil Fuma...  \n",
       "1216    2012-12-13                  Efavirenz 600mg, tablets, 30 Tabs  \n",
       "\n",
       "[1217 rows x 7 columns]"
      ]
     },
     "execution_count": 102,
     "metadata": {},
     "output_type": "execute_result"
    }
   ],
   "source": [
    "final_df"
   ]
  },
  {
   "cell_type": "markdown",
   "id": "688a2808-46b2-489b-83ff-474b69d3fc5a",
   "metadata": {},
   "source": [
    "## Getting Location coordinates of Source Location and Destination Location"
   ]
  },
  {
   "cell_type": "markdown",
   "id": "28616a30-058c-4991-a0ed-b1c5ef25fdbd",
   "metadata": {},
   "source": [
    "### If Mode of Transport is,\n",
    "1. Air and Truck, then we get the Airport coordinates of the Capital City of the Country given\n",
    "2. Ocean, then we get the coordinates of the main port of the country."
   ]
  }
 ],
 "metadata": {
  "kernelspec": {
   "display_name": "Python 3",
   "language": "python",
   "name": "python3"
  },
  "language_info": {
   "codemirror_mode": {
    "name": "ipython",
    "version": 3
   },
   "file_extension": ".py",
   "mimetype": "text/x-python",
   "name": "python",
   "nbconvert_exporter": "python",
   "pygments_lexer": "ipython3",
   "version": "3.8.8"
  }
 },
 "nbformat": 4,
 "nbformat_minor": 5
}
