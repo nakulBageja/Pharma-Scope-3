{
 "cells": [
  {
   "cell_type": "markdown",
   "id": "055de770-a459-457a-b07e-58c4989a0eca",
   "metadata": {},
   "source": [
    "# Finding scope 3 emissions of a Pharma company.\n",
    "- Scope 3 category is downstream transportation and distribution\n",
    "- Data taken from data.world\n",
    "- Distance-based methology will be used for calculations\n",
    "    - According to GHG \"If sub-contractor fuel data cannot be easily obtained in order to use the fuel-based method, then the distance-based method should be used.\""
   ]
  },
  {
   "cell_type": "markdown",
   "id": "2f59b11d-4b2a-460d-be02-4061d7dae8f1",
   "metadata": {},
   "source": [
    "# Data points required for calculations of scope 3\n",
    "1. Total distance in KM \n",
    "    - Coordinates of places\n",
    "2. Size of packages\n",
    "3. Mode of Transport\n",
    "4. Emission Factors\n",
    "5. Calculation formulaes\n",
    "    1. Emissions from road transport: = ∑ (mass of goods purchased (tonnes) × distance travelled in transport leg × emission factor of transport mode or vehicle type (kg CO2e/tonne-km)\n",
    "    2. emissions from air transport: = ∑ (quantity of goods purchased (tonnes) x distance travelled in transport leg x emission factor of transport mode or vehicle type (kg CO2e/tonne-km))\n",
    "    3. emissions from sea transport: = ∑ (quantity of goods purchased (tonnes) x distance travelled in transport leg x emission factor of transport mode or vehicle type (kg CO2e/tonne-km))"
   ]
  },
  {
   "cell_type": "markdown",
   "id": "7f885904-68b9-49be-9d37-3191d21b2b09",
   "metadata": {},
   "source": [
    "### Steps I took\n",
    "1. Searching for dataset\n",
    "2. Understanding the dataset and making calculative assumptions\n",
    "    - Assumptions made should have proper justification.\n",
    "3. Listing down the data points required for calculations\n",
    "4. Listing down the calculation formulaes\n",
    "5. Filtering out the data columns required from main data\n",
    "6. Exploratory Data Analysis\n",
    "7. Choosing a single year for calculations\n",
    "8. Data cleaning of Weight column and Mode column.\n",
    "9. Getting Source & Destination location coordinates\n",
    "    1. Got all airport and ports data to find the nearest transport location to the manufacturing site.\n",
    "    2. Since the datasets of airports and ports are big, I have first tried to find all the airports/ports in the country, if no port/airport is there in the country then we look at the whole continent.\n",
    "        1. If the mode of transport is Road then the source coordinates will be the manufacturing site. Thus number of modes of transport is 1\n",
    "        2. If the mode of transport is Air/Ocean then the number of modes of transport will be 2.\n",
    "            1. Firstly, the items will be transported by Road to the Airport/Port.\n",
    "            2. Secondly, the items will be transported by Plane/Ship to the destination location.\n",
    "            3. Thirdly, if the airport/port is located outside the country, the items will still be transported by Road from the manufacturing site\n",
    "        3. For some manufacturing site, the country or continent was not found. Thus it would be very expensive to run 40000 rows to find nearest port/airport. Can be optimized in next iteration of the project.\n",
    "    3. Merged the source location df and main df\n",
    "    4. To get the destination location coordinates, I have first found out the capital of the country given.\n",
    "    5. Then finding out the airports/ports near to the capital inside the country given.\n",
    "    6. If no port/airport is there in the country then we look at the whole continent, in this case there 2 modes of transport involved in reaching to the destination.\n",
    "        1. Firstly, we locate a port or airport outside of the main destination country.\n",
    "        2. Secondly, we find the coordinates of the capital where the items will be transported through road from the port/airport located outside the country."
   ]
  },
  {
   "cell_type": "markdown",
   "id": "40b463c6-8a67-496c-bc23-a48e2c822f07",
   "metadata": {},
   "source": [
    "## Data columns\n",
    "1. Country - Destination location\n",
    "2. Mode - Mode of transport (Air, Ocean, Road)\n",
    "3. Weight - Kilogram of weight\n",
    "4. Delivery Date - Date of delivery\n",
    "5. Manufacturing Site - Source location"
   ]
  },
  {
   "cell_type": "code",
   "execution_count": 1,
   "id": "a65c1b32-7ac8-4c23-a03b-27423a48e6d0",
   "metadata": {},
   "outputs": [],
   "source": [
    "# Import libraries\n",
    "import pandas as pd\n",
    "import numpy as np\n",
    "import geopandas as gpd\n",
    "\n",
    "# For point datatype of locations\n",
    "from shapely.geometry import Point\n",
    "# For geolocation\n",
    "from geopy.geocoders import ArcGIS\n",
    "# Importing the great_circle module for calculation of distance for air transport\n",
    "from geopy.distance import great_circle\n",
    "# For calculation of distance for road transport\n",
    "import openrouteservice\n",
    "# For calculation of distance for ocean transport\n",
    "import searoute as sr\n",
    "\n",
    "# For calculation of source location airport/port\n",
    "from math import radians, sin, cos, sqrt, atan2\n",
    "\n",
    "# Calculating the time\n",
    "import time\n",
    "\n",
    "# For converting country name to iso_2 codes\n",
    "import country_converter as coco"
   ]
  },
  {
   "cell_type": "code",
   "execution_count": 2,
   "id": "f4b59532-4b31-4090-98f7-8ce7cfcdbe1a",
   "metadata": {},
   "outputs": [],
   "source": [
    "# Collecting data\n",
    "raw_df = pd.read_csv(\"./Data/SCMS_Delivery_History_Dataset_20150929.csv\")"
   ]
  },
  {
   "cell_type": "code",
   "execution_count": 3,
   "id": "2a81abc2-ed76-47d2-b5ee-23406a84a713",
   "metadata": {},
   "outputs": [],
   "source": [
    "# Filtering out required columns from the main data.\n",
    "\n",
    "filtered_df = raw_df[['ID','Country','Shipment Mode','Manufacturing Site','Weight (Kilograms)','Delivery Recorded Date','Item Description']].copy()\n",
    "filtered_df.rename(columns={\"Shipment Mode\":\"Mode\",\"Weight (Kilograms)\":\"Weight\",\"Delivery Recorded Date\":\"Delivery_Date\",'Manufacturing Site':'Manufacturing_site','Country':'Destination_Country'},inplace=True)"
   ]
  },
  {
   "cell_type": "code",
   "execution_count": 4,
   "id": "335729fd-c141-4bed-b701-1c08e2b47eae",
   "metadata": {},
   "outputs": [
    {
     "name": "stderr",
     "output_type": "stream",
     "text": [
      "<ipython-input-4-31dbc8e272bb>:2: DeprecationWarning: In a future version, `df.iloc[:, i] = newvals` will attempt to set the values inplace instead of always setting a new array. To retain the old behavior, use either `df[df.columns[i]] = newvals` or, if columns are non-unique, `df.isetitem(i, newvals)`\n",
      "  filtered_df.loc[:,'Delivery_Date'] = pd.to_datetime(filtered_df['Delivery_Date'])\n"
     ]
    }
   ],
   "source": [
    "# Converting Delivery Date to datetime datatype\n",
    "filtered_df.loc[:,'Delivery_Date'] = pd.to_datetime(filtered_df['Delivery_Date'])"
   ]
  },
  {
   "cell_type": "markdown",
   "id": "13cdbab8-27fc-409e-8007-749c6b55ee4c",
   "metadata": {},
   "source": [
    "# Exploratory Data Analysis"
   ]
  },
  {
   "cell_type": "code",
   "execution_count": 5,
   "id": "0efa259b-cfc8-4075-a83f-d37d9ecbd1da",
   "metadata": {},
   "outputs": [
    {
     "data": {
      "text/plain": [
       "Delivery_Date\n",
       "2006      65\n",
       "2007     670\n",
       "2008    1109\n",
       "2009    1192\n",
       "2010    1176\n",
       "2011    1049\n",
       "2012    1250\n",
       "2013    1205\n",
       "2014    1599\n",
       "2015    1009\n",
       "Name: Delivery_Date, dtype: int64"
      ]
     },
     "execution_count": 5,
     "metadata": {},
     "output_type": "execute_result"
    }
   ],
   "source": [
    "# Checking total number of data points for each year\n",
    "filtered_df['Delivery_Date'].groupby(by=filtered_df['Delivery_Date'].dt.year).size()"
   ]
  },
  {
   "cell_type": "code",
   "execution_count": 6,
   "id": "296c29e1-1fd6-48e7-b90b-098242e388ae",
   "metadata": {},
   "outputs": [
    {
     "data": {
      "text/plain": [
       "ID                       0\n",
       "Destination_Country      0\n",
       "Mode                   360\n",
       "Manufacturing_site       0\n",
       "Weight                   0\n",
       "Delivery_Date            0\n",
       "Item Description         0\n",
       "dtype: int64"
      ]
     },
     "execution_count": 6,
     "metadata": {},
     "output_type": "execute_result"
    }
   ],
   "source": [
    "# Check for null values\n",
    "filtered_df.isna().sum()"
   ]
  },
  {
   "cell_type": "markdown",
   "id": "643d2fdb-954e-4c2a-a36d-f1c796823a18",
   "metadata": {},
   "source": [
    "Null values found in the mode of transport. "
   ]
  },
  {
   "cell_type": "code",
   "execution_count": 7,
   "id": "403ddfa9-ff8f-4f57-bac9-34867916bce4",
   "metadata": {},
   "outputs": [
    {
     "data": {
      "text/plain": [
       "Delivery_Date\n",
       "2006      2\n",
       "2007    264\n",
       "2008     94\n",
       "dtype: int64"
      ]
     },
     "execution_count": 7,
     "metadata": {},
     "output_type": "execute_result"
    }
   ],
   "source": [
    "# Checking Mode column's null values\n",
    "\n",
    "# filtered_df[filtered_df['Mode'].isna()]\n",
    "\n",
    "# Counting the number of null values per year\n",
    "filtered_df[filtered_df['Mode'].isna()].groupby(by=filtered_df['Delivery_Date'].dt.year).size()"
   ]
  },
  {
   "cell_type": "markdown",
   "id": "9d51a8b1-8340-4797-a0df-20bc81c858b4",
   "metadata": {},
   "source": [
    "Since mode of transport is not available for these years (2006,2007,2008) I will not consider these years for our base year.\n",
    "Even though year 2006 has only 2 NaN rows for Mode, the number of data points are only 65. Thus not enough to consider as base year as compared to other years."
   ]
  },
  {
   "cell_type": "code",
   "execution_count": 8,
   "id": "7c7d5064-a178-4146-9139-d4beb59db43a",
   "metadata": {
    "tags": []
   },
   "outputs": [
    {
     "data": {
      "text/html": [
       "<div>\n",
       "<style scoped>\n",
       "    .dataframe tbody tr th:only-of-type {\n",
       "        vertical-align: middle;\n",
       "    }\n",
       "\n",
       "    .dataframe tbody tr th {\n",
       "        vertical-align: top;\n",
       "    }\n",
       "\n",
       "    .dataframe thead th {\n",
       "        text-align: right;\n",
       "    }\n",
       "</style>\n",
       "<table border=\"1\" class=\"dataframe\">\n",
       "  <thead>\n",
       "    <tr style=\"text-align: right;\">\n",
       "      <th></th>\n",
       "      <th>ID</th>\n",
       "      <th>Destination_Country</th>\n",
       "      <th>Mode</th>\n",
       "      <th>Manufacturing_site</th>\n",
       "      <th>Weight</th>\n",
       "      <th>Delivery_Date</th>\n",
       "      <th>Item Description</th>\n",
       "    </tr>\n",
       "  </thead>\n",
       "  <tbody>\n",
       "    <tr>\n",
       "      <th>8</th>\n",
       "      <td>46</td>\n",
       "      <td>Nigeria</td>\n",
       "      <td>Air</td>\n",
       "      <td>Aurobindo Unit III, India</td>\n",
       "      <td>See ASN-93 (ID#:1281)</td>\n",
       "      <td>2006-12-07</td>\n",
       "      <td>Stavudine 30mg, capsules, 60 Caps</td>\n",
       "    </tr>\n",
       "    <tr>\n",
       "      <th>12</th>\n",
       "      <td>62</td>\n",
       "      <td>Nigeria</td>\n",
       "      <td>Air</td>\n",
       "      <td>EY Laboratories, USA</td>\n",
       "      <td>Weight Captured Separately</td>\n",
       "      <td>2007-01-10</td>\n",
       "      <td>HIV 1/2, InstantChek HIV 1+2 Kit, 100 Tests</td>\n",
       "    </tr>\n",
       "    <tr>\n",
       "      <th>15</th>\n",
       "      <td>68</td>\n",
       "      <td>Zimbabwe</td>\n",
       "      <td>Air</td>\n",
       "      <td>BMS Meymac, France</td>\n",
       "      <td>Weight Captured Separately</td>\n",
       "      <td>2007-03-19</td>\n",
       "      <td>#102198**Didanosine 200mg [Videx], tablets, 60...</td>\n",
       "    </tr>\n",
       "    <tr>\n",
       "      <th>16</th>\n",
       "      <td>69</td>\n",
       "      <td>Nigeria</td>\n",
       "      <td>NaN</td>\n",
       "      <td>ABBVIE GmbH &amp; Co.KG Wiesbaden</td>\n",
       "      <td>Weight Captured Separately</td>\n",
       "      <td>2007-05-07</td>\n",
       "      <td>HIV 1/2, Determine Complete HIV Kit, 100 Tests</td>\n",
       "    </tr>\n",
       "    <tr>\n",
       "      <th>31</th>\n",
       "      <td>262</td>\n",
       "      <td>South Africa</td>\n",
       "      <td>NaN</td>\n",
       "      <td>GSK Mississauga (Canada)</td>\n",
       "      <td>Weight Captured Separately</td>\n",
       "      <td>2008-01-29</td>\n",
       "      <td>Zidovudine 10mg/ml [Retrovir], oral solution, ...</td>\n",
       "    </tr>\n",
       "    <tr>\n",
       "      <th>...</th>\n",
       "      <td>...</td>\n",
       "      <td>...</td>\n",
       "      <td>...</td>\n",
       "      <td>...</td>\n",
       "      <td>...</td>\n",
       "      <td>...</td>\n",
       "      <td>...</td>\n",
       "    </tr>\n",
       "    <tr>\n",
       "      <th>10318</th>\n",
       "      <td>86817</td>\n",
       "      <td>Zimbabwe</td>\n",
       "      <td>Truck</td>\n",
       "      <td>Cipla, Goa, India</td>\n",
       "      <td>See DN-4307 (ID#:83920)</td>\n",
       "      <td>2015-07-20</td>\n",
       "      <td>Lamivudine/Nevirapine/Zidovudine 30/50/60mg, d...</td>\n",
       "    </tr>\n",
       "    <tr>\n",
       "      <th>10319</th>\n",
       "      <td>86818</td>\n",
       "      <td>Zimbabwe</td>\n",
       "      <td>Truck</td>\n",
       "      <td>Mylan,  H-12 &amp; H-13, India</td>\n",
       "      <td>See DN-4307 (ID#:83920)</td>\n",
       "      <td>2015-07-20</td>\n",
       "      <td>Lamivudine/Nevirapine/Zidovudine 30/50/60mg, d...</td>\n",
       "    </tr>\n",
       "    <tr>\n",
       "      <th>10320</th>\n",
       "      <td>86819</td>\n",
       "      <td>Côte d'Ivoire</td>\n",
       "      <td>Truck</td>\n",
       "      <td>Hetero Unit III Hyderabad IN</td>\n",
       "      <td>See DN-4313 (ID#:83921)</td>\n",
       "      <td>2015-08-07</td>\n",
       "      <td>Lamivudine/Zidovudine 150/300mg, tablets, 60 Tabs</td>\n",
       "    </tr>\n",
       "    <tr>\n",
       "      <th>10321</th>\n",
       "      <td>86821</td>\n",
       "      <td>Zambia</td>\n",
       "      <td>Truck</td>\n",
       "      <td>Cipla Ltd A-42 MIDC Mahar. IN</td>\n",
       "      <td>Weight Captured Separately</td>\n",
       "      <td>2015-09-03</td>\n",
       "      <td>Efavirenz/Lamivudine/Tenofovir Disoproxil Fuma...</td>\n",
       "    </tr>\n",
       "    <tr>\n",
       "      <th>10323</th>\n",
       "      <td>86823</td>\n",
       "      <td>Zimbabwe</td>\n",
       "      <td>Truck</td>\n",
       "      <td>Cipla, Goa, India</td>\n",
       "      <td>Weight Captured Separately</td>\n",
       "      <td>2015-08-11</td>\n",
       "      <td>Lamivudine/Zidovudine 30/60mg, dispersible tab...</td>\n",
       "    </tr>\n",
       "  </tbody>\n",
       "</table>\n",
       "<p>3952 rows × 7 columns</p>\n",
       "</div>"
      ],
      "text/plain": [
       "          ID Destination_Country   Mode             Manufacturing_site  \\\n",
       "8         46             Nigeria    Air      Aurobindo Unit III, India   \n",
       "12        62             Nigeria    Air           EY Laboratories, USA   \n",
       "15        68            Zimbabwe    Air             BMS Meymac, France   \n",
       "16        69             Nigeria    NaN  ABBVIE GmbH & Co.KG Wiesbaden   \n",
       "31       262        South Africa    NaN       GSK Mississauga (Canada)   \n",
       "...      ...                 ...    ...                            ...   \n",
       "10318  86817            Zimbabwe  Truck              Cipla, Goa, India   \n",
       "10319  86818            Zimbabwe  Truck     Mylan,  H-12 & H-13, India   \n",
       "10320  86819       Côte d'Ivoire  Truck   Hetero Unit III Hyderabad IN   \n",
       "10321  86821              Zambia  Truck  Cipla Ltd A-42 MIDC Mahar. IN   \n",
       "10323  86823            Zimbabwe  Truck              Cipla, Goa, India   \n",
       "\n",
       "                           Weight Delivery_Date  \\\n",
       "8           See ASN-93 (ID#:1281)    2006-12-07   \n",
       "12     Weight Captured Separately    2007-01-10   \n",
       "15     Weight Captured Separately    2007-03-19   \n",
       "16     Weight Captured Separately    2007-05-07   \n",
       "31     Weight Captured Separately    2008-01-29   \n",
       "...                           ...           ...   \n",
       "10318     See DN-4307 (ID#:83920)    2015-07-20   \n",
       "10319     See DN-4307 (ID#:83920)    2015-07-20   \n",
       "10320     See DN-4313 (ID#:83921)    2015-08-07   \n",
       "10321  Weight Captured Separately    2015-09-03   \n",
       "10323  Weight Captured Separately    2015-08-11   \n",
       "\n",
       "                                        Item Description  \n",
       "8                      Stavudine 30mg, capsules, 60 Caps  \n",
       "12           HIV 1/2, InstantChek HIV 1+2 Kit, 100 Tests  \n",
       "15     #102198**Didanosine 200mg [Videx], tablets, 60...  \n",
       "16        HIV 1/2, Determine Complete HIV Kit, 100 Tests  \n",
       "31     Zidovudine 10mg/ml [Retrovir], oral solution, ...  \n",
       "...                                                  ...  \n",
       "10318  Lamivudine/Nevirapine/Zidovudine 30/50/60mg, d...  \n",
       "10319  Lamivudine/Nevirapine/Zidovudine 30/50/60mg, d...  \n",
       "10320  Lamivudine/Zidovudine 150/300mg, tablets, 60 Tabs  \n",
       "10321  Efavirenz/Lamivudine/Tenofovir Disoproxil Fuma...  \n",
       "10323  Lamivudine/Zidovudine 30/60mg, dispersible tab...  \n",
       "\n",
       "[3952 rows x 7 columns]"
      ]
     },
     "execution_count": 8,
     "metadata": {},
     "output_type": "execute_result"
    }
   ],
   "source": [
    "# Checking Weight column values\n",
    "filtered_df[filtered_df['Weight'].str.isnumeric() == False]"
   ]
  },
  {
   "cell_type": "markdown",
   "id": "a91580e3-54e8-46f8-b0ff-aa69bcbad77d",
   "metadata": {},
   "source": [
    "As you can see above the weight column has non-numeric values 'Weight Captured Separately', thus the values for these rows are not available. While values like 'See ASN-93 (ID#:1281)' can be found by mapping to that particular ID and getting the weight"
   ]
  },
  {
   "cell_type": "code",
   "execution_count": 9,
   "id": "1c4c2eb7-31cb-4093-af50-8be479f9aaec",
   "metadata": {},
   "outputs": [
    {
     "data": {
      "text/plain": [
       "Delivery_Date\n",
       "2006      6\n",
       "2007     28\n",
       "2008    233\n",
       "2009    262\n",
       "2010     67\n",
       "2011     56\n",
       "2012     33\n",
       "2013     80\n",
       "2014    386\n",
       "2015    356\n",
       "dtype: int64"
      ]
     },
     "execution_count": 9,
     "metadata": {},
     "output_type": "execute_result"
    }
   ],
   "source": [
    "# Counting the number of 'Weight Captured Separately' values in weight columns per year.\n",
    "\n",
    "filtered_df[(filtered_df['Weight'].str.isnumeric() == False) & (filtered_df['Weight'] == 'Weight Captured Separately')].groupby(by=filtered_df['Delivery_Date'].dt.year).size()"
   ]
  },
  {
   "cell_type": "markdown",
   "id": "28ad597c-b947-4a96-8e00-dfaceee53c68",
   "metadata": {},
   "source": [
    "Seeing that 2012 has least number of 'Weight Captured Separately' values and it has good number of data points i.e. 1250. We can consider it as our base year."
   ]
  },
  {
   "cell_type": "markdown",
   "id": "8e429f68-9191-429a-ac85-66d5093dee6a",
   "metadata": {},
   "source": [
    "# Data Cleaning"
   ]
  },
  {
   "cell_type": "markdown",
   "id": "0a584d30-1704-4529-9016-393b4bb7f73a",
   "metadata": {},
   "source": [
    "## Fixing Weight column"
   ]
  },
  {
   "cell_type": "code",
   "execution_count": 10,
   "id": "a9e076bf-8ad0-4f5e-b803-03222fcdd984",
   "metadata": {},
   "outputs": [],
   "source": [
    "# Filtering out 'Weight Captured Separately' rows from Final dataset\n",
    "final_df = filtered_df[(filtered_df['Delivery_Date'].dt.year == 2012) & (filtered_df['Weight'] != 'Weight Captured Separately')].copy()\n",
    "final_df.reset_index(inplace = True, drop = True)"
   ]
  },
  {
   "cell_type": "code",
   "execution_count": 11,
   "id": "4c9d3d99-fa50-4408-b4fa-45e709e99eec",
   "metadata": {},
   "outputs": [],
   "source": [
    "# Function to resolve \"See DN-2947 (ID#:83642)\" given in weight column and adding the weight\n",
    "\n",
    "def mapWeights(weight):\n",
    "    try:\n",
    "        if weight.isnumeric() == False:\n",
    "            ID = weight[-6:-1]\n",
    "            weight_returned = filtered_df[filtered_df['ID'] == int(ID)]['Weight'].iloc[0]\n",
    "            if weight_returned == 'Weight Captured Separately':\n",
    "                return None\n",
    "#             print(f'{ID} -- {weight_returned}')\n",
    "            return float(weight_returned)\n",
    "        return float(weight)\n",
    "    except Exception as e:\n",
    "        print(f'Error == {e} \\n {weight[-6:-1]} --- {filtered_df[filtered_df[\"ID\"] == int(weight[-6:-1])][\"Weight\"].iloc[0]}')"
   ]
  },
  {
   "cell_type": "code",
   "execution_count": 12,
   "id": "5c06a56a-be34-4622-b6b2-f43e1e309337",
   "metadata": {},
   "outputs": [],
   "source": [
    "weights = final_df['Weight'].apply(mapWeights)"
   ]
  },
  {
   "cell_type": "code",
   "execution_count": 13,
   "id": "20a5124d-78a6-482c-a70c-d917c3bfee5f",
   "metadata": {},
   "outputs": [
    {
     "name": "stderr",
     "output_type": "stream",
     "text": [
      "<ipython-input-13-eeaaac4ada69>:2: DeprecationWarning: In a future version, `df.iloc[:, i] = newvals` will attempt to set the values inplace instead of always setting a new array. To retain the old behavior, use either `df[df.columns[i]] = newvals` or, if columns are non-unique, `df.isetitem(i, newvals)`\n",
      "  final_df.loc[:,'Weight'] = weights\n"
     ]
    }
   ],
   "source": [
    "# Adding weights list to the df\n",
    "final_df.loc[:,'Weight'] = weights"
   ]
  },
  {
   "cell_type": "code",
   "execution_count": 14,
   "id": "3b53a368-66fc-4f9d-bd7e-8812b2dfb3fd",
   "metadata": {},
   "outputs": [],
   "source": [
    "# Removing None value rows for weight\n",
    "\n",
    "final_df = final_df[final_df['Weight'].isna() == False]"
   ]
  },
  {
   "cell_type": "code",
   "execution_count": 15,
   "id": "b7282222-74e7-4471-b6ba-37836675695b",
   "metadata": {},
   "outputs": [],
   "source": [
    "# Converting Weights from KG to Tonnes\n",
    "# 1 kilogram = 0.001 tonne\n",
    "\n",
    "final_df['Weight'] = final_df['Weight'] * 0.001"
   ]
  },
  {
   "cell_type": "markdown",
   "id": "3717efb0-2a5a-4eb3-9d4a-a9409275eea4",
   "metadata": {},
   "source": [
    "## Fixing Mode column"
   ]
  },
  {
   "cell_type": "code",
   "execution_count": 16,
   "id": "b747f7c1-4333-4b4c-adc8-e638c44ad674",
   "metadata": {},
   "outputs": [
    {
     "data": {
      "text/plain": [
       "array(['Air', 'Ocean', 'Truck', 'Air Charter'], dtype=object)"
      ]
     },
     "execution_count": 16,
     "metadata": {},
     "output_type": "execute_result"
    }
   ],
   "source": [
    "final_df['Mode'].unique()"
   ]
  },
  {
   "cell_type": "markdown",
   "id": "35f6be7c-25c2-4630-8400-7f87dbc6eac4",
   "metadata": {},
   "source": [
    "As you can see we have air charter as the 4th Mode of transport. We can combine that with Air transport and convert truck to Road"
   ]
  },
  {
   "cell_type": "code",
   "execution_count": 17,
   "id": "4911496b-3b08-4563-bb02-7db9bdeebef6",
   "metadata": {},
   "outputs": [],
   "source": [
    "final_df.loc[final_df['Mode'] == 'Air Charter','Mode'] = 'Air'\n",
    "final_df.loc[final_df['Mode'] == 'Truck','Mode'] = 'Road'"
   ]
  },
  {
   "cell_type": "markdown",
   "id": "688a2808-46b2-489b-83ff-474b69d3fc5a",
   "metadata": {},
   "source": [
    "## Getting Location coordinates of Source Location and Destination Location"
   ]
  },
  {
   "cell_type": "markdown",
   "id": "38316b77-db0f-423a-9794-a42fcd72bded",
   "metadata": {},
   "source": [
    "## To-Do\n",
    "1. Source \n",
    "- If the mode of transport is \n",
    "        1. Air and Ocean, then we get the Airport/Port coordinates of the nearest Airport/Port to the manufacturing site.\n",
    "        2. Road, then we get the coordinates of the manufacturing site.\n",
    "2. Destination\n",
    "- If the mode of transport is \n",
    "        1. Air and Road, then we get the nearest Airport coordinates to the Capital City of the Country given.\n",
    "        2. Ocean, then we get the coordinates of the port nearest to the capital city of the country given."
   ]
  },
  {
   "cell_type": "code",
   "execution_count": 18,
   "id": "f20792be-9895-424e-ae4d-a06fabbfcb03",
   "metadata": {},
   "outputs": [],
   "source": [
    "# Read airports data\n",
    "raw_airport_df = pd.read_csv('Data/airports.csv')\n",
    "# Read ports data\n",
    "raw_ports_df = gpd.read_file('Data/attributed_ports.geojson')"
   ]
  },
  {
   "cell_type": "code",
   "execution_count": 19,
   "id": "d23a97f4-250a-4882-938e-47650e092b14",
   "metadata": {},
   "outputs": [],
   "source": [
    "# Data cleaning for airports and ports data\n",
    "df = raw_airport_df[['type','latitude_deg','longitude_deg','name','iso_country','municipality']]\n",
    "final_airport_df = df[df['type'].str.lower().str.contains('airport')].copy()\n",
    "final_airport_df['continent'] = coco.convert(final_airport_df['iso_country'],src='ISO2',to = 'continent', not_found=None)\n",
    "\n",
    "final_ports_df = raw_ports_df[['Country','Name','geometry']].copy()\n",
    "final_ports_df['latitude_deg'] = final_ports_df.geometry.apply(lambda p: p.y)\n",
    "final_ports_df['longitude_deg'] = final_ports_df.geometry.apply(lambda p: p.x)\n",
    "final_ports_df.drop(['geometry'], axis=1,inplace=True)\n",
    "final_ports_df['iso_country'] = coco.convert(final_ports_df['Country'],to='ISO2', not_found=None)\n",
    "final_ports_df['continent'] = coco.convert(final_ports_df['iso_country'],src='ISO2',to = 'continent', not_found=None)"
   ]
  },
  {
   "cell_type": "markdown",
   "id": "ae0ffd5f-35f4-4f45-a96f-8ce11b2a5c09",
   "metadata": {},
   "source": [
    "### Finding source location coordinates"
   ]
  },
  {
   "cell_type": "markdown",
   "id": "9a847b5c-fa67-4bb5-808e-9aa0469476c7",
   "metadata": {},
   "source": [
    "Getting all manufacturing_site and mode of transport from the main df"
   ]
  },
  {
   "cell_type": "code",
   "execution_count": 20,
   "id": "ec63a8ab-112d-44a9-ac69-fc46d8083aa4",
   "metadata": {},
   "outputs": [],
   "source": [
    "source_df = final_df[['Manufacturing_site','Mode']].copy()"
   ]
  },
  {
   "cell_type": "markdown",
   "id": "b96ccd12-5b72-4f81-b6b3-88f1021024da",
   "metadata": {},
   "source": [
    "Dropping duplicates"
   ]
  },
  {
   "cell_type": "code",
   "execution_count": 21,
   "id": "1bda2114-0e1e-4a7c-8ca9-dea44a073831",
   "metadata": {},
   "outputs": [],
   "source": [
    "source_df.drop_duplicates(inplace=True)"
   ]
  },
  {
   "cell_type": "code",
   "execution_count": 22,
   "id": "c993683d-3e9d-4d10-8d13-03aeeceb888a",
   "metadata": {},
   "outputs": [],
   "source": [
    "# Initialising geolocation object\n",
    "nom = ArcGIS()\n",
    "cc = coco.CountryConverter()\n",
    "# Creating geopandas DF to append Source location\n",
    "data = {'Manufacturing_site':[],'source':[],'departure':[],'source_mode':[],'departure_mode':[],'src_num_transport':[]}\n",
    "source_locations =  gpd.GeoDataFrame(data)"
   ]
  },
  {
   "cell_type": "code",
   "execution_count": 23,
   "id": "fbebd2b7-9acd-4bac-a4df-1d47415451a8",
   "metadata": {
    "tags": []
   },
   "outputs": [],
   "source": [
    "# Functions to get the distance in KM\n",
    "def distance(lat1, lon1, lat2, lon2):\n",
    "    # Calculate the distance between two coordinates using the haversine formula\n",
    "    \"\"\"\n",
    "    Calculate the great circle distance between two points\n",
    "    on the earth (specified in decimal degrees)\n",
    "\n",
    "    All args must be of equal length.    \n",
    "\n",
    "    \"\"\"\n",
    "    lon1, lat1, lon2, lat2 = map(np.radians, [lon1, lat1, lon2, lat2])\n",
    "\n",
    "    dlon = lon2 - lon1\n",
    "    dlat = lat2 - lat1\n",
    "\n",
    "    a = np.sin(dlat/2.0)**2 + np.cos(lat1) * np.cos(lat2) * np.sin(dlon/2.0)**2\n",
    "\n",
    "    c = 2 * np.arcsin(np.sqrt(a))\n",
    "    km = 6367 * c\n",
    "    return km"
   ]
  },
  {
   "cell_type": "code",
   "execution_count": 24,
   "id": "c8c182c4-a5ef-472a-8885-fc63cbc1c2a7",
   "metadata": {},
   "outputs": [],
   "source": [
    "\"\"\"\n",
    "Function to find the minimum distance.\n",
    "\"\"\"\n",
    "def minDistance(transport_df,location,iso2_country,continent):\n",
    "    min_distance = float('inf')\n",
    "    min_latitude = float('inf')\n",
    "    min_longitude = float('inf')\n",
    "    \n",
    "    \"\"\"\n",
    "    Getting all airports/ports lying inside the country. If no airports/ports are found inside the country then, \n",
    "    we check for all the airport/ports in the continent.\n",
    "    \"\"\"\n",
    "    transport_df_country = transport_df[transport_df['iso_country'] == iso2_country]\n",
    "    if len(transport_df_country) == 0:\n",
    "        transport_df_country = transport_df[transport_df['continent'] == continent]\n",
    "        print('Looking at continent now', len(transport_df_country))\n",
    "\n",
    "    for index,row in transport_df_country.iterrows():\n",
    "        dist = distance(location.latitude, location.longitude, row['latitude_deg'],row['longitude_deg'])\n",
    "        if dist <= min_distance:\n",
    "            min_distance = dist\n",
    "            min_latitude = row['latitude_deg']\n",
    "            min_longitude = row['longitude_deg']\n",
    "\n",
    "    return min_latitude,min_longitude"
   ]
  },
  {
   "cell_type": "code",
   "execution_count": 25,
   "id": "cb4d3db2-409f-4366-8f11-9cf2d0e47aa2",
   "metadata": {
    "tags": []
   },
   "outputs": [],
   "source": [
    "# Function to get the coordinates of the location\n",
    "# Now that we have location of the manufacturing site coordinates. We need to get the Airport/Port location from which the item was transported\n",
    "def getSourceLocation(data):\n",
    "    place = data['Manufacturing_site']\n",
    "    departure_mode = data['Mode']\n",
    "    try:\n",
    "        number_of_transport = 1\n",
    "        location = nom.geocode(place)\n",
    "        min_latitude = location.latitude\n",
    "        min_longitude = location.longitude\n",
    "        country = nom.reverse(str(location.latitude) + ',' + str(location.longitude)).address.split(',')[-1].replace(\" \", \"\")\n",
    "        source_mode = 'Road'\n",
    "        \n",
    "        # Getting iso_2 code for the country\n",
    "        iso2_country = cc.convert(country, to='ISO2',not_found=None)\n",
    "        continent = cc.convert(iso2_country,src='ISO2',to = 'continent', not_found=None)\n",
    "        \n",
    "        # Now that we have location of the manufacturing site. We need to get the Airport/Port location from which the item was transported\n",
    "        if departure_mode == 'Air':\n",
    "            number_of_transport = number_of_transport + 1\n",
    "            min_latitude,min_longitude= minDistance(final_airport_df,location,iso2_country,continent)\n",
    "        elif departure_mode == 'Ocean':\n",
    "            number_of_transport = number_of_transport + 1\n",
    "            min_latitude,min_longitude = minDistance(final_ports_df,location,iso2_country,continent)\n",
    "            \n",
    "        source_locations.loc[len(source_locations.index)] = [place,Point(location.latitude,location.longitude),Point(min_latitude,min_longitude),source_mode,departure_mode,number_of_transport]\n",
    "        \n",
    "    except Exception as e:\n",
    "        print(e, place)\n",
    "        source_locations.loc[len(source_locations.index)] = [place,None,None,None,departure_mode,number_of_transport]"
   ]
  },
  {
   "cell_type": "code",
   "execution_count": 26,
   "id": "af93d4cf-cb3c-4b87-8b39-51f9ea94678c",
   "metadata": {
    "tags": []
   },
   "outputs": [
    {
     "name": "stderr",
     "output_type": "stream",
     "text": [
      "D:\\Anaconda\\lib\\site-packages\\pandas\\core\\dtypes\\cast.py:1951: ShapelyDeprecationWarning: The array interface is deprecated and will no longer work in Shapely 2.0. Convert the '.coords' to a numpy array instead.\n",
      "  tipo = _maybe_infer_dtype_type(element)\n",
      "D:\\Anaconda\\lib\\site-packages\\pandas\\core\\dtypes\\cast.py:948: VisibleDeprecationWarning: Creating an ndarray from ragged nested sequences (which is a list-or-tuple of lists-or-tuples-or ndarrays with different lengths or shapes) is deprecated. If you meant to do this, you must specify 'dtype=object' when creating the ndarray.\n",
      "  element = np.asarray(element)\n",
      "D:\\Anaconda\\lib\\site-packages\\pandas\\core\\dtypes\\cast.py:127: ShapelyDeprecationWarning: The array interface is deprecated and will no longer work in Shapely 2.0. Convert the '.coords' to a numpy array instead.\n",
      "  arr = construct_1d_object_array_from_listlike(values)\n",
      "D:\\Anaconda\\lib\\site-packages\\pandas\\core\\dtypes\\cast.py:127: ShapelyDeprecationWarning: The array interface is deprecated and will no longer work in Shapely 2.0. Convert the '.coords' to a numpy array instead.\n",
      "  arr = construct_1d_object_array_from_listlike(values)\n",
      "D:\\Anaconda\\lib\\site-packages\\pandas\\core\\dtypes\\cast.py:127: ShapelyDeprecationWarning: The array interface is deprecated and will no longer work in Shapely 2.0. Convert the '.coords' to a numpy array instead.\n",
      "  arr = construct_1d_object_array_from_listlike(values)\n",
      "D:\\Anaconda\\lib\\site-packages\\pandas\\core\\dtypes\\cast.py:127: ShapelyDeprecationWarning: The array interface is deprecated and will no longer work in Shapely 2.0. Convert the '.coords' to a numpy array instead.\n",
      "  arr = construct_1d_object_array_from_listlike(values)\n",
      "D:\\Anaconda\\lib\\site-packages\\pandas\\core\\dtypes\\cast.py:127: ShapelyDeprecationWarning: The array interface is deprecated and will no longer work in Shapely 2.0. Convert the '.coords' to a numpy array instead.\n",
      "  arr = construct_1d_object_array_from_listlike(values)\n",
      "D:\\Anaconda\\lib\\site-packages\\pandas\\core\\dtypes\\cast.py:127: ShapelyDeprecationWarning: The array interface is deprecated and will no longer work in Shapely 2.0. Convert the '.coords' to a numpy array instead.\n",
      "  arr = construct_1d_object_array_from_listlike(values)\n",
      "D:\\Anaconda\\lib\\site-packages\\pandas\\core\\dtypes\\cast.py:127: ShapelyDeprecationWarning: The array interface is deprecated and will no longer work in Shapely 2.0. Convert the '.coords' to a numpy array instead.\n",
      "  arr = construct_1d_object_array_from_listlike(values)\n",
      "D:\\Anaconda\\lib\\site-packages\\pandas\\core\\dtypes\\cast.py:127: ShapelyDeprecationWarning: The array interface is deprecated and will no longer work in Shapely 2.0. Convert the '.coords' to a numpy array instead.\n",
      "  arr = construct_1d_object_array_from_listlike(values)\n",
      "D:\\Anaconda\\lib\\site-packages\\pandas\\core\\dtypes\\cast.py:127: ShapelyDeprecationWarning: The array interface is deprecated and will no longer work in Shapely 2.0. Convert the '.coords' to a numpy array instead.\n",
      "  arr = construct_1d_object_array_from_listlike(values)\n",
      "D:\\Anaconda\\lib\\site-packages\\pandas\\core\\dtypes\\cast.py:127: ShapelyDeprecationWarning: The array interface is deprecated and will no longer work in Shapely 2.0. Convert the '.coords' to a numpy array instead.\n",
      "  arr = construct_1d_object_array_from_listlike(values)\n",
      "D:\\Anaconda\\lib\\site-packages\\pandas\\core\\dtypes\\cast.py:127: ShapelyDeprecationWarning: The array interface is deprecated and will no longer work in Shapely 2.0. Convert the '.coords' to a numpy array instead.\n",
      "  arr = construct_1d_object_array_from_listlike(values)\n",
      "D:\\Anaconda\\lib\\site-packages\\pandas\\core\\dtypes\\cast.py:127: ShapelyDeprecationWarning: The array interface is deprecated and will no longer work in Shapely 2.0. Convert the '.coords' to a numpy array instead.\n",
      "  arr = construct_1d_object_array_from_listlike(values)\n",
      "D:\\Anaconda\\lib\\site-packages\\pandas\\core\\dtypes\\cast.py:127: ShapelyDeprecationWarning: The array interface is deprecated and will no longer work in Shapely 2.0. Convert the '.coords' to a numpy array instead.\n",
      "  arr = construct_1d_object_array_from_listlike(values)\n",
      "2643 not found in ISOnumeric\n",
      "2643 not found in ISO2\n",
      "D:\\Anaconda\\lib\\site-packages\\pandas\\core\\dtypes\\cast.py:127: ShapelyDeprecationWarning: The array interface is deprecated and will no longer work in Shapely 2.0. Convert the '.coords' to a numpy array instead.\n",
      "  arr = construct_1d_object_array_from_listlike(values)\n"
     ]
    },
    {
     "name": "stdout",
     "output_type": "stream",
     "text": [
      "Looking at continent now 0\n"
     ]
    },
    {
     "name": "stderr",
     "output_type": "stream",
     "text": [
      "D:\\Anaconda\\lib\\site-packages\\pandas\\core\\dtypes\\cast.py:127: ShapelyDeprecationWarning: The array interface is deprecated and will no longer work in Shapely 2.0. Convert the '.coords' to a numpy array instead.\n",
      "  arr = construct_1d_object_array_from_listlike(values)\n",
      "D:\\Anaconda\\lib\\site-packages\\pandas\\core\\dtypes\\cast.py:127: ShapelyDeprecationWarning: The array interface is deprecated and will no longer work in Shapely 2.0. Convert the '.coords' to a numpy array instead.\n",
      "  arr = construct_1d_object_array_from_listlike(values)\n",
      "D:\\Anaconda\\lib\\site-packages\\pandas\\core\\dtypes\\cast.py:127: ShapelyDeprecationWarning: The array interface is deprecated and will no longer work in Shapely 2.0. Convert the '.coords' to a numpy array instead.\n",
      "  arr = construct_1d_object_array_from_listlike(values)\n",
      "D:\\Anaconda\\lib\\site-packages\\pandas\\core\\dtypes\\cast.py:127: ShapelyDeprecationWarning: The array interface is deprecated and will no longer work in Shapely 2.0. Convert the '.coords' to a numpy array instead.\n",
      "  arr = construct_1d_object_array_from_listlike(values)\n",
      "D:\\Anaconda\\lib\\site-packages\\pandas\\core\\dtypes\\cast.py:127: ShapelyDeprecationWarning: The array interface is deprecated and will no longer work in Shapely 2.0. Convert the '.coords' to a numpy array instead.\n",
      "  arr = construct_1d_object_array_from_listlike(values)\n",
      "D:\\Anaconda\\lib\\site-packages\\pandas\\core\\dtypes\\cast.py:127: ShapelyDeprecationWarning: The array interface is deprecated and will no longer work in Shapely 2.0. Convert the '.coords' to a numpy array instead.\n",
      "  arr = construct_1d_object_array_from_listlike(values)\n",
      "D:\\Anaconda\\lib\\site-packages\\pandas\\core\\dtypes\\cast.py:127: ShapelyDeprecationWarning: The array interface is deprecated and will no longer work in Shapely 2.0. Convert the '.coords' to a numpy array instead.\n",
      "  arr = construct_1d_object_array_from_listlike(values)\n",
      "D:\\Anaconda\\lib\\site-packages\\pandas\\core\\dtypes\\cast.py:127: ShapelyDeprecationWarning: The array interface is deprecated and will no longer work in Shapely 2.0. Convert the '.coords' to a numpy array instead.\n",
      "  arr = construct_1d_object_array_from_listlike(values)\n",
      "D:\\Anaconda\\lib\\site-packages\\pandas\\core\\dtypes\\cast.py:127: ShapelyDeprecationWarning: The array interface is deprecated and will no longer work in Shapely 2.0. Convert the '.coords' to a numpy array instead.\n",
      "  arr = construct_1d_object_array_from_listlike(values)\n",
      "D:\\Anaconda\\lib\\site-packages\\pandas\\core\\dtypes\\cast.py:127: ShapelyDeprecationWarning: The array interface is deprecated and will no longer work in Shapely 2.0. Convert the '.coords' to a numpy array instead.\n",
      "  arr = construct_1d_object_array_from_listlike(values)\n",
      "D:\\Anaconda\\lib\\site-packages\\pandas\\core\\dtypes\\cast.py:127: ShapelyDeprecationWarning: The array interface is deprecated and will no longer work in Shapely 2.0. Convert the '.coords' to a numpy array instead.\n",
      "  arr = construct_1d_object_array_from_listlike(values)\n",
      "D:\\Anaconda\\lib\\site-packages\\pandas\\core\\dtypes\\cast.py:127: ShapelyDeprecationWarning: The array interface is deprecated and will no longer work in Shapely 2.0. Convert the '.coords' to a numpy array instead.\n",
      "  arr = construct_1d_object_array_from_listlike(values)\n"
     ]
    },
    {
     "name": "stdout",
     "output_type": "stream",
     "text": [
      "'NoneType' object has no attribute 'latitude' ABBVIE (Abbott) Logis. UK\n"
     ]
    },
    {
     "name": "stderr",
     "output_type": "stream",
     "text": [
      "D:\\Anaconda\\lib\\site-packages\\pandas\\core\\dtypes\\cast.py:127: ShapelyDeprecationWarning: The array interface is deprecated and will no longer work in Shapely 2.0. Convert the '.coords' to a numpy array instead.\n",
      "  arr = construct_1d_object_array_from_listlike(values)\n",
      "D:\\Anaconda\\lib\\site-packages\\pandas\\core\\dtypes\\cast.py:127: ShapelyDeprecationWarning: The array interface is deprecated and will no longer work in Shapely 2.0. Convert the '.coords' to a numpy array instead.\n",
      "  arr = construct_1d_object_array_from_listlike(values)\n",
      "D:\\Anaconda\\lib\\site-packages\\pandas\\core\\dtypes\\cast.py:127: ShapelyDeprecationWarning: The array interface is deprecated and will no longer work in Shapely 2.0. Convert the '.coords' to a numpy array instead.\n",
      "  arr = construct_1d_object_array_from_listlike(values)\n",
      "D:\\Anaconda\\lib\\site-packages\\pandas\\core\\dtypes\\cast.py:127: ShapelyDeprecationWarning: The array interface is deprecated and will no longer work in Shapely 2.0. Convert the '.coords' to a numpy array instead.\n",
      "  arr = construct_1d_object_array_from_listlike(values)\n",
      "D:\\Anaconda\\lib\\site-packages\\pandas\\core\\dtypes\\cast.py:127: ShapelyDeprecationWarning: The array interface is deprecated and will no longer work in Shapely 2.0. Convert the '.coords' to a numpy array instead.\n",
      "  arr = construct_1d_object_array_from_listlike(values)\n",
      "D:\\Anaconda\\lib\\site-packages\\pandas\\core\\dtypes\\cast.py:127: ShapelyDeprecationWarning: The array interface is deprecated and will no longer work in Shapely 2.0. Convert the '.coords' to a numpy array instead.\n",
      "  arr = construct_1d_object_array_from_listlike(values)\n",
      "D:\\Anaconda\\lib\\site-packages\\pandas\\core\\dtypes\\cast.py:127: ShapelyDeprecationWarning: The array interface is deprecated and will no longer work in Shapely 2.0. Convert the '.coords' to a numpy array instead.\n",
      "  arr = construct_1d_object_array_from_listlike(values)\n",
      "D:\\Anaconda\\lib\\site-packages\\pandas\\core\\dtypes\\cast.py:127: ShapelyDeprecationWarning: The array interface is deprecated and will no longer work in Shapely 2.0. Convert the '.coords' to a numpy array instead.\n",
      "  arr = construct_1d_object_array_from_listlike(values)\n",
      "D:\\Anaconda\\lib\\site-packages\\pandas\\core\\dtypes\\cast.py:127: ShapelyDeprecationWarning: The array interface is deprecated and will no longer work in Shapely 2.0. Convert the '.coords' to a numpy array instead.\n",
      "  arr = construct_1d_object_array_from_listlike(values)\n",
      "D:\\Anaconda\\lib\\site-packages\\pandas\\core\\dtypes\\cast.py:127: ShapelyDeprecationWarning: The array interface is deprecated and will no longer work in Shapely 2.0. Convert the '.coords' to a numpy array instead.\n",
      "  arr = construct_1d_object_array_from_listlike(values)\n",
      "D:\\Anaconda\\lib\\site-packages\\pandas\\core\\dtypes\\cast.py:127: ShapelyDeprecationWarning: The array interface is deprecated and will no longer work in Shapely 2.0. Convert the '.coords' to a numpy array instead.\n",
      "  arr = construct_1d_object_array_from_listlike(values)\n",
      "D:\\Anaconda\\lib\\site-packages\\pandas\\core\\dtypes\\cast.py:127: ShapelyDeprecationWarning: The array interface is deprecated and will no longer work in Shapely 2.0. Convert the '.coords' to a numpy array instead.\n",
      "  arr = construct_1d_object_array_from_listlike(values)\n",
      "D:\\Anaconda\\lib\\site-packages\\pandas\\core\\dtypes\\cast.py:127: ShapelyDeprecationWarning: The array interface is deprecated and will no longer work in Shapely 2.0. Convert the '.coords' to a numpy array instead.\n",
      "  arr = construct_1d_object_array_from_listlike(values)\n",
      "D:\\Anaconda\\lib\\site-packages\\pandas\\core\\dtypes\\cast.py:127: ShapelyDeprecationWarning: The array interface is deprecated and will no longer work in Shapely 2.0. Convert the '.coords' to a numpy array instead.\n",
      "  arr = construct_1d_object_array_from_listlike(values)\n",
      "D:\\Anaconda\\lib\\site-packages\\pandas\\core\\dtypes\\cast.py:127: ShapelyDeprecationWarning: The array interface is deprecated and will no longer work in Shapely 2.0. Convert the '.coords' to a numpy array instead.\n",
      "  arr = construct_1d_object_array_from_listlike(values)\n",
      "D:\\Anaconda\\lib\\site-packages\\pandas\\core\\dtypes\\cast.py:127: ShapelyDeprecationWarning: The array interface is deprecated and will no longer work in Shapely 2.0. Convert the '.coords' to a numpy array instead.\n",
      "  arr = construct_1d_object_array_from_listlike(values)\n",
      "D:\\Anaconda\\lib\\site-packages\\pandas\\core\\dtypes\\cast.py:127: ShapelyDeprecationWarning: The array interface is deprecated and will no longer work in Shapely 2.0. Convert the '.coords' to a numpy array instead.\n",
      "  arr = construct_1d_object_array_from_listlike(values)\n",
      "충청북도옥천군청산면교평리 not found in regex\n",
      "충청북도옥천군청산면교평리 not found in ISO2\n",
      "D:\\Anaconda\\lib\\site-packages\\pandas\\core\\dtypes\\cast.py:127: ShapelyDeprecationWarning: The array interface is deprecated and will no longer work in Shapely 2.0. Convert the '.coords' to a numpy array instead.\n",
      "  arr = construct_1d_object_array_from_listlike(values)\n"
     ]
    },
    {
     "name": "stdout",
     "output_type": "stream",
     "text": [
      "Looking at continent now 0\n"
     ]
    },
    {
     "name": "stderr",
     "output_type": "stream",
     "text": [
      "D:\\Anaconda\\lib\\site-packages\\pandas\\core\\dtypes\\cast.py:127: ShapelyDeprecationWarning: The array interface is deprecated and will no longer work in Shapely 2.0. Convert the '.coords' to a numpy array instead.\n",
      "  arr = construct_1d_object_array_from_listlike(values)\n",
      "D:\\Anaconda\\lib\\site-packages\\pandas\\core\\dtypes\\cast.py:127: ShapelyDeprecationWarning: The array interface is deprecated and will no longer work in Shapely 2.0. Convert the '.coords' to a numpy array instead.\n",
      "  arr = construct_1d_object_array_from_listlike(values)\n",
      "D:\\Anaconda\\lib\\site-packages\\pandas\\core\\dtypes\\cast.py:127: ShapelyDeprecationWarning: The array interface is deprecated and will no longer work in Shapely 2.0. Convert the '.coords' to a numpy array instead.\n",
      "  arr = construct_1d_object_array_from_listlike(values)\n",
      "D:\\Anaconda\\lib\\site-packages\\pandas\\core\\dtypes\\cast.py:127: ShapelyDeprecationWarning: The array interface is deprecated and will no longer work in Shapely 2.0. Convert the '.coords' to a numpy array instead.\n",
      "  arr = construct_1d_object_array_from_listlike(values)\n",
      "D:\\Anaconda\\lib\\site-packages\\pandas\\core\\dtypes\\cast.py:127: ShapelyDeprecationWarning: The array interface is deprecated and will no longer work in Shapely 2.0. Convert the '.coords' to a numpy array instead.\n",
      "  arr = construct_1d_object_array_from_listlike(values)\n",
      "D:\\Anaconda\\lib\\site-packages\\pandas\\core\\dtypes\\cast.py:127: ShapelyDeprecationWarning: The array interface is deprecated and will no longer work in Shapely 2.0. Convert the '.coords' to a numpy array instead.\n",
      "  arr = construct_1d_object_array_from_listlike(values)\n",
      "D:\\Anaconda\\lib\\site-packages\\pandas\\core\\dtypes\\cast.py:127: ShapelyDeprecationWarning: The array interface is deprecated and will no longer work in Shapely 2.0. Convert the '.coords' to a numpy array instead.\n",
      "  arr = construct_1d_object_array_from_listlike(values)\n",
      "D:\\Anaconda\\lib\\site-packages\\pandas\\core\\dtypes\\cast.py:127: ShapelyDeprecationWarning: The array interface is deprecated and will no longer work in Shapely 2.0. Convert the '.coords' to a numpy array instead.\n",
      "  arr = construct_1d_object_array_from_listlike(values)\n",
      "D:\\Anaconda\\lib\\site-packages\\pandas\\core\\dtypes\\cast.py:127: ShapelyDeprecationWarning: The array interface is deprecated and will no longer work in Shapely 2.0. Convert the '.coords' to a numpy array instead.\n",
      "  arr = construct_1d_object_array_from_listlike(values)\n",
      "D:\\Anaconda\\lib\\site-packages\\pandas\\core\\dtypes\\cast.py:127: ShapelyDeprecationWarning: The array interface is deprecated and will no longer work in Shapely 2.0. Convert the '.coords' to a numpy array instead.\n",
      "  arr = construct_1d_object_array_from_listlike(values)\n",
      "D:\\Anaconda\\lib\\site-packages\\pandas\\core\\dtypes\\cast.py:127: ShapelyDeprecationWarning: The array interface is deprecated and will no longer work in Shapely 2.0. Convert the '.coords' to a numpy array instead.\n",
      "  arr = construct_1d_object_array_from_listlike(values)\n"
     ]
    },
    {
     "name": "stdout",
     "output_type": "stream",
     "text": [
      "Total runtime of the program is 69.6407322883606\n"
     ]
    },
    {
     "name": "stderr",
     "output_type": "stream",
     "text": [
      "D:\\Anaconda\\lib\\site-packages\\pandas\\core\\dtypes\\cast.py:127: ShapelyDeprecationWarning: The array interface is deprecated and will no longer work in Shapely 2.0. Convert the '.coords' to a numpy array instead.\n",
      "  arr = construct_1d_object_array_from_listlike(values)\n"
     ]
    }
   ],
   "source": [
    "# Adding source_latitude and source_longitude columns\n",
    "# store starting time\n",
    "begin = time.time()\n",
    "source_df.apply(getSourceLocation,axis=1)\n",
    "end = time.time()\n",
    "# total time taken\n",
    "print(f\"Total runtime of the program is {end - begin}\")"
   ]
  },
  {
   "cell_type": "markdown",
   "id": "182b079b-b0c3-49f2-bc8f-f47d30c515ca",
   "metadata": {},
   "source": [
    "The code took around 74 seconds to complete the computations"
   ]
  },
  {
   "cell_type": "markdown",
   "id": "e8eea54d-48cc-4335-81f4-0eac50536bbf",
   "metadata": {},
   "source": [
    "Merging the source_location_df to the final_df"
   ]
  },
  {
   "cell_type": "code",
   "execution_count": 27,
   "id": "439f40a2-233b-4756-b619-0bd2a28f4cd6",
   "metadata": {},
   "outputs": [],
   "source": [
    "final_df = final_df.merge(source_locations, how='outer', left_on=['Manufacturing_site','Mode'],right_on=['Manufacturing_site','departure_mode'])"
   ]
  },
  {
   "cell_type": "markdown",
   "id": "c33e5ba5-ef30-4044-a97f-d98c9aad633d",
   "metadata": {},
   "source": [
    "Checking for any NONE or INF values in source and departure columns"
   ]
  },
  {
   "cell_type": "code",
   "execution_count": 28,
   "id": "5dd547cb-b75a-466a-94a7-78ce0180b014",
   "metadata": {},
   "outputs": [],
   "source": [
    "indexes = final_df.loc[(final_df['source'].apply(lambda p: p == None or p.x == float('inf') or p.y == float('inf'))) | (final_df['departure'].apply(lambda p: p == None or p.x == float('inf') or p.y == float('inf')))].index"
   ]
  },
  {
   "cell_type": "markdown",
   "id": "98c4061b-5972-427d-be79-6abce034e813",
   "metadata": {},
   "source": [
    "Since coordinates of these manufacturing sites were not found, I will drop these."
   ]
  },
  {
   "cell_type": "code",
   "execution_count": 29,
   "id": "40c28fbf-459d-4578-8fd9-3724597c8158",
   "metadata": {},
   "outputs": [],
   "source": [
    "final_df.drop(index=indexes,axis=1,inplace=True)"
   ]
  },
  {
   "cell_type": "markdown",
   "id": "d1a42c56-262e-44d7-b329-91d230ba5c8f",
   "metadata": {},
   "source": [
    "### Getting Destination location coordinates"
   ]
  },
  {
   "cell_type": "markdown",
   "id": "46e1766a-5d0a-41a0-befe-72fdca8be641",
   "metadata": {},
   "source": [
    "## TO-DO:\n",
    "Destination\n",
    "- If the mode of transport is \n",
    "        1. Air and Road, \n",
    "            1. We first search for the Airport coordinates of the Capital City of the Country given.\n",
    "            2. If no airport is found in the capital then we get the coordinates of the capital and find the nearest airport.\n",
    "        2. Ocean, then we get the coordinates of the main port of the country."
   ]
  },
  {
   "cell_type": "code",
   "execution_count": 30,
   "id": "840a8f4f-f0d6-453e-9958-3610a383037a",
   "metadata": {},
   "outputs": [],
   "source": [
    "# Getting ISO_2 codes for each country\n",
    "final_df['destination_iso_country'] = coco.convert(final_df['Destination_Country'],to='ISO2', not_found=None)"
   ]
  },
  {
   "cell_type": "markdown",
   "id": "848c6986-a75c-45fc-9866-14317d5aa8b2",
   "metadata": {},
   "source": [
    "Uploading country capital list and cleaning the data"
   ]
  },
  {
   "cell_type": "code",
   "execution_count": 31,
   "id": "8351a5ab-485e-4b8f-9aa1-ff47e1177a08",
   "metadata": {
    "tags": []
   },
   "outputs": [
    {
     "name": "stderr",
     "output_type": "stream",
     "text": [
      "Abkhazia not found in regex\n",
      "Akrotiri and Dhekelia not found in regex\n",
      "Ascension Island not found in regex\n",
      "Easter Island not found in regex\n",
      "Nagorno-Karabakh Republic not found in regex\n",
      "Scotland not found in regex\n",
      "South Ossetia not found in regex\n",
      "Transnistria not found in regex\n",
      "Tristan da Cunha not found in regex\n",
      "Wales not found in regex\n"
     ]
    }
   ],
   "source": [
    "country_capital = pd.read_csv('Data/country-capital-list.csv')\n",
    "country_capital.drop(columns=['type'],axis=1,inplace=True)\n",
    "country_capital['iso_country'] = coco.convert(country_capital['country'],to='ISO2', not_found=None)"
   ]
  },
  {
   "cell_type": "markdown",
   "id": "bd53c5fc-3945-44bf-a1ec-d3c1367bd85a",
   "metadata": {},
   "source": [
    "Merging the main_df and country capital df to get the required capital cities."
   ]
  },
  {
   "cell_type": "code",
   "execution_count": 32,
   "id": "6fe1ec4a-32ef-4d27-8538-29c47705cde5",
   "metadata": {},
   "outputs": [],
   "source": [
    "destination_locations = country_capital.merge(final_df[['Mode','destination_iso_country']],right_on='destination_iso_country',left_on='iso_country').drop(columns=['destination_iso_country'])"
   ]
  },
  {
   "cell_type": "markdown",
   "id": "399f2ba0-6cba-46e5-9f3a-d9352bd1d83d",
   "metadata": {},
   "source": [
    "Dropping duplicate rows"
   ]
  },
  {
   "cell_type": "code",
   "execution_count": 33,
   "id": "1a327bdc-0381-41ac-b425-09e59b08d7b1",
   "metadata": {},
   "outputs": [],
   "source": [
    "destination_locations.drop_duplicates(inplace=True)"
   ]
  },
  {
   "cell_type": "markdown",
   "id": "3771e5e0-f53e-4c21-8250-d6a52fcd2bcb",
   "metadata": {},
   "source": [
    "Adding continents name to destination_locations df "
   ]
  },
  {
   "cell_type": "code",
   "execution_count": 34,
   "id": "c9169e8d-5aca-4943-83c7-d78015d57f95",
   "metadata": {},
   "outputs": [],
   "source": [
    "destination_locations['continent'] = coco.convert(destination_locations['country'],to = 'continent', not_found=None)"
   ]
  },
  {
   "cell_type": "code",
   "execution_count": 35,
   "id": "6dd7611a-e69a-4176-a0f8-2c1f8d7e1396",
   "metadata": {},
   "outputs": [],
   "source": [
    "# DF to append Destination location\n",
    "data = {'iso_country':[],'arrival':[],'destination':[],'arrival_mode':[],'destination_mode':[],'des_num_transport':[]}\n",
    "destination_result = gpd.GeoDataFrame(data)"
   ]
  },
  {
   "cell_type": "code",
   "execution_count": 36,
   "id": "d785d4d4-ac12-4257-adac-3ed0b653e451",
   "metadata": {},
   "outputs": [],
   "source": [
    "'''\n",
    "Function to look up the airport and port df to find coordinates of destination location\n",
    "'''\n",
    "def getDestinationCoordinates(df):\n",
    "    iso_country = df['iso_country']\n",
    "    arrival_mode = df['Mode']\n",
    "    destination_mode = 'Road'\n",
    "    try:   \n",
    "        capital = df['capital']\n",
    "        continent = df['continent']\n",
    "        location = nom.geocode(capital)\n",
    "        min_latitude = location.latitude\n",
    "        min_longitude = location.longitude\n",
    "        number_of_transport = 1\n",
    "        \n",
    "        if arrival_mode == 'Air':\n",
    "            # Check if airport is available for this capital\n",
    "            number_of_transport = number_of_transport + 1\n",
    "            min_latitude,min_longitude = minDistance(final_airport_df,location,iso_country,continent)    \n",
    "        elif arrival_mode == 'Ocean':\n",
    "            number_of_transport = number_of_transport + 1\n",
    "            min_latitude,min_longitude = minDistance(final_ports_df,location,iso_country,continent)\n",
    "        \n",
    "        destination_result.loc[len(destination_result.index)] = [iso_country,Point(min_latitude,min_longitude),Point(location.latitude,location.longitude),arrival_mode,destination_mode,number_of_transport]\n",
    "        \n",
    "    except Exception as e:\n",
    "        print(e, '==', iso_country, arrival_mode)\n",
    "        destination_result.loc[len(destination_result.index)] = [iso_country,Point(min_latitude,min_longitude),Point(location.latitude,location.longitude),arrival_mode,destination_mode,number_of_transport]"
   ]
  },
  {
   "cell_type": "code",
   "execution_count": 37,
   "id": "6184c20f-4c3e-4ac1-a10f-3ffa3935ce84",
   "metadata": {
    "collapsed": true,
    "jupyter": {
     "outputs_hidden": true
    },
    "tags": []
   },
   "outputs": [
    {
     "name": "stderr",
     "output_type": "stream",
     "text": [
      "D:\\Anaconda\\lib\\site-packages\\pandas\\core\\dtypes\\cast.py:1951: ShapelyDeprecationWarning: The array interface is deprecated and will no longer work in Shapely 2.0. Convert the '.coords' to a numpy array instead.\n",
      "  tipo = _maybe_infer_dtype_type(element)\n",
      "D:\\Anaconda\\lib\\site-packages\\pandas\\core\\dtypes\\cast.py:948: VisibleDeprecationWarning: Creating an ndarray from ragged nested sequences (which is a list-or-tuple of lists-or-tuples-or ndarrays with different lengths or shapes) is deprecated. If you meant to do this, you must specify 'dtype=object' when creating the ndarray.\n",
      "  element = np.asarray(element)\n",
      "D:\\Anaconda\\lib\\site-packages\\pandas\\core\\dtypes\\cast.py:127: ShapelyDeprecationWarning: The array interface is deprecated and will no longer work in Shapely 2.0. Convert the '.coords' to a numpy array instead.\n",
      "  arr = construct_1d_object_array_from_listlike(values)\n",
      "D:\\Anaconda\\lib\\site-packages\\pandas\\core\\dtypes\\cast.py:127: ShapelyDeprecationWarning: The array interface is deprecated and will no longer work in Shapely 2.0. Convert the '.coords' to a numpy array instead.\n",
      "  arr = construct_1d_object_array_from_listlike(values)\n",
      "D:\\Anaconda\\lib\\site-packages\\pandas\\core\\dtypes\\cast.py:127: ShapelyDeprecationWarning: The array interface is deprecated and will no longer work in Shapely 2.0. Convert the '.coords' to a numpy array instead.\n",
      "  arr = construct_1d_object_array_from_listlike(values)\n",
      "D:\\Anaconda\\lib\\site-packages\\pandas\\core\\dtypes\\cast.py:127: ShapelyDeprecationWarning: The array interface is deprecated and will no longer work in Shapely 2.0. Convert the '.coords' to a numpy array instead.\n",
      "  arr = construct_1d_object_array_from_listlike(values)\n",
      "D:\\Anaconda\\lib\\site-packages\\pandas\\core\\dtypes\\cast.py:127: ShapelyDeprecationWarning: The array interface is deprecated and will no longer work in Shapely 2.0. Convert the '.coords' to a numpy array instead.\n",
      "  arr = construct_1d_object_array_from_listlike(values)\n",
      "D:\\Anaconda\\lib\\site-packages\\pandas\\core\\dtypes\\cast.py:127: ShapelyDeprecationWarning: The array interface is deprecated and will no longer work in Shapely 2.0. Convert the '.coords' to a numpy array instead.\n",
      "  arr = construct_1d_object_array_from_listlike(values)\n",
      "D:\\Anaconda\\lib\\site-packages\\pandas\\core\\dtypes\\cast.py:127: ShapelyDeprecationWarning: The array interface is deprecated and will no longer work in Shapely 2.0. Convert the '.coords' to a numpy array instead.\n",
      "  arr = construct_1d_object_array_from_listlike(values)\n",
      "D:\\Anaconda\\lib\\site-packages\\pandas\\core\\dtypes\\cast.py:127: ShapelyDeprecationWarning: The array interface is deprecated and will no longer work in Shapely 2.0. Convert the '.coords' to a numpy array instead.\n",
      "  arr = construct_1d_object_array_from_listlike(values)\n",
      "D:\\Anaconda\\lib\\site-packages\\pandas\\core\\dtypes\\cast.py:127: ShapelyDeprecationWarning: The array interface is deprecated and will no longer work in Shapely 2.0. Convert the '.coords' to a numpy array instead.\n",
      "  arr = construct_1d_object_array_from_listlike(values)\n",
      "D:\\Anaconda\\lib\\site-packages\\pandas\\core\\dtypes\\cast.py:127: ShapelyDeprecationWarning: The array interface is deprecated and will no longer work in Shapely 2.0. Convert the '.coords' to a numpy array instead.\n",
      "  arr = construct_1d_object_array_from_listlike(values)\n",
      "D:\\Anaconda\\lib\\site-packages\\pandas\\core\\dtypes\\cast.py:127: ShapelyDeprecationWarning: The array interface is deprecated and will no longer work in Shapely 2.0. Convert the '.coords' to a numpy array instead.\n",
      "  arr = construct_1d_object_array_from_listlike(values)\n",
      "D:\\Anaconda\\lib\\site-packages\\pandas\\core\\dtypes\\cast.py:127: ShapelyDeprecationWarning: The array interface is deprecated and will no longer work in Shapely 2.0. Convert the '.coords' to a numpy array instead.\n",
      "  arr = construct_1d_object_array_from_listlike(values)\n",
      "D:\\Anaconda\\lib\\site-packages\\pandas\\core\\dtypes\\cast.py:127: ShapelyDeprecationWarning: The array interface is deprecated and will no longer work in Shapely 2.0. Convert the '.coords' to a numpy array instead.\n",
      "  arr = construct_1d_object_array_from_listlike(values)\n",
      "D:\\Anaconda\\lib\\site-packages\\pandas\\core\\dtypes\\cast.py:127: ShapelyDeprecationWarning: The array interface is deprecated and will no longer work in Shapely 2.0. Convert the '.coords' to a numpy array instead.\n",
      "  arr = construct_1d_object_array_from_listlike(values)\n",
      "D:\\Anaconda\\lib\\site-packages\\pandas\\core\\dtypes\\cast.py:127: ShapelyDeprecationWarning: The array interface is deprecated and will no longer work in Shapely 2.0. Convert the '.coords' to a numpy array instead.\n",
      "  arr = construct_1d_object_array_from_listlike(values)\n",
      "D:\\Anaconda\\lib\\site-packages\\pandas\\core\\dtypes\\cast.py:127: ShapelyDeprecationWarning: The array interface is deprecated and will no longer work in Shapely 2.0. Convert the '.coords' to a numpy array instead.\n",
      "  arr = construct_1d_object_array_from_listlike(values)\n",
      "D:\\Anaconda\\lib\\site-packages\\pandas\\core\\dtypes\\cast.py:127: ShapelyDeprecationWarning: The array interface is deprecated and will no longer work in Shapely 2.0. Convert the '.coords' to a numpy array instead.\n",
      "  arr = construct_1d_object_array_from_listlike(values)\n",
      "D:\\Anaconda\\lib\\site-packages\\pandas\\core\\dtypes\\cast.py:127: ShapelyDeprecationWarning: The array interface is deprecated and will no longer work in Shapely 2.0. Convert the '.coords' to a numpy array instead.\n",
      "  arr = construct_1d_object_array_from_listlike(values)\n",
      "D:\\Anaconda\\lib\\site-packages\\pandas\\core\\dtypes\\cast.py:127: ShapelyDeprecationWarning: The array interface is deprecated and will no longer work in Shapely 2.0. Convert the '.coords' to a numpy array instead.\n",
      "  arr = construct_1d_object_array_from_listlike(values)\n"
     ]
    },
    {
     "name": "stdout",
     "output_type": "stream",
     "text": [
      "Looking at continent now 3564\n"
     ]
    },
    {
     "name": "stderr",
     "output_type": "stream",
     "text": [
      "D:\\Anaconda\\lib\\site-packages\\pandas\\core\\dtypes\\cast.py:127: ShapelyDeprecationWarning: The array interface is deprecated and will no longer work in Shapely 2.0. Convert the '.coords' to a numpy array instead.\n",
      "  arr = construct_1d_object_array_from_listlike(values)\n",
      "D:\\Anaconda\\lib\\site-packages\\pandas\\core\\dtypes\\cast.py:127: ShapelyDeprecationWarning: The array interface is deprecated and will no longer work in Shapely 2.0. Convert the '.coords' to a numpy array instead.\n",
      "  arr = construct_1d_object_array_from_listlike(values)\n",
      "D:\\Anaconda\\lib\\site-packages\\pandas\\core\\dtypes\\cast.py:127: ShapelyDeprecationWarning: The array interface is deprecated and will no longer work in Shapely 2.0. Convert the '.coords' to a numpy array instead.\n",
      "  arr = construct_1d_object_array_from_listlike(values)\n",
      "D:\\Anaconda\\lib\\site-packages\\pandas\\core\\dtypes\\cast.py:127: ShapelyDeprecationWarning: The array interface is deprecated and will no longer work in Shapely 2.0. Convert the '.coords' to a numpy array instead.\n",
      "  arr = construct_1d_object_array_from_listlike(values)\n"
     ]
    },
    {
     "name": "stdout",
     "output_type": "stream",
     "text": [
      "Looking at continent now 92\n"
     ]
    },
    {
     "name": "stderr",
     "output_type": "stream",
     "text": [
      "D:\\Anaconda\\lib\\site-packages\\pandas\\core\\dtypes\\cast.py:127: ShapelyDeprecationWarning: The array interface is deprecated and will no longer work in Shapely 2.0. Convert the '.coords' to a numpy array instead.\n",
      "  arr = construct_1d_object_array_from_listlike(values)\n",
      "D:\\Anaconda\\lib\\site-packages\\pandas\\core\\dtypes\\cast.py:127: ShapelyDeprecationWarning: The array interface is deprecated and will no longer work in Shapely 2.0. Convert the '.coords' to a numpy array instead.\n",
      "  arr = construct_1d_object_array_from_listlike(values)\n",
      "D:\\Anaconda\\lib\\site-packages\\pandas\\core\\dtypes\\cast.py:127: ShapelyDeprecationWarning: The array interface is deprecated and will no longer work in Shapely 2.0. Convert the '.coords' to a numpy array instead.\n",
      "  arr = construct_1d_object_array_from_listlike(values)\n",
      "D:\\Anaconda\\lib\\site-packages\\pandas\\core\\dtypes\\cast.py:127: ShapelyDeprecationWarning: The array interface is deprecated and will no longer work in Shapely 2.0. Convert the '.coords' to a numpy array instead.\n",
      "  arr = construct_1d_object_array_from_listlike(values)\n",
      "D:\\Anaconda\\lib\\site-packages\\pandas\\core\\dtypes\\cast.py:127: ShapelyDeprecationWarning: The array interface is deprecated and will no longer work in Shapely 2.0. Convert the '.coords' to a numpy array instead.\n",
      "  arr = construct_1d_object_array_from_listlike(values)\n"
     ]
    },
    {
     "name": "stdout",
     "output_type": "stream",
     "text": [
      "Looking at continent now 92\n"
     ]
    },
    {
     "name": "stderr",
     "output_type": "stream",
     "text": [
      "D:\\Anaconda\\lib\\site-packages\\pandas\\core\\dtypes\\cast.py:127: ShapelyDeprecationWarning: The array interface is deprecated and will no longer work in Shapely 2.0. Convert the '.coords' to a numpy array instead.\n",
      "  arr = construct_1d_object_array_from_listlike(values)\n",
      "D:\\Anaconda\\lib\\site-packages\\pandas\\core\\dtypes\\cast.py:127: ShapelyDeprecationWarning: The array interface is deprecated and will no longer work in Shapely 2.0. Convert the '.coords' to a numpy array instead.\n",
      "  arr = construct_1d_object_array_from_listlike(values)\n",
      "D:\\Anaconda\\lib\\site-packages\\pandas\\core\\dtypes\\cast.py:127: ShapelyDeprecationWarning: The array interface is deprecated and will no longer work in Shapely 2.0. Convert the '.coords' to a numpy array instead.\n",
      "  arr = construct_1d_object_array_from_listlike(values)\n",
      "D:\\Anaconda\\lib\\site-packages\\pandas\\core\\dtypes\\cast.py:127: ShapelyDeprecationWarning: The array interface is deprecated and will no longer work in Shapely 2.0. Convert the '.coords' to a numpy array instead.\n",
      "  arr = construct_1d_object_array_from_listlike(values)\n",
      "D:\\Anaconda\\lib\\site-packages\\pandas\\core\\dtypes\\cast.py:127: ShapelyDeprecationWarning: The array interface is deprecated and will no longer work in Shapely 2.0. Convert the '.coords' to a numpy array instead.\n",
      "  arr = construct_1d_object_array_from_listlike(values)\n",
      "D:\\Anaconda\\lib\\site-packages\\pandas\\core\\dtypes\\cast.py:127: ShapelyDeprecationWarning: The array interface is deprecated and will no longer work in Shapely 2.0. Convert the '.coords' to a numpy array instead.\n",
      "  arr = construct_1d_object_array_from_listlike(values)\n",
      "D:\\Anaconda\\lib\\site-packages\\pandas\\core\\dtypes\\cast.py:127: ShapelyDeprecationWarning: The array interface is deprecated and will no longer work in Shapely 2.0. Convert the '.coords' to a numpy array instead.\n",
      "  arr = construct_1d_object_array_from_listlike(values)\n"
     ]
    },
    {
     "name": "stdout",
     "output_type": "stream",
     "text": [
      "Looking at continent now 92\n"
     ]
    },
    {
     "name": "stderr",
     "output_type": "stream",
     "text": [
      "D:\\Anaconda\\lib\\site-packages\\pandas\\core\\dtypes\\cast.py:127: ShapelyDeprecationWarning: The array interface is deprecated and will no longer work in Shapely 2.0. Convert the '.coords' to a numpy array instead.\n",
      "  arr = construct_1d_object_array_from_listlike(values)\n",
      "D:\\Anaconda\\lib\\site-packages\\pandas\\core\\dtypes\\cast.py:127: ShapelyDeprecationWarning: The array interface is deprecated and will no longer work in Shapely 2.0. Convert the '.coords' to a numpy array instead.\n",
      "  arr = construct_1d_object_array_from_listlike(values)\n",
      "D:\\Anaconda\\lib\\site-packages\\pandas\\core\\dtypes\\cast.py:127: ShapelyDeprecationWarning: The array interface is deprecated and will no longer work in Shapely 2.0. Convert the '.coords' to a numpy array instead.\n",
      "  arr = construct_1d_object_array_from_listlike(values)\n"
     ]
    },
    {
     "name": "stdout",
     "output_type": "stream",
     "text": [
      "Looking at continent now 92\n"
     ]
    },
    {
     "name": "stderr",
     "output_type": "stream",
     "text": [
      "D:\\Anaconda\\lib\\site-packages\\pandas\\core\\dtypes\\cast.py:127: ShapelyDeprecationWarning: The array interface is deprecated and will no longer work in Shapely 2.0. Convert the '.coords' to a numpy array instead.\n",
      "  arr = construct_1d_object_array_from_listlike(values)\n"
     ]
    },
    {
     "name": "stdout",
     "output_type": "stream",
     "text": [
      "Total runtime of the program is 21.49218249320984\n"
     ]
    },
    {
     "name": "stderr",
     "output_type": "stream",
     "text": [
      "D:\\Anaconda\\lib\\site-packages\\pandas\\core\\dtypes\\cast.py:127: ShapelyDeprecationWarning: The array interface is deprecated and will no longer work in Shapely 2.0. Convert the '.coords' to a numpy array instead.\n",
      "  arr = construct_1d_object_array_from_listlike(values)\n"
     ]
    }
   ],
   "source": [
    "# store starting time\n",
    "begin = time.time()\n",
    "destination_locations.apply(getDestinationCoordinates,axis=1)\n",
    "end = time.time()\n",
    "# total time taken\n",
    "print(f\"Total runtime of the program is {end - begin}\")"
   ]
  },
  {
   "cell_type": "markdown",
   "id": "b04e1cb2-59ef-4d85-b20d-62f769ce3d36",
   "metadata": {},
   "source": [
    "Check if any inf or none values in arrival and destination columns"
   ]
  },
  {
   "cell_type": "code",
   "execution_count": 38,
   "id": "78b174ee-11f1-447f-90d5-8ca9ce0fe55a",
   "metadata": {},
   "outputs": [
    {
     "data": {
      "text/html": [
       "<div>\n",
       "<style scoped>\n",
       "    .dataframe tbody tr th:only-of-type {\n",
       "        vertical-align: middle;\n",
       "    }\n",
       "\n",
       "    .dataframe tbody tr th {\n",
       "        vertical-align: top;\n",
       "    }\n",
       "\n",
       "    .dataframe thead th {\n",
       "        text-align: right;\n",
       "    }\n",
       "</style>\n",
       "<table border=\"1\" class=\"dataframe\">\n",
       "  <thead>\n",
       "    <tr style=\"text-align: right;\">\n",
       "      <th></th>\n",
       "      <th>iso_country</th>\n",
       "      <th>arrival</th>\n",
       "      <th>destination</th>\n",
       "      <th>arrival_mode</th>\n",
       "      <th>destination_mode</th>\n",
       "      <th>des_num_transport</th>\n",
       "    </tr>\n",
       "  </thead>\n",
       "  <tbody>\n",
       "  </tbody>\n",
       "</table>\n",
       "</div>"
      ],
      "text/plain": [
       "Empty DataFrame\n",
       "Columns: [iso_country, arrival, destination, arrival_mode, destination_mode, des_num_transport]\n",
       "Index: []"
      ]
     },
     "execution_count": 38,
     "metadata": {},
     "output_type": "execute_result"
    }
   ],
   "source": [
    "destination_result.loc[(destination_result['arrival'].apply(lambda p: p == None or p.x == float('inf') or p.y == float('inf'))) | (destination_result['destination'].apply(lambda p: p == None or p.x == float('inf') or p.y == float('inf')))]"
   ]
  },
  {
   "cell_type": "markdown",
   "id": "ff1913cc-009e-4e72-a66f-2c1218a7afde",
   "metadata": {},
   "source": [
    "Since no inf or None values, we can merge the destination result with the final_df"
   ]
  },
  {
   "cell_type": "code",
   "execution_count": 39,
   "id": "71baa09d-7194-4872-a86e-01b99c36582b",
   "metadata": {
    "tags": []
   },
   "outputs": [],
   "source": [
    "final_df = final_df.merge(destination_result,left_on=['destination_iso_country','Mode'],right_on=['iso_country','arrival_mode'])"
   ]
  },
  {
   "cell_type": "markdown",
   "id": "91d1e9e5-19f6-4a28-ae7b-23040077385e",
   "metadata": {},
   "source": [
    "Finding out the total number of transports used."
   ]
  },
  {
   "cell_type": "code",
   "execution_count": 40,
   "id": "7e34db73-d00e-41f2-a24d-32b3da583ff0",
   "metadata": {},
   "outputs": [],
   "source": [
    "final_df['total_num_of_transports'] = final_df['src_num_transport'] + final_df['des_num_transport'] - 1"
   ]
  },
  {
   "cell_type": "code",
   "execution_count": 41,
   "id": "21001d56-fdf6-4f55-80ff-d7981d4f9617",
   "metadata": {},
   "outputs": [],
   "source": [
    "final_df.drop(columns=['arrival_mode','departure_mode','iso_country','src_num_transport','des_num_transport'],inplace=True)"
   ]
  },
  {
   "cell_type": "code",
   "execution_count": 42,
   "id": "278b50dc-4550-49c0-b8a4-7d20848e7c70",
   "metadata": {},
   "outputs": [],
   "source": [
    "# Rearranging the columns in the DF\n",
    "final_df = final_df[['ID','Item Description','Weight','Delivery_Date','Destination_Country','destination_iso_country','Manufacturing_site','Mode','source', 'departure',\n",
    "       'source_mode', 'arrival', 'destination',\n",
    "       'destination_mode', 'total_num_of_transports']]"
   ]
  },
  {
   "cell_type": "markdown",
   "id": "1d6fbf1e-e4e3-4937-9656-df4f9c8bea43",
   "metadata": {},
   "source": [
    "## Description of each field in the final_df\n",
    "\n",
    "0. ID - Unique ID for each transport\n",
    "1. Destination_Country - The country where the final goods are transported for use.\n",
    "2. Mode - This is the mode of transport from the country of manufacturing_site to the destination_country location\n",
    "3. Manufacturing_site - Name of the manufacturer where the items are made.\n",
    "4. Weight - The total weight of the item being transported in KG\n",
    "5. Delivery_Date - The date on which the delivery was completed\n",
    "6. Item Description - Description of the item being transported\n",
    "7. source - The coordinates of the manufacturing place (Latitude, Longitude)\n",
    "8. departure - The coordinates of the Airport/Port nearest to the manufacturing site from which the items are transported to the destination_country (Latitude, Longitude)\n",
    "9. source_mode - The mode of transport used to transfer the items from manufacturing site to the Airport/Port location\n",
    "10. destination_iso_country - ISO2 name for the destination country.\n",
    "11. arrival - The coordinates of the Airport/Port nearest to the destination.(Latitude, Longitude)\n",
    "12. destination - The coordinates of the destination place. (Latitude, Longitude)\n",
    "13. destination_mode - The mode of transport used to transfer the items from arrival location to destination.\n",
    "14. total_num_of_transports - Total number of transports used to reach the destination from source."
   ]
  },
  {
   "cell_type": "markdown",
   "id": "2ba86d9d-8677-448a-bbc4-48427ca5df32",
   "metadata": {},
   "source": [
    "## Finding the total distance between source to departure, departure to arrival and arrival to destination."
   ]
  },
  {
   "cell_type": "code",
   "execution_count": 43,
   "id": "90169b39-6deb-4259-978c-ae4709073150",
   "metadata": {},
   "outputs": [
    {
     "data": {
      "text/html": [
       "<div>\n",
       "<style scoped>\n",
       "    .dataframe tbody tr th:only-of-type {\n",
       "        vertical-align: middle;\n",
       "    }\n",
       "\n",
       "    .dataframe tbody tr th {\n",
       "        vertical-align: top;\n",
       "    }\n",
       "\n",
       "    .dataframe thead th {\n",
       "        text-align: right;\n",
       "    }\n",
       "</style>\n",
       "<table border=\"1\" class=\"dataframe\">\n",
       "  <thead>\n",
       "    <tr style=\"text-align: right;\">\n",
       "      <th></th>\n",
       "      <th>ID</th>\n",
       "      <th>Item Description</th>\n",
       "      <th>Weight</th>\n",
       "      <th>Delivery_Date</th>\n",
       "      <th>Destination_Country</th>\n",
       "      <th>destination_iso_country</th>\n",
       "      <th>Manufacturing_site</th>\n",
       "      <th>Mode</th>\n",
       "      <th>source</th>\n",
       "      <th>departure</th>\n",
       "      <th>source_mode</th>\n",
       "      <th>arrival</th>\n",
       "      <th>destination</th>\n",
       "      <th>destination_mode</th>\n",
       "      <th>total_num_of_transports</th>\n",
       "    </tr>\n",
       "  </thead>\n",
       "  <tbody>\n",
       "    <tr>\n",
       "      <th>802</th>\n",
       "      <td>16504</td>\n",
       "      <td>Nevirapine 200mg, tablets, 60 Tabs</td>\n",
       "      <td>4.121</td>\n",
       "      <td>2012-01-27</td>\n",
       "      <td>South Africa</td>\n",
       "      <td>ZA</td>\n",
       "      <td>Cipla, Goa, India</td>\n",
       "      <td>Ocean</td>\n",
       "      <td>POINT (15.359210000000076 73.93967000000004)</td>\n",
       "      <td>POINT (15.4 73.78333333333333)</td>\n",
       "      <td>Road</td>\n",
       "      <td>POINT (-28.78301 32.03768)</td>\n",
       "      <td>POINT (-25.745869999999968 28.187640000000044)</td>\n",
       "      <td>Road</td>\n",
       "      <td>3</td>\n",
       "    </tr>\n",
       "  </tbody>\n",
       "</table>\n",
       "</div>"
      ],
      "text/plain": [
       "        ID                    Item Description  Weight Delivery_Date  \\\n",
       "802  16504  Nevirapine 200mg, tablets, 60 Tabs   4.121    2012-01-27   \n",
       "\n",
       "    Destination_Country destination_iso_country Manufacturing_site   Mode  \\\n",
       "802        South Africa                      ZA  Cipla, Goa, India  Ocean   \n",
       "\n",
       "                                           source  \\\n",
       "802  POINT (15.359210000000076 73.93967000000004)   \n",
       "\n",
       "                          departure source_mode                     arrival  \\\n",
       "802  POINT (15.4 73.78333333333333)        Road  POINT (-28.78301 32.03768)   \n",
       "\n",
       "                                        destination destination_mode  \\\n",
       "802  POINT (-25.745869999999968 28.187640000000044)             Road   \n",
       "\n",
       "     total_num_of_transports  \n",
       "802                        3  "
      ]
     },
     "execution_count": 43,
     "metadata": {},
     "output_type": "execute_result"
    }
   ],
   "source": [
    "final_df[final_df['Mode'] == 'Ocean'].head(1)"
   ]
  },
  {
   "cell_type": "code",
   "execution_count": 48,
   "id": "cfe84d05-5128-41ee-9e88-c6852a616625",
   "metadata": {},
   "outputs": [],
   "source": [
    "\"\"\"\n",
    "Function to find the distance between coordinates for each transportation mode 'Road', 'Ocean', 'Air'\n",
    "\"\"\"\n",
    "def calculateDistance(data):\n",
    "    source_loc = data['source']\n",
    "    departure_loc = data['departure']\n",
    "    arrival_loc = data['arrival']\n",
    "    destination_loc = data['destination']\n",
    "    source_mode = data['source_mode']\n",
    "    destination_mode = data['destination_mode']\n",
    "    main_mode = data['Mode']\n",
    "    num_of_transports = data['total_num_of_transports']\n",
    "    try:\n",
    "        # Finding road distance\n",
    "        API_KEY = '5b3ce3597851110001cf6248de01212ad45649ddbb4031ce99837efa'\n",
    "        client = openrouteservice.Client(key=API_KEY)\n",
    "\n",
    "        if num_of_transports == 1:\n",
    "            print(num_of_transports)\n",
    "            # Complete road travel\n",
    "            coords = ((source_loc.y,source_loc.x), (destination_loc.y,destination_loc.x))\n",
    "            res = client.directions(coords)\n",
    "        else:\n",
    "            print(num_of_transports)\n",
    "            # Transportation from source to departure\n",
    "            if source_mode == 'Road':\n",
    "                coords = ((source_loc.y,source_loc.x),(departure_loc.y,departure_loc.x))\n",
    "                res = client.directions(coords)\n",
    "                distance = res['routes'][0]['summary']['distance']/1000\n",
    "                print('Transportation from source to departure distance in km', distance)\n",
    "                \n",
    "            # Transportation from departure to arrival\n",
    "            if main_mode == 'Air':\n",
    "                coords = ((departure_loc.y,departure_loc.x), (arrival_loc.y,arrival_loc.x))\n",
    "                print(\"Aerial Distance\",great_circle((departure_loc.x,departure_loc.y), (arrival_loc.x,arrival_loc.y)).km)\n",
    "            else:\n",
    "                coords = ((departure_loc.y,departure_loc.x), (arrival_loc.y,arrival_loc.x))\n",
    "                route = sr.searoute(coords)\n",
    "                print(\"Ocean Distance {:.1f} {}\".format(route.properties['length'], route.properties['units']))\n",
    "                \n",
    "            # Transportation from arrival to destination\n",
    "            if source_mode == 'Road':\n",
    "                coords = ((arrival_loc.y,arrival_loc.x), (destination_loc.y,destination_loc.x))\n",
    "                res = client.directions(coords)\n",
    "                distance = res['routes'][0]['summary']['distance']/1000\n",
    "                print('Transportation from source to departure distance in km', distance)\n",
    "                \n",
    "    except Exception as e:\n",
    "        print(e, data['ID'])"
   ]
  },
  {
   "cell_type": "code",
   "execution_count": null,
   "id": "eebc5973-93bb-44a7-a408-95f68773b4bc",
   "metadata": {},
   "outputs": [
    {
     "name": "stdout",
     "output_type": "stream",
     "text": [
      "3\n",
      "Transportation from source to departure distance in km 21.6558\n",
      "Aerial Distance 14721.997406823237\n",
      "Transportation from source to departure distance in km 8.6496\n",
      "3\n",
      "Transportation from source to departure distance in km 21.6558\n",
      "Aerial Distance 14721.997406823237\n",
      "Transportation from source to departure distance in km 8.6496\n",
      "3\n",
      "Transportation from source to departure distance in km 20.5772\n",
      "Aerial Distance 4851.757733147106\n",
      "Transportation from source to departure distance in km 8.6496\n",
      "3\n",
      "Transportation from source to departure distance in km 25.509700000000002\n",
      "Aerial Distance 3931.1396185157464\n",
      "Transportation from source to departure distance in km 8.6496\n",
      "3\n",
      "404 ({'error': {'code': 2010, 'message': 'Could not find routable point within a radius of 350.0 meters of specified coordinate 1: 8.5141670 49.4730570.'}, 'info': {'engine': {'version': '6.8.0', 'build_date': '2022-10-21T14:34:31Z'}, 'timestamp': 1677241091455}}) 72300\n",
      "3\n",
      "404 ({'error': {'code': 2010, 'message': 'Could not find routable point within a radius of 350.0 meters of specified coordinate 1: 8.5141670 49.4730570.'}, 'info': {'engine': {'version': '6.8.0', 'build_date': '2022-10-21T14:34:31Z'}, 'timestamp': 1677241092180}}) 79193\n",
      "3\n",
      "Transportation from source to departure distance in km 16.2013\n",
      "Aerial Distance 14364.215863826303\n",
      "Transportation from source to departure distance in km 8.6496\n",
      "3\n",
      "Transportation from source to departure distance in km 16.2013\n",
      "Aerial Distance 14364.215863826303\n",
      "Transportation from source to departure distance in km 8.6496\n",
      "3\n",
      "Transportation from source to departure distance in km 16.2013\n",
      "Aerial Distance 14364.215863826303\n",
      "Transportation from source to departure distance in km 8.6496\n",
      "3\n",
      "Transportation from source to departure distance in km 16.2013\n",
      "Aerial Distance 14364.215863826303\n",
      "Transportation from source to departure distance in km 8.6496\n",
      "3\n",
      "404 ({'error': {'code': 2010, 'message': 'Could not find routable point within a radius of 350.0 meters of specified coordinate 1: 78.4033966 17.6271992.'}, 'info': {'engine': {'version': '6.8.0', 'build_date': '2022-10-21T14:34:31Z'}, 'timestamp': 1677241096681}}) 16232\n",
      "3\n",
      "404 ({'error': {'code': 2010, 'message': 'Could not find routable point within a radius of 350.0 meters of specified coordinate 1: 78.4033966 17.6271992.'}, 'info': {'engine': {'version': '6.8.0', 'build_date': '2022-10-21T14:34:31Z'}, 'timestamp': 1677241097423}}) 20894\n",
      "3\n",
      "404 ({'error': {'code': 2010, 'message': 'Could not find routable point within a radius of 350.0 meters of specified coordinate 1: 78.4033966 17.6271992.'}, 'info': {'engine': {'version': '6.8.0', 'build_date': '2022-10-21T14:34:31Z'}, 'timestamp': 1677241098207}}) 22799\n",
      "3\n",
      "404 ({'error': {'code': 2010, 'message': 'Could not find routable point within a radius of 350.0 meters of specified coordinate 1: 78.4033966 17.6271992.'}, 'info': {'engine': {'version': '6.8.0', 'build_date': '2022-10-21T14:34:31Z'}, 'timestamp': 1677241098923}}) 36816\n",
      "3\n",
      "404 ({'error': {'code': 2010, 'message': 'Could not find routable point within a radius of 350.0 meters of specified coordinate 1: 78.4033966 17.6271992.'}, 'info': {'engine': {'version': '6.8.0', 'build_date': '2022-10-21T14:34:31Z'}, 'timestamp': 1677241099741}}) 45695\n",
      "3\n",
      "404 ({'error': {'code': 2010, 'message': 'Could not find routable point within a radius of 350.0 meters of specified coordinate 1: 78.4033966 17.6271992.'}, 'info': {'engine': {'version': '6.8.0', 'build_date': '2022-10-21T14:34:31Z'}, 'timestamp': 1677241100593}}) 54035\n",
      "3\n",
      "404 ({'error': {'code': 2010, 'message': 'Could not find routable point within a radius of 350.0 meters of specified coordinate 1: 78.4033966 17.6271992.'}, 'info': {'engine': {'version': '6.8.0', 'build_date': '2022-10-21T14:34:31Z'}, 'timestamp': 1677241101375}}) 57747\n",
      "3\n",
      "404 ({'error': {'code': 2010, 'message': 'Could not find routable point within a radius of 350.0 meters of specified coordinate 1: 78.4033966 17.6271992.'}, 'info': {'engine': {'version': '6.8.0', 'build_date': '2022-10-21T14:34:31Z'}, 'timestamp': 1677241102098}}) 81920\n",
      "3\n",
      "404 ({'error': {'code': 2010, 'message': 'Could not find routable point within a radius of 350.0 meters of specified coordinate 1: 78.4033966 17.6271992.'}, 'info': {'engine': {'version': '6.8.0', 'build_date': '2022-10-21T14:34:31Z'}, 'timestamp': 1677241102834}}) 83011\n",
      "3\n",
      "404 ({'error': {'code': 2010, 'message': 'Could not find routable point within a radius of 350.0 meters of specified coordinate 1: 78.4033966 17.6271992.'}, 'info': {'engine': {'version': '6.8.0', 'build_date': '2022-10-21T14:34:31Z'}, 'timestamp': 1677241103536}}) 83622\n",
      "3\n",
      "404 ({'error': {'code': 2010, 'message': 'Could not find routable point within a radius of 350.0 meters of specified coordinate 1: 78.4033966 17.6271992.'}, 'info': {'engine': {'version': '6.8.0', 'build_date': '2022-10-21T14:34:31Z'}, 'timestamp': 1677241104250}}) 83638\n",
      "3\n",
      "404 ({'error': {'code': 2010, 'message': 'Could not find routable point within a radius of 350.0 meters of specified coordinate 1: 78.4033966 17.6271992.'}, 'info': {'engine': {'version': '6.8.0', 'build_date': '2022-10-21T14:34:31Z'}, 'timestamp': 1677241105021}}) 84144\n",
      "3\n",
      "404 ({'error': {'code': 2010, 'message': 'Could not find routable point within a radius of 350.0 meters of specified coordinate 1: 78.4033966 17.6271992.'}, 'info': {'engine': {'version': '6.8.0', 'build_date': '2022-10-21T14:34:31Z'}, 'timestamp': 1677241105799}}) 84708\n",
      "3\n",
      "404 ({'error': {'code': 2010, 'message': 'Could not find routable point within a radius of 350.0 meters of specified coordinate 1: 78.4033966 17.6271992.'}, 'info': {'engine': {'version': '6.8.0', 'build_date': '2022-10-21T14:34:31Z'}, 'timestamp': 1677241106590}}) 84768\n",
      "3\n",
      "404 ({'error': {'code': 2010, 'message': 'Could not find routable point within a radius of 350.0 meters of specified coordinate 1: 78.4033966 17.6271992.'}, 'info': {'engine': {'version': '6.8.0', 'build_date': '2022-10-21T14:34:31Z'}, 'timestamp': 1677241107346}}) 85220\n",
      "3\n",
      "404 ({'error': {'code': 2010, 'message': 'Could not find routable point within a radius of 350.0 meters of specified coordinate 1: 78.4033966 17.6271992.'}, 'info': {'engine': {'version': '6.8.0', 'build_date': '2022-10-21T14:34:31Z'}, 'timestamp': 1677241108068}}) 85827\n",
      "3\n",
      "404 ({'error': {'code': 2010, 'message': 'Could not find routable point within a radius of 350.0 meters of specified coordinate 1: 78.4033966 17.6271992.'}, 'info': {'engine': {'version': '6.8.0', 'build_date': '2022-10-21T14:34:31Z'}, 'timestamp': 1677241108805}}) 86452\n",
      "3\n",
      "Transportation from source to departure distance in km 9.0325\n",
      "Aerial Distance 8272.839324129029\n",
      "Transportation from source to departure distance in km 8.6496\n",
      "3\n",
      "Transportation from source to departure distance in km 9.0325\n",
      "Aerial Distance 8272.839324129029\n",
      "Transportation from source to departure distance in km 8.6496\n",
      "3\n",
      "404 ({'error': {'code': 2010, 'message': 'Could not find routable point within a radius of 350.0 meters of specified coordinate 1: 121.4095080 31.3244380.'}, 'info': {'engine': {'version': '6.8.0', 'build_date': '2022-10-21T14:34:31Z'}, 'timestamp': 1677241111487}}) 27177\n",
      "3\n"
     ]
    }
   ],
   "source": [
    "final_df.apply(calculateDistance,axis=1)"
   ]
  }
 ],
 "metadata": {
  "kernelspec": {
   "display_name": "Python 3",
   "language": "python",
   "name": "python3"
  },
  "language_info": {
   "codemirror_mode": {
    "name": "ipython",
    "version": 3
   },
   "file_extension": ".py",
   "mimetype": "text/x-python",
   "name": "python",
   "nbconvert_exporter": "python",
   "pygments_lexer": "ipython3",
   "version": "3.8.8"
  }
 },
 "nbformat": 4,
 "nbformat_minor": 5
}
