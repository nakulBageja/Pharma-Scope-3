{
 "cells": [
  {
   "cell_type": "markdown",
   "id": "055de770-a459-457a-b07e-58c4989a0eca",
   "metadata": {},
   "source": [
    "# Finding scope 3 emissions of a Pharma company.\n",
    "- Scope 3 category is downstream transportation and distribution\n",
    "- Data taken from data.world\n",
    "- Distance-based methology will be used for calculations\n",
    "    - According to GHG \"If sub-contractor fuel data cannot be easily obtained in order to use the fuel-based method, then the distance-based method should be used.\""
   ]
  },
  {
   "cell_type": "markdown",
   "id": "2f59b11d-4b2a-460d-be02-4061d7dae8f1",
   "metadata": {},
   "source": [
    "# Data points required for calculations of scope 3\n",
    "1. Total distance in KM \n",
    "    - Coordinates of places\n",
    "2. Size of packages\n",
    "3. Mode of Transport\n",
    "4. Emission Factors\n",
    "5. Calculation formulaes\n",
    "    1. Emissions from road transport: = ∑ (mass of goods purchased (tonnes) × distance travelled in transport leg × emission factor of transport mode or vehicle type (kg CO2e/tonne-km)\n",
    "    2. emissions from air transport: = ∑ (quantity of goods purchased (tonnes) x distance travelled in transport leg x emission factor of transport mode or vehicle type (kg CO2e/tonne-km))\n",
    "    3. emissions from sea transport: = ∑ (quantity of goods purchased (tonnes) x distance travelled in transport leg x emission factor of transport mode or vehicle type (kg CO2e/tonne-km))"
   ]
  },
  {
   "cell_type": "markdown",
   "id": "7f885904-68b9-49be-9d37-3191d21b2b09",
   "metadata": {},
   "source": [
    "### Steps I took\n",
    "1. Searching for dataset\n",
    "2. Understanding the dataset and making calculative assumptions\n",
    "    - Assumptions made should have proper justification.\n",
    "3. Listing down the data points required for calculations\n",
    "4. Listing down the calculation formulaes\n",
    "5. Filtering out the data columns required from main data\n",
    "6. Exploratory Data Analysis\n",
    "7. Choosing a single year for calculations\n"
   ]
  },
  {
   "cell_type": "markdown",
   "id": "40b463c6-8a67-496c-bc23-a48e2c822f07",
   "metadata": {},
   "source": [
    "## Data columns\n",
    "1. Country - Destination location\n",
    "2. Mode - Mode of transport (Air, Ocean, Road)\n",
    "3. Weight - Kilogram of weight\n",
    "4. Delivery Date - Date of delivery\n",
    "5. Manufacturing Site - Source location"
   ]
  },
  {
   "cell_type": "code",
   "execution_count": 21,
   "id": "a65c1b32-7ac8-4c23-a03b-27423a48e6d0",
   "metadata": {},
   "outputs": [],
   "source": [
    "# Import libraries\n",
    "import pandas as pd\n",
    "import numpy as np\n",
    "\n",
    "# For geolocation\n",
    "from geopy.geocoders import ArcGIS\n",
    "\n",
    "# For calculation of source airport/port\n",
    "from math import radians, sin, cos, sqrt, atan2\n",
    "\n",
    "# Calculating the time\n",
    "import time\n",
    "\n",
    "# For converting country name to iso_2 codes\n",
    "import country_converter as coco"
   ]
  },
  {
   "cell_type": "code",
   "execution_count": 2,
   "id": "f4b59532-4b31-4090-98f7-8ce7cfcdbe1a",
   "metadata": {},
   "outputs": [],
   "source": [
    "# Collecting data\n",
    "raw_df = pd.read_csv(\"./Data/SCMS_Delivery_History_Dataset_20150929.csv\")"
   ]
  },
  {
   "cell_type": "code",
   "execution_count": 3,
   "id": "2a81abc2-ed76-47d2-b5ee-23406a84a713",
   "metadata": {},
   "outputs": [],
   "source": [
    "# Filtering out required columns from the main data.\n",
    "\n",
    "filtered_df = raw_df[['ID','Country','Shipment Mode','Manufacturing Site','Weight (Kilograms)','Delivery Recorded Date','Item Description']].copy()\n",
    "filtered_df.rename(columns={\"Shipment Mode\":\"Mode\",\"Weight (Kilograms)\":\"Weight\",\"Delivery Recorded Date\":\"Delivery_Date\",'Manufacturing Site':'Manufacturing_site'},inplace=True)"
   ]
  },
  {
   "cell_type": "code",
   "execution_count": 4,
   "id": "335729fd-c141-4bed-b701-1c08e2b47eae",
   "metadata": {},
   "outputs": [],
   "source": [
    "# Converting Delivery Date to datetime datatype\n",
    "filtered_df.loc[:,'Delivery_Date'] = pd.to_datetime(filtered_df['Delivery_Date'])"
   ]
  },
  {
   "cell_type": "markdown",
   "id": "13cdbab8-27fc-409e-8007-749c6b55ee4c",
   "metadata": {},
   "source": [
    "# Exploratory Data Analysis"
   ]
  },
  {
   "cell_type": "code",
   "execution_count": 5,
   "id": "0efa259b-cfc8-4075-a83f-d37d9ecbd1da",
   "metadata": {},
   "outputs": [
    {
     "data": {
      "text/plain": [
       "Delivery_Date\n",
       "2006      65\n",
       "2007     670\n",
       "2008    1109\n",
       "2009    1192\n",
       "2010    1176\n",
       "2011    1049\n",
       "2012    1250\n",
       "2013    1205\n",
       "2014    1599\n",
       "2015    1009\n",
       "Name: Delivery_Date, dtype: int64"
      ]
     },
     "execution_count": 5,
     "metadata": {},
     "output_type": "execute_result"
    }
   ],
   "source": [
    "# Checking total number of data points for each year\n",
    "filtered_df['Delivery_Date'].groupby(by=filtered_df['Delivery_Date'].dt.year).size()"
   ]
  },
  {
   "cell_type": "code",
   "execution_count": 6,
   "id": "296c29e1-1fd6-48e7-b90b-098242e388ae",
   "metadata": {},
   "outputs": [
    {
     "data": {
      "text/plain": [
       "ID                      0\n",
       "Country                 0\n",
       "Mode                  360\n",
       "Manufacturing_site      0\n",
       "Weight                  0\n",
       "Delivery_Date           0\n",
       "Item Description        0\n",
       "dtype: int64"
      ]
     },
     "execution_count": 6,
     "metadata": {},
     "output_type": "execute_result"
    }
   ],
   "source": [
    "# Check for null values\n",
    "filtered_df.isna().sum()"
   ]
  },
  {
   "cell_type": "markdown",
   "id": "643d2fdb-954e-4c2a-a36d-f1c796823a18",
   "metadata": {},
   "source": [
    "Null values found in the mode of transport. "
   ]
  },
  {
   "cell_type": "code",
   "execution_count": 7,
   "id": "403ddfa9-ff8f-4f57-bac9-34867916bce4",
   "metadata": {},
   "outputs": [
    {
     "data": {
      "text/plain": [
       "Delivery_Date\n",
       "2006      2\n",
       "2007    264\n",
       "2008     94\n",
       "dtype: int64"
      ]
     },
     "execution_count": 7,
     "metadata": {},
     "output_type": "execute_result"
    }
   ],
   "source": [
    "# Checking Mode column's null values\n",
    "\n",
    "# filtered_df[filtered_df['Mode'].isna()]\n",
    "\n",
    "# Counting the number of null values per year\n",
    "filtered_df[filtered_df['Mode'].isna()].groupby(by=filtered_df['Delivery_Date'].dt.year).size()"
   ]
  },
  {
   "cell_type": "markdown",
   "id": "9d51a8b1-8340-4797-a0df-20bc81c858b4",
   "metadata": {},
   "source": [
    "Since mode of transport is not available for these years (2006,2007,2008) I will not consider these years for our base year.\n",
    "Even though year 2006 has only 2 NaN rows for Mode, the number of data points are only 65. Thus not enough to consider as base year as compared to other years."
   ]
  },
  {
   "cell_type": "code",
   "execution_count": 8,
   "id": "7c7d5064-a178-4146-9139-d4beb59db43a",
   "metadata": {
    "tags": []
   },
   "outputs": [
    {
     "data": {
      "text/html": [
       "<div>\n",
       "<style scoped>\n",
       "    .dataframe tbody tr th:only-of-type {\n",
       "        vertical-align: middle;\n",
       "    }\n",
       "\n",
       "    .dataframe tbody tr th {\n",
       "        vertical-align: top;\n",
       "    }\n",
       "\n",
       "    .dataframe thead th {\n",
       "        text-align: right;\n",
       "    }\n",
       "</style>\n",
       "<table border=\"1\" class=\"dataframe\">\n",
       "  <thead>\n",
       "    <tr style=\"text-align: right;\">\n",
       "      <th></th>\n",
       "      <th>ID</th>\n",
       "      <th>Country</th>\n",
       "      <th>Mode</th>\n",
       "      <th>Manufacturing_site</th>\n",
       "      <th>Weight</th>\n",
       "      <th>Delivery_Date</th>\n",
       "      <th>Item Description</th>\n",
       "    </tr>\n",
       "  </thead>\n",
       "  <tbody>\n",
       "    <tr>\n",
       "      <th>8</th>\n",
       "      <td>46</td>\n",
       "      <td>Nigeria</td>\n",
       "      <td>Air</td>\n",
       "      <td>Aurobindo Unit III, India</td>\n",
       "      <td>See ASN-93 (ID#:1281)</td>\n",
       "      <td>2006-12-07</td>\n",
       "      <td>Stavudine 30mg, capsules, 60 Caps</td>\n",
       "    </tr>\n",
       "    <tr>\n",
       "      <th>12</th>\n",
       "      <td>62</td>\n",
       "      <td>Nigeria</td>\n",
       "      <td>Air</td>\n",
       "      <td>EY Laboratories, USA</td>\n",
       "      <td>Weight Captured Separately</td>\n",
       "      <td>2007-01-10</td>\n",
       "      <td>HIV 1/2, InstantChek HIV 1+2 Kit, 100 Tests</td>\n",
       "    </tr>\n",
       "    <tr>\n",
       "      <th>15</th>\n",
       "      <td>68</td>\n",
       "      <td>Zimbabwe</td>\n",
       "      <td>Air</td>\n",
       "      <td>BMS Meymac, France</td>\n",
       "      <td>Weight Captured Separately</td>\n",
       "      <td>2007-03-19</td>\n",
       "      <td>#102198**Didanosine 200mg [Videx], tablets, 60...</td>\n",
       "    </tr>\n",
       "    <tr>\n",
       "      <th>16</th>\n",
       "      <td>69</td>\n",
       "      <td>Nigeria</td>\n",
       "      <td>NaN</td>\n",
       "      <td>ABBVIE GmbH &amp; Co.KG Wiesbaden</td>\n",
       "      <td>Weight Captured Separately</td>\n",
       "      <td>2007-05-07</td>\n",
       "      <td>HIV 1/2, Determine Complete HIV Kit, 100 Tests</td>\n",
       "    </tr>\n",
       "    <tr>\n",
       "      <th>31</th>\n",
       "      <td>262</td>\n",
       "      <td>South Africa</td>\n",
       "      <td>NaN</td>\n",
       "      <td>GSK Mississauga (Canada)</td>\n",
       "      <td>Weight Captured Separately</td>\n",
       "      <td>2008-01-29</td>\n",
       "      <td>Zidovudine 10mg/ml [Retrovir], oral solution, ...</td>\n",
       "    </tr>\n",
       "    <tr>\n",
       "      <th>...</th>\n",
       "      <td>...</td>\n",
       "      <td>...</td>\n",
       "      <td>...</td>\n",
       "      <td>...</td>\n",
       "      <td>...</td>\n",
       "      <td>...</td>\n",
       "      <td>...</td>\n",
       "    </tr>\n",
       "    <tr>\n",
       "      <th>10318</th>\n",
       "      <td>86817</td>\n",
       "      <td>Zimbabwe</td>\n",
       "      <td>Truck</td>\n",
       "      <td>Cipla, Goa, India</td>\n",
       "      <td>See DN-4307 (ID#:83920)</td>\n",
       "      <td>2015-07-20</td>\n",
       "      <td>Lamivudine/Nevirapine/Zidovudine 30/50/60mg, d...</td>\n",
       "    </tr>\n",
       "    <tr>\n",
       "      <th>10319</th>\n",
       "      <td>86818</td>\n",
       "      <td>Zimbabwe</td>\n",
       "      <td>Truck</td>\n",
       "      <td>Mylan,  H-12 &amp; H-13, India</td>\n",
       "      <td>See DN-4307 (ID#:83920)</td>\n",
       "      <td>2015-07-20</td>\n",
       "      <td>Lamivudine/Nevirapine/Zidovudine 30/50/60mg, d...</td>\n",
       "    </tr>\n",
       "    <tr>\n",
       "      <th>10320</th>\n",
       "      <td>86819</td>\n",
       "      <td>C�te d'Ivoire</td>\n",
       "      <td>Truck</td>\n",
       "      <td>Hetero Unit III Hyderabad IN</td>\n",
       "      <td>See DN-4313 (ID#:83921)</td>\n",
       "      <td>2015-08-07</td>\n",
       "      <td>Lamivudine/Zidovudine 150/300mg, tablets, 60 Tabs</td>\n",
       "    </tr>\n",
       "    <tr>\n",
       "      <th>10321</th>\n",
       "      <td>86821</td>\n",
       "      <td>Zambia</td>\n",
       "      <td>Truck</td>\n",
       "      <td>Cipla Ltd A-42 MIDC Mahar. IN</td>\n",
       "      <td>Weight Captured Separately</td>\n",
       "      <td>2015-09-03</td>\n",
       "      <td>Efavirenz/Lamivudine/Tenofovir Disoproxil Fuma...</td>\n",
       "    </tr>\n",
       "    <tr>\n",
       "      <th>10323</th>\n",
       "      <td>86823</td>\n",
       "      <td>Zimbabwe</td>\n",
       "      <td>Truck</td>\n",
       "      <td>Cipla, Goa, India</td>\n",
       "      <td>Weight Captured Separately</td>\n",
       "      <td>2015-08-11</td>\n",
       "      <td>Lamivudine/Zidovudine 30/60mg, dispersible tab...</td>\n",
       "    </tr>\n",
       "  </tbody>\n",
       "</table>\n",
       "<p>3952 rows × 7 columns</p>\n",
       "</div>"
      ],
      "text/plain": [
       "          ID        Country   Mode             Manufacturing_site  \\\n",
       "8         46        Nigeria    Air      Aurobindo Unit III, India   \n",
       "12        62        Nigeria    Air           EY Laboratories, USA   \n",
       "15        68       Zimbabwe    Air             BMS Meymac, France   \n",
       "16        69        Nigeria    NaN  ABBVIE GmbH & Co.KG Wiesbaden   \n",
       "31       262   South Africa    NaN       GSK Mississauga (Canada)   \n",
       "...      ...            ...    ...                            ...   \n",
       "10318  86817       Zimbabwe  Truck              Cipla, Goa, India   \n",
       "10319  86818       Zimbabwe  Truck     Mylan,  H-12 & H-13, India   \n",
       "10320  86819  C�te d'Ivoire  Truck   Hetero Unit III Hyderabad IN   \n",
       "10321  86821         Zambia  Truck  Cipla Ltd A-42 MIDC Mahar. IN   \n",
       "10323  86823       Zimbabwe  Truck              Cipla, Goa, India   \n",
       "\n",
       "                           Weight Delivery_Date  \\\n",
       "8           See ASN-93 (ID#:1281)    2006-12-07   \n",
       "12     Weight Captured Separately    2007-01-10   \n",
       "15     Weight Captured Separately    2007-03-19   \n",
       "16     Weight Captured Separately    2007-05-07   \n",
       "31     Weight Captured Separately    2008-01-29   \n",
       "...                           ...           ...   \n",
       "10318     See DN-4307 (ID#:83920)    2015-07-20   \n",
       "10319     See DN-4307 (ID#:83920)    2015-07-20   \n",
       "10320     See DN-4313 (ID#:83921)    2015-08-07   \n",
       "10321  Weight Captured Separately    2015-09-03   \n",
       "10323  Weight Captured Separately    2015-08-11   \n",
       "\n",
       "                                        Item Description  \n",
       "8                      Stavudine 30mg, capsules, 60 Caps  \n",
       "12           HIV 1/2, InstantChek HIV 1+2 Kit, 100 Tests  \n",
       "15     #102198**Didanosine 200mg [Videx], tablets, 60...  \n",
       "16        HIV 1/2, Determine Complete HIV Kit, 100 Tests  \n",
       "31     Zidovudine 10mg/ml [Retrovir], oral solution, ...  \n",
       "...                                                  ...  \n",
       "10318  Lamivudine/Nevirapine/Zidovudine 30/50/60mg, d...  \n",
       "10319  Lamivudine/Nevirapine/Zidovudine 30/50/60mg, d...  \n",
       "10320  Lamivudine/Zidovudine 150/300mg, tablets, 60 Tabs  \n",
       "10321  Efavirenz/Lamivudine/Tenofovir Disoproxil Fuma...  \n",
       "10323  Lamivudine/Zidovudine 30/60mg, dispersible tab...  \n",
       "\n",
       "[3952 rows x 7 columns]"
      ]
     },
     "execution_count": 8,
     "metadata": {},
     "output_type": "execute_result"
    }
   ],
   "source": [
    "# Checking Weight column values\n",
    "filtered_df[filtered_df['Weight'].str.isnumeric() == False]"
   ]
  },
  {
   "cell_type": "markdown",
   "id": "a91580e3-54e8-46f8-b0ff-aa69bcbad77d",
   "metadata": {},
   "source": [
    "As you can see above the weight column has non-numeric values 'Weight Captured Separately', thus the values for these rows are not available. While values like 'See ASN-93 (ID#:1281)' can be found by mapping to that particular ID and getting the weight"
   ]
  },
  {
   "cell_type": "code",
   "execution_count": 9,
   "id": "1c4c2eb7-31cb-4093-af50-8be479f9aaec",
   "metadata": {},
   "outputs": [
    {
     "data": {
      "text/plain": [
       "Delivery_Date\n",
       "2006      6\n",
       "2007     28\n",
       "2008    233\n",
       "2009    262\n",
       "2010     67\n",
       "2011     56\n",
       "2012     33\n",
       "2013     80\n",
       "2014    386\n",
       "2015    356\n",
       "dtype: int64"
      ]
     },
     "execution_count": 9,
     "metadata": {},
     "output_type": "execute_result"
    }
   ],
   "source": [
    "# Counting the number of 'Weight Captured Separately' values in weight columns per year.\n",
    "\n",
    "filtered_df[(filtered_df['Weight'].str.isnumeric() == False) & (filtered_df['Weight'] == 'Weight Captured Separately')].groupby(by=filtered_df['Delivery_Date'].dt.year).size()"
   ]
  },
  {
   "cell_type": "markdown",
   "id": "28ad597c-b947-4a96-8e00-dfaceee53c68",
   "metadata": {},
   "source": [
    "Seeing that 2012 has least number of 'Weight Captured Separately' values and it has good number of data points i.e. 1250. We can consider it as our base year."
   ]
  },
  {
   "cell_type": "markdown",
   "id": "8e429f68-9191-429a-ac85-66d5093dee6a",
   "metadata": {},
   "source": [
    "# Data Cleaning"
   ]
  },
  {
   "cell_type": "markdown",
   "id": "0a584d30-1704-4529-9016-393b4bb7f73a",
   "metadata": {},
   "source": [
    "## Fixing Weight column"
   ]
  },
  {
   "cell_type": "code",
   "execution_count": 10,
   "id": "a9e076bf-8ad0-4f5e-b803-03222fcdd984",
   "metadata": {},
   "outputs": [],
   "source": [
    "# Filtering out 'Weight Captured Separately' rows from Final dataset\n",
    "final_df = filtered_df[(filtered_df['Delivery_Date'].dt.year == 2012) & (filtered_df['Weight'] != 'Weight Captured Separately')].copy()\n",
    "final_df.reset_index(inplace = True, drop = True)"
   ]
  },
  {
   "cell_type": "code",
   "execution_count": 11,
   "id": "4c9d3d99-fa50-4408-b4fa-45e709e99eec",
   "metadata": {},
   "outputs": [],
   "source": [
    "# Function to resolve \"See DN-2947 (ID#:83642)\" given in weight column and adding the weight\n",
    "\n",
    "def mapWeights(weight):\n",
    "    try:\n",
    "        if weight.isnumeric() == False:\n",
    "            ID = weight[-6:-1]\n",
    "            weight_returned = filtered_df[filtered_df['ID'] == int(ID)]['Weight'].iloc[0]\n",
    "            if weight_returned == 'Weight Captured Separately':\n",
    "                return None\n",
    "#             print(f'{ID} -- {weight_returned}')\n",
    "            return float(weight_returned)\n",
    "        return float(weight)\n",
    "    except Exception as e:\n",
    "        print(f'Error == {e} \\n {weight[-6:-1]} --- {filtered_df[filtered_df[\"ID\"] == int(weight[-6:-1])][\"Weight\"].iloc[0]}')"
   ]
  },
  {
   "cell_type": "code",
   "execution_count": 12,
   "id": "5c06a56a-be34-4622-b6b2-f43e1e309337",
   "metadata": {},
   "outputs": [],
   "source": [
    "weights = final_df['Weight'].apply(mapWeights)"
   ]
  },
  {
   "cell_type": "code",
   "execution_count": 13,
   "id": "20a5124d-78a6-482c-a70c-d917c3bfee5f",
   "metadata": {},
   "outputs": [],
   "source": [
    "# Adding weights list to the df\n",
    "final_df.loc[:,'Weight'] = weights"
   ]
  },
  {
   "cell_type": "code",
   "execution_count": 14,
   "id": "3b53a368-66fc-4f9d-bd7e-8812b2dfb3fd",
   "metadata": {},
   "outputs": [],
   "source": [
    "# Removing None value rows for weight\n",
    "\n",
    "final_df = final_df[final_df['Weight'].isna() == False]"
   ]
  },
  {
   "cell_type": "code",
   "execution_count": 15,
   "id": "b7282222-74e7-4471-b6ba-37836675695b",
   "metadata": {},
   "outputs": [],
   "source": [
    "# Converting Weights from KG to Tonnes\n",
    "# 1 kilogram = 0.001 tonne\n",
    "\n",
    "final_df['Weight'] = final_df['Weight'] * 0.001"
   ]
  },
  {
   "cell_type": "markdown",
   "id": "688a2808-46b2-489b-83ff-474b69d3fc5a",
   "metadata": {},
   "source": [
    "## Getting Location coordinates of Source Location and Destination Location"
   ]
  },
  {
   "cell_type": "markdown",
   "id": "28616a30-058c-4991-a0ed-b1c5ef25fdbd",
   "metadata": {},
   "source": [
    "### If Mode of Transport is,\n",
    "1. Air and Truck, then we get the Airport coordinates of the Capital City of the Country given\n",
    "2. Ocean, then we get the coordinates of the main port of the country."
   ]
  },
  {
   "cell_type": "markdown",
   "id": "38316b77-db0f-423a-9794-a42fcd72bded",
   "metadata": {},
   "source": [
    "## To-Do\n",
    "- Source \n",
    "1. Get the appropriate location name, port/airport.\n",
    "2. Get the coordinates\n",
    "- Destination\n",
    "1. Get the coordinates"
   ]
  },
  {
   "cell_type": "code",
   "execution_count": 16,
   "id": "f20792be-9895-424e-ae4d-a06fabbfcb03",
   "metadata": {},
   "outputs": [],
   "source": [
    "# Getting airports data\n",
    "raw_airport_db = pd.read_csv('Data/airports.csv')"
   ]
  },
  {
   "cell_type": "code",
   "execution_count": 17,
   "id": "d23a97f4-250a-4882-938e-47650e092b14",
   "metadata": {},
   "outputs": [],
   "source": [
    "# Getting required columns \n",
    "db = raw_airport_db[['type','latitude_deg','longitude_deg','name','iso_country','municipality']]\n",
    "final_airport_db = db[db['type'].str.lower().str.contains('airport')]"
   ]
  },
  {
   "cell_type": "code",
   "execution_count": 18,
   "id": "1664df45-564a-484c-a313-487278ba5a79",
   "metadata": {},
   "outputs": [
    {
     "data": {
      "text/html": [
       "<div>\n",
       "<style scoped>\n",
       "    .dataframe tbody tr th:only-of-type {\n",
       "        vertical-align: middle;\n",
       "    }\n",
       "\n",
       "    .dataframe tbody tr th {\n",
       "        vertical-align: top;\n",
       "    }\n",
       "\n",
       "    .dataframe thead th {\n",
       "        text-align: right;\n",
       "    }\n",
       "</style>\n",
       "<table border=\"1\" class=\"dataframe\">\n",
       "  <thead>\n",
       "    <tr style=\"text-align: right;\">\n",
       "      <th></th>\n",
       "      <th>type</th>\n",
       "      <th>latitude_deg</th>\n",
       "      <th>longitude_deg</th>\n",
       "      <th>name</th>\n",
       "      <th>iso_country</th>\n",
       "      <th>municipality</th>\n",
       "    </tr>\n",
       "  </thead>\n",
       "  <tbody>\n",
       "    <tr>\n",
       "      <th>1</th>\n",
       "      <td>small_airport</td>\n",
       "      <td>38.704022</td>\n",
       "      <td>-101.473911</td>\n",
       "      <td>Aero B Ranch Airport</td>\n",
       "      <td>US</td>\n",
       "      <td>Leoti</td>\n",
       "    </tr>\n",
       "    <tr>\n",
       "      <th>2</th>\n",
       "      <td>small_airport</td>\n",
       "      <td>59.947733</td>\n",
       "      <td>-151.692524</td>\n",
       "      <td>Lowell Field</td>\n",
       "      <td>US</td>\n",
       "      <td>Anchor Point</td>\n",
       "    </tr>\n",
       "    <tr>\n",
       "      <th>3</th>\n",
       "      <td>small_airport</td>\n",
       "      <td>34.864799</td>\n",
       "      <td>-86.770302</td>\n",
       "      <td>Epps Airpark</td>\n",
       "      <td>US</td>\n",
       "      <td>Harvest</td>\n",
       "    </tr>\n",
       "    <tr>\n",
       "      <th>5</th>\n",
       "      <td>small_airport</td>\n",
       "      <td>34.942803</td>\n",
       "      <td>-97.818019</td>\n",
       "      <td>Fulton Airport</td>\n",
       "      <td>US</td>\n",
       "      <td>Alex</td>\n",
       "    </tr>\n",
       "    <tr>\n",
       "      <th>6</th>\n",
       "      <td>small_airport</td>\n",
       "      <td>34.305599</td>\n",
       "      <td>-112.165001</td>\n",
       "      <td>Cordes Airport</td>\n",
       "      <td>US</td>\n",
       "      <td>Cordes</td>\n",
       "    </tr>\n",
       "    <tr>\n",
       "      <th>...</th>\n",
       "      <td>...</td>\n",
       "      <td>...</td>\n",
       "      <td>...</td>\n",
       "      <td>...</td>\n",
       "      <td>...</td>\n",
       "      <td>...</td>\n",
       "    </tr>\n",
       "    <tr>\n",
       "      <th>74638</th>\n",
       "      <td>medium_airport</td>\n",
       "      <td>40.542524</td>\n",
       "      <td>122.358600</td>\n",
       "      <td>Yingkou Lanqi Airport</td>\n",
       "      <td>CN</td>\n",
       "      <td>Laobian, Yingkou</td>\n",
       "    </tr>\n",
       "    <tr>\n",
       "      <th>74639</th>\n",
       "      <td>medium_airport</td>\n",
       "      <td>41.784401</td>\n",
       "      <td>123.496002</td>\n",
       "      <td>Shenyang Dongta Airport</td>\n",
       "      <td>CN</td>\n",
       "      <td>Dadong, Shenyang</td>\n",
       "    </tr>\n",
       "    <tr>\n",
       "      <th>74641</th>\n",
       "      <td>small_airport</td>\n",
       "      <td>-11.584278</td>\n",
       "      <td>47.296389</td>\n",
       "      <td>Glorioso Islands Airstrip</td>\n",
       "      <td>TF</td>\n",
       "      <td>Grande Glorieuse</td>\n",
       "    </tr>\n",
       "    <tr>\n",
       "      <th>74642</th>\n",
       "      <td>small_airport</td>\n",
       "      <td>32.110587</td>\n",
       "      <td>-97.356312</td>\n",
       "      <td>Fainting Goat Airport</td>\n",
       "      <td>US</td>\n",
       "      <td>Blum</td>\n",
       "    </tr>\n",
       "    <tr>\n",
       "      <th>74644</th>\n",
       "      <td>small_airport</td>\n",
       "      <td>30.784722</td>\n",
       "      <td>130.270556</td>\n",
       "      <td>Satsuma Iōjima Airport</td>\n",
       "      <td>JP</td>\n",
       "      <td>Mishima</td>\n",
       "    </tr>\n",
       "  </tbody>\n",
       "</table>\n",
       "<p>44441 rows × 6 columns</p>\n",
       "</div>"
      ],
      "text/plain": [
       "                 type  latitude_deg  longitude_deg                       name  \\\n",
       "1       small_airport     38.704022    -101.473911       Aero B Ranch Airport   \n",
       "2       small_airport     59.947733    -151.692524               Lowell Field   \n",
       "3       small_airport     34.864799     -86.770302               Epps Airpark   \n",
       "5       small_airport     34.942803     -97.818019             Fulton Airport   \n",
       "6       small_airport     34.305599    -112.165001             Cordes Airport   \n",
       "...               ...           ...            ...                        ...   \n",
       "74638  medium_airport     40.542524     122.358600      Yingkou Lanqi Airport   \n",
       "74639  medium_airport     41.784401     123.496002    Shenyang Dongta Airport   \n",
       "74641   small_airport    -11.584278      47.296389  Glorioso Islands Airstrip   \n",
       "74642   small_airport     32.110587     -97.356312      Fainting Goat Airport   \n",
       "74644   small_airport     30.784722     130.270556     Satsuma Iōjima Airport   \n",
       "\n",
       "      iso_country      municipality  \n",
       "1              US             Leoti  \n",
       "2              US      Anchor Point  \n",
       "3              US           Harvest  \n",
       "5              US              Alex  \n",
       "6              US            Cordes  \n",
       "...           ...               ...  \n",
       "74638          CN  Laobian, Yingkou  \n",
       "74639          CN  Dadong, Shenyang  \n",
       "74641          TF  Grande Glorieuse  \n",
       "74642          US              Blum  \n",
       "74644          JP           Mishima  \n",
       "\n",
       "[44441 rows x 6 columns]"
      ]
     },
     "execution_count": 18,
     "metadata": {},
     "output_type": "execute_result"
    }
   ],
   "source": [
    "final_airport_db"
   ]
  },
  {
   "cell_type": "code",
   "execution_count": 83,
   "id": "c993683d-3e9d-4d10-8d13-03aeeceb888a",
   "metadata": {},
   "outputs": [],
   "source": [
    "# Initialising geolocation object\n",
    "nom = ArcGIS()\n",
    "# Initialising Country converted object\n",
    "cc = coco.CountryConverter()\n",
    "# Lists to append Source Latitude and Longitudes\n",
    "source_latitude = []\n",
    "source_longitude = []\n",
    "data = {'site':[],'latitude':[],'longitude':[],'mode':[]}\n",
    "source_locations = pd.DataFrame(data)"
   ]
  },
  {
   "cell_type": "code",
   "execution_count": 90,
   "id": "acb11a0f-552c-459b-8b9d-aff981380b83",
   "metadata": {},
   "outputs": [
    {
     "data": {
      "text/html": [
       "<div>\n",
       "<style scoped>\n",
       "    .dataframe tbody tr th:only-of-type {\n",
       "        vertical-align: middle;\n",
       "    }\n",
       "\n",
       "    .dataframe tbody tr th {\n",
       "        vertical-align: top;\n",
       "    }\n",
       "\n",
       "    .dataframe thead th {\n",
       "        text-align: right;\n",
       "    }\n",
       "</style>\n",
       "<table border=\"1\" class=\"dataframe\">\n",
       "  <thead>\n",
       "    <tr style=\"text-align: right;\">\n",
       "      <th></th>\n",
       "      <th>site</th>\n",
       "      <th>latitude</th>\n",
       "      <th>longitude</th>\n",
       "      <th>mode</th>\n",
       "    </tr>\n",
       "  </thead>\n",
       "  <tbody>\n",
       "    <tr>\n",
       "      <th>10</th>\n",
       "      <td>Mylan (formerly Matrix) Nashik</td>\n",
       "      <td>19.8841</td>\n",
       "      <td>73.840567</td>\n",
       "      <td>air</td>\n",
       "    </tr>\n",
       "    <tr>\n",
       "      <th>17</th>\n",
       "      <td>Mylan (formerly Matrix) Nashik</td>\n",
       "      <td>19.8841</td>\n",
       "      <td>73.840567</td>\n",
       "      <td>air</td>\n",
       "    </tr>\n",
       "    <tr>\n",
       "      <th>20</th>\n",
       "      <td>Mylan (formerly Matrix) Nashik</td>\n",
       "      <td>19.8841</td>\n",
       "      <td>73.840567</td>\n",
       "      <td>air</td>\n",
       "    </tr>\n",
       "    <tr>\n",
       "      <th>21</th>\n",
       "      <td>Mylan (formerly Matrix) Nashik</td>\n",
       "      <td>19.8841</td>\n",
       "      <td>73.840567</td>\n",
       "      <td>air</td>\n",
       "    </tr>\n",
       "    <tr>\n",
       "      <th>22</th>\n",
       "      <td>Mylan (formerly Matrix) Nashik</td>\n",
       "      <td>19.8841</td>\n",
       "      <td>73.840567</td>\n",
       "      <td>air</td>\n",
       "    </tr>\n",
       "    <tr>\n",
       "      <th>23</th>\n",
       "      <td>Mylan (formerly Matrix) Nashik</td>\n",
       "      <td>19.8841</td>\n",
       "      <td>73.840567</td>\n",
       "      <td>air</td>\n",
       "    </tr>\n",
       "    <tr>\n",
       "      <th>24</th>\n",
       "      <td>Mylan (formerly Matrix) Nashik</td>\n",
       "      <td>19.8841</td>\n",
       "      <td>73.840567</td>\n",
       "      <td>air</td>\n",
       "    </tr>\n",
       "    <tr>\n",
       "      <th>25</th>\n",
       "      <td>Mylan (formerly Matrix) Nashik</td>\n",
       "      <td>NaN</td>\n",
       "      <td>NaN</td>\n",
       "      <td>ocean</td>\n",
       "    </tr>\n",
       "    <tr>\n",
       "      <th>28</th>\n",
       "      <td>Mylan (formerly Matrix) Nashik</td>\n",
       "      <td>NaN</td>\n",
       "      <td>NaN</td>\n",
       "      <td>ocean</td>\n",
       "    </tr>\n",
       "    <tr>\n",
       "      <th>29</th>\n",
       "      <td>Mylan (formerly Matrix) Nashik</td>\n",
       "      <td>19.8841</td>\n",
       "      <td>73.840567</td>\n",
       "      <td>air</td>\n",
       "    </tr>\n",
       "    <tr>\n",
       "      <th>41</th>\n",
       "      <td>Mylan (formerly Matrix) Nashik</td>\n",
       "      <td>19.8841</td>\n",
       "      <td>73.840567</td>\n",
       "      <td>air</td>\n",
       "    </tr>\n",
       "    <tr>\n",
       "      <th>43</th>\n",
       "      <td>Mylan (formerly Matrix) Nashik</td>\n",
       "      <td>19.8841</td>\n",
       "      <td>73.840567</td>\n",
       "      <td>air</td>\n",
       "    </tr>\n",
       "    <tr>\n",
       "      <th>44</th>\n",
       "      <td>Mylan (formerly Matrix) Nashik</td>\n",
       "      <td>19.8841</td>\n",
       "      <td>73.840567</td>\n",
       "      <td>air</td>\n",
       "    </tr>\n",
       "    <tr>\n",
       "      <th>45</th>\n",
       "      <td>Mylan (formerly Matrix) Nashik</td>\n",
       "      <td>NaN</td>\n",
       "      <td>NaN</td>\n",
       "      <td>ocean</td>\n",
       "    </tr>\n",
       "    <tr>\n",
       "      <th>48</th>\n",
       "      <td>Mylan (formerly Matrix) Nashik</td>\n",
       "      <td>19.8841</td>\n",
       "      <td>73.840567</td>\n",
       "      <td>air</td>\n",
       "    </tr>\n",
       "    <tr>\n",
       "      <th>51</th>\n",
       "      <td>Mylan (formerly Matrix) Nashik</td>\n",
       "      <td>19.8841</td>\n",
       "      <td>73.840567</td>\n",
       "      <td>air</td>\n",
       "    </tr>\n",
       "    <tr>\n",
       "      <th>52</th>\n",
       "      <td>Mylan (formerly Matrix) Nashik</td>\n",
       "      <td>19.8841</td>\n",
       "      <td>73.840567</td>\n",
       "      <td>air</td>\n",
       "    </tr>\n",
       "    <tr>\n",
       "      <th>54</th>\n",
       "      <td>Mylan (formerly Matrix) Nashik</td>\n",
       "      <td>NaN</td>\n",
       "      <td>NaN</td>\n",
       "      <td>ocean</td>\n",
       "    </tr>\n",
       "    <tr>\n",
       "      <th>58</th>\n",
       "      <td>Mylan (formerly Matrix) Nashik</td>\n",
       "      <td>19.8841</td>\n",
       "      <td>73.840567</td>\n",
       "      <td>air</td>\n",
       "    </tr>\n",
       "    <tr>\n",
       "      <th>60</th>\n",
       "      <td>Mylan (formerly Matrix) Nashik</td>\n",
       "      <td>19.8841</td>\n",
       "      <td>73.840567</td>\n",
       "      <td>air</td>\n",
       "    </tr>\n",
       "    <tr>\n",
       "      <th>61</th>\n",
       "      <td>Mylan (formerly Matrix) Nashik</td>\n",
       "      <td>NaN</td>\n",
       "      <td>NaN</td>\n",
       "      <td>ocean</td>\n",
       "    </tr>\n",
       "    <tr>\n",
       "      <th>62</th>\n",
       "      <td>Mylan (formerly Matrix) Nashik</td>\n",
       "      <td>19.8841</td>\n",
       "      <td>73.840567</td>\n",
       "      <td>air</td>\n",
       "    </tr>\n",
       "    <tr>\n",
       "      <th>65</th>\n",
       "      <td>Mylan (formerly Matrix) Nashik</td>\n",
       "      <td>19.8841</td>\n",
       "      <td>73.840567</td>\n",
       "      <td>air</td>\n",
       "    </tr>\n",
       "    <tr>\n",
       "      <th>67</th>\n",
       "      <td>Mylan (formerly Matrix) Nashik</td>\n",
       "      <td>19.8841</td>\n",
       "      <td>73.840567</td>\n",
       "      <td>air</td>\n",
       "    </tr>\n",
       "    <tr>\n",
       "      <th>68</th>\n",
       "      <td>Mylan (formerly Matrix) Nashik</td>\n",
       "      <td>19.8841</td>\n",
       "      <td>73.840567</td>\n",
       "      <td>air</td>\n",
       "    </tr>\n",
       "    <tr>\n",
       "      <th>69</th>\n",
       "      <td>Mylan (formerly Matrix) Nashik</td>\n",
       "      <td>19.8841</td>\n",
       "      <td>73.840567</td>\n",
       "      <td>air</td>\n",
       "    </tr>\n",
       "    <tr>\n",
       "      <th>70</th>\n",
       "      <td>Mylan (formerly Matrix) Nashik</td>\n",
       "      <td>19.8841</td>\n",
       "      <td>73.840567</td>\n",
       "      <td>air</td>\n",
       "    </tr>\n",
       "    <tr>\n",
       "      <th>71</th>\n",
       "      <td>Mylan (formerly Matrix) Nashik</td>\n",
       "      <td>19.8841</td>\n",
       "      <td>73.840567</td>\n",
       "      <td>air</td>\n",
       "    </tr>\n",
       "    <tr>\n",
       "      <th>72</th>\n",
       "      <td>Mylan (formerly Matrix) Nashik</td>\n",
       "      <td>NaN</td>\n",
       "      <td>NaN</td>\n",
       "      <td>ocean</td>\n",
       "    </tr>\n",
       "    <tr>\n",
       "      <th>73</th>\n",
       "      <td>Mylan (formerly Matrix) Nashik</td>\n",
       "      <td>19.8841</td>\n",
       "      <td>73.840567</td>\n",
       "      <td>air</td>\n",
       "    </tr>\n",
       "    <tr>\n",
       "      <th>76</th>\n",
       "      <td>Mylan (formerly Matrix) Nashik</td>\n",
       "      <td>19.8841</td>\n",
       "      <td>73.840567</td>\n",
       "      <td>air</td>\n",
       "    </tr>\n",
       "    <tr>\n",
       "      <th>77</th>\n",
       "      <td>Mylan (formerly Matrix) Nashik</td>\n",
       "      <td>19.8841</td>\n",
       "      <td>73.840567</td>\n",
       "      <td>air</td>\n",
       "    </tr>\n",
       "  </tbody>\n",
       "</table>\n",
       "</div>"
      ],
      "text/plain": [
       "                              site  latitude  longitude   mode\n",
       "10  Mylan (formerly Matrix) Nashik   19.8841  73.840567    air\n",
       "17  Mylan (formerly Matrix) Nashik   19.8841  73.840567    air\n",
       "20  Mylan (formerly Matrix) Nashik   19.8841  73.840567    air\n",
       "21  Mylan (formerly Matrix) Nashik   19.8841  73.840567    air\n",
       "22  Mylan (formerly Matrix) Nashik   19.8841  73.840567    air\n",
       "23  Mylan (formerly Matrix) Nashik   19.8841  73.840567    air\n",
       "24  Mylan (formerly Matrix) Nashik   19.8841  73.840567    air\n",
       "25  Mylan (formerly Matrix) Nashik       NaN        NaN  ocean\n",
       "28  Mylan (formerly Matrix) Nashik       NaN        NaN  ocean\n",
       "29  Mylan (formerly Matrix) Nashik   19.8841  73.840567    air\n",
       "41  Mylan (formerly Matrix) Nashik   19.8841  73.840567    air\n",
       "43  Mylan (formerly Matrix) Nashik   19.8841  73.840567    air\n",
       "44  Mylan (formerly Matrix) Nashik   19.8841  73.840567    air\n",
       "45  Mylan (formerly Matrix) Nashik       NaN        NaN  ocean\n",
       "48  Mylan (formerly Matrix) Nashik   19.8841  73.840567    air\n",
       "51  Mylan (formerly Matrix) Nashik   19.8841  73.840567    air\n",
       "52  Mylan (formerly Matrix) Nashik   19.8841  73.840567    air\n",
       "54  Mylan (formerly Matrix) Nashik       NaN        NaN  ocean\n",
       "58  Mylan (formerly Matrix) Nashik   19.8841  73.840567    air\n",
       "60  Mylan (formerly Matrix) Nashik   19.8841  73.840567    air\n",
       "61  Mylan (formerly Matrix) Nashik       NaN        NaN  ocean\n",
       "62  Mylan (formerly Matrix) Nashik   19.8841  73.840567    air\n",
       "65  Mylan (formerly Matrix) Nashik   19.8841  73.840567    air\n",
       "67  Mylan (formerly Matrix) Nashik   19.8841  73.840567    air\n",
       "68  Mylan (formerly Matrix) Nashik   19.8841  73.840567    air\n",
       "69  Mylan (formerly Matrix) Nashik   19.8841  73.840567    air\n",
       "70  Mylan (formerly Matrix) Nashik   19.8841  73.840567    air\n",
       "71  Mylan (formerly Matrix) Nashik   19.8841  73.840567    air\n",
       "72  Mylan (formerly Matrix) Nashik       NaN        NaN  ocean\n",
       "73  Mylan (formerly Matrix) Nashik   19.8841  73.840567    air\n",
       "76  Mylan (formerly Matrix) Nashik   19.8841  73.840567    air\n",
       "77  Mylan (formerly Matrix) Nashik   19.8841  73.840567    air"
      ]
     },
     "execution_count": 90,
     "metadata": {},
     "output_type": "execute_result"
    }
   ],
   "source": [
    "source_locations[source_locations['site'] == 'Mylan (formerly Matrix) Nashik']"
   ]
  },
  {
   "cell_type": "markdown",
   "id": "d54c12be-1e80-40b9-bf34-f347377f6f3d",
   "metadata": {},
   "source": [
    "# Code optimize\n",
    "- Check out this website for faster haversine code\n",
    "https://stackoverflow.com/questions/29545704/fast-haversine-approximation-python-pandas\n",
    "https://stackoverflow.com/questions/37324332/how-to-find-the-nearest-neighbors-for-latitude-and-longitude-point-on-python"
   ]
  },
  {
   "cell_type": "code",
   "execution_count": 19,
   "id": "fbebd2b7-9acd-4bac-a4df-1d47415451a8",
   "metadata": {},
   "outputs": [],
   "source": [
    "# Functions to get the distance in KM\n",
    "def distance(lat1, lon1, lat2, lon2):\n",
    "    # Calculate the distance between two coordinates using the haversine formula\n",
    "    \"\"\"\n",
    "    Calculate the great circle distance between two points\n",
    "    on the earth (specified in decimal degrees)\n",
    "\n",
    "    All args must be of equal length.    \n",
    "\n",
    "    \"\"\"\n",
    "    lon1, lat1, lon2, lat2 = map(np.radians, [lon1, lat1, lon2, lat2])\n",
    "\n",
    "    dlon = lon2 - lon1\n",
    "    dlat = lat2 - lat1\n",
    "\n",
    "    a = np.sin(dlat/2.0)**2 + np.cos(lat1) * np.cos(lat2) * np.sin(dlon/2.0)**2\n",
    "\n",
    "    c = 2 * np.arcsin(np.sqrt(a))\n",
    "    km = 6367 * c\n",
    "    return km"
   ]
  },
  {
   "cell_type": "code",
   "execution_count": 101,
   "id": "cb4d3db2-409f-4366-8f11-9cf2d0e47aa2",
   "metadata": {},
   "outputs": [],
   "source": [
    "# Function to get the coordinates of the location\n",
    "# Now that we have location of the manufacturing site coordinates. We need to get the Airport/Port location from which the item was transported\n",
    "def getSourceLocation(data):\n",
    "    # Code to Measure time taken by program to execute.\n",
    "\n",
    "#   print(data)\n",
    "    place = data['Manufacturing_site']\n",
    "    mode = data['Mode'].lower()\n",
    "    try:\n",
    "        \"\"\"\n",
    "        Check in source location DF if the place and mode are already calculated.\n",
    "        If size == 0, it means that for this place and mode the source has not been calculated.\n",
    "        If already calculated, then skip to next manufacturing site\n",
    "        \"\"\"\n",
    "        # TO:DO: ERROR in if condition\n",
    "        if source_locations.size == 0 or source_locations[source_locations['site'].str.contains(place) & source_locations['mode'].str.contains(mode)].size == 0:\n",
    "            location = nom.geocode(place)\n",
    "            country = nom.reverse(str(location.latitude) + ',' + str(location.longitude)).address.split(',')[-1].replace(\" \", \"\")\n",
    "            # Getting iso_2 code for the country\n",
    "            iso2_country = coco.convert(names=country, to='ISO2')\n",
    "\n",
    "            # Now that we have location of the manufacturing site. We need to get the Airport/Port location from which the item was transported\n",
    "            if mode == 'air':\n",
    "                # Finding the airport which has minimum distance\n",
    "                min_distance = float('inf')\n",
    "                min_latitude = float('inf')\n",
    "                min_longitude = float('inf')\n",
    "\n",
    "                # Getting all airports lying inside the country\n",
    "                airports = final_airport_db[final_airport_db['iso_country'] == iso2_country]\n",
    "\n",
    "                for index,row in airports.iterrows():\n",
    "                    dist = distance(location.latitude, location.longitude, row['latitude_deg'],row['longitude_deg'])\n",
    "                    if dist <= min_distance:\n",
    "                        min_distance = dist\n",
    "                        min_latitude = row['latitude_deg']\n",
    "                        min_longitude = row['longitude_deg']\n",
    "\n",
    "                source_latitude.append(min_latitude)\n",
    "                source_longitude.append(min_longitude)\n",
    "                source_locations.loc[len(source_locations.index)] = [place,min_latitude,min_longitude,mode]\n",
    "            else:\n",
    "                source_locations.loc[len(source_locations.index)] = [place,None,None,mode]\n",
    "                source_latitude.append(None)\n",
    "                source_longitude.append(None)\n",
    "    except Exception as e:\n",
    "        print(e, place)\n",
    "        source_latitude.append(None)\n",
    "        source_longitude.append(None)\n",
    "        source_locations.loc[len(source_locations.index)] = [place,None,None,mode]"
   ]
  },
  {
   "cell_type": "code",
   "execution_count": 86,
   "id": "af93d4cf-cb3c-4b87-8b39-51f9ea94678c",
   "metadata": {
    "tags": []
   },
   "outputs": [
    {
     "name": "stdout",
     "output_type": "stream",
     "text": [
      "Total runtime of the program is 1.2902247905731201\n",
      "Total runtime of the program is 2.486147880554199\n",
      "Total runtime of the program is 1.8911259174346924\n",
      "Total runtime of the program is 1.8790922164916992\n",
      "Total runtime of the program is 0.5897426605224609\n",
      "Total runtime of the program is 1.2590670585632324\n",
      "Total runtime of the program is 0.0010001659393310547\n",
      "Total runtime of the program is 0.6249198913574219\n",
      "Total runtime of the program is 2.0071115493774414\n",
      "Total runtime of the program is 0.0010004043579101562\n",
      "Total runtime of the program is 0.0010001659393310547\n",
      "Total runtime of the program is 0.0010001659393310547\n",
      "Total runtime of the program is 1.8461894989013672\n",
      "Total runtime of the program is 0.0009989738464355469\n",
      "Total runtime of the program is 0.0\n",
      "Total runtime of the program is 0.7019712924957275\n"
     ]
    },
    {
     "name": "stderr",
     "output_type": "stream",
     "text": [
      "D:\\Anaconda\\lib\\site-packages\\pandas\\core\\strings\\accessor.py:101: UserWarning: This pattern has match groups. To actually get the groups, use str.extract.\n",
      "  return func(self, *args, **kwargs)\n"
     ]
    },
    {
     "name": "stdout",
     "output_type": "stream",
     "text": [
      "Total runtime of the program is 0.9726741313934326\n",
      "Total runtime of the program is 1.3570027351379395\n",
      "Total runtime of the program is 0.9712409973144531\n",
      "Total runtime of the program is 0.0019197463989257812\n"
     ]
    },
    {
     "name": "stderr",
     "output_type": "stream",
     "text": [
      "2643 not found in ISOnumeric\n"
     ]
    },
    {
     "name": "stdout",
     "output_type": "stream",
     "text": [
      "Total runtime of the program is 0.6609077453613281\n",
      "Total runtime of the program is 1.3711163997650146\n",
      "Total runtime of the program is 0.0\n",
      "Total runtime of the program is 0.0009999275207519531\n",
      "Total runtime of the program is 0.0009756088256835938\n",
      "Total runtime of the program is 1.1753578186035156\n",
      "Total runtime of the program is 1.1046721935272217\n",
      "Total runtime of the program is 0.0010030269622802734\n",
      "Total runtime of the program is 0.0\n"
     ]
    },
    {
     "name": "stderr",
     "output_type": "stream",
     "text": [
      "D:\\Anaconda\\lib\\site-packages\\pandas\\core\\strings\\accessor.py:101: UserWarning: This pattern has match groups. To actually get the groups, use str.extract.\n",
      "  return func(self, *args, **kwargs)\n"
     ]
    },
    {
     "name": "stdout",
     "output_type": "stream",
     "text": [
      "Total runtime of the program is 0.6849079132080078\n",
      "Total runtime of the program is 0.0010042190551757812\n",
      "Total runtime of the program is 0.000995635986328125\n",
      "Total runtime of the program is 0.9907472133636475\n",
      "Total runtime of the program is 0.0010001659393310547\n",
      "Total runtime of the program is 0.0010063648223876953\n",
      "Total runtime of the program is 0.0\n",
      "Total runtime of the program is 0.0009937286376953125\n",
      "Total runtime of the program is 1.3551292419433594\n",
      "Total runtime of the program is 0.0010001659393310547\n"
     ]
    },
    {
     "name": "stderr",
     "output_type": "stream",
     "text": [
      "D:\\Anaconda\\lib\\site-packages\\pandas\\core\\strings\\accessor.py:101: UserWarning: This pattern has match groups. To actually get the groups, use str.extract.\n",
      "  return func(self, *args, **kwargs)\n"
     ]
    },
    {
     "name": "stdout",
     "output_type": "stream",
     "text": [
      "Total runtime of the program is 2.0001933574676514\n",
      "Total runtime of the program is 0.0010008811950683594\n",
      "Total runtime of the program is 0.0009999275207519531\n",
      "Total runtime of the program is 0.0009999275207519531\n",
      "Total runtime of the program is 0.0009996891021728516\n",
      "Total runtime of the program is 0.0010001659393310547\n"
     ]
    },
    {
     "name": "stderr",
     "output_type": "stream",
     "text": [
      "D:\\Anaconda\\lib\\site-packages\\pandas\\core\\strings\\accessor.py:101: UserWarning: This pattern has match groups. To actually get the groups, use str.extract.\n",
      "  return func(self, *args, **kwargs)\n"
     ]
    },
    {
     "name": "stdout",
     "output_type": "stream",
     "text": [
      "Total runtime of the program is 0.5922586917877197\n",
      "Total runtime of the program is 0.0010001659393310547\n",
      "Total runtime of the program is 0.0009999275207519531\n",
      "Total runtime of the program is 0.0009999275207519531\n",
      "Total runtime of the program is 0.0\n",
      "Total runtime of the program is 0.00099945068359375\n",
      "Total runtime of the program is 0.0\n"
     ]
    },
    {
     "name": "stderr",
     "output_type": "stream",
     "text": [
      "D:\\Anaconda\\lib\\site-packages\\pandas\\core\\strings\\accessor.py:101: UserWarning: This pattern has match groups. To actually get the groups, use str.extract.\n",
      "  return func(self, *args, **kwargs)\n"
     ]
    },
    {
     "name": "stdout",
     "output_type": "stream",
     "text": [
      "Total runtime of the program is 0.5534763336181641\n"
     ]
    },
    {
     "name": "stderr",
     "output_type": "stream",
     "text": [
      "D:\\Anaconda\\lib\\site-packages\\pandas\\core\\strings\\accessor.py:101: UserWarning: This pattern has match groups. To actually get the groups, use str.extract.\n",
      "  return func(self, *args, **kwargs)\n"
     ]
    },
    {
     "name": "stdout",
     "output_type": "stream",
     "text": [
      "Total runtime of the program is 1.0175120830535889\n"
     ]
    },
    {
     "name": "stderr",
     "output_type": "stream",
     "text": [
      "D:\\Anaconda\\lib\\site-packages\\pandas\\core\\strings\\accessor.py:101: UserWarning: This pattern has match groups. To actually get the groups, use str.extract.\n",
      "  return func(self, *args, **kwargs)\n"
     ]
    },
    {
     "name": "stdout",
     "output_type": "stream",
     "text": [
      "Total runtime of the program is 0.974891185760498\n"
     ]
    },
    {
     "name": "stderr",
     "output_type": "stream",
     "text": [
      "D:\\Anaconda\\lib\\site-packages\\pandas\\core\\strings\\accessor.py:101: UserWarning: This pattern has match groups. To actually get the groups, use str.extract.\n",
      "  return func(self, *args, **kwargs)\n"
     ]
    },
    {
     "name": "stdout",
     "output_type": "stream",
     "text": [
      "Total runtime of the program is 0.988919734954834\n",
      "Total runtime of the program is 1.2602972984313965\n",
      "Total runtime of the program is 0.0020020008087158203\n",
      "Total runtime of the program is 1.2459166049957275\n",
      "Total runtime of the program is 0.0\n"
     ]
    },
    {
     "name": "stderr",
     "output_type": "stream",
     "text": [
      "D:\\Anaconda\\lib\\site-packages\\pandas\\core\\strings\\accessor.py:101: UserWarning: This pattern has match groups. To actually get the groups, use str.extract.\n",
      "  return func(self, *args, **kwargs)\n"
     ]
    },
    {
     "name": "stdout",
     "output_type": "stream",
     "text": [
      "Total runtime of the program is 1.2015337944030762\n",
      "Total runtime of the program is 0.001008749008178711\n",
      "Total runtime of the program is 0.0009999275207519531\n",
      "Total runtime of the program is 0.0\n",
      "Total runtime of the program is 0.0010006427764892578\n",
      "Total runtime of the program is 0.0\n"
     ]
    },
    {
     "name": "stderr",
     "output_type": "stream",
     "text": [
      "D:\\Anaconda\\lib\\site-packages\\pandas\\core\\strings\\accessor.py:101: UserWarning: This pattern has match groups. To actually get the groups, use str.extract.\n",
      "  return func(self, *args, **kwargs)\n"
     ]
    },
    {
     "name": "stdout",
     "output_type": "stream",
     "text": [
      "Total runtime of the program is 1.027202844619751\n",
      "Total runtime of the program is 0.00099945068359375\n",
      "Total runtime of the program is 0.00099945068359375\n",
      "Total runtime of the program is 0.0\n",
      "Total runtime of the program is 0.0010006427764892578\n",
      "Total runtime of the program is 0.0009059906005859375\n"
     ]
    },
    {
     "name": "stderr",
     "output_type": "stream",
     "text": [
      "D:\\Anaconda\\lib\\site-packages\\pandas\\core\\strings\\accessor.py:101: UserWarning: This pattern has match groups. To actually get the groups, use str.extract.\n",
      "  return func(self, *args, **kwargs)\n"
     ]
    },
    {
     "name": "stdout",
     "output_type": "stream",
     "text": [
      "Total runtime of the program is 1.3270683288574219\n",
      "Total runtime of the program is 0.9138288497924805\n",
      "Total runtime of the program is 1.2106049060821533\n",
      "Total runtime of the program is 4.320476293563843\n",
      "Total runtime of the program is 0.0009996891021728516\n"
     ]
    },
    {
     "name": "stderr",
     "output_type": "stream",
     "text": [
      "D:\\Anaconda\\lib\\site-packages\\pandas\\core\\strings\\accessor.py:101: UserWarning: This pattern has match groups. To actually get the groups, use str.extract.\n",
      "  return func(self, *args, **kwargs)\n"
     ]
    },
    {
     "name": "stdout",
     "output_type": "stream",
     "text": [
      "'NoneType' object has no attribute 'latitude' ABBVIE (Abbott) Logis. UK\n",
      "Total runtime of the program is 0.24247241020202637\n",
      "Total runtime of the program is 0.0009996891021728516\n",
      "Total runtime of the program is 2.350520610809326\n",
      "Total runtime of the program is 0.0010328292846679688\n",
      "Total runtime of the program is 0.0010371208190917969\n",
      "Total runtime of the program is 0.0\n",
      "Total runtime of the program is 0.0009677410125732422\n",
      "Total runtime of the program is 0.0\n",
      "Total runtime of the program is 0.0009908676147460938\n",
      "Total runtime of the program is 0.0010030269622802734\n",
      "Total runtime of the program is 0.0009963512420654297\n",
      "Total runtime of the program is 0.0010023117065429688\n",
      "Total runtime of the program is 2.2920799255371094\n",
      "Total runtime of the program is 0.0010006427764892578\n",
      "Total runtime of the program is 0.0009987354278564453\n"
     ]
    },
    {
     "name": "stderr",
     "output_type": "stream",
     "text": [
      "D:\\Anaconda\\lib\\site-packages\\pandas\\core\\strings\\accessor.py:101: UserWarning: This pattern has match groups. To actually get the groups, use str.extract.\n",
      "  return func(self, *args, **kwargs)\n"
     ]
    },
    {
     "name": "stdout",
     "output_type": "stream",
     "text": [
      "'NoneType' object has no attribute 'latitude' ABBVIE (Abbott) Logis. UK\n",
      "Total runtime of the program is 0.22962379455566406\n",
      "Total runtime of the program is 0.002004384994506836\n",
      "Total runtime of the program is 0.0019981861114501953\n",
      "Total runtime of the program is 0.6672835350036621\n",
      "Total runtime of the program is 0.0009849071502685547\n",
      "Total runtime of the program is 0.0010294914245605469\n",
      "Total runtime of the program is 0.0\n",
      "Total runtime of the program is 0.0009329319000244141\n",
      "Total runtime of the program is 0.0009992122650146484\n",
      "Total runtime of the program is 0.0009999275207519531\n",
      "Total runtime of the program is 0.0009996891021728516\n",
      "Total runtime of the program is 0.0009999275207519531\n",
      "Total runtime of the program is 0.0010004043579101562\n",
      "Total runtime of the program is 0.0\n",
      "Total runtime of the program is 0.0009984970092773438\n",
      "Total runtime of the program is 0.0\n",
      "Total runtime of the program is 0.0009996891021728516\n",
      "Total runtime of the program is 0.0010058879852294922\n",
      "Total runtime of the program is 0.0009942054748535156\n",
      "Total runtime of the program is 0.0010004043579101562\n",
      "Total runtime of the program is 0.0010001659393310547\n",
      "Total runtime of the program is 0.0010001659393310547\n",
      "Total runtime of the program is 0.0009992122650146484\n",
      "Total runtime of the program is 0.0009996891021728516\n",
      "Total runtime of the program is 0.0010006427764892578\n",
      "Total runtime of the program is 0.0010006427764892578\n",
      "Total runtime of the program is 1.4799954891204834\n"
     ]
    },
    {
     "name": "stderr",
     "output_type": "stream",
     "text": [
      "D:\\Anaconda\\lib\\site-packages\\pandas\\core\\strings\\accessor.py:101: UserWarning: This pattern has match groups. To actually get the groups, use str.extract.\n",
      "  return func(self, *args, **kwargs)\n"
     ]
    },
    {
     "name": "stdout",
     "output_type": "stream",
     "text": [
      "'NoneType' object has no attribute 'latitude' ABBVIE (Abbott) Logis. UK\n",
      "Total runtime of the program is 0.24509382247924805\n",
      "Total runtime of the program is 0.0020401477813720703\n",
      "Total runtime of the program is 1.3268263339996338\n",
      "Total runtime of the program is 0.00099945068359375\n",
      "Total runtime of the program is 0.0010001659393310547\n",
      "Total runtime of the program is 0.0009677410125732422\n",
      "Total runtime of the program is 0.0\n",
      "Total runtime of the program is 0.0009317398071289062\n",
      "Total runtime of the program is 1.0082206726074219\n",
      "Total runtime of the program is 0.0009615421295166016\n"
     ]
    },
    {
     "name": "stderr",
     "output_type": "stream",
     "text": [
      "D:\\Anaconda\\lib\\site-packages\\pandas\\core\\strings\\accessor.py:101: UserWarning: This pattern has match groups. To actually get the groups, use str.extract.\n",
      "  return func(self, *args, **kwargs)\n"
     ]
    },
    {
     "name": "stdout",
     "output_type": "stream",
     "text": [
      "Total runtime of the program is 0.607093334197998\n",
      "Total runtime of the program is 0.0012309551239013672\n",
      "Total runtime of the program is 0.0011186599731445312\n",
      "Total runtime of the program is 0.0008788108825683594\n",
      "Total runtime of the program is 0.0009999275207519531\n"
     ]
    },
    {
     "name": "stderr",
     "output_type": "stream",
     "text": [
      "D:\\Anaconda\\lib\\site-packages\\pandas\\core\\strings\\accessor.py:101: UserWarning: This pattern has match groups. To actually get the groups, use str.extract.\n",
      "  return func(self, *args, **kwargs)\n"
     ]
    },
    {
     "name": "stdout",
     "output_type": "stream",
     "text": [
      "Total runtime of the program is 0.6470077037811279\n",
      "Total runtime of the program is 0.0019998550415039062\n",
      "Total runtime of the program is 0.002003192901611328\n",
      "Total runtime of the program is 0.0009970664978027344\n",
      "Total runtime of the program is 0.0010001659393310547\n"
     ]
    },
    {
     "name": "stderr",
     "output_type": "stream",
     "text": [
      "D:\\Anaconda\\lib\\site-packages\\pandas\\core\\strings\\accessor.py:101: UserWarning: This pattern has match groups. To actually get the groups, use str.extract.\n",
      "  return func(self, *args, **kwargs)\n"
     ]
    },
    {
     "name": "stdout",
     "output_type": "stream",
     "text": [
      "Total runtime of the program is 1.696192979812622\n",
      "Total runtime of the program is 0.000997781753540039\n",
      "Total runtime of the program is 0.0010075569152832031\n",
      "Total runtime of the program is 0.0009920597076416016\n",
      "Total runtime of the program is 0.0\n",
      "Total runtime of the program is 2.057100296020508\n",
      "Total runtime of the program is 0.0009784698486328125\n",
      "Total runtime of the program is 0.0010004043579101562\n",
      "Total runtime of the program is 0.0\n",
      "Total runtime of the program is 0.0\n",
      "Total runtime of the program is 0.0010371208190917969\n",
      "Total runtime of the program is 0.0\n",
      "Total runtime of the program is 0.0\n",
      "Total runtime of the program is 0.0010044574737548828\n",
      "Total runtime of the program is 0.0009961128234863281\n",
      "Total runtime of the program is 0.0010004043579101562\n",
      "Total runtime of the program is 0.0009996891021728516\n",
      "Total runtime of the program is 0.0010004043579101562\n",
      "Total runtime of the program is 0.0\n",
      "Total runtime of the program is 0.0\n",
      "Total runtime of the program is 0.0009975433349609375\n",
      "Total runtime of the program is 0.0008254051208496094\n",
      "Total runtime of the program is 0.0010364055633544922\n",
      "Total runtime of the program is 0.00099945068359375\n",
      "Total runtime of the program is 0.5922198295593262\n"
     ]
    },
    {
     "name": "stderr",
     "output_type": "stream",
     "text": [
      "D:\\Anaconda\\lib\\site-packages\\pandas\\core\\strings\\accessor.py:101: UserWarning: This pattern has match groups. To actually get the groups, use str.extract.\n",
      "  return func(self, *args, **kwargs)\n"
     ]
    },
    {
     "name": "stdout",
     "output_type": "stream",
     "text": [
      "Total runtime of the program is 1.0122787952423096\n",
      "Total runtime of the program is 0.0009984970092773438\n"
     ]
    },
    {
     "name": "stderr",
     "output_type": "stream",
     "text": [
      "D:\\Anaconda\\lib\\site-packages\\pandas\\core\\strings\\accessor.py:101: UserWarning: This pattern has match groups. To actually get the groups, use str.extract.\n",
      "  return func(self, *args, **kwargs)\n"
     ]
    },
    {
     "name": "stdout",
     "output_type": "stream",
     "text": [
      "'NoneType' object has no attribute 'latitude' ABBVIE (Abbott) Logis. UK\n",
      "Total runtime of the program is 0.2610127925872803\n",
      "'NoneType' object has no attribute 'latitude' ABBVIE (Abbott) Logis. UK\n",
      "Total runtime of the program is 0.2311549186706543\n",
      "Total runtime of the program is 0.0010004043579101562\n",
      "Total runtime of the program is 0.0009999275207519531\n",
      "Total runtime of the program is 0.0009996891021728516\n",
      "Total runtime of the program is 0.0010001659393310547\n",
      "Total runtime of the program is 0.0010006427764892578\n",
      "Total runtime of the program is 0.0\n",
      "Total runtime of the program is 0.0009987354278564453\n",
      "Total runtime of the program is 0.0009999275207519531\n",
      "Total runtime of the program is 0.0009996891021728516\n",
      "Total runtime of the program is 0.000820159912109375\n",
      "Total runtime of the program is 0.0009968280792236328\n",
      "Total runtime of the program is 0.0009999275207519531\n",
      "Total runtime of the program is 0.0\n",
      "Total runtime of the program is 0.0\n",
      "Total runtime of the program is 0.0009989738464355469\n",
      "Total runtime of the program is 0.0\n",
      "Total runtime of the program is 0.0010001659393310547\n",
      "Total runtime of the program is 0.0010004043579101562\n",
      "Total runtime of the program is 0.0009999275207519531\n",
      "Total runtime of the program is 0.0010066032409667969\n",
      "Total runtime of the program is 0.0009925365447998047\n",
      "Total runtime of the program is 0.001003265380859375\n",
      "Total runtime of the program is 1.0866715908050537\n",
      "Total runtime of the program is 0.0010254383087158203\n",
      "Total runtime of the program is 0.0010004043579101562\n",
      "Total runtime of the program is 0.0\n",
      "Total runtime of the program is 0.00099945068359375\n",
      "Total runtime of the program is 0.0009999275207519531\n",
      "Total runtime of the program is 0.0009996891021728516\n",
      "Total runtime of the program is 0.0009996891021728516\n",
      "Total runtime of the program is 0.0010004043579101562\n",
      "Total runtime of the program is 0.0010001659393310547\n",
      "Total runtime of the program is 0.0009999275207519531\n",
      "Total runtime of the program is 0.0009996891021728516\n"
     ]
    },
    {
     "name": "stderr",
     "output_type": "stream",
     "text": [
      "D:\\Anaconda\\lib\\site-packages\\pandas\\core\\strings\\accessor.py:101: UserWarning: This pattern has match groups. To actually get the groups, use str.extract.\n",
      "  return func(self, *args, **kwargs)\n"
     ]
    },
    {
     "name": "stdout",
     "output_type": "stream",
     "text": [
      "Total runtime of the program is 1.1787734031677246\n",
      "Total runtime of the program is 1.3740596771240234\n",
      "Total runtime of the program is 0.0009624958038330078\n",
      "Total runtime of the program is 0.0009992122650146484\n"
     ]
    },
    {
     "name": "stderr",
     "output_type": "stream",
     "text": [
      "D:\\Anaconda\\lib\\site-packages\\pandas\\core\\strings\\accessor.py:101: UserWarning: This pattern has match groups. To actually get the groups, use str.extract.\n",
      "  return func(self, *args, **kwargs)\n"
     ]
    },
    {
     "name": "stdout",
     "output_type": "stream",
     "text": [
      "Total runtime of the program is 1.3251118659973145\n",
      "Total runtime of the program is 1.3406462669372559\n",
      "Total runtime of the program is 0.0009999275207519531\n",
      "Total runtime of the program is 1.3233494758605957\n",
      "Total runtime of the program is 0.0010013580322265625\n",
      "Total runtime of the program is 0.0010039806365966797\n",
      "Total runtime of the program is 0.0\n",
      "Total runtime of the program is 0.0009975433349609375\n"
     ]
    },
    {
     "name": "stderr",
     "output_type": "stream",
     "text": [
      "D:\\Anaconda\\lib\\site-packages\\pandas\\core\\strings\\accessor.py:101: UserWarning: This pattern has match groups. To actually get the groups, use str.extract.\n",
      "  return func(self, *args, **kwargs)\n"
     ]
    },
    {
     "name": "stdout",
     "output_type": "stream",
     "text": [
      "'NoneType' object has no attribute 'latitude' ABBVIE (Abbott) Logis. UK\n",
      "Total runtime of the program is 0.8997180461883545\n",
      "Total runtime of the program is 1.1301581859588623\n",
      "Total runtime of the program is 0.0010013580322265625\n",
      "Total runtime of the program is 0.0010306835174560547\n",
      "Total runtime of the program is 0.0\n",
      "Total runtime of the program is 0.0\n",
      "Total runtime of the program is 0.0010287761688232422\n",
      "Total runtime of the program is 0.0009729862213134766\n",
      "Total runtime of the program is 0.6909892559051514\n",
      "Total runtime of the program is 0.000995635986328125\n",
      "Total runtime of the program is 0.0010027885437011719\n",
      "Total runtime of the program is 0.0\n",
      "Total runtime of the program is 0.0\n",
      "Total runtime of the program is 0.0009751319885253906\n",
      "Total runtime of the program is 0.0\n",
      "Total runtime of the program is 0.0010249614715576172\n",
      "Total runtime of the program is 0.0010023117065429688\n",
      "Total runtime of the program is 0.0009984970092773438\n",
      "Total runtime of the program is 0.0010020732879638672\n",
      "Total runtime of the program is 0.0009987354278564453\n",
      "Total runtime of the program is 0.0010073184967041016\n",
      "Total runtime of the program is 0.0009922981262207031\n",
      "Total runtime of the program is 0.0009708404541015625\n",
      "Total runtime of the program is 0.0010306835174560547\n",
      "Total runtime of the program is 0.0\n",
      "Total runtime of the program is 0.0\n",
      "Total runtime of the program is 0.0010085105895996094\n",
      "Total runtime of the program is 0.0009648799896240234\n",
      "Total runtime of the program is 0.0010318756103515625\n",
      "Total runtime of the program is 0.0009968280792236328\n",
      "Total runtime of the program is 0.001001596450805664\n"
     ]
    },
    {
     "name": "stderr",
     "output_type": "stream",
     "text": [
      "D:\\Anaconda\\lib\\site-packages\\pandas\\core\\strings\\accessor.py:101: UserWarning: This pattern has match groups. To actually get the groups, use str.extract.\n",
      "  return func(self, *args, **kwargs)\n"
     ]
    },
    {
     "name": "stdout",
     "output_type": "stream",
     "text": [
      "Total runtime of the program is 0.8935425281524658\n"
     ]
    },
    {
     "name": "stderr",
     "output_type": "stream",
     "text": [
      "D:\\Anaconda\\lib\\site-packages\\pandas\\core\\strings\\accessor.py:101: UserWarning: This pattern has match groups. To actually get the groups, use str.extract.\n",
      "  return func(self, *args, **kwargs)\n"
     ]
    },
    {
     "name": "stdout",
     "output_type": "stream",
     "text": [
      "Total runtime of the program is 1.409400463104248\n",
      "Total runtime of the program is 0.0010001659393310547\n"
     ]
    },
    {
     "name": "stderr",
     "output_type": "stream",
     "text": [
      "D:\\Anaconda\\lib\\site-packages\\pandas\\core\\strings\\accessor.py:101: UserWarning: This pattern has match groups. To actually get the groups, use str.extract.\n",
      "  return func(self, *args, **kwargs)\n"
     ]
    },
    {
     "name": "stdout",
     "output_type": "stream",
     "text": [
      "Total runtime of the program is 1.0309181213378906\n",
      "Total runtime of the program is 0.0010142326354980469\n",
      "Total runtime of the program is 0.0009856224060058594\n",
      "Total runtime of the program is 0.0\n",
      "Total runtime of the program is 0.0010004043579101562\n",
      "Total runtime of the program is 0.0010001659393310547\n",
      "Total runtime of the program is 0.0010037422180175781\n",
      "Total runtime of the program is 0.0009961128234863281\n",
      "Total runtime of the program is 0.001009225845336914\n",
      "Total runtime of the program is 0.0009920597076416016\n",
      "Total runtime of the program is 0.0010035037994384766\n"
     ]
    },
    {
     "name": "stderr",
     "output_type": "stream",
     "text": [
      "D:\\Anaconda\\lib\\site-packages\\pandas\\core\\strings\\accessor.py:101: UserWarning: This pattern has match groups. To actually get the groups, use str.extract.\n",
      "  return func(self, *args, **kwargs)\n"
     ]
    },
    {
     "name": "stdout",
     "output_type": "stream",
     "text": [
      "'NoneType' object has no attribute 'latitude' ABBVIE (Abbott) Logis. UK\n",
      "Total runtime of the program is 0.22826504707336426\n",
      "Total runtime of the program is 0.0019927024841308594\n",
      "Total runtime of the program is 0.0\n",
      "Total runtime of the program is 0.0009925365447998047\n",
      "Total runtime of the program is 2.3309340476989746\n"
     ]
    },
    {
     "name": "stderr",
     "output_type": "stream",
     "text": [
      "D:\\Anaconda\\lib\\site-packages\\pandas\\core\\strings\\accessor.py:101: UserWarning: This pattern has match groups. To actually get the groups, use str.extract.\n",
      "  return func(self, *args, **kwargs)\n"
     ]
    },
    {
     "name": "stdout",
     "output_type": "stream",
     "text": [
      "Total runtime of the program is 0.5594301223754883\n",
      "Total runtime of the program is 0.0009992122650146484\n"
     ]
    },
    {
     "name": "stderr",
     "output_type": "stream",
     "text": [
      "D:\\Anaconda\\lib\\site-packages\\pandas\\core\\strings\\accessor.py:101: UserWarning: This pattern has match groups. To actually get the groups, use str.extract.\n",
      "  return func(self, *args, **kwargs)\n"
     ]
    },
    {
     "name": "stdout",
     "output_type": "stream",
     "text": [
      "Total runtime of the program is 1.0127482414245605\n",
      "Total runtime of the program is 0.0010144710540771484\n",
      "Total runtime of the program is 0.0009853839874267578\n"
     ]
    },
    {
     "name": "stderr",
     "output_type": "stream",
     "text": [
      "D:\\Anaconda\\lib\\site-packages\\pandas\\core\\strings\\accessor.py:101: UserWarning: This pattern has match groups. To actually get the groups, use str.extract.\n",
      "  return func(self, *args, **kwargs)\n"
     ]
    },
    {
     "name": "stdout",
     "output_type": "stream",
     "text": [
      "Total runtime of the program is 1.0438566207885742\n",
      "Total runtime of the program is 0.002002716064453125\n",
      "Total runtime of the program is 0.0009970664978027344\n",
      "Total runtime of the program is 0.0\n",
      "Total runtime of the program is 0.00099945068359375\n",
      "Total runtime of the program is 0.0010006427764892578\n",
      "Total runtime of the program is 0.0009996891021728516\n",
      "Total runtime of the program is 0.0010008811950683594\n",
      "Total runtime of the program is 0.0\n",
      "Total runtime of the program is 0.0010042190551757812\n"
     ]
    },
    {
     "name": "stderr",
     "output_type": "stream",
     "text": [
      "D:\\Anaconda\\lib\\site-packages\\pandas\\core\\strings\\accessor.py:101: UserWarning: This pattern has match groups. To actually get the groups, use str.extract.\n",
      "  return func(self, *args, **kwargs)\n"
     ]
    },
    {
     "name": "stdout",
     "output_type": "stream",
     "text": [
      "Total runtime of the program is 0.9563615322113037\n",
      "Total runtime of the program is 0.0009970664978027344\n",
      "Total runtime of the program is 0.0009653568267822266\n",
      "Total runtime of the program is 0.0\n",
      "Total runtime of the program is 0.0010421276092529297\n",
      "Total runtime of the program is 0.0\n",
      "Total runtime of the program is 0.0009946823120117188\n"
     ]
    },
    {
     "name": "stderr",
     "output_type": "stream",
     "text": [
      "D:\\Anaconda\\lib\\site-packages\\pandas\\core\\strings\\accessor.py:101: UserWarning: This pattern has match groups. To actually get the groups, use str.extract.\n",
      "  return func(self, *args, **kwargs)\n"
     ]
    },
    {
     "name": "stdout",
     "output_type": "stream",
     "text": [
      "Total runtime of the program is 0.593940019607544\n"
     ]
    },
    {
     "name": "stderr",
     "output_type": "stream",
     "text": [
      "D:\\Anaconda\\lib\\site-packages\\pandas\\core\\strings\\accessor.py:101: UserWarning: This pattern has match groups. To actually get the groups, use str.extract.\n",
      "  return func(self, *args, **kwargs)\n"
     ]
    },
    {
     "name": "stdout",
     "output_type": "stream",
     "text": [
      "Total runtime of the program is 1.009272575378418\n",
      "Total runtime of the program is 0.0009949207305908203\n",
      "Total runtime of the program is 0.0010166168212890625\n",
      "Total runtime of the program is 0.0009894371032714844\n",
      "Total runtime of the program is 0.0\n",
      "Total runtime of the program is 0.0\n",
      "Total runtime of the program is 0.00099945068359375\n"
     ]
    },
    {
     "name": "stderr",
     "output_type": "stream",
     "text": [
      "D:\\Anaconda\\lib\\site-packages\\pandas\\core\\strings\\accessor.py:101: UserWarning: This pattern has match groups. To actually get the groups, use str.extract.\n",
      "  return func(self, *args, **kwargs)\n"
     ]
    },
    {
     "name": "stdout",
     "output_type": "stream",
     "text": [
      "Total runtime of the program is 1.3511135578155518\n",
      "Total runtime of the program is 0.0009598731994628906\n",
      "Total runtime of the program is 0.0009999275207519531\n",
      "Total runtime of the program is 0.0009999275207519531\n",
      "Total runtime of the program is 0.0\n",
      "Total runtime of the program is 0.0010006427764892578\n",
      "Total runtime of the program is 0.0\n",
      "Total runtime of the program is 0.0009989738464355469\n",
      "Total runtime of the program is 0.0010004043579101562\n",
      "Total runtime of the program is 0.0009996891021728516\n"
     ]
    },
    {
     "name": "stderr",
     "output_type": "stream",
     "text": [
      "D:\\Anaconda\\lib\\site-packages\\pandas\\core\\strings\\accessor.py:101: UserWarning: This pattern has match groups. To actually get the groups, use str.extract.\n",
      "  return func(self, *args, **kwargs)\n"
     ]
    },
    {
     "name": "stdout",
     "output_type": "stream",
     "text": [
      "Total runtime of the program is 0.5329794883728027\n",
      "Total runtime of the program is 0.0010006427764892578\n",
      "Total runtime of the program is 0.0009996891021728516\n"
     ]
    },
    {
     "name": "stderr",
     "output_type": "stream",
     "text": [
      "D:\\Anaconda\\lib\\site-packages\\pandas\\core\\strings\\accessor.py:101: UserWarning: This pattern has match groups. To actually get the groups, use str.extract.\n",
      "  return func(self, *args, **kwargs)\n"
     ]
    },
    {
     "name": "stdout",
     "output_type": "stream",
     "text": [
      "Total runtime of the program is 1.2475082874298096\n",
      "Total runtime of the program is 0.0009999275207519531\n",
      "Total runtime of the program is 1.0089671611785889\n",
      "Total runtime of the program is 0.0009593963623046875\n",
      "Total runtime of the program is 0.8396050930023193\n",
      "Total runtime of the program is 0.0010006427764892578\n",
      "Total runtime of the program is 0.0009999275207519531\n"
     ]
    },
    {
     "name": "stderr",
     "output_type": "stream",
     "text": [
      "D:\\Anaconda\\lib\\site-packages\\pandas\\core\\strings\\accessor.py:101: UserWarning: This pattern has match groups. To actually get the groups, use str.extract.\n",
      "  return func(self, *args, **kwargs)\n"
     ]
    },
    {
     "name": "stdout",
     "output_type": "stream",
     "text": [
      "Total runtime of the program is 0.5606653690338135\n",
      "Total runtime of the program is 0.0010004043579101562\n"
     ]
    },
    {
     "name": "stderr",
     "output_type": "stream",
     "text": [
      "D:\\Anaconda\\lib\\site-packages\\pandas\\core\\strings\\accessor.py:101: UserWarning: This pattern has match groups. To actually get the groups, use str.extract.\n",
      "  return func(self, *args, **kwargs)\n"
     ]
    },
    {
     "name": "stdout",
     "output_type": "stream",
     "text": [
      "Total runtime of the program is 1.008225679397583\n",
      "Total runtime of the program is 0.0009658336639404297\n",
      "Total runtime of the program is 0.000997781753540039\n",
      "Total runtime of the program is 0.0010001659393310547\n",
      "Total runtime of the program is 0.0\n",
      "Total runtime of the program is 0.0010285377502441406\n",
      "Total runtime of the program is 0.0010013580322265625\n",
      "Total runtime of the program is 0.0009970664978027344\n",
      "Total runtime of the program is 0.0009942054748535156\n",
      "Total runtime of the program is 0.0010066032409667969\n"
     ]
    },
    {
     "ename": "KeyboardInterrupt",
     "evalue": "",
     "output_type": "error",
     "traceback": [
      "\u001b[1;31m---------------------------------------------------------------------------\u001b[0m",
      "\u001b[1;31mKeyboardInterrupt\u001b[0m                         Traceback (most recent call last)",
      "\u001b[1;32m<ipython-input-86-d3f034ceef9a>\u001b[0m in \u001b[0;36m<module>\u001b[1;34m\u001b[0m\n\u001b[0;32m      1\u001b[0m \u001b[1;31m# Adding source_latitude and source_longitude columns\u001b[0m\u001b[1;33m\u001b[0m\u001b[1;33m\u001b[0m\u001b[1;33m\u001b[0m\u001b[0m\n\u001b[1;32m----> 2\u001b[1;33m \u001b[0mcoordinates\u001b[0m \u001b[1;33m=\u001b[0m \u001b[0mfinal_df\u001b[0m\u001b[1;33m.\u001b[0m\u001b[0mapply\u001b[0m\u001b[1;33m(\u001b[0m\u001b[0mgetSourceLocation\u001b[0m\u001b[1;33m,\u001b[0m\u001b[0maxis\u001b[0m\u001b[1;33m=\u001b[0m\u001b[1;36m1\u001b[0m\u001b[1;33m)\u001b[0m\u001b[1;33m\u001b[0m\u001b[1;33m\u001b[0m\u001b[0m\n\u001b[0m",
      "\u001b[1;32mD:\\Anaconda\\lib\\site-packages\\pandas\\core\\frame.py\u001b[0m in \u001b[0;36mapply\u001b[1;34m(self, func, axis, raw, result_type, args, **kwds)\u001b[0m\n\u001b[0;32m   7766\u001b[0m             \u001b[0mkwds\u001b[0m\u001b[1;33m=\u001b[0m\u001b[0mkwds\u001b[0m\u001b[1;33m,\u001b[0m\u001b[1;33m\u001b[0m\u001b[1;33m\u001b[0m\u001b[0m\n\u001b[0;32m   7767\u001b[0m         )\n\u001b[1;32m-> 7768\u001b[1;33m         \u001b[1;32mreturn\u001b[0m \u001b[0mop\u001b[0m\u001b[1;33m.\u001b[0m\u001b[0mget_result\u001b[0m\u001b[1;33m(\u001b[0m\u001b[1;33m)\u001b[0m\u001b[1;33m\u001b[0m\u001b[1;33m\u001b[0m\u001b[0m\n\u001b[0m\u001b[0;32m   7769\u001b[0m \u001b[1;33m\u001b[0m\u001b[0m\n\u001b[0;32m   7770\u001b[0m     \u001b[1;32mdef\u001b[0m \u001b[0mapplymap\u001b[0m\u001b[1;33m(\u001b[0m\u001b[0mself\u001b[0m\u001b[1;33m,\u001b[0m \u001b[0mfunc\u001b[0m\u001b[1;33m,\u001b[0m \u001b[0mna_action\u001b[0m\u001b[1;33m:\u001b[0m \u001b[0mOptional\u001b[0m\u001b[1;33m[\u001b[0m\u001b[0mstr\u001b[0m\u001b[1;33m]\u001b[0m \u001b[1;33m=\u001b[0m \u001b[1;32mNone\u001b[0m\u001b[1;33m)\u001b[0m \u001b[1;33m->\u001b[0m \u001b[0mDataFrame\u001b[0m\u001b[1;33m:\u001b[0m\u001b[1;33m\u001b[0m\u001b[1;33m\u001b[0m\u001b[0m\n",
      "\u001b[1;32mD:\\Anaconda\\lib\\site-packages\\pandas\\core\\apply.py\u001b[0m in \u001b[0;36mget_result\u001b[1;34m(self)\u001b[0m\n\u001b[0;32m    183\u001b[0m             \u001b[1;32mreturn\u001b[0m \u001b[0mself\u001b[0m\u001b[1;33m.\u001b[0m\u001b[0mapply_raw\u001b[0m\u001b[1;33m(\u001b[0m\u001b[1;33m)\u001b[0m\u001b[1;33m\u001b[0m\u001b[1;33m\u001b[0m\u001b[0m\n\u001b[0;32m    184\u001b[0m \u001b[1;33m\u001b[0m\u001b[0m\n\u001b[1;32m--> 185\u001b[1;33m         \u001b[1;32mreturn\u001b[0m \u001b[0mself\u001b[0m\u001b[1;33m.\u001b[0m\u001b[0mapply_standard\u001b[0m\u001b[1;33m(\u001b[0m\u001b[1;33m)\u001b[0m\u001b[1;33m\u001b[0m\u001b[1;33m\u001b[0m\u001b[0m\n\u001b[0m\u001b[0;32m    186\u001b[0m \u001b[1;33m\u001b[0m\u001b[0m\n\u001b[0;32m    187\u001b[0m     \u001b[1;32mdef\u001b[0m \u001b[0mapply_empty_result\u001b[0m\u001b[1;33m(\u001b[0m\u001b[0mself\u001b[0m\u001b[1;33m)\u001b[0m\u001b[1;33m:\u001b[0m\u001b[1;33m\u001b[0m\u001b[1;33m\u001b[0m\u001b[0m\n",
      "\u001b[1;32mD:\\Anaconda\\lib\\site-packages\\pandas\\core\\apply.py\u001b[0m in \u001b[0;36mapply_standard\u001b[1;34m(self)\u001b[0m\n\u001b[0;32m    274\u001b[0m \u001b[1;33m\u001b[0m\u001b[0m\n\u001b[0;32m    275\u001b[0m     \u001b[1;32mdef\u001b[0m \u001b[0mapply_standard\u001b[0m\u001b[1;33m(\u001b[0m\u001b[0mself\u001b[0m\u001b[1;33m)\u001b[0m\u001b[1;33m:\u001b[0m\u001b[1;33m\u001b[0m\u001b[1;33m\u001b[0m\u001b[0m\n\u001b[1;32m--> 276\u001b[1;33m         \u001b[0mresults\u001b[0m\u001b[1;33m,\u001b[0m \u001b[0mres_index\u001b[0m \u001b[1;33m=\u001b[0m \u001b[0mself\u001b[0m\u001b[1;33m.\u001b[0m\u001b[0mapply_series_generator\u001b[0m\u001b[1;33m(\u001b[0m\u001b[1;33m)\u001b[0m\u001b[1;33m\u001b[0m\u001b[1;33m\u001b[0m\u001b[0m\n\u001b[0m\u001b[0;32m    277\u001b[0m \u001b[1;33m\u001b[0m\u001b[0m\n\u001b[0;32m    278\u001b[0m         \u001b[1;31m# wrap results\u001b[0m\u001b[1;33m\u001b[0m\u001b[1;33m\u001b[0m\u001b[1;33m\u001b[0m\u001b[0m\n",
      "\u001b[1;32mD:\\Anaconda\\lib\\site-packages\\pandas\\core\\apply.py\u001b[0m in \u001b[0;36mapply_series_generator\u001b[1;34m(self)\u001b[0m\n\u001b[0;32m    288\u001b[0m             \u001b[1;32mfor\u001b[0m \u001b[0mi\u001b[0m\u001b[1;33m,\u001b[0m \u001b[0mv\u001b[0m \u001b[1;32min\u001b[0m \u001b[0menumerate\u001b[0m\u001b[1;33m(\u001b[0m\u001b[0mseries_gen\u001b[0m\u001b[1;33m)\u001b[0m\u001b[1;33m:\u001b[0m\u001b[1;33m\u001b[0m\u001b[1;33m\u001b[0m\u001b[0m\n\u001b[0;32m    289\u001b[0m                 \u001b[1;31m# ignore SettingWithCopy here in case the user mutates\u001b[0m\u001b[1;33m\u001b[0m\u001b[1;33m\u001b[0m\u001b[1;33m\u001b[0m\u001b[0m\n\u001b[1;32m--> 290\u001b[1;33m                 \u001b[0mresults\u001b[0m\u001b[1;33m[\u001b[0m\u001b[0mi\u001b[0m\u001b[1;33m]\u001b[0m \u001b[1;33m=\u001b[0m \u001b[0mself\u001b[0m\u001b[1;33m.\u001b[0m\u001b[0mf\u001b[0m\u001b[1;33m(\u001b[0m\u001b[0mv\u001b[0m\u001b[1;33m)\u001b[0m\u001b[1;33m\u001b[0m\u001b[1;33m\u001b[0m\u001b[0m\n\u001b[0m\u001b[0;32m    291\u001b[0m                 \u001b[1;32mif\u001b[0m \u001b[0misinstance\u001b[0m\u001b[1;33m(\u001b[0m\u001b[0mresults\u001b[0m\u001b[1;33m[\u001b[0m\u001b[0mi\u001b[0m\u001b[1;33m]\u001b[0m\u001b[1;33m,\u001b[0m \u001b[0mABCSeries\u001b[0m\u001b[1;33m)\u001b[0m\u001b[1;33m:\u001b[0m\u001b[1;33m\u001b[0m\u001b[1;33m\u001b[0m\u001b[0m\n\u001b[0;32m    292\u001b[0m                     \u001b[1;31m# If we have a view on v, we need to make a copy because\u001b[0m\u001b[1;33m\u001b[0m\u001b[1;33m\u001b[0m\u001b[1;33m\u001b[0m\u001b[0m\n",
      "\u001b[1;32m<ipython-input-85-1404af2a1772>\u001b[0m in \u001b[0;36mgetSourceLocation\u001b[1;34m(data)\u001b[0m\n\u001b[0;32m     17\u001b[0m \u001b[1;33m\u001b[0m\u001b[0m\n\u001b[0;32m     18\u001b[0m         \u001b[1;32mif\u001b[0m \u001b[0msource_locations\u001b[0m\u001b[1;33m.\u001b[0m\u001b[0msize\u001b[0m \u001b[1;33m==\u001b[0m \u001b[1;36m0\u001b[0m \u001b[1;32mor\u001b[0m \u001b[0msource_locations\u001b[0m\u001b[1;33m[\u001b[0m\u001b[0msource_locations\u001b[0m\u001b[1;33m[\u001b[0m\u001b[1;34m'site'\u001b[0m\u001b[1;33m]\u001b[0m\u001b[1;33m.\u001b[0m\u001b[0mstr\u001b[0m\u001b[1;33m.\u001b[0m\u001b[0mcontains\u001b[0m\u001b[1;33m(\u001b[0m\u001b[0mplace\u001b[0m\u001b[1;33m)\u001b[0m \u001b[1;33m&\u001b[0m \u001b[0msource_locations\u001b[0m\u001b[1;33m[\u001b[0m\u001b[1;34m'mode'\u001b[0m\u001b[1;33m]\u001b[0m\u001b[1;33m.\u001b[0m\u001b[0mstr\u001b[0m\u001b[1;33m.\u001b[0m\u001b[0mcontains\u001b[0m\u001b[1;33m(\u001b[0m\u001b[0mmode\u001b[0m\u001b[1;33m)\u001b[0m\u001b[1;33m]\u001b[0m\u001b[1;33m.\u001b[0m\u001b[0msize\u001b[0m \u001b[1;33m==\u001b[0m \u001b[1;36m0\u001b[0m\u001b[1;33m:\u001b[0m\u001b[1;33m\u001b[0m\u001b[1;33m\u001b[0m\u001b[0m\n\u001b[1;32m---> 19\u001b[1;33m             \u001b[0mlocation\u001b[0m \u001b[1;33m=\u001b[0m \u001b[0mnom\u001b[0m\u001b[1;33m.\u001b[0m\u001b[0mgeocode\u001b[0m\u001b[1;33m(\u001b[0m\u001b[0mplace\u001b[0m\u001b[1;33m)\u001b[0m\u001b[1;33m\u001b[0m\u001b[1;33m\u001b[0m\u001b[0m\n\u001b[0m\u001b[0;32m     20\u001b[0m             \u001b[0mcountry\u001b[0m \u001b[1;33m=\u001b[0m \u001b[0mnom\u001b[0m\u001b[1;33m.\u001b[0m\u001b[0mreverse\u001b[0m\u001b[1;33m(\u001b[0m\u001b[0mstr\u001b[0m\u001b[1;33m(\u001b[0m\u001b[0mlocation\u001b[0m\u001b[1;33m.\u001b[0m\u001b[0mlatitude\u001b[0m\u001b[1;33m)\u001b[0m \u001b[1;33m+\u001b[0m \u001b[1;34m','\u001b[0m \u001b[1;33m+\u001b[0m \u001b[0mstr\u001b[0m\u001b[1;33m(\u001b[0m\u001b[0mlocation\u001b[0m\u001b[1;33m.\u001b[0m\u001b[0mlongitude\u001b[0m\u001b[1;33m)\u001b[0m\u001b[1;33m)\u001b[0m\u001b[1;33m.\u001b[0m\u001b[0maddress\u001b[0m\u001b[1;33m.\u001b[0m\u001b[0msplit\u001b[0m\u001b[1;33m(\u001b[0m\u001b[1;34m','\u001b[0m\u001b[1;33m)\u001b[0m\u001b[1;33m[\u001b[0m\u001b[1;33m-\u001b[0m\u001b[1;36m1\u001b[0m\u001b[1;33m]\u001b[0m\u001b[1;33m.\u001b[0m\u001b[0mreplace\u001b[0m\u001b[1;33m(\u001b[0m\u001b[1;34m\" \"\u001b[0m\u001b[1;33m,\u001b[0m \u001b[1;34m\"\"\u001b[0m\u001b[1;33m)\u001b[0m\u001b[1;33m\u001b[0m\u001b[1;33m\u001b[0m\u001b[0m\n\u001b[0;32m     21\u001b[0m             \u001b[1;31m# Getting iso_2 code for the country\u001b[0m\u001b[1;33m\u001b[0m\u001b[1;33m\u001b[0m\u001b[1;33m\u001b[0m\u001b[0m\n",
      "\u001b[1;32mD:\\Anaconda\\lib\\site-packages\\geopy\\geocoders\\arcgis.py\u001b[0m in \u001b[0;36mgeocode\u001b[1;34m(self, query, exactly_one, timeout, out_fields)\u001b[0m\n\u001b[0;32m    171\u001b[0m         \u001b[0mlogger\u001b[0m\u001b[1;33m.\u001b[0m\u001b[0mdebug\u001b[0m\u001b[1;33m(\u001b[0m\u001b[1;34m\"%s.geocode: %s\"\u001b[0m\u001b[1;33m,\u001b[0m \u001b[0mself\u001b[0m\u001b[1;33m.\u001b[0m\u001b[0m__class__\u001b[0m\u001b[1;33m.\u001b[0m\u001b[0m__name__\u001b[0m\u001b[1;33m,\u001b[0m \u001b[0murl\u001b[0m\u001b[1;33m)\u001b[0m\u001b[1;33m\u001b[0m\u001b[1;33m\u001b[0m\u001b[0m\n\u001b[0;32m    172\u001b[0m         \u001b[0mcallback\u001b[0m \u001b[1;33m=\u001b[0m \u001b[0mpartial\u001b[0m\u001b[1;33m(\u001b[0m\u001b[0mself\u001b[0m\u001b[1;33m.\u001b[0m\u001b[0m_parse_geocode\u001b[0m\u001b[1;33m,\u001b[0m \u001b[0mexactly_one\u001b[0m\u001b[1;33m=\u001b[0m\u001b[0mexactly_one\u001b[0m\u001b[1;33m)\u001b[0m\u001b[1;33m\u001b[0m\u001b[1;33m\u001b[0m\u001b[0m\n\u001b[1;32m--> 173\u001b[1;33m         \u001b[1;32mreturn\u001b[0m \u001b[0mself\u001b[0m\u001b[1;33m.\u001b[0m\u001b[0m_authenticated_call_geocoder\u001b[0m\u001b[1;33m(\u001b[0m\u001b[0murl\u001b[0m\u001b[1;33m,\u001b[0m \u001b[0mcallback\u001b[0m\u001b[1;33m,\u001b[0m \u001b[0mtimeout\u001b[0m\u001b[1;33m=\u001b[0m\u001b[0mtimeout\u001b[0m\u001b[1;33m)\u001b[0m\u001b[1;33m\u001b[0m\u001b[1;33m\u001b[0m\u001b[0m\n\u001b[0m\u001b[0;32m    174\u001b[0m \u001b[1;33m\u001b[0m\u001b[0m\n\u001b[0;32m    175\u001b[0m     \u001b[1;32mdef\u001b[0m \u001b[0m_parse_geocode\u001b[0m\u001b[1;33m(\u001b[0m\u001b[0mself\u001b[0m\u001b[1;33m,\u001b[0m \u001b[0mresponse\u001b[0m\u001b[1;33m,\u001b[0m \u001b[0mexactly_one\u001b[0m\u001b[1;33m)\u001b[0m\u001b[1;33m:\u001b[0m\u001b[1;33m\u001b[0m\u001b[1;33m\u001b[0m\u001b[0m\n",
      "\u001b[1;32mD:\\Anaconda\\lib\\site-packages\\geopy\\geocoders\\arcgis.py\u001b[0m in \u001b[0;36m_authenticated_call_geocoder\u001b[1;34m(self, url, parse_callback, timeout)\u001b[0m\n\u001b[0;32m    263\u001b[0m     ):\n\u001b[0;32m    264\u001b[0m         \u001b[1;32mif\u001b[0m \u001b[1;32mnot\u001b[0m \u001b[0mself\u001b[0m\u001b[1;33m.\u001b[0m\u001b[0musername\u001b[0m\u001b[1;33m:\u001b[0m\u001b[1;33m\u001b[0m\u001b[1;33m\u001b[0m\u001b[0m\n\u001b[1;32m--> 265\u001b[1;33m             \u001b[1;32mreturn\u001b[0m \u001b[0mself\u001b[0m\u001b[1;33m.\u001b[0m\u001b[0m_call_geocoder\u001b[0m\u001b[1;33m(\u001b[0m\u001b[0murl\u001b[0m\u001b[1;33m,\u001b[0m \u001b[0mparse_callback\u001b[0m\u001b[1;33m,\u001b[0m \u001b[0mtimeout\u001b[0m\u001b[1;33m=\u001b[0m\u001b[0mtimeout\u001b[0m\u001b[1;33m)\u001b[0m\u001b[1;33m\u001b[0m\u001b[1;33m\u001b[0m\u001b[0m\n\u001b[0m\u001b[0;32m    266\u001b[0m \u001b[1;33m\u001b[0m\u001b[0m\n\u001b[0;32m    267\u001b[0m         \u001b[1;32mdef\u001b[0m \u001b[0mquery_callback\u001b[0m\u001b[1;33m(\u001b[0m\u001b[1;33m)\u001b[0m\u001b[1;33m:\u001b[0m\u001b[1;33m\u001b[0m\u001b[1;33m\u001b[0m\u001b[0m\n",
      "\u001b[1;32mD:\\Anaconda\\lib\\site-packages\\geopy\\geocoders\\base.py\u001b[0m in \u001b[0;36m_call_geocoder\u001b[1;34m(self, url, callback, timeout, is_json, headers)\u001b[0m\n\u001b[0;32m    366\u001b[0m         \u001b[1;32mtry\u001b[0m\u001b[1;33m:\u001b[0m\u001b[1;33m\u001b[0m\u001b[1;33m\u001b[0m\u001b[0m\n\u001b[0;32m    367\u001b[0m             \u001b[1;32mif\u001b[0m \u001b[0mis_json\u001b[0m\u001b[1;33m:\u001b[0m\u001b[1;33m\u001b[0m\u001b[1;33m\u001b[0m\u001b[0m\n\u001b[1;32m--> 368\u001b[1;33m                 \u001b[0mresult\u001b[0m \u001b[1;33m=\u001b[0m \u001b[0mself\u001b[0m\u001b[1;33m.\u001b[0m\u001b[0madapter\u001b[0m\u001b[1;33m.\u001b[0m\u001b[0mget_json\u001b[0m\u001b[1;33m(\u001b[0m\u001b[0murl\u001b[0m\u001b[1;33m,\u001b[0m \u001b[0mtimeout\u001b[0m\u001b[1;33m=\u001b[0m\u001b[0mtimeout\u001b[0m\u001b[1;33m,\u001b[0m \u001b[0mheaders\u001b[0m\u001b[1;33m=\u001b[0m\u001b[0mreq_headers\u001b[0m\u001b[1;33m)\u001b[0m\u001b[1;33m\u001b[0m\u001b[1;33m\u001b[0m\u001b[0m\n\u001b[0m\u001b[0;32m    369\u001b[0m             \u001b[1;32melse\u001b[0m\u001b[1;33m:\u001b[0m\u001b[1;33m\u001b[0m\u001b[1;33m\u001b[0m\u001b[0m\n\u001b[0;32m    370\u001b[0m                 \u001b[0mresult\u001b[0m \u001b[1;33m=\u001b[0m \u001b[0mself\u001b[0m\u001b[1;33m.\u001b[0m\u001b[0madapter\u001b[0m\u001b[1;33m.\u001b[0m\u001b[0mget_text\u001b[0m\u001b[1;33m(\u001b[0m\u001b[0murl\u001b[0m\u001b[1;33m,\u001b[0m \u001b[0mtimeout\u001b[0m\u001b[1;33m=\u001b[0m\u001b[0mtimeout\u001b[0m\u001b[1;33m,\u001b[0m \u001b[0mheaders\u001b[0m\u001b[1;33m=\u001b[0m\u001b[0mreq_headers\u001b[0m\u001b[1;33m)\u001b[0m\u001b[1;33m\u001b[0m\u001b[1;33m\u001b[0m\u001b[0m\n",
      "\u001b[1;32mD:\\Anaconda\\lib\\site-packages\\geopy\\adapters.py\u001b[0m in \u001b[0;36mget_json\u001b[1;34m(self, url, timeout, headers)\u001b[0m\n\u001b[0;32m    445\u001b[0m \u001b[1;33m\u001b[0m\u001b[0m\n\u001b[0;32m    446\u001b[0m     \u001b[1;32mdef\u001b[0m \u001b[0mget_json\u001b[0m\u001b[1;33m(\u001b[0m\u001b[0mself\u001b[0m\u001b[1;33m,\u001b[0m \u001b[0murl\u001b[0m\u001b[1;33m,\u001b[0m \u001b[1;33m*\u001b[0m\u001b[1;33m,\u001b[0m \u001b[0mtimeout\u001b[0m\u001b[1;33m,\u001b[0m \u001b[0mheaders\u001b[0m\u001b[1;33m)\u001b[0m\u001b[1;33m:\u001b[0m\u001b[1;33m\u001b[0m\u001b[1;33m\u001b[0m\u001b[0m\n\u001b[1;32m--> 447\u001b[1;33m         \u001b[0mresp\u001b[0m \u001b[1;33m=\u001b[0m \u001b[0mself\u001b[0m\u001b[1;33m.\u001b[0m\u001b[0m_request\u001b[0m\u001b[1;33m(\u001b[0m\u001b[0murl\u001b[0m\u001b[1;33m,\u001b[0m \u001b[0mtimeout\u001b[0m\u001b[1;33m=\u001b[0m\u001b[0mtimeout\u001b[0m\u001b[1;33m,\u001b[0m \u001b[0mheaders\u001b[0m\u001b[1;33m=\u001b[0m\u001b[0mheaders\u001b[0m\u001b[1;33m)\u001b[0m\u001b[1;33m\u001b[0m\u001b[1;33m\u001b[0m\u001b[0m\n\u001b[0m\u001b[0;32m    448\u001b[0m         \u001b[1;32mtry\u001b[0m\u001b[1;33m:\u001b[0m\u001b[1;33m\u001b[0m\u001b[1;33m\u001b[0m\u001b[0m\n\u001b[0;32m    449\u001b[0m             \u001b[1;32mreturn\u001b[0m \u001b[0mresp\u001b[0m\u001b[1;33m.\u001b[0m\u001b[0mjson\u001b[0m\u001b[1;33m(\u001b[0m\u001b[1;33m)\u001b[0m\u001b[1;33m\u001b[0m\u001b[1;33m\u001b[0m\u001b[0m\n",
      "\u001b[1;32mD:\\Anaconda\\lib\\site-packages\\geopy\\adapters.py\u001b[0m in \u001b[0;36m_request\u001b[1;34m(self, url, timeout, headers)\u001b[0m\n\u001b[0;32m    455\u001b[0m     \u001b[1;32mdef\u001b[0m \u001b[0m_request\u001b[0m\u001b[1;33m(\u001b[0m\u001b[0mself\u001b[0m\u001b[1;33m,\u001b[0m \u001b[0murl\u001b[0m\u001b[1;33m,\u001b[0m \u001b[1;33m*\u001b[0m\u001b[1;33m,\u001b[0m \u001b[0mtimeout\u001b[0m\u001b[1;33m,\u001b[0m \u001b[0mheaders\u001b[0m\u001b[1;33m)\u001b[0m\u001b[1;33m:\u001b[0m\u001b[1;33m\u001b[0m\u001b[1;33m\u001b[0m\u001b[0m\n\u001b[0;32m    456\u001b[0m         \u001b[1;32mtry\u001b[0m\u001b[1;33m:\u001b[0m\u001b[1;33m\u001b[0m\u001b[1;33m\u001b[0m\u001b[0m\n\u001b[1;32m--> 457\u001b[1;33m             \u001b[0mresp\u001b[0m \u001b[1;33m=\u001b[0m \u001b[0mself\u001b[0m\u001b[1;33m.\u001b[0m\u001b[0msession\u001b[0m\u001b[1;33m.\u001b[0m\u001b[0mget\u001b[0m\u001b[1;33m(\u001b[0m\u001b[0murl\u001b[0m\u001b[1;33m,\u001b[0m \u001b[0mtimeout\u001b[0m\u001b[1;33m=\u001b[0m\u001b[0mtimeout\u001b[0m\u001b[1;33m,\u001b[0m \u001b[0mheaders\u001b[0m\u001b[1;33m=\u001b[0m\u001b[0mheaders\u001b[0m\u001b[1;33m)\u001b[0m\u001b[1;33m\u001b[0m\u001b[1;33m\u001b[0m\u001b[0m\n\u001b[0m\u001b[0;32m    458\u001b[0m         \u001b[1;32mexcept\u001b[0m \u001b[0mException\u001b[0m \u001b[1;32mas\u001b[0m \u001b[0merror\u001b[0m\u001b[1;33m:\u001b[0m\u001b[1;33m\u001b[0m\u001b[1;33m\u001b[0m\u001b[0m\n\u001b[0;32m    459\u001b[0m             \u001b[0mmessage\u001b[0m \u001b[1;33m=\u001b[0m \u001b[0mstr\u001b[0m\u001b[1;33m(\u001b[0m\u001b[0merror\u001b[0m\u001b[1;33m)\u001b[0m\u001b[1;33m\u001b[0m\u001b[1;33m\u001b[0m\u001b[0m\n",
      "\u001b[1;32mD:\\Anaconda\\lib\\site-packages\\requests\\sessions.py\u001b[0m in \u001b[0;36mget\u001b[1;34m(self, url, **kwargs)\u001b[0m\n\u001b[0;32m    553\u001b[0m \u001b[1;33m\u001b[0m\u001b[0m\n\u001b[0;32m    554\u001b[0m         \u001b[0mkwargs\u001b[0m\u001b[1;33m.\u001b[0m\u001b[0msetdefault\u001b[0m\u001b[1;33m(\u001b[0m\u001b[1;34m'allow_redirects'\u001b[0m\u001b[1;33m,\u001b[0m \u001b[1;32mTrue\u001b[0m\u001b[1;33m)\u001b[0m\u001b[1;33m\u001b[0m\u001b[1;33m\u001b[0m\u001b[0m\n\u001b[1;32m--> 555\u001b[1;33m         \u001b[1;32mreturn\u001b[0m \u001b[0mself\u001b[0m\u001b[1;33m.\u001b[0m\u001b[0mrequest\u001b[0m\u001b[1;33m(\u001b[0m\u001b[1;34m'GET'\u001b[0m\u001b[1;33m,\u001b[0m \u001b[0murl\u001b[0m\u001b[1;33m,\u001b[0m \u001b[1;33m**\u001b[0m\u001b[0mkwargs\u001b[0m\u001b[1;33m)\u001b[0m\u001b[1;33m\u001b[0m\u001b[1;33m\u001b[0m\u001b[0m\n\u001b[0m\u001b[0;32m    556\u001b[0m \u001b[1;33m\u001b[0m\u001b[0m\n\u001b[0;32m    557\u001b[0m     \u001b[1;32mdef\u001b[0m \u001b[0moptions\u001b[0m\u001b[1;33m(\u001b[0m\u001b[0mself\u001b[0m\u001b[1;33m,\u001b[0m \u001b[0murl\u001b[0m\u001b[1;33m,\u001b[0m \u001b[1;33m**\u001b[0m\u001b[0mkwargs\u001b[0m\u001b[1;33m)\u001b[0m\u001b[1;33m:\u001b[0m\u001b[1;33m\u001b[0m\u001b[1;33m\u001b[0m\u001b[0m\n",
      "\u001b[1;32mD:\\Anaconda\\lib\\site-packages\\requests\\sessions.py\u001b[0m in \u001b[0;36mrequest\u001b[1;34m(self, method, url, params, data, headers, cookies, files, auth, timeout, allow_redirects, proxies, hooks, stream, verify, cert, json)\u001b[0m\n\u001b[0;32m    540\u001b[0m         }\n\u001b[0;32m    541\u001b[0m         \u001b[0msend_kwargs\u001b[0m\u001b[1;33m.\u001b[0m\u001b[0mupdate\u001b[0m\u001b[1;33m(\u001b[0m\u001b[0msettings\u001b[0m\u001b[1;33m)\u001b[0m\u001b[1;33m\u001b[0m\u001b[1;33m\u001b[0m\u001b[0m\n\u001b[1;32m--> 542\u001b[1;33m         \u001b[0mresp\u001b[0m \u001b[1;33m=\u001b[0m \u001b[0mself\u001b[0m\u001b[1;33m.\u001b[0m\u001b[0msend\u001b[0m\u001b[1;33m(\u001b[0m\u001b[0mprep\u001b[0m\u001b[1;33m,\u001b[0m \u001b[1;33m**\u001b[0m\u001b[0msend_kwargs\u001b[0m\u001b[1;33m)\u001b[0m\u001b[1;33m\u001b[0m\u001b[1;33m\u001b[0m\u001b[0m\n\u001b[0m\u001b[0;32m    543\u001b[0m \u001b[1;33m\u001b[0m\u001b[0m\n\u001b[0;32m    544\u001b[0m         \u001b[1;32mreturn\u001b[0m \u001b[0mresp\u001b[0m\u001b[1;33m\u001b[0m\u001b[1;33m\u001b[0m\u001b[0m\n",
      "\u001b[1;32mD:\\Anaconda\\lib\\site-packages\\requests\\sessions.py\u001b[0m in \u001b[0;36msend\u001b[1;34m(self, request, **kwargs)\u001b[0m\n\u001b[0;32m    653\u001b[0m \u001b[1;33m\u001b[0m\u001b[0m\n\u001b[0;32m    654\u001b[0m         \u001b[1;31m# Send the request\u001b[0m\u001b[1;33m\u001b[0m\u001b[1;33m\u001b[0m\u001b[1;33m\u001b[0m\u001b[0m\n\u001b[1;32m--> 655\u001b[1;33m         \u001b[0mr\u001b[0m \u001b[1;33m=\u001b[0m \u001b[0madapter\u001b[0m\u001b[1;33m.\u001b[0m\u001b[0msend\u001b[0m\u001b[1;33m(\u001b[0m\u001b[0mrequest\u001b[0m\u001b[1;33m,\u001b[0m \u001b[1;33m**\u001b[0m\u001b[0mkwargs\u001b[0m\u001b[1;33m)\u001b[0m\u001b[1;33m\u001b[0m\u001b[1;33m\u001b[0m\u001b[0m\n\u001b[0m\u001b[0;32m    656\u001b[0m \u001b[1;33m\u001b[0m\u001b[0m\n\u001b[0;32m    657\u001b[0m         \u001b[1;31m# Total elapsed time of the request (approximately)\u001b[0m\u001b[1;33m\u001b[0m\u001b[1;33m\u001b[0m\u001b[1;33m\u001b[0m\u001b[0m\n",
      "\u001b[1;32mD:\\Anaconda\\lib\\site-packages\\requests\\adapters.py\u001b[0m in \u001b[0;36msend\u001b[1;34m(self, request, stream, timeout, verify, cert, proxies)\u001b[0m\n\u001b[0;32m    437\u001b[0m         \u001b[1;32mtry\u001b[0m\u001b[1;33m:\u001b[0m\u001b[1;33m\u001b[0m\u001b[1;33m\u001b[0m\u001b[0m\n\u001b[0;32m    438\u001b[0m             \u001b[1;32mif\u001b[0m \u001b[1;32mnot\u001b[0m \u001b[0mchunked\u001b[0m\u001b[1;33m:\u001b[0m\u001b[1;33m\u001b[0m\u001b[1;33m\u001b[0m\u001b[0m\n\u001b[1;32m--> 439\u001b[1;33m                 resp = conn.urlopen(\n\u001b[0m\u001b[0;32m    440\u001b[0m                     \u001b[0mmethod\u001b[0m\u001b[1;33m=\u001b[0m\u001b[0mrequest\u001b[0m\u001b[1;33m.\u001b[0m\u001b[0mmethod\u001b[0m\u001b[1;33m,\u001b[0m\u001b[1;33m\u001b[0m\u001b[1;33m\u001b[0m\u001b[0m\n\u001b[0;32m    441\u001b[0m                     \u001b[0murl\u001b[0m\u001b[1;33m=\u001b[0m\u001b[0murl\u001b[0m\u001b[1;33m,\u001b[0m\u001b[1;33m\u001b[0m\u001b[1;33m\u001b[0m\u001b[0m\n",
      "\u001b[1;32mD:\\Anaconda\\lib\\site-packages\\urllib3\\connectionpool.py\u001b[0m in \u001b[0;36murlopen\u001b[1;34m(self, method, url, body, headers, retries, redirect, assert_same_host, timeout, pool_timeout, release_conn, chunked, body_pos, **response_kw)\u001b[0m\n\u001b[0;32m    697\u001b[0m \u001b[1;33m\u001b[0m\u001b[0m\n\u001b[0;32m    698\u001b[0m             \u001b[1;31m# Make the request on the httplib connection object.\u001b[0m\u001b[1;33m\u001b[0m\u001b[1;33m\u001b[0m\u001b[1;33m\u001b[0m\u001b[0m\n\u001b[1;32m--> 699\u001b[1;33m             httplib_response = self._make_request(\n\u001b[0m\u001b[0;32m    700\u001b[0m                 \u001b[0mconn\u001b[0m\u001b[1;33m,\u001b[0m\u001b[1;33m\u001b[0m\u001b[1;33m\u001b[0m\u001b[0m\n\u001b[0;32m    701\u001b[0m                 \u001b[0mmethod\u001b[0m\u001b[1;33m,\u001b[0m\u001b[1;33m\u001b[0m\u001b[1;33m\u001b[0m\u001b[0m\n",
      "\u001b[1;32mD:\\Anaconda\\lib\\site-packages\\urllib3\\connectionpool.py\u001b[0m in \u001b[0;36m_make_request\u001b[1;34m(self, conn, method, url, timeout, chunked, **httplib_request_kw)\u001b[0m\n\u001b[0;32m    443\u001b[0m                     \u001b[1;31m# Python 3 (including for exceptions like SystemExit).\u001b[0m\u001b[1;33m\u001b[0m\u001b[1;33m\u001b[0m\u001b[1;33m\u001b[0m\u001b[0m\n\u001b[0;32m    444\u001b[0m                     \u001b[1;31m# Otherwise it looks like a bug in the code.\u001b[0m\u001b[1;33m\u001b[0m\u001b[1;33m\u001b[0m\u001b[1;33m\u001b[0m\u001b[0m\n\u001b[1;32m--> 445\u001b[1;33m                     \u001b[0msix\u001b[0m\u001b[1;33m.\u001b[0m\u001b[0mraise_from\u001b[0m\u001b[1;33m(\u001b[0m\u001b[0me\u001b[0m\u001b[1;33m,\u001b[0m \u001b[1;32mNone\u001b[0m\u001b[1;33m)\u001b[0m\u001b[1;33m\u001b[0m\u001b[1;33m\u001b[0m\u001b[0m\n\u001b[0m\u001b[0;32m    446\u001b[0m         \u001b[1;32mexcept\u001b[0m \u001b[1;33m(\u001b[0m\u001b[0mSocketTimeout\u001b[0m\u001b[1;33m,\u001b[0m \u001b[0mBaseSSLError\u001b[0m\u001b[1;33m,\u001b[0m \u001b[0mSocketError\u001b[0m\u001b[1;33m)\u001b[0m \u001b[1;32mas\u001b[0m \u001b[0me\u001b[0m\u001b[1;33m:\u001b[0m\u001b[1;33m\u001b[0m\u001b[1;33m\u001b[0m\u001b[0m\n\u001b[0;32m    447\u001b[0m             \u001b[0mself\u001b[0m\u001b[1;33m.\u001b[0m\u001b[0m_raise_timeout\u001b[0m\u001b[1;33m(\u001b[0m\u001b[0merr\u001b[0m\u001b[1;33m=\u001b[0m\u001b[0me\u001b[0m\u001b[1;33m,\u001b[0m \u001b[0murl\u001b[0m\u001b[1;33m=\u001b[0m\u001b[0murl\u001b[0m\u001b[1;33m,\u001b[0m \u001b[0mtimeout_value\u001b[0m\u001b[1;33m=\u001b[0m\u001b[0mread_timeout\u001b[0m\u001b[1;33m)\u001b[0m\u001b[1;33m\u001b[0m\u001b[1;33m\u001b[0m\u001b[0m\n",
      "\u001b[1;32mD:\\Anaconda\\lib\\site-packages\\urllib3\\packages\\six.py\u001b[0m in \u001b[0;36mraise_from\u001b[1;34m(value, from_value)\u001b[0m\n",
      "\u001b[1;32mD:\\Anaconda\\lib\\site-packages\\urllib3\\connectionpool.py\u001b[0m in \u001b[0;36m_make_request\u001b[1;34m(self, conn, method, url, timeout, chunked, **httplib_request_kw)\u001b[0m\n\u001b[0;32m    438\u001b[0m                 \u001b[1;31m# Python 3\u001b[0m\u001b[1;33m\u001b[0m\u001b[1;33m\u001b[0m\u001b[1;33m\u001b[0m\u001b[0m\n\u001b[0;32m    439\u001b[0m                 \u001b[1;32mtry\u001b[0m\u001b[1;33m:\u001b[0m\u001b[1;33m\u001b[0m\u001b[1;33m\u001b[0m\u001b[0m\n\u001b[1;32m--> 440\u001b[1;33m                     \u001b[0mhttplib_response\u001b[0m \u001b[1;33m=\u001b[0m \u001b[0mconn\u001b[0m\u001b[1;33m.\u001b[0m\u001b[0mgetresponse\u001b[0m\u001b[1;33m(\u001b[0m\u001b[1;33m)\u001b[0m\u001b[1;33m\u001b[0m\u001b[1;33m\u001b[0m\u001b[0m\n\u001b[0m\u001b[0;32m    441\u001b[0m                 \u001b[1;32mexcept\u001b[0m \u001b[0mBaseException\u001b[0m \u001b[1;32mas\u001b[0m \u001b[0me\u001b[0m\u001b[1;33m:\u001b[0m\u001b[1;33m\u001b[0m\u001b[1;33m\u001b[0m\u001b[0m\n\u001b[0;32m    442\u001b[0m                     \u001b[1;31m# Remove the TypeError from the exception chain in\u001b[0m\u001b[1;33m\u001b[0m\u001b[1;33m\u001b[0m\u001b[1;33m\u001b[0m\u001b[0m\n",
      "\u001b[1;32mD:\\Anaconda\\lib\\http\\client.py\u001b[0m in \u001b[0;36mgetresponse\u001b[1;34m(self)\u001b[0m\n\u001b[0;32m   1345\u001b[0m         \u001b[1;32mtry\u001b[0m\u001b[1;33m:\u001b[0m\u001b[1;33m\u001b[0m\u001b[1;33m\u001b[0m\u001b[0m\n\u001b[0;32m   1346\u001b[0m             \u001b[1;32mtry\u001b[0m\u001b[1;33m:\u001b[0m\u001b[1;33m\u001b[0m\u001b[1;33m\u001b[0m\u001b[0m\n\u001b[1;32m-> 1347\u001b[1;33m                 \u001b[0mresponse\u001b[0m\u001b[1;33m.\u001b[0m\u001b[0mbegin\u001b[0m\u001b[1;33m(\u001b[0m\u001b[1;33m)\u001b[0m\u001b[1;33m\u001b[0m\u001b[1;33m\u001b[0m\u001b[0m\n\u001b[0m\u001b[0;32m   1348\u001b[0m             \u001b[1;32mexcept\u001b[0m \u001b[0mConnectionError\u001b[0m\u001b[1;33m:\u001b[0m\u001b[1;33m\u001b[0m\u001b[1;33m\u001b[0m\u001b[0m\n\u001b[0;32m   1349\u001b[0m                 \u001b[0mself\u001b[0m\u001b[1;33m.\u001b[0m\u001b[0mclose\u001b[0m\u001b[1;33m(\u001b[0m\u001b[1;33m)\u001b[0m\u001b[1;33m\u001b[0m\u001b[1;33m\u001b[0m\u001b[0m\n",
      "\u001b[1;32mD:\\Anaconda\\lib\\http\\client.py\u001b[0m in \u001b[0;36mbegin\u001b[1;34m(self)\u001b[0m\n\u001b[0;32m    305\u001b[0m         \u001b[1;31m# read until we get a non-100 response\u001b[0m\u001b[1;33m\u001b[0m\u001b[1;33m\u001b[0m\u001b[1;33m\u001b[0m\u001b[0m\n\u001b[0;32m    306\u001b[0m         \u001b[1;32mwhile\u001b[0m \u001b[1;32mTrue\u001b[0m\u001b[1;33m:\u001b[0m\u001b[1;33m\u001b[0m\u001b[1;33m\u001b[0m\u001b[0m\n\u001b[1;32m--> 307\u001b[1;33m             \u001b[0mversion\u001b[0m\u001b[1;33m,\u001b[0m \u001b[0mstatus\u001b[0m\u001b[1;33m,\u001b[0m \u001b[0mreason\u001b[0m \u001b[1;33m=\u001b[0m \u001b[0mself\u001b[0m\u001b[1;33m.\u001b[0m\u001b[0m_read_status\u001b[0m\u001b[1;33m(\u001b[0m\u001b[1;33m)\u001b[0m\u001b[1;33m\u001b[0m\u001b[1;33m\u001b[0m\u001b[0m\n\u001b[0m\u001b[0;32m    308\u001b[0m             \u001b[1;32mif\u001b[0m \u001b[0mstatus\u001b[0m \u001b[1;33m!=\u001b[0m \u001b[0mCONTINUE\u001b[0m\u001b[1;33m:\u001b[0m\u001b[1;33m\u001b[0m\u001b[1;33m\u001b[0m\u001b[0m\n\u001b[0;32m    309\u001b[0m                 \u001b[1;32mbreak\u001b[0m\u001b[1;33m\u001b[0m\u001b[1;33m\u001b[0m\u001b[0m\n",
      "\u001b[1;32mD:\\Anaconda\\lib\\http\\client.py\u001b[0m in \u001b[0;36m_read_status\u001b[1;34m(self)\u001b[0m\n\u001b[0;32m    266\u001b[0m \u001b[1;33m\u001b[0m\u001b[0m\n\u001b[0;32m    267\u001b[0m     \u001b[1;32mdef\u001b[0m \u001b[0m_read_status\u001b[0m\u001b[1;33m(\u001b[0m\u001b[0mself\u001b[0m\u001b[1;33m)\u001b[0m\u001b[1;33m:\u001b[0m\u001b[1;33m\u001b[0m\u001b[1;33m\u001b[0m\u001b[0m\n\u001b[1;32m--> 268\u001b[1;33m         \u001b[0mline\u001b[0m \u001b[1;33m=\u001b[0m \u001b[0mstr\u001b[0m\u001b[1;33m(\u001b[0m\u001b[0mself\u001b[0m\u001b[1;33m.\u001b[0m\u001b[0mfp\u001b[0m\u001b[1;33m.\u001b[0m\u001b[0mreadline\u001b[0m\u001b[1;33m(\u001b[0m\u001b[0m_MAXLINE\u001b[0m \u001b[1;33m+\u001b[0m \u001b[1;36m1\u001b[0m\u001b[1;33m)\u001b[0m\u001b[1;33m,\u001b[0m \u001b[1;34m\"iso-8859-1\"\u001b[0m\u001b[1;33m)\u001b[0m\u001b[1;33m\u001b[0m\u001b[1;33m\u001b[0m\u001b[0m\n\u001b[0m\u001b[0;32m    269\u001b[0m         \u001b[1;32mif\u001b[0m \u001b[0mlen\u001b[0m\u001b[1;33m(\u001b[0m\u001b[0mline\u001b[0m\u001b[1;33m)\u001b[0m \u001b[1;33m>\u001b[0m \u001b[0m_MAXLINE\u001b[0m\u001b[1;33m:\u001b[0m\u001b[1;33m\u001b[0m\u001b[1;33m\u001b[0m\u001b[0m\n\u001b[0;32m    270\u001b[0m             \u001b[1;32mraise\u001b[0m \u001b[0mLineTooLong\u001b[0m\u001b[1;33m(\u001b[0m\u001b[1;34m\"status line\"\u001b[0m\u001b[1;33m)\u001b[0m\u001b[1;33m\u001b[0m\u001b[1;33m\u001b[0m\u001b[0m\n",
      "\u001b[1;32mD:\\Anaconda\\lib\\socket.py\u001b[0m in \u001b[0;36mreadinto\u001b[1;34m(self, b)\u001b[0m\n\u001b[0;32m    667\u001b[0m         \u001b[1;32mwhile\u001b[0m \u001b[1;32mTrue\u001b[0m\u001b[1;33m:\u001b[0m\u001b[1;33m\u001b[0m\u001b[1;33m\u001b[0m\u001b[0m\n\u001b[0;32m    668\u001b[0m             \u001b[1;32mtry\u001b[0m\u001b[1;33m:\u001b[0m\u001b[1;33m\u001b[0m\u001b[1;33m\u001b[0m\u001b[0m\n\u001b[1;32m--> 669\u001b[1;33m                 \u001b[1;32mreturn\u001b[0m \u001b[0mself\u001b[0m\u001b[1;33m.\u001b[0m\u001b[0m_sock\u001b[0m\u001b[1;33m.\u001b[0m\u001b[0mrecv_into\u001b[0m\u001b[1;33m(\u001b[0m\u001b[0mb\u001b[0m\u001b[1;33m)\u001b[0m\u001b[1;33m\u001b[0m\u001b[1;33m\u001b[0m\u001b[0m\n\u001b[0m\u001b[0;32m    670\u001b[0m             \u001b[1;32mexcept\u001b[0m \u001b[0mtimeout\u001b[0m\u001b[1;33m:\u001b[0m\u001b[1;33m\u001b[0m\u001b[1;33m\u001b[0m\u001b[0m\n\u001b[0;32m    671\u001b[0m                 \u001b[0mself\u001b[0m\u001b[1;33m.\u001b[0m\u001b[0m_timeout_occurred\u001b[0m \u001b[1;33m=\u001b[0m \u001b[1;32mTrue\u001b[0m\u001b[1;33m\u001b[0m\u001b[1;33m\u001b[0m\u001b[0m\n",
      "\u001b[1;32mD:\\Anaconda\\lib\\ssl.py\u001b[0m in \u001b[0;36mrecv_into\u001b[1;34m(self, buffer, nbytes, flags)\u001b[0m\n\u001b[0;32m   1239\u001b[0m                   \u001b[1;34m\"non-zero flags not allowed in calls to recv_into() on %s\"\u001b[0m \u001b[1;33m%\u001b[0m\u001b[1;33m\u001b[0m\u001b[1;33m\u001b[0m\u001b[0m\n\u001b[0;32m   1240\u001b[0m                   self.__class__)\n\u001b[1;32m-> 1241\u001b[1;33m             \u001b[1;32mreturn\u001b[0m \u001b[0mself\u001b[0m\u001b[1;33m.\u001b[0m\u001b[0mread\u001b[0m\u001b[1;33m(\u001b[0m\u001b[0mnbytes\u001b[0m\u001b[1;33m,\u001b[0m \u001b[0mbuffer\u001b[0m\u001b[1;33m)\u001b[0m\u001b[1;33m\u001b[0m\u001b[1;33m\u001b[0m\u001b[0m\n\u001b[0m\u001b[0;32m   1242\u001b[0m         \u001b[1;32melse\u001b[0m\u001b[1;33m:\u001b[0m\u001b[1;33m\u001b[0m\u001b[1;33m\u001b[0m\u001b[0m\n\u001b[0;32m   1243\u001b[0m             \u001b[1;32mreturn\u001b[0m \u001b[0msuper\u001b[0m\u001b[1;33m(\u001b[0m\u001b[1;33m)\u001b[0m\u001b[1;33m.\u001b[0m\u001b[0mrecv_into\u001b[0m\u001b[1;33m(\u001b[0m\u001b[0mbuffer\u001b[0m\u001b[1;33m,\u001b[0m \u001b[0mnbytes\u001b[0m\u001b[1;33m,\u001b[0m \u001b[0mflags\u001b[0m\u001b[1;33m)\u001b[0m\u001b[1;33m\u001b[0m\u001b[1;33m\u001b[0m\u001b[0m\n",
      "\u001b[1;32mD:\\Anaconda\\lib\\ssl.py\u001b[0m in \u001b[0;36mread\u001b[1;34m(self, len, buffer)\u001b[0m\n\u001b[0;32m   1097\u001b[0m         \u001b[1;32mtry\u001b[0m\u001b[1;33m:\u001b[0m\u001b[1;33m\u001b[0m\u001b[1;33m\u001b[0m\u001b[0m\n\u001b[0;32m   1098\u001b[0m             \u001b[1;32mif\u001b[0m \u001b[0mbuffer\u001b[0m \u001b[1;32mis\u001b[0m \u001b[1;32mnot\u001b[0m \u001b[1;32mNone\u001b[0m\u001b[1;33m:\u001b[0m\u001b[1;33m\u001b[0m\u001b[1;33m\u001b[0m\u001b[0m\n\u001b[1;32m-> 1099\u001b[1;33m                 \u001b[1;32mreturn\u001b[0m \u001b[0mself\u001b[0m\u001b[1;33m.\u001b[0m\u001b[0m_sslobj\u001b[0m\u001b[1;33m.\u001b[0m\u001b[0mread\u001b[0m\u001b[1;33m(\u001b[0m\u001b[0mlen\u001b[0m\u001b[1;33m,\u001b[0m \u001b[0mbuffer\u001b[0m\u001b[1;33m)\u001b[0m\u001b[1;33m\u001b[0m\u001b[1;33m\u001b[0m\u001b[0m\n\u001b[0m\u001b[0;32m   1100\u001b[0m             \u001b[1;32melse\u001b[0m\u001b[1;33m:\u001b[0m\u001b[1;33m\u001b[0m\u001b[1;33m\u001b[0m\u001b[0m\n\u001b[0;32m   1101\u001b[0m                 \u001b[1;32mreturn\u001b[0m \u001b[0mself\u001b[0m\u001b[1;33m.\u001b[0m\u001b[0m_sslobj\u001b[0m\u001b[1;33m.\u001b[0m\u001b[0mread\u001b[0m\u001b[1;33m(\u001b[0m\u001b[0mlen\u001b[0m\u001b[1;33m)\u001b[0m\u001b[1;33m\u001b[0m\u001b[1;33m\u001b[0m\u001b[0m\n",
      "\u001b[1;31mKeyboardInterrupt\u001b[0m: "
     ]
    }
   ],
   "source": [
    "# Adding source_latitude and source_longitude columns\n",
    "# store starting time\n",
    "begin = time.time()\n",
    "coordinates = final_df.apply(getSourceLocation,axis=1)\n",
    "end = time.time()\n",
    "# total time taken\n",
    "print(f\"Total runtime of the program is {end - begin}\")"
   ]
  },
  {
   "cell_type": "code",
   "execution_count": 55,
   "id": "99cfb276-aba2-4aa6-b1c6-7dd599dd2d5d",
   "metadata": {},
   "outputs": [
    {
     "ename": "ValueError",
     "evalue": "Length of values (640) does not match length of index (1202)",
     "output_type": "error",
     "traceback": [
      "\u001b[1;31m---------------------------------------------------------------------------\u001b[0m",
      "\u001b[1;31mValueError\u001b[0m                                Traceback (most recent call last)",
      "\u001b[1;32m<ipython-input-55-1f61bebc6389>\u001b[0m in \u001b[0;36m<module>\u001b[1;34m\u001b[0m\n\u001b[0;32m      1\u001b[0m \u001b[1;31m# Combining source longitude and latitude coordinates to main dataframe\u001b[0m\u001b[1;33m\u001b[0m\u001b[1;33m\u001b[0m\u001b[1;33m\u001b[0m\u001b[0m\n\u001b[1;32m----> 2\u001b[1;33m \u001b[0mfinal_df\u001b[0m\u001b[1;33m[\u001b[0m\u001b[1;34m'Source_latitude'\u001b[0m\u001b[1;33m]\u001b[0m \u001b[1;33m=\u001b[0m \u001b[0msource_latitude\u001b[0m\u001b[1;33m\u001b[0m\u001b[1;33m\u001b[0m\u001b[0m\n\u001b[0m\u001b[0;32m      3\u001b[0m \u001b[0mfinal_df\u001b[0m\u001b[1;33m[\u001b[0m\u001b[1;34m'Source_longitude'\u001b[0m\u001b[1;33m]\u001b[0m \u001b[1;33m=\u001b[0m \u001b[0msource_longitude\u001b[0m\u001b[1;33m\u001b[0m\u001b[1;33m\u001b[0m\u001b[0m\n",
      "\u001b[1;32mD:\\Anaconda\\lib\\site-packages\\pandas\\core\\frame.py\u001b[0m in \u001b[0;36m__setitem__\u001b[1;34m(self, key, value)\u001b[0m\n\u001b[0;32m   3161\u001b[0m         \u001b[1;32melse\u001b[0m\u001b[1;33m:\u001b[0m\u001b[1;33m\u001b[0m\u001b[1;33m\u001b[0m\u001b[0m\n\u001b[0;32m   3162\u001b[0m             \u001b[1;31m# set column\u001b[0m\u001b[1;33m\u001b[0m\u001b[1;33m\u001b[0m\u001b[1;33m\u001b[0m\u001b[0m\n\u001b[1;32m-> 3163\u001b[1;33m             \u001b[0mself\u001b[0m\u001b[1;33m.\u001b[0m\u001b[0m_set_item\u001b[0m\u001b[1;33m(\u001b[0m\u001b[0mkey\u001b[0m\u001b[1;33m,\u001b[0m \u001b[0mvalue\u001b[0m\u001b[1;33m)\u001b[0m\u001b[1;33m\u001b[0m\u001b[1;33m\u001b[0m\u001b[0m\n\u001b[0m\u001b[0;32m   3164\u001b[0m \u001b[1;33m\u001b[0m\u001b[0m\n\u001b[0;32m   3165\u001b[0m     \u001b[1;32mdef\u001b[0m \u001b[0m_setitem_slice\u001b[0m\u001b[1;33m(\u001b[0m\u001b[0mself\u001b[0m\u001b[1;33m,\u001b[0m \u001b[0mkey\u001b[0m\u001b[1;33m:\u001b[0m \u001b[0mslice\u001b[0m\u001b[1;33m,\u001b[0m \u001b[0mvalue\u001b[0m\u001b[1;33m)\u001b[0m\u001b[1;33m:\u001b[0m\u001b[1;33m\u001b[0m\u001b[1;33m\u001b[0m\u001b[0m\n",
      "\u001b[1;32mD:\\Anaconda\\lib\\site-packages\\pandas\\core\\frame.py\u001b[0m in \u001b[0;36m_set_item\u001b[1;34m(self, key, value)\u001b[0m\n\u001b[0;32m   3240\u001b[0m         \"\"\"\n\u001b[0;32m   3241\u001b[0m         \u001b[0mself\u001b[0m\u001b[1;33m.\u001b[0m\u001b[0m_ensure_valid_index\u001b[0m\u001b[1;33m(\u001b[0m\u001b[0mvalue\u001b[0m\u001b[1;33m)\u001b[0m\u001b[1;33m\u001b[0m\u001b[1;33m\u001b[0m\u001b[0m\n\u001b[1;32m-> 3242\u001b[1;33m         \u001b[0mvalue\u001b[0m \u001b[1;33m=\u001b[0m \u001b[0mself\u001b[0m\u001b[1;33m.\u001b[0m\u001b[0m_sanitize_column\u001b[0m\u001b[1;33m(\u001b[0m\u001b[0mkey\u001b[0m\u001b[1;33m,\u001b[0m \u001b[0mvalue\u001b[0m\u001b[1;33m)\u001b[0m\u001b[1;33m\u001b[0m\u001b[1;33m\u001b[0m\u001b[0m\n\u001b[0m\u001b[0;32m   3243\u001b[0m         \u001b[0mNDFrame\u001b[0m\u001b[1;33m.\u001b[0m\u001b[0m_set_item\u001b[0m\u001b[1;33m(\u001b[0m\u001b[0mself\u001b[0m\u001b[1;33m,\u001b[0m \u001b[0mkey\u001b[0m\u001b[1;33m,\u001b[0m \u001b[0mvalue\u001b[0m\u001b[1;33m)\u001b[0m\u001b[1;33m\u001b[0m\u001b[1;33m\u001b[0m\u001b[0m\n\u001b[0;32m   3244\u001b[0m \u001b[1;33m\u001b[0m\u001b[0m\n",
      "\u001b[1;32mD:\\Anaconda\\lib\\site-packages\\pandas\\core\\frame.py\u001b[0m in \u001b[0;36m_sanitize_column\u001b[1;34m(self, key, value, broadcast)\u001b[0m\n\u001b[0;32m   3897\u001b[0m \u001b[1;33m\u001b[0m\u001b[0m\n\u001b[0;32m   3898\u001b[0m             \u001b[1;31m# turn me into an ndarray\u001b[0m\u001b[1;33m\u001b[0m\u001b[1;33m\u001b[0m\u001b[1;33m\u001b[0m\u001b[0m\n\u001b[1;32m-> 3899\u001b[1;33m             \u001b[0mvalue\u001b[0m \u001b[1;33m=\u001b[0m \u001b[0msanitize_index\u001b[0m\u001b[1;33m(\u001b[0m\u001b[0mvalue\u001b[0m\u001b[1;33m,\u001b[0m \u001b[0mself\u001b[0m\u001b[1;33m.\u001b[0m\u001b[0mindex\u001b[0m\u001b[1;33m)\u001b[0m\u001b[1;33m\u001b[0m\u001b[1;33m\u001b[0m\u001b[0m\n\u001b[0m\u001b[0;32m   3900\u001b[0m             \u001b[1;32mif\u001b[0m \u001b[1;32mnot\u001b[0m \u001b[0misinstance\u001b[0m\u001b[1;33m(\u001b[0m\u001b[0mvalue\u001b[0m\u001b[1;33m,\u001b[0m \u001b[1;33m(\u001b[0m\u001b[0mnp\u001b[0m\u001b[1;33m.\u001b[0m\u001b[0mndarray\u001b[0m\u001b[1;33m,\u001b[0m \u001b[0mIndex\u001b[0m\u001b[1;33m)\u001b[0m\u001b[1;33m)\u001b[0m\u001b[1;33m:\u001b[0m\u001b[1;33m\u001b[0m\u001b[1;33m\u001b[0m\u001b[0m\n\u001b[0;32m   3901\u001b[0m                 \u001b[1;32mif\u001b[0m \u001b[0misinstance\u001b[0m\u001b[1;33m(\u001b[0m\u001b[0mvalue\u001b[0m\u001b[1;33m,\u001b[0m \u001b[0mlist\u001b[0m\u001b[1;33m)\u001b[0m \u001b[1;32mand\u001b[0m \u001b[0mlen\u001b[0m\u001b[1;33m(\u001b[0m\u001b[0mvalue\u001b[0m\u001b[1;33m)\u001b[0m \u001b[1;33m>\u001b[0m \u001b[1;36m0\u001b[0m\u001b[1;33m:\u001b[0m\u001b[1;33m\u001b[0m\u001b[1;33m\u001b[0m\u001b[0m\n",
      "\u001b[1;32mD:\\Anaconda\\lib\\site-packages\\pandas\\core\\internals\\construction.py\u001b[0m in \u001b[0;36msanitize_index\u001b[1;34m(data, index)\u001b[0m\n\u001b[0;32m    749\u001b[0m     \"\"\"\n\u001b[0;32m    750\u001b[0m     \u001b[1;32mif\u001b[0m \u001b[0mlen\u001b[0m\u001b[1;33m(\u001b[0m\u001b[0mdata\u001b[0m\u001b[1;33m)\u001b[0m \u001b[1;33m!=\u001b[0m \u001b[0mlen\u001b[0m\u001b[1;33m(\u001b[0m\u001b[0mindex\u001b[0m\u001b[1;33m)\u001b[0m\u001b[1;33m:\u001b[0m\u001b[1;33m\u001b[0m\u001b[1;33m\u001b[0m\u001b[0m\n\u001b[1;32m--> 751\u001b[1;33m         raise ValueError(\n\u001b[0m\u001b[0;32m    752\u001b[0m             \u001b[1;34m\"Length of values \"\u001b[0m\u001b[1;33m\u001b[0m\u001b[1;33m\u001b[0m\u001b[0m\n\u001b[0;32m    753\u001b[0m             \u001b[1;34mf\"({len(data)}) \"\u001b[0m\u001b[1;33m\u001b[0m\u001b[1;33m\u001b[0m\u001b[0m\n",
      "\u001b[1;31mValueError\u001b[0m: Length of values (640) does not match length of index (1202)"
     ]
    }
   ],
   "source": [
    "# Combining source longitude and latitude coordinates to main dataframe\n",
    "final_df['Source_latitude'] = source_latitude\n",
    "final_df['Source_longitude'] = source_longitude"
   ]
  },
  {
   "cell_type": "code",
   "execution_count": null,
   "id": "ee5be278-3f56-4561-9837-faa9b73f350b",
   "metadata": {},
   "outputs": [],
   "source": [
    "# Some source coordinates were not found, thus removing those rows.\n",
    "## Alternatively, I can rerun the API on None values just to confirm whether the data is not available.\n",
    "\n",
    "final_df = final_df[final_df['Source_latitude'].isna() == False]"
   ]
  },
  {
   "cell_type": "code",
   "execution_count": null,
   "id": "fae51766-5148-44a1-9dd8-593126e156c4",
   "metadata": {},
   "outputs": [],
   "source": [
    "final_df"
   ]
  },
  {
   "cell_type": "code",
   "execution_count": null,
   "id": "ae613a02-1c06-4bff-b371-5948934353c2",
   "metadata": {},
   "outputs": [],
   "source": []
  }
 ],
 "metadata": {
  "kernelspec": {
   "display_name": "Python 3",
   "language": "python",
   "name": "python3"
  },
  "language_info": {
   "codemirror_mode": {
    "name": "ipython",
    "version": 3
   },
   "file_extension": ".py",
   "mimetype": "text/x-python",
   "name": "python",
   "nbconvert_exporter": "python",
   "pygments_lexer": "ipython3",
   "version": "3.8.8"
  }
 },
 "nbformat": 4,
 "nbformat_minor": 5
}
