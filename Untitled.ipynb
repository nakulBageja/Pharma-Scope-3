{
 "cells": [
  {
   "cell_type": "markdown",
   "id": "40c407bd-c912-4dbd-bf0c-1779657295e6",
   "metadata": {},
   "source": [
    "# Optional techniques\n",
    "\n",
    "1. Resolving the NaN values in mode column by finding out the traveled mode in past for the same route"
   ]
  },
  {
   "cell_type": "code",
   "execution_count": null,
   "id": "b8afb721-2d46-4a3f-bb94-b816211c16cc",
   "metadata": {},
   "outputs": [],
   "source": [
    "# In order to find the mode of transport of null values, we can check for modes of transport for the same manufacturing site and country\n",
    "\n",
    "filtered_df[(filtered_df['Country'] == 'Nigeria') & (filtered_df['Manufacturing_site'] == 'ABBVIE GmbH & Co.KG Wiesbaden')]"
   ]
  }
 ],
 "metadata": {
  "kernelspec": {
   "display_name": "Python 3",
   "language": "python",
   "name": "python3"
  },
  "language_info": {
   "codemirror_mode": {
    "name": "ipython",
    "version": 3
   },
   "file_extension": ".py",
   "mimetype": "text/x-python",
   "name": "python",
   "nbconvert_exporter": "python",
   "pygments_lexer": "ipython3",
   "version": "3.8.8"
  }
 },
 "nbformat": 4,
 "nbformat_minor": 5
}
