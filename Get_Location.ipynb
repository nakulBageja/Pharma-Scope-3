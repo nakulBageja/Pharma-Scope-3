{
 "cells": [
  {
   "cell_type": "markdown",
   "id": "8711c811-5d61-4329-b7d5-4db97c9b14ef",
   "metadata": {},
   "source": [
    "# Script to get the location coordinates"
   ]
  },
  {
   "cell_type": "markdown",
   "id": "e6d6911e-6dbf-4494-8199-0be829efaed9",
   "metadata": {},
   "source": [
    "## To-Do\n",
    "- Destination \n",
    "1. Get the appropriate location name, port/airport.\n",
    "2. Get the coordinates\n",
    "- Source\n",
    "1. Get the coordinates, if mode is AIR then it should be the airport of that city. If ocean, then the nearest port of that city. If road then that place coordinates"
   ]
  },
  {
   "cell_type": "code",
   "execution_count": 1,
   "id": "a2e7d829-3c3e-44d0-a7e5-1e9dd3a92d60",
   "metadata": {},
   "outputs": [],
   "source": [
    "from geopy.geocoders import ArcGIS\n",
    "\n",
    "import pandas as pd"
   ]
  },
  {
   "cell_type": "code",
   "execution_count": 2,
   "id": "122f2a10-141d-4063-9124-22e6738a38d0",
   "metadata": {},
   "outputs": [],
   "source": [
    "nom = ArcGIS()"
   ]
  },
  {
   "cell_type": "code",
   "execution_count": 20,
   "id": "416c2f3b-d81f-4406-852f-14649236cb56",
   "metadata": {
    "tags": []
   },
   "outputs": [
    {
     "name": "stdout",
     "output_type": "stream",
     "text": [
      "Help on ArcGIS in module geopy.geocoders.arcgis object:\n",
      "\n",
      "class ArcGIS(geopy.geocoders.base.Geocoder)\n",
      " |  ArcGIS(username=None, password=None, *, referer=None, token_lifetime=60, scheme=None, timeout=DEFAULT_SENTINEL, proxies=DEFAULT_SENTINEL, user_agent=None, ssl_context=DEFAULT_SENTINEL, adapter_factory=None, auth_domain='www.arcgis.com', domain='geocode.arcgis.com')\n",
      " |  \n",
      " |  Geocoder using the ERSI ArcGIS API.\n",
      " |  \n",
      " |  Documentation at:\n",
      " |      https://developers.arcgis.com/rest/geocode/api-reference/overview-world-geocoding-service.htm\n",
      " |  \n",
      " |  Method resolution order:\n",
      " |      ArcGIS\n",
      " |      geopy.geocoders.base.Geocoder\n",
      " |      builtins.object\n",
      " |  \n",
      " |  Methods defined here:\n",
      " |  \n",
      " |  __init__(self, username=None, password=None, *, referer=None, token_lifetime=60, scheme=None, timeout=DEFAULT_SENTINEL, proxies=DEFAULT_SENTINEL, user_agent=None, ssl_context=DEFAULT_SENTINEL, adapter_factory=None, auth_domain='www.arcgis.com', domain='geocode.arcgis.com')\n",
      " |      :param str username: ArcGIS username. Required if authenticated\n",
      " |          mode is desired.\n",
      " |      \n",
      " |      :param str password: ArcGIS password. Required if authenticated\n",
      " |          mode is desired.\n",
      " |      \n",
      " |      :param str referer: Required if authenticated mode is desired.\n",
      " |          `Referer` HTTP header to send with each request,\n",
      " |          e.g., ``'http://www.example.com'``. This is tied to an issued token,\n",
      " |          so fielding queries for multiple referrers should be handled by\n",
      " |          having multiple ArcGIS geocoder instances.\n",
      " |      \n",
      " |      :param int token_lifetime: Desired lifetime, in minutes, of an\n",
      " |          ArcGIS-issued token.\n",
      " |      \n",
      " |      :param str scheme:\n",
      " |          See :attr:`geopy.geocoders.options.default_scheme`.\n",
      " |          If authenticated mode is in use, it must be ``'https'``.\n",
      " |      \n",
      " |      :param int timeout:\n",
      " |          See :attr:`geopy.geocoders.options.default_timeout`.\n",
      " |      \n",
      " |      :param dict proxies:\n",
      " |          See :attr:`geopy.geocoders.options.default_proxies`.\n",
      " |      \n",
      " |      :param str user_agent:\n",
      " |          See :attr:`geopy.geocoders.options.default_user_agent`.\n",
      " |      \n",
      " |      :type ssl_context: :class:`ssl.SSLContext`\n",
      " |      :param ssl_context:\n",
      " |          See :attr:`geopy.geocoders.options.default_ssl_context`.\n",
      " |      \n",
      " |      :param callable adapter_factory:\n",
      " |          See :attr:`geopy.geocoders.options.default_adapter_factory`.\n",
      " |      \n",
      " |          .. versionadded:: 2.0\n",
      " |      \n",
      " |      :param str auth_domain: Domain where the target ArcGIS auth service\n",
      " |          is hosted. Used only in authenticated mode (i.e. username,\n",
      " |          password and referer are set).\n",
      " |      \n",
      " |      :param str domain: Domain where the target ArcGIS service\n",
      " |          is hosted.\n",
      " |  \n",
      " |  geocode(self, query, *, exactly_one=True, timeout=DEFAULT_SENTINEL, out_fields=None)\n",
      " |      Return a location point by address.\n",
      " |      \n",
      " |      :param str query: The address or query you wish to geocode.\n",
      " |      \n",
      " |      :param bool exactly_one: Return one result or a list of results, if\n",
      " |          available.\n",
      " |      \n",
      " |      :param int timeout: Time, in seconds, to wait for the geocoding service\n",
      " |          to respond before raising a :class:`geopy.exc.GeocoderTimedOut`\n",
      " |          exception. Set this only if you wish to override, on this call\n",
      " |          only, the value set during the geocoder's initialization.\n",
      " |      \n",
      " |      :param out_fields: A list of output fields to be returned in the\n",
      " |          attributes field of the raw data. This can be either a python\n",
      " |          list/tuple of fields or a comma-separated string. See\n",
      " |          https://developers.arcgis.com/rest/geocode/api-reference/geocoding-service-output.htm\n",
      " |          for a list of supported output fields. If you want to return all\n",
      " |          supported output fields, set ``out_fields=\"*\"``.\n",
      " |      :type out_fields: str or iterable\n",
      " |      \n",
      " |      :rtype: ``None``, :class:`geopy.location.Location` or a list of them, if\n",
      " |          ``exactly_one=False``.\n",
      " |  \n",
      " |  reverse(self, query, *, exactly_one=True, timeout=DEFAULT_SENTINEL, distance=None)\n",
      " |      Return an address by location point.\n",
      " |      \n",
      " |      :param query: The coordinates for which you wish to obtain the\n",
      " |          closest human-readable addresses.\n",
      " |      :type query: :class:`geopy.point.Point`, list or tuple of ``(latitude,\n",
      " |          longitude)``, or string as ``\"%(latitude)s, %(longitude)s\"``.\n",
      " |      \n",
      " |      :param bool exactly_one: Return one result or a list of results, if\n",
      " |          available.\n",
      " |      \n",
      " |      :param int timeout: Time, in seconds, to wait for the geocoding service\n",
      " |          to respond before raising a :class:`geopy.exc.GeocoderTimedOut`\n",
      " |          exception. Set this only if you wish to override, on this call\n",
      " |          only, the value set during the geocoder's initialization.\n",
      " |      \n",
      " |      :param int distance: Distance from the query location, in meters,\n",
      " |          within which to search. ArcGIS has a default of 100 meters, if not\n",
      " |          specified.\n",
      " |      \n",
      " |      :rtype: ``None``, :class:`geopy.location.Location` or a list of them, if\n",
      " |          ``exactly_one=False``.\n",
      " |  \n",
      " |  ----------------------------------------------------------------------\n",
      " |  Data and other attributes defined here:\n",
      " |  \n",
      " |  auth_path = '/sharing/generateToken'\n",
      " |  \n",
      " |  geocode_path = '/arcgis/rest/services/World/GeocodeServer/findAddressC...\n",
      " |  \n",
      " |  reverse_path = '/arcgis/rest/services/World/GeocodeServer/reverseGeoco...\n",
      " |  \n",
      " |  ----------------------------------------------------------------------\n",
      " |  Methods inherited from geopy.geocoders.base.Geocoder:\n",
      " |  \n",
      " |  async __aenter__(self)\n",
      " |      Context manager for asynchronous adapters. At exit all\n",
      " |      open connections will be closed.\n",
      " |      \n",
      " |      In asynchronous mode context manager usage is not required,\n",
      " |      however, it is strongly advised to avoid warnings about\n",
      " |      resources leaks.\n",
      " |  \n",
      " |  async __aexit__(self, exc_type, exc_val, exc_tb)\n",
      " |  \n",
      " |  __enter__(self)\n",
      " |      Context manager for synchronous adapters. At exit all\n",
      " |      open connections will be closed.\n",
      " |      \n",
      " |      In synchronous mode context manager usage is not required,\n",
      " |      and connections will be automatically closed by garbage collection.\n",
      " |  \n",
      " |  __exit__(self, exc_type, exc_val, exc_tb)\n",
      " |  \n",
      " |  ----------------------------------------------------------------------\n",
      " |  Data descriptors inherited from geopy.geocoders.base.Geocoder:\n",
      " |  \n",
      " |  __dict__\n",
      " |      dictionary for instance variables (if defined)\n",
      " |  \n",
      " |  __weakref__\n",
      " |      list of weak references to the object (if defined)\n",
      "\n"
     ]
    }
   ],
   "source": [
    "help(nom)"
   ]
  },
  {
   "cell_type": "code",
   "execution_count": 23,
   "id": "605ef252-854a-48c4-97d9-d2a3c4305c01",
   "metadata": {},
   "outputs": [],
   "source": [
    "location = nom.geocode('EY Laboratories, USA')"
   ]
  },
  {
   "cell_type": "code",
   "execution_count": 17,
   "id": "50ea6486-e54f-4bd6-9e6c-b56855a02ce2",
   "metadata": {},
   "outputs": [
    {
     "data": {
      "text/plain": [
       "Location(U S Laboratories, (40.87088600000004, -73.12079699999998, 0.0))"
      ]
     },
     "execution_count": 17,
     "metadata": {},
     "output_type": "execute_result"
    }
   ],
   "source": [
    "location"
   ]
  },
  {
   "cell_type": "code",
   "execution_count": 5,
   "id": "4935e495-1cd2-4047-befb-1cf1efce8bbc",
   "metadata": {},
   "outputs": [
    {
     "name": "stdout",
     "output_type": "stream",
     "text": [
      "17.52389000000005,78.34978000000007\n"
     ]
    }
   ],
   "source": [
    "print(str(location.latitude) + ',' + str(location.longitude))"
   ]
  },
  {
   "cell_type": "code",
   "execution_count": 28,
   "id": "569a2496-2f3d-4c72-bee2-0437264d165c",
   "metadata": {},
   "outputs": [
    {
     "data": {
      "text/plain": [
       "'40.87088600000004,-73.12079699999998'"
      ]
     },
     "execution_count": 28,
     "metadata": {},
     "output_type": "execute_result"
    }
   ],
   "source": [
    "str(location.latitude) + ',' + str(location.longitude)"
   ]
  },
  {
   "cell_type": "code",
   "execution_count": 32,
   "id": "9e39bea3-fc80-4aac-8b5f-40c7e9ba58f0",
   "metadata": {},
   "outputs": [],
   "source": [
    "country = nom.reverse(str(location.latitude) + ',' + str(location.longitude)).address.split(',')[-1]"
   ]
  },
  {
   "cell_type": "code",
   "execution_count": 33,
   "id": "e33fb6cf-9dea-4c76-8072-a9a1366b4c94",
   "metadata": {},
   "outputs": [
    {
     "data": {
      "text/plain": [
       "' USA'"
      ]
     },
     "execution_count": 33,
     "metadata": {},
     "output_type": "execute_result"
    }
   ],
   "source": [
    "country"
   ]
  },
  {
   "cell_type": "code",
   "execution_count": 62,
   "id": "3f223b42-03d6-4b4e-ac04-cf104675b78a",
   "metadata": {
    "collapsed": true,
    "jupyter": {
     "outputs_hidden": true
    },
    "tags": []
   },
   "outputs": [
    {
     "name": "stdout",
     "output_type": "stream",
     "text": [
      "Help on Location in module geopy.location object:\n",
      "\n",
      "class Location(builtins.object)\n",
      " |  Location(address, point, raw)\n",
      " |  \n",
      " |  Contains a parsed geocoder response. Can be iterated over as\n",
      " |  ``(location<String>, (latitude<float>, longitude<Float))``.\n",
      " |  Or one can access the properties ``address``, ``latitude``,\n",
      " |  ``longitude``, or ``raw``. The last\n",
      " |  is a dictionary of the geocoder's response for this item.\n",
      " |  \n",
      " |  Methods defined here:\n",
      " |  \n",
      " |  __eq__(self, other)\n",
      " |      Return self==value.\n",
      " |  \n",
      " |  __getitem__(self, index)\n",
      " |      Backwards compatibility with geopy<0.98 tuples.\n",
      " |  \n",
      " |  __getstate__(self)\n",
      " |  \n",
      " |  __init__(self, address, point, raw)\n",
      " |      Initialize self.  See help(type(self)) for accurate signature.\n",
      " |  \n",
      " |  __iter__(self)\n",
      " |  \n",
      " |  __len__(self)\n",
      " |  \n",
      " |  __ne__(self, other)\n",
      " |      Return self!=value.\n",
      " |  \n",
      " |  __repr__(self)\n",
      " |      Return repr(self).\n",
      " |  \n",
      " |  __setstate__(self, state)\n",
      " |  \n",
      " |  __str__(self)\n",
      " |      Return str(self).\n",
      " |  \n",
      " |  ----------------------------------------------------------------------\n",
      " |  Readonly properties defined here:\n",
      " |  \n",
      " |  address\n",
      " |      Location as a formatted string returned by the geocoder or constructed\n",
      " |      by geopy, depending on the service.\n",
      " |      \n",
      " |      :rtype: str\n",
      " |  \n",
      " |  altitude\n",
      " |      Location's altitude.\n",
      " |      \n",
      " |      .. note::\n",
      " |          Geocoding services usually don't consider altitude neither in\n",
      " |          requests nor in responses, so almost always the value of this\n",
      " |          property would be zero.\n",
      " |      \n",
      " |      :rtype: float\n",
      " |  \n",
      " |  latitude\n",
      " |      Location's latitude.\n",
      " |      \n",
      " |      :rtype: float\n",
      " |  \n",
      " |  longitude\n",
      " |      Location's longitude.\n",
      " |      \n",
      " |      :rtype: float\n",
      " |  \n",
      " |  point\n",
      " |      :class:`geopy.point.Point` instance representing the location's\n",
      " |      latitude, longitude, and altitude.\n",
      " |      \n",
      " |      :rtype: :class:`geopy.point.Point`\n",
      " |  \n",
      " |  raw\n",
      " |      Location's raw, unparsed geocoder response. For details on this,\n",
      " |      consult the service's documentation.\n",
      " |      \n",
      " |      :rtype: dict\n",
      " |  \n",
      " |  ----------------------------------------------------------------------\n",
      " |  Data and other attributes defined here:\n",
      " |  \n",
      " |  __hash__ = None\n",
      "\n"
     ]
    }
   ],
   "source": [
    "help(country)"
   ]
  },
  {
   "cell_type": "code",
   "execution_count": 3,
   "id": "bb60ac0e-3836-4178-bb90-bd7a3ff0977c",
   "metadata": {},
   "outputs": [],
   "source": [
    "raw_airport_db = pd.read_csv('Data/airports.csv')"
   ]
  },
  {
   "cell_type": "code",
   "execution_count": 5,
   "id": "85ae61a4-7d39-4382-85f8-f4aba14cb469",
   "metadata": {},
   "outputs": [],
   "source": [
    "# Getting required columns \n",
    "db = raw_airport_db[['type','latitude_deg','longitude_deg','name','iso_country','municipality']]"
   ]
  },
  {
   "cell_type": "code",
   "execution_count": 11,
   "id": "efb45602-38a4-4978-80e7-e7ad98d8e558",
   "metadata": {},
   "outputs": [],
   "source": [
    "final_airport_db = db[db['type'].str.lower().str.contains('airport')]"
   ]
  },
  {
   "cell_type": "code",
   "execution_count": 12,
   "id": "9b1098ab-e4fa-425d-aa6c-8679f40400a5",
   "metadata": {},
   "outputs": [
    {
     "data": {
      "text/html": [
       "<div>\n",
       "<style scoped>\n",
       "    .dataframe tbody tr th:only-of-type {\n",
       "        vertical-align: middle;\n",
       "    }\n",
       "\n",
       "    .dataframe tbody tr th {\n",
       "        vertical-align: top;\n",
       "    }\n",
       "\n",
       "    .dataframe thead th {\n",
       "        text-align: right;\n",
       "    }\n",
       "</style>\n",
       "<table border=\"1\" class=\"dataframe\">\n",
       "  <thead>\n",
       "    <tr style=\"text-align: right;\">\n",
       "      <th></th>\n",
       "      <th>type</th>\n",
       "      <th>latitude_deg</th>\n",
       "      <th>longitude_deg</th>\n",
       "      <th>name</th>\n",
       "      <th>iso_country</th>\n",
       "      <th>municipality</th>\n",
       "    </tr>\n",
       "  </thead>\n",
       "  <tbody>\n",
       "    <tr>\n",
       "      <th>1</th>\n",
       "      <td>small_airport</td>\n",
       "      <td>38.704022</td>\n",
       "      <td>-101.473911</td>\n",
       "      <td>Aero B Ranch Airport</td>\n",
       "      <td>US</td>\n",
       "      <td>Leoti</td>\n",
       "    </tr>\n",
       "    <tr>\n",
       "      <th>2</th>\n",
       "      <td>small_airport</td>\n",
       "      <td>59.947733</td>\n",
       "      <td>-151.692524</td>\n",
       "      <td>Lowell Field</td>\n",
       "      <td>US</td>\n",
       "      <td>Anchor Point</td>\n",
       "    </tr>\n",
       "    <tr>\n",
       "      <th>3</th>\n",
       "      <td>small_airport</td>\n",
       "      <td>34.864799</td>\n",
       "      <td>-86.770302</td>\n",
       "      <td>Epps Airpark</td>\n",
       "      <td>US</td>\n",
       "      <td>Harvest</td>\n",
       "    </tr>\n",
       "    <tr>\n",
       "      <th>5</th>\n",
       "      <td>small_airport</td>\n",
       "      <td>34.942803</td>\n",
       "      <td>-97.818019</td>\n",
       "      <td>Fulton Airport</td>\n",
       "      <td>US</td>\n",
       "      <td>Alex</td>\n",
       "    </tr>\n",
       "    <tr>\n",
       "      <th>6</th>\n",
       "      <td>small_airport</td>\n",
       "      <td>34.305599</td>\n",
       "      <td>-112.165001</td>\n",
       "      <td>Cordes Airport</td>\n",
       "      <td>US</td>\n",
       "      <td>Cordes</td>\n",
       "    </tr>\n",
       "    <tr>\n",
       "      <th>...</th>\n",
       "      <td>...</td>\n",
       "      <td>...</td>\n",
       "      <td>...</td>\n",
       "      <td>...</td>\n",
       "      <td>...</td>\n",
       "      <td>...</td>\n",
       "    </tr>\n",
       "    <tr>\n",
       "      <th>74638</th>\n",
       "      <td>medium_airport</td>\n",
       "      <td>40.542524</td>\n",
       "      <td>122.358600</td>\n",
       "      <td>Yingkou Lanqi Airport</td>\n",
       "      <td>CN</td>\n",
       "      <td>Laobian, Yingkou</td>\n",
       "    </tr>\n",
       "    <tr>\n",
       "      <th>74639</th>\n",
       "      <td>medium_airport</td>\n",
       "      <td>41.784401</td>\n",
       "      <td>123.496002</td>\n",
       "      <td>Shenyang Dongta Airport</td>\n",
       "      <td>CN</td>\n",
       "      <td>Dadong, Shenyang</td>\n",
       "    </tr>\n",
       "    <tr>\n",
       "      <th>74641</th>\n",
       "      <td>small_airport</td>\n",
       "      <td>-11.584278</td>\n",
       "      <td>47.296389</td>\n",
       "      <td>Glorioso Islands Airstrip</td>\n",
       "      <td>TF</td>\n",
       "      <td>Grande Glorieuse</td>\n",
       "    </tr>\n",
       "    <tr>\n",
       "      <th>74642</th>\n",
       "      <td>small_airport</td>\n",
       "      <td>32.110587</td>\n",
       "      <td>-97.356312</td>\n",
       "      <td>Fainting Goat Airport</td>\n",
       "      <td>US</td>\n",
       "      <td>Blum</td>\n",
       "    </tr>\n",
       "    <tr>\n",
       "      <th>74644</th>\n",
       "      <td>small_airport</td>\n",
       "      <td>30.784722</td>\n",
       "      <td>130.270556</td>\n",
       "      <td>Satsuma Iōjima Airport</td>\n",
       "      <td>JP</td>\n",
       "      <td>Mishima</td>\n",
       "    </tr>\n",
       "  </tbody>\n",
       "</table>\n",
       "<p>44441 rows × 6 columns</p>\n",
       "</div>"
      ],
      "text/plain": [
       "                 type  latitude_deg  longitude_deg                       name  \\\n",
       "1       small_airport     38.704022    -101.473911       Aero B Ranch Airport   \n",
       "2       small_airport     59.947733    -151.692524               Lowell Field   \n",
       "3       small_airport     34.864799     -86.770302               Epps Airpark   \n",
       "5       small_airport     34.942803     -97.818019             Fulton Airport   \n",
       "6       small_airport     34.305599    -112.165001             Cordes Airport   \n",
       "...               ...           ...            ...                        ...   \n",
       "74638  medium_airport     40.542524     122.358600      Yingkou Lanqi Airport   \n",
       "74639  medium_airport     41.784401     123.496002    Shenyang Dongta Airport   \n",
       "74641   small_airport    -11.584278      47.296389  Glorioso Islands Airstrip   \n",
       "74642   small_airport     32.110587     -97.356312      Fainting Goat Airport   \n",
       "74644   small_airport     30.784722     130.270556     Satsuma Iōjima Airport   \n",
       "\n",
       "      iso_country      municipality  \n",
       "1              US             Leoti  \n",
       "2              US      Anchor Point  \n",
       "3              US           Harvest  \n",
       "5              US              Alex  \n",
       "6              US            Cordes  \n",
       "...           ...               ...  \n",
       "74638          CN  Laobian, Yingkou  \n",
       "74639          CN  Dadong, Shenyang  \n",
       "74641          TF  Grande Glorieuse  \n",
       "74642          US              Blum  \n",
       "74644          JP           Mishima  \n",
       "\n",
       "[44441 rows x 6 columns]"
      ]
     },
     "execution_count": 12,
     "metadata": {},
     "output_type": "execute_result"
    }
   ],
   "source": [
    "# Combin\n",
    "final_airport_db"
   ]
  },
  {
   "cell_type": "code",
   "execution_count": 34,
   "id": "f7d7a1e2-0647-4522-87ab-cd3f371becb4",
   "metadata": {},
   "outputs": [],
   "source": [
    "import pycountry"
   ]
  },
  {
   "cell_type": "code",
   "execution_count": 40,
   "id": "b99271a0-a714-419b-9e1e-0b0c3e5d71cc",
   "metadata": {},
   "outputs": [
    {
     "data": {
      "text/plain": [
       "'IN'"
      ]
     },
     "execution_count": 40,
     "metadata": {},
     "output_type": "execute_result"
    }
   ],
   "source": [
    "pycountry.countries.get(alpha_3='IND').alpha_2"
   ]
  }
 ],
 "metadata": {
  "kernelspec": {
   "display_name": "Python 3",
   "language": "python",
   "name": "python3"
  },
  "language_info": {
   "codemirror_mode": {
    "name": "ipython",
    "version": 3
   },
   "file_extension": ".py",
   "mimetype": "text/x-python",
   "name": "python",
   "nbconvert_exporter": "python",
   "pygments_lexer": "ipython3",
   "version": "3.8.8"
  }
 },
 "nbformat": 4,
 "nbformat_minor": 5
}
