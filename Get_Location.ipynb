{
 "cells": [
  {
   "cell_type": "markdown",
   "id": "8711c811-5d61-4329-b7d5-4db97c9b14ef",
   "metadata": {},
   "source": [
    "# Script to get the location coordinates"
   ]
  },
  {
   "cell_type": "markdown",
   "id": "e6d6911e-6dbf-4494-8199-0be829efaed9",
   "metadata": {},
   "source": [
    "## To-Do\n",
    "- Destination \n",
    "1. Get the appropriate location name, port/airport.\n",
    "2. Get the coordinates\n",
    "- Source\n",
    "1. Get the coordinates, if mode is AIR then it should be the airport of that city. If ocean, then the nearest port of that city. If road then that place coordinates"
   ]
  },
  {
   "cell_type": "code",
   "execution_count": 1,
   "id": "a2e7d829-3c3e-44d0-a7e5-1e9dd3a92d60",
   "metadata": {},
   "outputs": [],
   "source": [
    "from geopy.geocoders import ArcGIS\n",
    "\n",
    "import pandas as pd"
   ]
  },
  {
   "cell_type": "code",
   "execution_count": 2,
   "id": "122f2a10-141d-4063-9124-22e6738a38d0",
   "metadata": {},
   "outputs": [],
   "source": [
    "nom = ArcGIgeocoders"
   ]
  },
  {
   "cell_type": "code",
   "execution_count": 11,
   "id": "605ef252-854a-48c4-97d9-d2a3c4305c01",
   "metadata": {},
   "outputs": [],
   "source": [
    "location = nom.geocode('Standard Diagnostics, Korea')"
   ]
  },
  {
   "cell_type": "code",
   "execution_count": 12,
   "id": "50ea6486-e54f-4bd6-9e6c-b56855a02ce2",
   "metadata": {},
   "outputs": [
    {
     "data": {
      "text/plain": [
       "Location(Dél-Korea, (36.35627096300004, 127.80639593300009, 0.0))"
      ]
     },
     "execution_count": 12,
     "metadata": {},
     "output_type": "execute_result"
    }
   ],
   "source": [
    "location"
   ]
  },
  {
   "cell_type": "code",
   "execution_count": 13,
   "id": "4935e495-1cd2-4047-befb-1cf1efce8bbc",
   "metadata": {},
   "outputs": [
    {
     "name": "stdout",
     "output_type": "stream",
     "text": [
      "36.35627096300004,127.80639593300009\n"
     ]
    }
   ],
   "source": [
    "print(str(location.latitude) + ',' + str(location.longitude))"
   ]
  },
  {
   "cell_type": "code",
   "execution_count": 14,
   "id": "569a2496-2f3d-4c72-bee2-0437264d165c",
   "metadata": {},
   "outputs": [
    {
     "data": {
      "text/plain": [
       "'36.35627096300004,127.80639593300009'"
      ]
     },
     "execution_count": 14,
     "metadata": {},
     "output_type": "execute_result"
    }
   ],
   "source": [
    "str(location.latitude) + ',' + str(location.longitude)"
   ]
  },
  {
   "cell_type": "code",
   "execution_count": 15,
   "id": "9e39bea3-fc80-4aac-8b5f-40c7e9ba58f0",
   "metadata": {},
   "outputs": [],
   "source": [
    "country = nom.reverse(str(location.latitude) + ',' + str(location.longitude))"
   ]
  },
  {
   "cell_type": "code",
   "execution_count": 16,
   "id": "e33fb6cf-9dea-4c76-8072-a9a1366b4c94",
   "metadata": {},
   "outputs": [
    {
     "data": {
      "text/plain": [
       "Location(충청북도 옥천군 청산면 교평리, (36.35627096300004, 127.80639593300009, 0.0))"
      ]
     },
     "execution_count": 16,
     "metadata": {},
     "output_type": "execute_result"
    }
   ],
   "source": [
    "country"
   ]
  },
  {
   "cell_type": "code",
   "execution_count": 62,
   "id": "3f223b42-03d6-4b4e-ac04-cf104675b78a",
   "metadata": {
    "collapsed": true,
    "jupyter": {
     "outputs_hidden": true
    },
    "tags": []
   },
   "outputs": [
    {
     "name": "stdout",
     "output_type": "stream",
     "text": [
      "Help on Location in module geopy.location object:\n",
      "\n",
      "class Location(builtins.object)\n",
      " |  Location(address, point, raw)\n",
      " |  \n",
      " |  Contains a parsed geocoder response. Can be iterated over as\n",
      " |  ``(location<String>, (latitude<float>, longitude<Float))``.\n",
      " |  Or one can access the properties ``address``, ``latitude``,\n",
      " |  ``longitude``, or ``raw``. The last\n",
      " |  is a dictionary of the geocoder's response for this item.\n",
      " |  \n",
      " |  Methods defined here:\n",
      " |  \n",
      " |  __eq__(self, other)\n",
      " |      Return self==value.\n",
      " |  \n",
      " |  __getitem__(self, index)\n",
      " |      Backwards compatibility with geopy<0.98 tuples.\n",
      " |  \n",
      " |  __getstate__(self)\n",
      " |  \n",
      " |  __init__(self, address, point, raw)\n",
      " |      Initialize self.  See help(type(self)) for accurate signature.\n",
      " |  \n",
      " |  __iter__(self)\n",
      " |  \n",
      " |  __len__(self)\n",
      " |  \n",
      " |  __ne__(self, other)\n",
      " |      Return self!=value.\n",
      " |  \n",
      " |  __repr__(self)\n",
      " |      Return repr(self).\n",
      " |  \n",
      " |  __setstate__(self, state)\n",
      " |  \n",
      " |  __str__(self)\n",
      " |      Return str(self).\n",
      " |  \n",
      " |  ----------------------------------------------------------------------\n",
      " |  Readonly properties defined here:\n",
      " |  \n",
      " |  address\n",
      " |      Location as a formatted string returned by the geocoder or constructed\n",
      " |      by geopy, depending on the service.\n",
      " |      \n",
      " |      :rtype: str\n",
      " |  \n",
      " |  altitude\n",
      " |      Location's altitude.\n",
      " |      \n",
      " |      .. note::\n",
      " |          Geocoding services usually don't consider altitude neither in\n",
      " |          requests nor in responses, so almost always the value of this\n",
      " |          property would be zero.\n",
      " |      \n",
      " |      :rtype: float\n",
      " |  \n",
      " |  latitude\n",
      " |      Location's latitude.\n",
      " |      \n",
      " |      :rtype: float\n",
      " |  \n",
      " |  longitude\n",
      " |      Location's longitude.\n",
      " |      \n",
      " |      :rtype: float\n",
      " |  \n",
      " |  point\n",
      " |      :class:`geopy.point.Point` instance representing the location's\n",
      " |      latitude, longitude, and altitude.\n",
      " |      \n",
      " |      :rtype: :class:`geopy.point.Point`\n",
      " |  \n",
      " |  raw\n",
      " |      Location's raw, unparsed geocoder response. For details on this,\n",
      " |      consult the service's documentation.\n",
      " |      \n",
      " |      :rtype: dict\n",
      " |  \n",
      " |  ----------------------------------------------------------------------\n",
      " |  Data and other attributes defined here:\n",
      " |  \n",
      " |  __hash__ = None\n",
      "\n"
     ]
    }
   ],
   "source": [
    "help(country)"
   ]
  },
  {
   "cell_type": "code",
   "execution_count": 36,
   "id": "b99271a0-a714-419b-9e1e-0b0c3e5d71cc",
   "metadata": {},
   "outputs": [
    {
     "data": {
      "text/html": [
       "<div>\n",
       "<style scoped>\n",
       "    .dataframe tbody tr th:only-of-type {\n",
       "        vertical-align: middle;\n",
       "    }\n",
       "\n",
       "    .dataframe tbody tr th {\n",
       "        vertical-align: top;\n",
       "    }\n",
       "\n",
       "    .dataframe thead th {\n",
       "        text-align: right;\n",
       "    }\n",
       "</style>\n",
       "<table border=\"1\" class=\"dataframe\">\n",
       "  <thead>\n",
       "    <tr style=\"text-align: right;\">\n",
       "      <th></th>\n",
       "      <th>Country</th>\n",
       "      <th>Function</th>\n",
       "      <th>LOCODE</th>\n",
       "      <th>Name</th>\n",
       "      <th>NameWoDiac</th>\n",
       "      <th>Status</th>\n",
       "      <th>outflows</th>\n",
       "      <th>geometry</th>\n",
       "    </tr>\n",
       "  </thead>\n",
       "  <tbody>\n",
       "    <tr>\n",
       "      <th>0</th>\n",
       "      <td>United Arab Emirates</td>\n",
       "      <td>1-345---</td>\n",
       "      <td>AEAUH</td>\n",
       "      <td>Abu Dhabi</td>\n",
       "      <td>Abu Dhabi</td>\n",
       "      <td>AI</td>\n",
       "      <td>4.159714e+04</td>\n",
       "      <td>POINT (54.36667 24.46667)</td>\n",
       "    </tr>\n",
       "    <tr>\n",
       "      <th>1</th>\n",
       "      <td>United Arab Emirates</td>\n",
       "      <td>1-------</td>\n",
       "      <td>AERUW</td>\n",
       "      <td>Ar Ruways</td>\n",
       "      <td>Ar Ruways</td>\n",
       "      <td>RL</td>\n",
       "      <td>1.665560e+05</td>\n",
       "      <td>POINT (52.73333 24.11667)</td>\n",
       "    </tr>\n",
       "    <tr>\n",
       "      <th>2</th>\n",
       "      <td>United Arab Emirates</td>\n",
       "      <td>1-------</td>\n",
       "      <td>AEKLF</td>\n",
       "      <td>Khor al Fakkan</td>\n",
       "      <td>Khor al Fakkan</td>\n",
       "      <td>RL</td>\n",
       "      <td>7.904065e+05</td>\n",
       "      <td>POINT (56.35000 25.33333)</td>\n",
       "    </tr>\n",
       "    <tr>\n",
       "      <th>3</th>\n",
       "      <td>United Arab Emirates</td>\n",
       "      <td>1-3-----</td>\n",
       "      <td>AEMKH</td>\n",
       "      <td>Mina Khalid</td>\n",
       "      <td>Mina Khalid</td>\n",
       "      <td>RL</td>\n",
       "      <td>6.469650e+05</td>\n",
       "      <td>POINT (55.36667 25.35000)</td>\n",
       "    </tr>\n",
       "    <tr>\n",
       "      <th>4</th>\n",
       "      <td>United Arab Emirates</td>\n",
       "      <td>1-------</td>\n",
       "      <td>AEKHL</td>\n",
       "      <td>Mina Khalifa/Abu Dhabi</td>\n",
       "      <td>Mina Khalifa/Abu Dhabi</td>\n",
       "      <td>RL</td>\n",
       "      <td>1.834146e+07</td>\n",
       "      <td>POINT (54.66667 24.83333)</td>\n",
       "    </tr>\n",
       "    <tr>\n",
       "      <th>...</th>\n",
       "      <td>...</td>\n",
       "      <td>...</td>\n",
       "      <td>...</td>\n",
       "      <td>...</td>\n",
       "      <td>...</td>\n",
       "      <td>...</td>\n",
       "      <td>...</td>\n",
       "      <td>...</td>\n",
       "    </tr>\n",
       "    <tr>\n",
       "      <th>851</th>\n",
       "      <td>Yemen</td>\n",
       "      <td>1--45---</td>\n",
       "      <td>YEADE</td>\n",
       "      <td>Aden</td>\n",
       "      <td>Aden</td>\n",
       "      <td>AI</td>\n",
       "      <td>1.260825e+05</td>\n",
       "      <td>POINT (45.03667 12.77944)</td>\n",
       "    </tr>\n",
       "    <tr>\n",
       "      <th>852</th>\n",
       "      <td>Yemen</td>\n",
       "      <td>1--4----</td>\n",
       "      <td>YEMKX</td>\n",
       "      <td>Mukalla</td>\n",
       "      <td>Mukalla</td>\n",
       "      <td>AI</td>\n",
       "      <td>3.074500e+04</td>\n",
       "      <td>POINT (49.12424 14.54248)</td>\n",
       "    </tr>\n",
       "    <tr>\n",
       "      <th>853</th>\n",
       "      <td>South Africa</td>\n",
       "      <td>1234----</td>\n",
       "      <td>ZAELS</td>\n",
       "      <td>East London</td>\n",
       "      <td>East London</td>\n",
       "      <td>AF</td>\n",
       "      <td>1.560000e+04</td>\n",
       "      <td>POINT (27.91162 -33.01529)</td>\n",
       "    </tr>\n",
       "    <tr>\n",
       "      <th>854</th>\n",
       "      <td>South Africa</td>\n",
       "      <td>1--45---</td>\n",
       "      <td>ZAPLZ</td>\n",
       "      <td>Port Elizabeth</td>\n",
       "      <td>Port Elizabeth</td>\n",
       "      <td>AF</td>\n",
       "      <td>2.557154e+06</td>\n",
       "      <td>POINT (25.61494 -33.96109)</td>\n",
       "    </tr>\n",
       "    <tr>\n",
       "      <th>855</th>\n",
       "      <td>South Africa</td>\n",
       "      <td>1--4----</td>\n",
       "      <td>ZARCB</td>\n",
       "      <td>Richards Bay</td>\n",
       "      <td>Richards Bay</td>\n",
       "      <td>AF</td>\n",
       "      <td>1.645389e+05</td>\n",
       "      <td>POINT (32.03768 -28.78301)</td>\n",
       "    </tr>\n",
       "  </tbody>\n",
       "</table>\n",
       "<p>856 rows × 8 columns</p>\n",
       "</div>"
      ],
      "text/plain": [
       "                  Country  Function LOCODE                    Name  \\\n",
       "0    United Arab Emirates  1-345---  AEAUH               Abu Dhabi   \n",
       "1    United Arab Emirates  1-------  AERUW               Ar Ruways   \n",
       "2    United Arab Emirates  1-------  AEKLF          Khor al Fakkan   \n",
       "3    United Arab Emirates  1-3-----  AEMKH             Mina Khalid   \n",
       "4    United Arab Emirates  1-------  AEKHL  Mina Khalifa/Abu Dhabi   \n",
       "..                    ...       ...    ...                     ...   \n",
       "851                 Yemen  1--45---  YEADE                    Aden   \n",
       "852                 Yemen  1--4----  YEMKX                 Mukalla   \n",
       "853          South Africa  1234----  ZAELS             East London   \n",
       "854          South Africa  1--45---  ZAPLZ          Port Elizabeth   \n",
       "855          South Africa  1--4----  ZARCB            Richards Bay   \n",
       "\n",
       "                 NameWoDiac Status      outflows                    geometry  \n",
       "0                 Abu Dhabi     AI  4.159714e+04   POINT (54.36667 24.46667)  \n",
       "1                 Ar Ruways     RL  1.665560e+05   POINT (52.73333 24.11667)  \n",
       "2            Khor al Fakkan     RL  7.904065e+05   POINT (56.35000 25.33333)  \n",
       "3               Mina Khalid     RL  6.469650e+05   POINT (55.36667 25.35000)  \n",
       "4    Mina Khalifa/Abu Dhabi     RL  1.834146e+07   POINT (54.66667 24.83333)  \n",
       "..                      ...    ...           ...                         ...  \n",
       "851                    Aden     AI  1.260825e+05   POINT (45.03667 12.77944)  \n",
       "852                 Mukalla     AI  3.074500e+04   POINT (49.12424 14.54248)  \n",
       "853             East London     AF  1.560000e+04  POINT (27.91162 -33.01529)  \n",
       "854          Port Elizabeth     AF  2.557154e+06  POINT (25.61494 -33.96109)  \n",
       "855            Richards Bay     AF  1.645389e+05  POINT (32.03768 -28.78301)  \n",
       "\n",
       "[856 rows x 8 columns]"
      ]
     },
     "execution_count": 36,
     "metadata": {},
     "output_type": "execute_result"
    }
   ],
   "source": [
    "# Read ports data\n",
    "import geopandas as gpd\n",
    "ports = gpd.read_file('Data/attributed_ports.geojson')\n",
    "\n"
   ]
  },
  {
   "cell_type": "code",
   "execution_count": 48,
   "id": "5b2917e9-fe60-4e02-bea9-f9703eb5174f",
   "metadata": {},
   "outputs": [],
   "source": [
    "ports_df = ports[['Country','Name','geometry']].copy()"
   ]
  },
  {
   "cell_type": "code",
   "execution_count": 49,
   "id": "32f158c5-7656-48d0-be27-cff94847be6e",
   "metadata": {},
   "outputs": [],
   "source": [
    "ports_df['latitude'] = ports_df.geometry.apply(lambda p: p.x)\n",
    "ports_df['longitude'] = ports_df.geometry.apply(lambda p: p.y)"
   ]
  },
  {
   "cell_type": "code",
   "execution_count": 51,
   "id": "11810034-9e85-406f-840b-311d3f6e1317",
   "metadata": {},
   "outputs": [
    {
     "data": {
      "text/plain": [
       "array(['United Arab Emirates', 'Antigua and Barbuda', 'Argentina',\n",
       "       'American Samoa', 'Australia', 'Aruba', 'Bangladesh', 'Belgium',\n",
       "       'Bahrain', 'Bonaire, Sint Eustatius and Saba', 'Brazil', 'Bahamas',\n",
       "       'Belize', 'Canada', 'Congo, The Democratic Republic of the',\n",
       "       'Congo', \"Côte d'Ivoire\", 'Chile', 'China', 'Colombia',\n",
       "       'Costa Rica', 'Cuba', 'Cabo Verde', 'Curaçao', 'Christmas Island',\n",
       "       'Cyprus', 'Germany', 'Denmark', 'Dominican Republic', 'Algeria',\n",
       "       'Ecuador', 'Estonia', 'Egypt', 'Eritrea', 'Spain', 'Finland',\n",
       "       'Fiji', 'Faroe Islands', 'France', 'United Kingdom',\n",
       "       'French Guiana', 'Greenland', 'Guadeloupe', 'Greece', 'Guatemala',\n",
       "       'Guam', 'Guinea-Bissau', 'Croatia', 'Haiti', 'Indonesia',\n",
       "       'Ireland', 'Israel', 'India', 'Iraq', 'Iran, Islamic Republic of',\n",
       "       'Iceland', 'Italy', 'Jordan', 'Japan', 'Cambodia', 'Comoros',\n",
       "       'Saint Kitts and Nevis', 'Korea, Republic of', 'Kuwait',\n",
       "       'Cayman Islands', 'Lebanon', 'Saint Lucia', 'Sri Lanka', 'Liberia',\n",
       "       'Libya', 'Morocco', 'Moldova, Republic of', 'Montenegro',\n",
       "       'Madagascar', 'Marshall Islands', 'Myanmar', 'Malta', 'Mauritius',\n",
       "       'Maldives', 'Mexico', 'Malaysia', 'Namibia', 'New Caledonia',\n",
       "       'Nigeria', 'Nicaragua', 'Netherlands', 'Norway', 'Nauru',\n",
       "       'New Zealand', 'Panama', 'French Polynesia', 'Papua New Guinea',\n",
       "       'Philippines', 'Poland', 'Puerto Rico', 'Portugal', 'Paraguay',\n",
       "       'Qatar', 'Romania', 'Russian Federation', 'Saudi Arabia', 'Sweden',\n",
       "       'Syrian Arab Republic', 'Thailand', 'Timor-Leste', 'Tonga',\n",
       "       'Turkey', 'Trinidad and Tobago', 'Taiwan, Province of China',\n",
       "       'Tanzania, United Republic of', 'Ukraine', 'United States',\n",
       "       'Uruguay', 'Saint Vincent and the Grenadines',\n",
       "       'Venezuela, Bolivarian Republic of', 'Virgin Islands, U.S.',\n",
       "       'Viet Nam', 'Wallis and Futuna', 'Mayotte', 'South Africa',\n",
       "       'Anguilla', 'Albania', 'Angola', 'Barbados', 'Bulgaria', 'Benin',\n",
       "       'Bermuda', 'Cook Islands', 'Cameroon', 'Djibouti', 'Dominica',\n",
       "       'Gabon', 'Grenada', 'Georgia', 'Ghana', 'Gibraltar', 'Gambia',\n",
       "       'Guinea', 'Equatorial Guinea', 'Guyana', 'Hong Kong', 'Honduras',\n",
       "       'Jamaica', 'Kenya', 'Kiribati', 'Lithuania', 'Latvia',\n",
       "       'Martinique', 'Mauritania', 'Montserrat', 'Mozambique', 'Oman',\n",
       "       'Peru', 'Pakistan', 'Palau', 'Seychelles', 'Sudan', 'Singapore',\n",
       "       'Slovenia', 'Sierra Leone', 'Senegal', 'Somalia', 'Suriname',\n",
       "       'El Salvador', 'Togo', 'Tunisia', 'Vanuatu', 'Samoa', 'Yemen'],\n",
       "      dtype=object)"
      ]
     },
     "execution_count": 51,
     "metadata": {},
     "output_type": "execute_result"
    }
   ],
   "source": [
    "ports_df['Country'].unique()"
   ]
  }
 ],
 "metadata": {
  "kernelspec": {
   "display_name": "Python 3",
   "language": "python",
   "name": "python3"
  },
  "language_info": {
   "codemirror_mode": {
    "name": "ipython",
    "version": 3
   },
   "file_extension": ".py",
   "mimetype": "text/x-python",
   "name": "python",
   "nbconvert_exporter": "python",
   "pygments_lexer": "ipython3",
   "version": "3.8.8"
  }
 },
 "nbformat": 4,
 "nbformat_minor": 5
}
