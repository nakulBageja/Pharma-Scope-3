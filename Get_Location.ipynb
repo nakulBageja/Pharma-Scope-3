{
 "cells": [
  {
   "cell_type": "markdown",
   "id": "8711c811-5d61-4329-b7d5-4db97c9b14ef",
   "metadata": {},
   "source": [
    "# Script to get the location coordinates"
   ]
  },
  {
   "cell_type": "markdown",
   "id": "e6d6911e-6dbf-4494-8199-0be829efaed9",
   "metadata": {},
   "source": [
    "## To-Do\n",
    "- Destination \n",
    "1. Get the appropriate location name, port/airport.\n",
    "2. Get the coordinates\n",
    "- Source\n",
    "1. Get the coordinates, if mode is AIR then it should be the airport of that city. If ocean, then the nearest port of that city. If road then that place coordinates"
   ]
  },
  {
   "cell_type": "code",
   "execution_count": 1,
   "id": "a2e7d829-3c3e-44d0-a7e5-1e9dd3a92d60",
   "metadata": {},
   "outputs": [],
   "source": [
    "from geopy.geocoders import ArcGIS\n",
    "\n",
    "import pandas as pd"
   ]
  },
  {
   "cell_type": "code",
   "execution_count": 58,
   "id": "122f2a10-141d-4063-9124-22e6738a38d0",
   "metadata": {},
   "outputs": [],
   "source": [
    "nom = ArcGIS()"
   ]
  },
  {
   "cell_type": "code",
   "execution_count": 59,
   "id": "416c2f3b-d81f-4406-852f-14649236cb56",
   "metadata": {},
   "outputs": [
    {
     "name": "stdout",
     "output_type": "stream",
     "text": [
      "Help on ArcGIS in module geopy.geocoders.arcgis object:\n",
      "\n",
      "class ArcGIS(geopy.geocoders.base.Geocoder)\n",
      " |  ArcGIS(username=None, password=None, *, referer=None, token_lifetime=60, scheme=None, timeout=DEFAULT_SENTINEL, proxies=DEFAULT_SENTINEL, user_agent=None, ssl_context=DEFAULT_SENTINEL, adapter_factory=None, auth_domain='www.arcgis.com', domain='geocode.arcgis.com')\n",
      " |  \n",
      " |  Geocoder using the ERSI ArcGIS API.\n",
      " |  \n",
      " |  Documentation at:\n",
      " |      https://developers.arcgis.com/rest/geocode/api-reference/overview-world-geocoding-service.htm\n",
      " |  \n",
      " |  Method resolution order:\n",
      " |      ArcGIS\n",
      " |      geopy.geocoders.base.Geocoder\n",
      " |      builtins.object\n",
      " |  \n",
      " |  Methods defined here:\n",
      " |  \n",
      " |  __init__(self, username=None, password=None, *, referer=None, token_lifetime=60, scheme=None, timeout=DEFAULT_SENTINEL, proxies=DEFAULT_SENTINEL, user_agent=None, ssl_context=DEFAULT_SENTINEL, adapter_factory=None, auth_domain='www.arcgis.com', domain='geocode.arcgis.com')\n",
      " |      :param str username: ArcGIS username. Required if authenticated\n",
      " |          mode is desired.\n",
      " |      \n",
      " |      :param str password: ArcGIS password. Required if authenticated\n",
      " |          mode is desired.\n",
      " |      \n",
      " |      :param str referer: Required if authenticated mode is desired.\n",
      " |          `Referer` HTTP header to send with each request,\n",
      " |          e.g., ``'http://www.example.com'``. This is tied to an issued token,\n",
      " |          so fielding queries for multiple referrers should be handled by\n",
      " |          having multiple ArcGIS geocoder instances.\n",
      " |      \n",
      " |      :param int token_lifetime: Desired lifetime, in minutes, of an\n",
      " |          ArcGIS-issued token.\n",
      " |      \n",
      " |      :param str scheme:\n",
      " |          See :attr:`geopy.geocoders.options.default_scheme`.\n",
      " |          If authenticated mode is in use, it must be ``'https'``.\n",
      " |      \n",
      " |      :param int timeout:\n",
      " |          See :attr:`geopy.geocoders.options.default_timeout`.\n",
      " |      \n",
      " |      :param dict proxies:\n",
      " |          See :attr:`geopy.geocoders.options.default_proxies`.\n",
      " |      \n",
      " |      :param str user_agent:\n",
      " |          See :attr:`geopy.geocoders.options.default_user_agent`.\n",
      " |      \n",
      " |      :type ssl_context: :class:`ssl.SSLContext`\n",
      " |      :param ssl_context:\n",
      " |          See :attr:`geopy.geocoders.options.default_ssl_context`.\n",
      " |      \n",
      " |      :param callable adapter_factory:\n",
      " |          See :attr:`geopy.geocoders.options.default_adapter_factory`.\n",
      " |      \n",
      " |          .. versionadded:: 2.0\n",
      " |      \n",
      " |      :param str auth_domain: Domain where the target ArcGIS auth service\n",
      " |          is hosted. Used only in authenticated mode (i.e. username,\n",
      " |          password and referer are set).\n",
      " |      \n",
      " |      :param str domain: Domain where the target ArcGIS service\n",
      " |          is hosted.\n",
      " |  \n",
      " |  geocode(self, query, *, exactly_one=True, timeout=DEFAULT_SENTINEL, out_fields=None)\n",
      " |      Return a location point by address.\n",
      " |      \n",
      " |      :param str query: The address or query you wish to geocode.\n",
      " |      \n",
      " |      :param bool exactly_one: Return one result or a list of results, if\n",
      " |          available.\n",
      " |      \n",
      " |      :param int timeout: Time, in seconds, to wait for the geocoding service\n",
      " |          to respond before raising a :class:`geopy.exc.GeocoderTimedOut`\n",
      " |          exception. Set this only if you wish to override, on this call\n",
      " |          only, the value set during the geocoder's initialization.\n",
      " |      \n",
      " |      :param out_fields: A list of output fields to be returned in the\n",
      " |          attributes field of the raw data. This can be either a python\n",
      " |          list/tuple of fields or a comma-separated string. See\n",
      " |          https://developers.arcgis.com/rest/geocode/api-reference/geocoding-service-output.htm\n",
      " |          for a list of supported output fields. If you want to return all\n",
      " |          supported output fields, set ``out_fields=\"*\"``.\n",
      " |      :type out_fields: str or iterable\n",
      " |      \n",
      " |      :rtype: ``None``, :class:`geopy.location.Location` or a list of them, if\n",
      " |          ``exactly_one=False``.\n",
      " |  \n",
      " |  reverse(self, query, *, exactly_one=True, timeout=DEFAULT_SENTINEL, distance=None)\n",
      " |      Return an address by location point.\n",
      " |      \n",
      " |      :param query: The coordinates for which you wish to obtain the\n",
      " |          closest human-readable addresses.\n",
      " |      :type query: :class:`geopy.point.Point`, list or tuple of ``(latitude,\n",
      " |          longitude)``, or string as ``\"%(latitude)s, %(longitude)s\"``.\n",
      " |      \n",
      " |      :param bool exactly_one: Return one result or a list of results, if\n",
      " |          available.\n",
      " |      \n",
      " |      :param int timeout: Time, in seconds, to wait for the geocoding service\n",
      " |          to respond before raising a :class:`geopy.exc.GeocoderTimedOut`\n",
      " |          exception. Set this only if you wish to override, on this call\n",
      " |          only, the value set during the geocoder's initialization.\n",
      " |      \n",
      " |      :param int distance: Distance from the query location, in meters,\n",
      " |          within which to search. ArcGIS has a default of 100 meters, if not\n",
      " |          specified.\n",
      " |      \n",
      " |      :rtype: ``None``, :class:`geopy.location.Location` or a list of them, if\n",
      " |          ``exactly_one=False``.\n",
      " |  \n",
      " |  ----------------------------------------------------------------------\n",
      " |  Data and other attributes defined here:\n",
      " |  \n",
      " |  auth_path = '/sharing/generateToken'\n",
      " |  \n",
      " |  geocode_path = '/arcgis/rest/services/World/GeocodeServer/findAddressC...\n",
      " |  \n",
      " |  reverse_path = '/arcgis/rest/services/World/GeocodeServer/reverseGeoco...\n",
      " |  \n",
      " |  ----------------------------------------------------------------------\n",
      " |  Methods inherited from geopy.geocoders.base.Geocoder:\n",
      " |  \n",
      " |  async __aenter__(self)\n",
      " |      Context manager for asynchronous adapters. At exit all\n",
      " |      open connections will be closed.\n",
      " |      \n",
      " |      In asynchronous mode context manager usage is not required,\n",
      " |      however, it is strongly advised to avoid warnings about\n",
      " |      resources leaks.\n",
      " |  \n",
      " |  async __aexit__(self, exc_type, exc_val, exc_tb)\n",
      " |  \n",
      " |  __enter__(self)\n",
      " |      Context manager for synchronous adapters. At exit all\n",
      " |      open connections will be closed.\n",
      " |      \n",
      " |      In synchronous mode context manager usage is not required,\n",
      " |      and connections will be automatically closed by garbage collection.\n",
      " |  \n",
      " |  __exit__(self, exc_type, exc_val, exc_tb)\n",
      " |  \n",
      " |  ----------------------------------------------------------------------\n",
      " |  Data descriptors inherited from geopy.geocoders.base.Geocoder:\n",
      " |  \n",
      " |  __dict__\n",
      " |      dictionary for instance variables (if defined)\n",
      " |  \n",
      " |  __weakref__\n",
      " |      list of weak references to the object (if defined)\n",
      "\n"
     ]
    }
   ],
   "source": [
    "help(nom)"
   ]
  },
  {
   "cell_type": "code",
   "execution_count": 7,
   "id": "605ef252-854a-48c4-97d9-d2a3c4305c01",
   "metadata": {},
   "outputs": [],
   "source": [
    "location = nom.geocode('Aurobindo Unit III, India')"
   ]
  },
  {
   "cell_type": "code",
   "execution_count": 9,
   "id": "50ea6486-e54f-4bd6-9e6c-b56855a02ce2",
   "metadata": {},
   "outputs": [
    {
     "data": {
      "text/plain": [
       "'Aurobindo Unit-XII'"
      ]
     },
     "execution_count": 9,
     "metadata": {},
     "output_type": "execute_result"
    }
   ],
   "source": [
    "location.address"
   ]
  },
  {
   "cell_type": "code",
   "execution_count": 58,
   "id": "4935e495-1cd2-4047-befb-1cf1efce8bbc",
   "metadata": {},
   "outputs": [
    {
     "name": "stdout",
     "output_type": "stream",
     "text": [
      "17.52389000000005,78.34978000000007\n"
     ]
    }
   ],
   "source": [
    "print(str(location.latitude) + ',' + str(location.longitude))"
   ]
  },
  {
   "cell_type": "code",
   "execution_count": 61,
   "id": "9e39bea3-fc80-4aac-8b5f-40c7e9ba58f0",
   "metadata": {},
   "outputs": [],
   "source": [
    "country = nom.reverse('17.52389000000005,78.34978000000007')"
   ]
  },
  {
   "cell_type": "code",
   "execution_count": 62,
   "id": "3f223b42-03d6-4b4e-ac04-cf104675b78a",
   "metadata": {},
   "outputs": [
    {
     "name": "stdout",
     "output_type": "stream",
     "text": [
      "Help on Location in module geopy.location object:\n",
      "\n",
      "class Location(builtins.object)\n",
      " |  Location(address, point, raw)\n",
      " |  \n",
      " |  Contains a parsed geocoder response. Can be iterated over as\n",
      " |  ``(location<String>, (latitude<float>, longitude<Float))``.\n",
      " |  Or one can access the properties ``address``, ``latitude``,\n",
      " |  ``longitude``, or ``raw``. The last\n",
      " |  is a dictionary of the geocoder's response for this item.\n",
      " |  \n",
      " |  Methods defined here:\n",
      " |  \n",
      " |  __eq__(self, other)\n",
      " |      Return self==value.\n",
      " |  \n",
      " |  __getitem__(self, index)\n",
      " |      Backwards compatibility with geopy<0.98 tuples.\n",
      " |  \n",
      " |  __getstate__(self)\n",
      " |  \n",
      " |  __init__(self, address, point, raw)\n",
      " |      Initialize self.  See help(type(self)) for accurate signature.\n",
      " |  \n",
      " |  __iter__(self)\n",
      " |  \n",
      " |  __len__(self)\n",
      " |  \n",
      " |  __ne__(self, other)\n",
      " |      Return self!=value.\n",
      " |  \n",
      " |  __repr__(self)\n",
      " |      Return repr(self).\n",
      " |  \n",
      " |  __setstate__(self, state)\n",
      " |  \n",
      " |  __str__(self)\n",
      " |      Return str(self).\n",
      " |  \n",
      " |  ----------------------------------------------------------------------\n",
      " |  Readonly properties defined here:\n",
      " |  \n",
      " |  address\n",
      " |      Location as a formatted string returned by the geocoder or constructed\n",
      " |      by geopy, depending on the service.\n",
      " |      \n",
      " |      :rtype: str\n",
      " |  \n",
      " |  altitude\n",
      " |      Location's altitude.\n",
      " |      \n",
      " |      .. note::\n",
      " |          Geocoding services usually don't consider altitude neither in\n",
      " |          requests nor in responses, so almost always the value of this\n",
      " |          property would be zero.\n",
      " |      \n",
      " |      :rtype: float\n",
      " |  \n",
      " |  latitude\n",
      " |      Location's latitude.\n",
      " |      \n",
      " |      :rtype: float\n",
      " |  \n",
      " |  longitude\n",
      " |      Location's longitude.\n",
      " |      \n",
      " |      :rtype: float\n",
      " |  \n",
      " |  point\n",
      " |      :class:`geopy.point.Point` instance representing the location's\n",
      " |      latitude, longitude, and altitude.\n",
      " |      \n",
      " |      :rtype: :class:`geopy.point.Point`\n",
      " |  \n",
      " |  raw\n",
      " |      Location's raw, unparsed geocoder response. For details on this,\n",
      " |      consult the service's documentation.\n",
      " |      \n",
      " |      :rtype: dict\n",
      " |  \n",
      " |  ----------------------------------------------------------------------\n",
      " |  Data and other attributes defined here:\n",
      " |  \n",
      " |  __hash__ = None\n",
      "\n"
     ]
    }
   ],
   "source": [
    "help(country)"
   ]
  },
  {
   "cell_type": "code",
   "execution_count": 2,
   "id": "093ea4f0-319e-4b16-a361-b3ae983cd821",
   "metadata": {},
   "outputs": [
    {
     "ename": "TypeError",
     "evalue": "__init__() missing 1 required positional argument: 'api_key'",
     "output_type": "error",
     "traceback": [
      "\u001b[1;31m---------------------------------------------------------------------------\u001b[0m",
      "\u001b[1;31mTypeError\u001b[0m                                 Traceback (most recent call last)",
      "\u001b[1;32m<ipython-input-2-b220663272e3>\u001b[0m in \u001b[0;36m<module>\u001b[1;34m\u001b[0m\n\u001b[0;32m      1\u001b[0m \u001b[1;32mfrom\u001b[0m \u001b[0mgeopy\u001b[0m\u001b[1;33m.\u001b[0m\u001b[0mgeocoders\u001b[0m \u001b[1;32mimport\u001b[0m \u001b[0mTomTom\u001b[0m\u001b[1;33m\u001b[0m\u001b[1;33m\u001b[0m\u001b[0m\n\u001b[0;32m      2\u001b[0m \u001b[1;33m\u001b[0m\u001b[0m\n\u001b[1;32m----> 3\u001b[1;33m \u001b[0mnom\u001b[0m \u001b[1;33m=\u001b[0m \u001b[0mTomTom\u001b[0m\u001b[1;33m(\u001b[0m\u001b[1;33m)\u001b[0m\u001b[1;33m\u001b[0m\u001b[1;33m\u001b[0m\u001b[0m\n\u001b[0m\u001b[0;32m      4\u001b[0m \u001b[1;33m\u001b[0m\u001b[0m\n\u001b[0;32m      5\u001b[0m \u001b[0mnom\u001b[0m\u001b[1;33m.\u001b[0m\u001b[0mgeocode\u001b[0m\u001b[1;33m(\u001b[0m\u001b[1;34m'ABBVIE (Abbott) Logis. UK'\u001b[0m\u001b[1;33m)\u001b[0m\u001b[1;33m\u001b[0m\u001b[1;33m\u001b[0m\u001b[0m\n",
      "\u001b[1;31mTypeError\u001b[0m: __init__() missing 1 required positional argument: 'api_key'"
     ]
    }
   ],
   "source": [
    "from geopy.geocoders import TomTom\n",
    "\n",
    "nom = TomTom()\n",
    "\n",
    "nom.geocode('ABBVIE (Abbott) Logis. UK')"
   ]
  },
  {
   "cell_type": "code",
   "execution_count": 3,
   "id": "bb60ac0e-3836-4178-bb90-bd7a3ff0977c",
   "metadata": {},
   "outputs": [],
   "source": [
    "raw_airport_db = pd.read_csv('Data/airports.csv')"
   ]
  },
  {
   "cell_type": "code",
   "execution_count": 36,
   "id": "33d885a1-b18b-4c52-b32a-522c6e853dd9",
   "metadata": {},
   "outputs": [],
   "source": [
    "only_airports = raw_airport_db[raw_airport_db['type'].str.lower().str.contains('airport')]"
   ]
  },
  {
   "cell_type": "code",
   "execution_count": 43,
   "id": "85ae61a4-7d39-4382-85f8-f4aba14cb469",
   "metadata": {},
   "outputs": [
    {
     "data": {
      "text/plain": [
       "255"
      ]
     },
     "execution_count": 43,
     "metadata": {},
     "output_type": "execute_result"
    }
   ],
   "source": [
    "only_airports.iso_country.isnull().sum()"
   ]
  },
  {
   "cell_type": "code",
   "execution_count": 55,
   "id": "33297a14-9bd4-472f-bb4e-d1ec9a64b2c5",
   "metadata": {},
   "outputs": [
    {
     "name": "stdout",
     "output_type": "stream",
     "text": [
      "Help on Location in module geopy.location object:\n",
      "\n",
      "class Location(builtins.object)\n",
      " |  Location(address, point, raw)\n",
      " |  \n",
      " |  Contains a parsed geocoder response. Can be iterated over as\n",
      " |  ``(location<String>, (latitude<float>, longitude<Float))``.\n",
      " |  Or one can access the properties ``address``, ``latitude``,\n",
      " |  ``longitude``, or ``raw``. The last\n",
      " |  is a dictionary of the geocoder's response for this item.\n",
      " |  \n",
      " |  Methods defined here:\n",
      " |  \n",
      " |  __eq__(self, other)\n",
      " |      Return self==value.\n",
      " |  \n",
      " |  __getitem__(self, index)\n",
      " |      Backwards compatibility with geopy<0.98 tuples.\n",
      " |  \n",
      " |  __getstate__(self)\n",
      " |  \n",
      " |  __init__(self, address, point, raw)\n",
      " |      Initialize self.  See help(type(self)) for accurate signature.\n",
      " |  \n",
      " |  __iter__(self)\n",
      " |  \n",
      " |  __len__(self)\n",
      " |  \n",
      " |  __ne__(self, other)\n",
      " |      Return self!=value.\n",
      " |  \n",
      " |  __repr__(self)\n",
      " |      Return repr(self).\n",
      " |  \n",
      " |  __setstate__(self, state)\n",
      " |  \n",
      " |  __str__(self)\n",
      " |      Return str(self).\n",
      " |  \n",
      " |  ----------------------------------------------------------------------\n",
      " |  Readonly properties defined here:\n",
      " |  \n",
      " |  address\n",
      " |      Location as a formatted string returned by the geocoder or constructed\n",
      " |      by geopy, depending on the service.\n",
      " |      \n",
      " |      :rtype: str\n",
      " |  \n",
      " |  altitude\n",
      " |      Location's altitude.\n",
      " |      \n",
      " |      .. note::\n",
      " |          Geocoding services usually don't consider altitude neither in\n",
      " |          requests nor in responses, so almost always the value of this\n",
      " |          property would be zero.\n",
      " |      \n",
      " |      :rtype: float\n",
      " |  \n",
      " |  latitude\n",
      " |      Location's latitude.\n",
      " |      \n",
      " |      :rtype: float\n",
      " |  \n",
      " |  longitude\n",
      " |      Location's longitude.\n",
      " |      \n",
      " |      :rtype: float\n",
      " |  \n",
      " |  point\n",
      " |      :class:`geopy.point.Point` instance representing the location's\n",
      " |      latitude, longitude, and altitude.\n",
      " |      \n",
      " |      :rtype: :class:`geopy.point.Point`\n",
      " |  \n",
      " |  raw\n",
      " |      Location's raw, unparsed geocoder response. For details on this,\n",
      " |      consult the service's documentation.\n",
      " |      \n",
      " |      :rtype: dict\n",
      " |  \n",
      " |  ----------------------------------------------------------------------\n",
      " |  Data and other attributes defined here:\n",
      " |  \n",
      " |  __hash__ = None\n",
      "\n",
      "None\n"
     ]
    }
   ],
   "source": [
    "from geopy.geocoders import Nominatim\n",
    "\n",
    "# Create a Nominatim geolocator object\n",
    "geolocator = Nominatim(user_agent='user_agent')\n",
    "\n",
    "# Get location information for a place name\n",
    "location = geolocator.reverse('15.359210,73.939670')\n",
    "\n",
    "# Print the latitude, longitude, and country name\n",
    "print(help(location))\n",
    "# print(location.)\n"
   ]
  },
  {
   "cell_type": "code",
   "execution_count": null,
   "id": "efb45602-38a4-4978-80e7-e7ad98d8e558",
   "metadata": {},
   "outputs": [],
   "source": []
  }
 ],
 "metadata": {
  "kernelspec": {
   "display_name": "Python 3",
   "language": "python",
   "name": "python3"
  },
  "language_info": {
   "codemirror_mode": {
    "name": "ipython",
    "version": 3
   },
   "file_extension": ".py",
   "mimetype": "text/x-python",
   "name": "python",
   "nbconvert_exporter": "python",
   "pygments_lexer": "ipython3",
   "version": "3.8.8"
  }
 },
 "nbformat": 4,
 "nbformat_minor": 5
}
