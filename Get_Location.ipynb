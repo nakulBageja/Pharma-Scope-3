{
 "cells": [
  {
   "cell_type": "markdown",
   "id": "8711c811-5d61-4329-b7d5-4db97c9b14ef",
   "metadata": {},
   "source": [
    "# Script to get the location coordinates"
   ]
  },
  {
   "cell_type": "markdown",
   "id": "e6d6911e-6dbf-4494-8199-0be829efaed9",
   "metadata": {},
   "source": [
    "## To-Do\n",
    "- Destination \n",
    "1. Get the appropriate location name, port/airport.\n",
    "2. Get the coordinates\n",
    "- Source\n",
    "1. Get the coordinates, if mode is AIR then it should be the airport of that city. If ocean, then the nearest port of that city. If road then that place coordinates"
   ]
  },
  {
   "cell_type": "code",
   "execution_count": 3,
   "id": "a2e7d829-3c3e-44d0-a7e5-1e9dd3a92d60",
   "metadata": {},
   "outputs": [],
   "source": [
    "from geopy.geocoders import ArcGIS\n",
    "\n",
    "import pandas as pd\n",
    "# For converting country name to iso_2 codes\n",
    "import country_converter as coco\n",
    "# Initialising geolocation object\n",
    "nom = ArcGIS()"
   ]
  },
  {
   "cell_type": "code",
   "execution_count": 13,
   "id": "605ef252-854a-48c4-97d9-d2a3c4305c01",
   "metadata": {},
   "outputs": [],
   "source": [
    "location = nom.geocode('Medochemie Factory A, CY')"
   ]
  },
  {
   "cell_type": "code",
   "execution_count": 14,
   "id": "50ea6486-e54f-4bd6-9e6c-b56855a02ce2",
   "metadata": {},
   "outputs": [
    {
     "data": {
      "text/plain": [
       "Location(CY, (35.05017420400003, 33.22622979000005, 0.0))"
      ]
     },
     "execution_count": 14,
     "metadata": {},
     "output_type": "execute_result"
    }
   ],
   "source": [
    "location"
   ]
  },
  {
   "cell_type": "code",
   "execution_count": 15,
   "id": "4935e495-1cd2-4047-befb-1cf1efce8bbc",
   "metadata": {},
   "outputs": [
    {
     "name": "stdout",
     "output_type": "stream",
     "text": [
      "35.05017420400003,33.22622979000005\n"
     ]
    }
   ],
   "source": [
    "print(str(location.latitude) + ',' + str(location.longitude))"
   ]
  },
  {
   "cell_type": "code",
   "execution_count": 14,
   "id": "569a2496-2f3d-4c72-bee2-0437264d165c",
   "metadata": {},
   "outputs": [
    {
     "data": {
      "text/plain": [
       "'36.35627096300004,127.80639593300009'"
      ]
     },
     "execution_count": 14,
     "metadata": {},
     "output_type": "execute_result"
    }
   ],
   "source": [
    "str(location.latitude) + ',' + str(location.longitude)"
   ]
  },
  {
   "cell_type": "code",
   "execution_count": 16,
   "id": "9e39bea3-fc80-4aac-8b5f-40c7e9ba58f0",
   "metadata": {},
   "outputs": [],
   "source": [
    "country = nom.reverse(str(location.latitude) + ',' + str(location.longitude))"
   ]
  },
  {
   "cell_type": "code",
   "execution_count": 17,
   "id": "e33fb6cf-9dea-4c76-8072-a9a1366b4c94",
   "metadata": {},
   "outputs": [
    {
     "data": {
      "text/plain": [
       "Location(2643, (35.05017420400003, 33.22622979000005, 0.0))"
      ]
     },
     "execution_count": 17,
     "metadata": {},
     "output_type": "execute_result"
    }
   ],
   "source": [
    "country"
   ]
  },
  {
   "cell_type": "code",
   "execution_count": 2,
   "id": "b99271a0-a714-419b-9e1e-0b0c3e5d71cc",
   "metadata": {},
   "outputs": [],
   "source": [
    "# Read ports data\n",
    "import geopandas as gpd\n",
    "ports = gpd.read_file('Data/attributed_ports.geojson')\n",
    "\n"
   ]
  },
  {
   "cell_type": "code",
   "execution_count": 30,
   "id": "53aa268d-0434-4f58-927c-b7982bdabc15",
   "metadata": {},
   "outputs": [
    {
     "data": {
      "text/html": [
       "<div>\n",
       "<style scoped>\n",
       "    .dataframe tbody tr th:only-of-type {\n",
       "        vertical-align: middle;\n",
       "    }\n",
       "\n",
       "    .dataframe tbody tr th {\n",
       "        vertical-align: top;\n",
       "    }\n",
       "\n",
       "    .dataframe thead th {\n",
       "        text-align: right;\n",
       "    }\n",
       "</style>\n",
       "<table border=\"1\" class=\"dataframe\">\n",
       "  <thead>\n",
       "    <tr style=\"text-align: right;\">\n",
       "      <th></th>\n",
       "      <th>Country</th>\n",
       "      <th>Function</th>\n",
       "      <th>LOCODE</th>\n",
       "      <th>Name</th>\n",
       "      <th>NameWoDiac</th>\n",
       "      <th>Status</th>\n",
       "      <th>outflows</th>\n",
       "      <th>geometry</th>\n",
       "    </tr>\n",
       "  </thead>\n",
       "  <tbody>\n",
       "    <tr>\n",
       "      <th>643</th>\n",
       "      <td>India</td>\n",
       "      <td>1-------</td>\n",
       "      <td>INMUN</td>\n",
       "      <td>Mundra</td>\n",
       "      <td>Mundra</td>\n",
       "      <td>AA</td>\n",
       "      <td>1.981191e+07</td>\n",
       "      <td>POINT (69.72190 22.83918)</td>\n",
       "    </tr>\n",
       "  </tbody>\n",
       "</table>\n",
       "</div>"
      ],
      "text/plain": [
       "    Country  Function LOCODE    Name NameWoDiac Status      outflows  \\\n",
       "643   India  1-------  INMUN  Mundra     Mundra     AA  1.981191e+07   \n",
       "\n",
       "                      geometry  \n",
       "643  POINT (69.72190 22.83918)  "
      ]
     },
     "execution_count": 30,
     "metadata": {},
     "output_type": "execute_result"
    }
   ],
   "source": [
    "ports[ports['Name'] == 'Mundra']"
   ]
  },
  {
   "cell_type": "code",
   "execution_count": 31,
   "id": "5b2917e9-fe60-4e02-bea9-f9703eb5174f",
   "metadata": {},
   "outputs": [],
   "source": [
    "ports_df = ports[['Country','Name','geometry']].copy()\n",
    "ports_df['latitude'] = ports_df.geometry.apply(lambda p: p.y)\n",
    "ports_df['longitude'] = ports_df.geometry.apply(lambda p: p.x)\n",
    "ports_df.drop(['geometry'], axis=1,inplace=True)\n",
    "ports_df['iso_country'] = coco.convert(ports_df['Country'],to='ISO2', not_found=None)"
   ]
  },
  {
   "cell_type": "code",
   "execution_count": 59,
   "id": "609166ac-9b14-4166-a8cb-571234897a2d",
   "metadata": {},
   "outputs": [
    {
     "data": {
      "text/html": [
       "<div>\n",
       "<style scoped>\n",
       "    .dataframe tbody tr th:only-of-type {\n",
       "        vertical-align: middle;\n",
       "    }\n",
       "\n",
       "    .dataframe tbody tr th {\n",
       "        vertical-align: top;\n",
       "    }\n",
       "\n",
       "    .dataframe thead th {\n",
       "        text-align: right;\n",
       "    }\n",
       "</style>\n",
       "<table border=\"1\" class=\"dataframe\">\n",
       "  <thead>\n",
       "    <tr style=\"text-align: right;\">\n",
       "      <th></th>\n",
       "      <th>Country</th>\n",
       "      <th>Name</th>\n",
       "      <th>latitude</th>\n",
       "      <th>longitude</th>\n",
       "      <th>iso_country</th>\n",
       "    </tr>\n",
       "  </thead>\n",
       "  <tbody>\n",
       "    <tr>\n",
       "      <th>46</th>\n",
       "      <td>Côte d'Ivoire</td>\n",
       "      <td>Abidjan</td>\n",
       "      <td>5.333333</td>\n",
       "      <td>-4.016667</td>\n",
       "      <td>CI</td>\n",
       "    </tr>\n",
       "    <tr>\n",
       "      <th>47</th>\n",
       "      <td>Côte d'Ivoire</td>\n",
       "      <td>San-Pédro</td>\n",
       "      <td>4.733333</td>\n",
       "      <td>-6.616667</td>\n",
       "      <td>CI</td>\n",
       "    </tr>\n",
       "  </tbody>\n",
       "</table>\n",
       "</div>"
      ],
      "text/plain": [
       "          Country       Name  latitude  longitude iso_country\n",
       "46  Côte d'Ivoire    Abidjan  5.333333  -4.016667          CI\n",
       "47  Côte d'Ivoire  San-Pédro  4.733333  -6.616667          CI"
      ]
     },
     "execution_count": 59,
     "metadata": {},
     "output_type": "execute_result"
    }
   ],
   "source": [
    "ports_df.loc[ports_df['iso_country'] == 'CI']"
   ]
  },
  {
   "cell_type": "code",
   "execution_count": 36,
   "id": "8dc5c467-8e0b-403b-924f-417791db0623",
   "metadata": {},
   "outputs": [],
   "source": [
    "# Getting airports data\n",
    "raw_airport_df = pd.read_csv('Data/airports.csv')\n",
    "df = raw_airport_df[['type','latitude_deg','longitude_deg','name','iso_country','municipality']]\n",
    "final_airport_df = df[df['type'].str.lower().str.contains('airport')]\n"
   ]
  },
  {
   "cell_type": "code",
   "execution_count": 18,
   "id": "489a4345-6fdd-4344-a7f9-e284b700b3fc",
   "metadata": {},
   "outputs": [],
   "source": [
    "# Getting airports data\n",
    "raw_airport_df = pd.read_csv('Data/airports.csv')"
   ]
  },
  {
   "cell_type": "code",
   "execution_count": 45,
   "id": "190c98d9-9117-45de-a2ee-e31a22e07c2d",
   "metadata": {},
   "outputs": [],
   "source": [
    "country_capital = pd.read_csv('Data/country-capital-list.csv')"
   ]
  },
  {
   "cell_type": "code",
   "execution_count": 48,
   "id": "c32078dc-8a83-4fb9-9eda-bc2eb141df4c",
   "metadata": {},
   "outputs": [],
   "source": [
    "country_capital.drop(columns=['type'],axis=1,inplace=True)"
   ]
  },
  {
   "cell_type": "code",
   "execution_count": 50,
   "id": "3fe07057-dcdd-42e1-8019-269c0a29da7f",
   "metadata": {},
   "outputs": [
    {
     "name": "stderr",
     "output_type": "stream",
     "text": [
      "Abkhazia not found in regex\n",
      "Akrotiri and Dhekelia not found in regex\n",
      "Ascension Island not found in regex\n",
      "Easter Island not found in regex\n",
      "Nagorno-Karabakh Republic not found in regex\n",
      "Scotland not found in regex\n",
      "South Ossetia not found in regex\n",
      "Transnistria not found in regex\n",
      "Tristan da Cunha not found in regex\n",
      "Wales not found in regex\n"
     ]
    }
   ],
   "source": [
    "country_capital['iso_country'] = coco.convert(country_capital['country'],to='ISO2', not_found=None)"
   ]
  },
  {
   "cell_type": "code",
   "execution_count": 2,
   "id": "dd717ed4-12aa-406b-bf53-9b93a6f0cb15",
   "metadata": {},
   "outputs": [
    {
     "name": "stdout",
     "output_type": "stream",
     "text": [
      "1317.7554645657162\n",
      "1318.13891581683\n"
     ]
    }
   ],
   "source": [
    "# Calculating aerial distance\n",
    "\n",
    "# Importing the great_circle module from the library\n",
    "from geopy.distance import great_circle,geodesic\n",
    "  \n",
    "# Loading the lat-long data for Kolkata & Delhi\n",
    "kolkata = (22.5726, 88.3639)\n",
    "delhi = (28.7041, 77.1025)\n",
    "  \n",
    "# Print the distance calculated in km\n",
    "print(great_circle(kolkata, delhi).km)\n",
    "\n",
    "# Print the distance calculated in km\n",
    "print(geodesic(kolkata, delhi).km)"
   ]
  }
 ],
 "metadata": {
  "kernelspec": {
   "display_name": "Python 3",
   "language": "python",
   "name": "python3"
  },
  "language_info": {
   "codemirror_mode": {
    "name": "ipython",
    "version": 3
   },
   "file_extension": ".py",
   "mimetype": "text/x-python",
   "name": "python",
   "nbconvert_exporter": "python",
   "pygments_lexer": "ipython3",
   "version": "3.8.8"
  }
 },
 "nbformat": 4,
 "nbformat_minor": 5
}
