{
 "cells": [
  {
   "cell_type": "markdown",
   "id": "8711c811-5d61-4329-b7d5-4db97c9b14ef",
   "metadata": {},
   "source": [
    "# Script to get the location coordinates"
   ]
  },
  {
   "cell_type": "markdown",
   "id": "e6d6911e-6dbf-4494-8199-0be829efaed9",
   "metadata": {},
   "source": [
    "## To-Do\n",
    "- Source \n",
    "1. Get the appropriate location name, port/airport.\n",
    "2. Get the coordinates\n",
    "- Destination\n",
    "1. Get the coordinates"
   ]
  },
  {
   "cell_type": "code",
   "execution_count": 25,
   "id": "a2e7d829-3c3e-44d0-a7e5-1e9dd3a92d60",
   "metadata": {},
   "outputs": [],
   "source": [
    "from geopy.geocoders import ArcGIS"
   ]
  },
  {
   "cell_type": "code",
   "execution_count": 27,
   "id": "122f2a10-141d-4063-9124-22e6738a38d0",
   "metadata": {},
   "outputs": [],
   "source": [
    "nom = ArcGIS()"
   ]
  },
  {
   "cell_type": "code",
   "execution_count": 57,
   "id": "605ef252-854a-48c4-97d9-d2a3c4305c01",
   "metadata": {},
   "outputs": [],
   "source": [
    "location = nom.geocode('Aurobindo Unit III, India')"
   ]
  },
  {
   "cell_type": "code",
   "execution_count": 47,
   "id": "50ea6486-e54f-4bd6-9e6c-b56855a02ce2",
   "metadata": {},
   "outputs": [],
   "source": [
    "location"
   ]
  },
  {
   "cell_type": "code",
   "execution_count": 58,
   "id": "4935e495-1cd2-4047-befb-1cf1efce8bbc",
   "metadata": {},
   "outputs": [
    {
     "name": "stdout",
     "output_type": "stream",
     "text": [
      "17.52389000000005,78.34978000000007\n"
     ]
    }
   ],
   "source": [
    "print(str(location.latitude) + ',' + str(location.longitude))"
   ]
  },
  {
   "cell_type": "code",
   "execution_count": 56,
   "id": "093ea4f0-319e-4b16-a361-b3ae983cd821",
   "metadata": {},
   "outputs": [
    {
     "ename": "TypeError",
     "evalue": "__init__() missing 1 required positional argument: 'api_key'",
     "output_type": "error",
     "traceback": [
      "\u001b[1;31m---------------------------------------------------------------------------\u001b[0m",
      "\u001b[1;31mTypeError\u001b[0m                                 Traceback (most recent call last)",
      "\u001b[1;32m<ipython-input-56-b220663272e3>\u001b[0m in \u001b[0;36m<module>\u001b[1;34m\u001b[0m\n\u001b[0;32m      1\u001b[0m \u001b[1;32mfrom\u001b[0m \u001b[0mgeopy\u001b[0m\u001b[1;33m.\u001b[0m\u001b[0mgeocoders\u001b[0m \u001b[1;32mimport\u001b[0m \u001b[0mTomTom\u001b[0m\u001b[1;33m\u001b[0m\u001b[1;33m\u001b[0m\u001b[0m\n\u001b[0;32m      2\u001b[0m \u001b[1;33m\u001b[0m\u001b[0m\n\u001b[1;32m----> 3\u001b[1;33m \u001b[0mnom\u001b[0m \u001b[1;33m=\u001b[0m \u001b[0mTomTom\u001b[0m\u001b[1;33m(\u001b[0m\u001b[1;33m)\u001b[0m\u001b[1;33m\u001b[0m\u001b[1;33m\u001b[0m\u001b[0m\n\u001b[0m\u001b[0;32m      4\u001b[0m \u001b[1;33m\u001b[0m\u001b[0m\n\u001b[0;32m      5\u001b[0m \u001b[0mnom\u001b[0m\u001b[1;33m.\u001b[0m\u001b[0mgeocode\u001b[0m\u001b[1;33m(\u001b[0m\u001b[1;34m'ABBVIE (Abbott) Logis. UK'\u001b[0m\u001b[1;33m)\u001b[0m\u001b[1;33m\u001b[0m\u001b[1;33m\u001b[0m\u001b[0m\n",
      "\u001b[1;31mTypeError\u001b[0m: __init__() missing 1 required positional argument: 'api_key'"
     ]
    }
   ],
   "source": [
    "from geopy.geocoders import TomTom\n",
    "\n",
    "nom = TomTom()\n",
    "\n",
    "nom.geocode('ABBVIE (Abbott) Logis. UK')"
   ]
  }
 ],
 "metadata": {
  "kernelspec": {
   "display_name": "Python 3",
   "language": "python",
   "name": "python3"
  },
  "language_info": {
   "codemirror_mode": {
    "name": "ipython",
    "version": 3
   },
   "file_extension": ".py",
   "mimetype": "text/x-python",
   "name": "python",
   "nbconvert_exporter": "python",
   "pygments_lexer": "ipython3",
   "version": "3.8.8"
  }
 },
 "nbformat": 4,
 "nbformat_minor": 5
}
